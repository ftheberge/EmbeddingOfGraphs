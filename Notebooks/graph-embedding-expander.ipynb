{
 "cells": [
  {
   "cell_type": "code",
   "execution_count": 1,
   "id": "98c21936",
   "metadata": {},
   "outputs": [],
   "source": [
    "import warnings\n",
    "warnings.simplefilter(\"ignore\")\n",
    "import numpy as np\n",
    "import pandas as pd\n",
    "import matplotlib.pyplot as plt\n",
    "from sklearn.decomposition import TruncatedSVD\n",
    "from sklearn.preprocessing import normalize\n",
    "import scipy.sparse\n",
    "import vectorizers\n",
    "import vectorizers.transformers\n",
    "import igraph as ig\n",
    "from scipy.sparse import vstack\n",
    "from collections import Counter\n",
    "import sklearn.model_selection\n",
    "import sklearn.ensemble\n",
    "import sklearn.linear_model\n",
    "import sklearn.neural_network\n",
    "import sklearn.neighbors\n"
   ]
  },
  {
   "cell_type": "markdown",
   "id": "8662753f",
   "metadata": {},
   "source": [
    "# Datasets\n",
    "\n",
    "Dataset; #graphs; #nodes; #nodes in giant comps\n",
    "\n",
    "* MUTAG; 188; 3,371; 3,371\n",
    "* BZR; 405; 14,479; 14,479\n",
    "* NCI1; 4110; 122,747; 119,345\n",
    "* NCI109; 4127; 122,494; 119,162\n",
    "* IMDB-BINARY; 1000; 19,773; 19,773\n",
    "* REDDIT-BINARY; 2000; 859,254; 851,133\n"
   ]
  },
  {
   "cell_type": "code",
   "execution_count": 2,
   "id": "ae717a35",
   "metadata": {},
   "outputs": [],
   "source": [
    "dataset = 'REDDIT-BINARY'\n",
    "datadir = '../Data/'+dataset+'/'+dataset\n",
    "\n",
    "## read data from folder\n",
    "fn_edges = datadir+'.edges'\n",
    "fn_graph_id = datadir+'.graph_id'\n",
    "fn_graph_label = datadir+'.graph_labels'\n"
   ]
  },
  {
   "cell_type": "code",
   "execution_count": 3,
   "id": "dd4b0172",
   "metadata": {},
   "outputs": [
    {
     "name": "stdout",
     "output_type": "stream",
     "text": [
      "number of graphs: 2000\n"
     ]
    }
   ],
   "source": [
    "## read edges, build overall graph\n",
    "with open(fn_edges) as f:\n",
    "    E = [tuple(map(int,x.strip().split(','))) for x in f.readlines()]\n",
    "G = ig.Graph.TupleList(E, directed=True).as_undirected()\n",
    "\n",
    "## read subgraph node memberships (subgraphs names are 1-based)\n",
    "with open(fn_graph_id) as f:\n",
    "    sg_mem = [int(x.strip())-1 for x in f.readlines()]\n",
    "\n",
    "## build dictionary (node names are 1-based)\n",
    "graph_dict = {(x+1):y for x,y in enumerate(sg_mem)}\n",
    "for v in G.vs:\n",
    "    v['graph'] = graph_dict[v['name']]\n",
    "\n",
    "## read graph labels\n",
    "with open(fn_graph_label) as f:\n",
    "    graph_labels = [int(x.strip()) for x in f.readlines()]\n",
    "print('number of graphs:',len(graph_labels))\n"
   ]
  },
  {
   "cell_type": "code",
   "execution_count": 4,
   "id": "e80f2019",
   "metadata": {
    "scrolled": false
   },
   "outputs": [
    {
     "data": {
      "image/svg+xml": [
       "<?xml version=\"1.0\" encoding=\"UTF-8\"?>\n",
       "<svg xmlns=\"http://www.w3.org/2000/svg\" xmlns:xlink=\"http://www.w3.org/1999/xlink\" width=\"300pt\" height=\"300pt\" viewBox=\"0 0 300 300\" version=\"1.1\">\n",
       "<g id=\"surface2\">\n",
       "<rect x=\"0\" y=\"0\" width=\"300\" height=\"300\" style=\"fill:rgb(100%,100%,100%);fill-opacity:1;stroke:none;\"/>\n",
       "<path style=\"fill:none;stroke-width:1;stroke-linecap:butt;stroke-linejoin:miter;stroke:rgb(26.666667%,26.666667%,26.666667%);stroke-opacity:1;stroke-miterlimit:10;\" d=\"M 248.988281 139.421875 L 227.992188 145.371094 \"/>\n",
       "<path style=\"fill:none;stroke-width:1;stroke-linecap:butt;stroke-linejoin:miter;stroke:rgb(26.666667%,26.666667%,26.666667%);stroke-opacity:1;stroke-miterlimit:10;\" d=\"M 100.171875 140.335938 L 128.121094 170.324219 \"/>\n",
       "<path style=\"fill:none;stroke-width:1;stroke-linecap:butt;stroke-linejoin:miter;stroke:rgb(26.666667%,26.666667%,26.666667%);stroke-opacity:1;stroke-miterlimit:10;\" d=\"M 128.121094 170.324219 L 132.316406 196.925781 \"/>\n",
       "<path style=\"fill:none;stroke-width:1;stroke-linecap:butt;stroke-linejoin:miter;stroke:rgb(26.666667%,26.666667%,26.666667%);stroke-opacity:1;stroke-miterlimit:10;\" d=\"M 128.121094 170.324219 L 91.46875 141.480469 \"/>\n",
       "<path style=\"fill:none;stroke-width:1;stroke-linecap:butt;stroke-linejoin:miter;stroke:rgb(26.666667%,26.666667%,26.666667%);stroke-opacity:1;stroke-miterlimit:10;\" d=\"M 51.621094 57.203125 L 57.019531 82.144531 \"/>\n",
       "<path style=\"fill:none;stroke-width:1;stroke-linecap:butt;stroke-linejoin:miter;stroke:rgb(26.666667%,26.666667%,26.666667%);stroke-opacity:1;stroke-miterlimit:10;\" d=\"M 51.621094 57.203125 L 58.429688 39.199219 \"/>\n",
       "<path style=\"fill:none;stroke-width:1;stroke-linecap:butt;stroke-linejoin:miter;stroke:rgb(26.666667%,26.666667%,26.666667%);stroke-opacity:1;stroke-miterlimit:10;\" d=\"M 201.136719 79.199219 L 225.320312 72.902344 \"/>\n",
       "<path style=\"fill:none;stroke-width:1;stroke-linecap:butt;stroke-linejoin:miter;stroke:rgb(26.666667%,26.666667%,26.666667%);stroke-opacity:1;stroke-miterlimit:10;\" d=\"M 128.121094 170.324219 L 167.078125 88.542969 \"/>\n",
       "<path style=\"fill:none;stroke-width:1;stroke-linecap:butt;stroke-linejoin:miter;stroke:rgb(26.666667%,26.666667%,26.666667%);stroke-opacity:1;stroke-miterlimit:10;\" d=\"M 201.136719 79.199219 L 167.078125 88.542969 \"/>\n",
       "<path style=\"fill:none;stroke-width:1;stroke-linecap:butt;stroke-linejoin:miter;stroke:rgb(26.666667%,26.666667%,26.666667%);stroke-opacity:1;stroke-miterlimit:10;\" d=\"M 128.121094 170.324219 L 92.390625 210.5 \"/>\n",
       "<path style=\"fill:none;stroke-width:1;stroke-linecap:butt;stroke-linejoin:miter;stroke:rgb(26.666667%,26.666667%,26.666667%);stroke-opacity:1;stroke-miterlimit:10;\" d=\"M 92.390625 210.5 L 80.839844 233.726562 \"/>\n",
       "<path style=\"fill:none;stroke-width:1;stroke-linecap:butt;stroke-linejoin:miter;stroke:rgb(26.666667%,26.666667%,26.666667%);stroke-opacity:1;stroke-miterlimit:10;\" d=\"M 128.121094 170.324219 L 198.585938 203.988281 \"/>\n",
       "<path style=\"fill:none;stroke-width:1;stroke-linecap:butt;stroke-linejoin:miter;stroke:rgb(26.666667%,26.666667%,26.666667%);stroke-opacity:1;stroke-miterlimit:10;\" d=\"M 208.96875 171.101562 L 198.585938 203.988281 \"/>\n",
       "<path style=\"fill:none;stroke-width:1;stroke-linecap:butt;stroke-linejoin:miter;stroke:rgb(26.666667%,26.666667%,26.666667%);stroke-opacity:1;stroke-miterlimit:10;\" d=\"M 227.992188 145.371094 L 189.285156 140.625 \"/>\n",
       "<path style=\"fill:none;stroke-width:1;stroke-linecap:butt;stroke-linejoin:miter;stroke:rgb(26.666667%,26.666667%,26.666667%);stroke-opacity:1;stroke-miterlimit:10;\" d=\"M 128.121094 170.324219 L 189.285156 140.625 \"/>\n",
       "<path style=\"fill:none;stroke-width:1;stroke-linecap:butt;stroke-linejoin:miter;stroke:rgb(26.666667%,26.666667%,26.666667%);stroke-opacity:1;stroke-miterlimit:10;\" d=\"M 208.96875 171.101562 L 189.285156 140.625 \"/>\n",
       "<path style=\"fill:none;stroke-width:1;stroke-linecap:butt;stroke-linejoin:miter;stroke:rgb(26.666667%,26.666667%,26.666667%);stroke-opacity:1;stroke-miterlimit:10;\" d=\"M 275.59375 121.894531 L 274.417969 110.398438 \"/>\n",
       "<path style=\"fill:none;stroke-width:1;stroke-linecap:butt;stroke-linejoin:miter;stroke:rgb(26.666667%,26.666667%,26.666667%);stroke-opacity:1;stroke-miterlimit:10;\" d=\"M 128.121094 170.324219 L 112.464844 230.273438 \"/>\n",
       "<path style=\"fill:none;stroke-width:1;stroke-linecap:butt;stroke-linejoin:miter;stroke:rgb(26.666667%,26.666667%,26.666667%);stroke-opacity:1;stroke-miterlimit:10;\" d=\"M 103.707031 265.308594 L 112.464844 230.273438 \"/>\n",
       "<path style=\"fill:none;stroke-width:1;stroke-linecap:butt;stroke-linejoin:miter;stroke:rgb(26.666667%,26.666667%,26.666667%);stroke-opacity:1;stroke-miterlimit:10;\" d=\"M 128.121094 170.324219 L 132.238281 131.835938 \"/>\n",
       "<path style=\"fill:none;stroke-width:1;stroke-linecap:butt;stroke-linejoin:miter;stroke:rgb(26.666667%,26.666667%,26.666667%);stroke-opacity:1;stroke-miterlimit:10;\" d=\"M 198.585938 203.988281 L 211.277344 231.40625 \"/>\n",
       "<path style=\"fill:none;stroke-width:1;stroke-linecap:butt;stroke-linejoin:miter;stroke:rgb(26.666667%,26.666667%,26.666667%);stroke-opacity:1;stroke-miterlimit:10;\" d=\"M 128.121094 170.324219 L 112.066406 191.691406 \"/>\n",
       "<path style=\"fill:none;stroke-width:1;stroke-linecap:butt;stroke-linejoin:miter;stroke:rgb(26.666667%,26.666667%,26.666667%);stroke-opacity:1;stroke-miterlimit:10;\" d=\"M 198.585938 203.988281 L 218.941406 218.613281 \"/>\n",
       "<path style=\"fill:none;stroke-width:1;stroke-linecap:butt;stroke-linejoin:miter;stroke:rgb(26.666667%,26.666667%,26.666667%);stroke-opacity:1;stroke-miterlimit:10;\" d=\"M 128.121094 170.324219 L 102.988281 188.117188 \"/>\n",
       "<path style=\"fill:none;stroke-width:1;stroke-linecap:butt;stroke-linejoin:miter;stroke:rgb(26.666667%,26.666667%,26.666667%);stroke-opacity:1;stroke-miterlimit:10;\" d=\"M 167.078125 88.542969 L 156.144531 58.917969 \"/>\n",
       "<path style=\"fill:none;stroke-width:1;stroke-linecap:butt;stroke-linejoin:miter;stroke:rgb(26.666667%,26.666667%,26.666667%);stroke-opacity:1;stroke-miterlimit:10;\" d=\"M 128.121094 170.324219 L 72.746094 117.558594 \"/>\n",
       "<path style=\"fill:none;stroke-width:1;stroke-linecap:butt;stroke-linejoin:miter;stroke:rgb(26.666667%,26.666667%,26.666667%);stroke-opacity:1;stroke-miterlimit:10;\" d=\"M 57.019531 82.144531 L 72.746094 117.558594 \"/>\n",
       "<path style=\"fill:none;stroke-width:1;stroke-linecap:butt;stroke-linejoin:miter;stroke:rgb(26.666667%,26.666667%,26.666667%);stroke-opacity:1;stroke-miterlimit:10;\" d=\"M 45.359375 111.90625 L 72.746094 117.558594 \"/>\n",
       "<path style=\"fill:none;stroke-width:1;stroke-linecap:butt;stroke-linejoin:miter;stroke:rgb(26.666667%,26.666667%,26.666667%);stroke-opacity:1;stroke-miterlimit:10;\" d=\"M 128.121094 170.324219 L 100.382812 154.554688 \"/>\n",
       "<path style=\"fill:none;stroke-width:1;stroke-linecap:butt;stroke-linejoin:miter;stroke:rgb(26.666667%,26.666667%,26.666667%);stroke-opacity:1;stroke-miterlimit:10;\" d=\"M 128.121094 170.324219 L 174.664062 223.402344 \"/>\n",
       "<path style=\"fill:none;stroke-width:1;stroke-linecap:butt;stroke-linejoin:miter;stroke:rgb(26.666667%,26.666667%,26.666667%);stroke-opacity:1;stroke-miterlimit:10;\" d=\"M 198.585938 203.988281 L 174.664062 223.402344 \"/>\n",
       "<path style=\"fill:none;stroke-width:1;stroke-linecap:butt;stroke-linejoin:miter;stroke:rgb(26.666667%,26.666667%,26.666667%);stroke-opacity:1;stroke-miterlimit:10;\" d=\"M 193.613281 247.339844 L 174.664062 223.402344 \"/>\n",
       "<path style=\"fill:none;stroke-width:1;stroke-linecap:butt;stroke-linejoin:miter;stroke:rgb(26.666667%,26.666667%,26.666667%);stroke-opacity:1;stroke-miterlimit:10;\" d=\"M 198.585938 203.988281 L 223.355469 184.46875 \"/>\n",
       "<path style=\"fill:none;stroke-width:1;stroke-linecap:butt;stroke-linejoin:miter;stroke:rgb(26.666667%,26.666667%,26.666667%);stroke-opacity:1;stroke-miterlimit:10;\" d=\"M 246.183594 192.324219 L 223.355469 184.46875 \"/>\n",
       "<path style=\"fill:none;stroke-width:1;stroke-linecap:butt;stroke-linejoin:miter;stroke:rgb(26.666667%,26.666667%,26.666667%);stroke-opacity:1;stroke-miterlimit:10;\" d=\"M 128.121094 170.324219 L 74.8125 164.492188 \"/>\n",
       "<path style=\"fill:none;stroke-width:1;stroke-linecap:butt;stroke-linejoin:miter;stroke:rgb(26.666667%,26.666667%,26.666667%);stroke-opacity:1;stroke-miterlimit:10;\" d=\"M 43.726562 160.941406 L 74.8125 164.492188 \"/>\n",
       "<path style=\"fill:none;stroke-width:1;stroke-linecap:butt;stroke-linejoin:miter;stroke:rgb(26.666667%,26.666667%,26.666667%);stroke-opacity:1;stroke-miterlimit:10;\" d=\"M 128.121094 170.324219 L 146.507812 215.523438 \"/>\n",
       "<path style=\"fill:none;stroke-width:1;stroke-linecap:butt;stroke-linejoin:miter;stroke:rgb(26.666667%,26.666667%,26.666667%);stroke-opacity:1;stroke-miterlimit:10;\" d=\"M 128.121094 170.324219 L 147.074219 229.015625 \"/>\n",
       "<path style=\"fill:none;stroke-width:1;stroke-linecap:butt;stroke-linejoin:miter;stroke:rgb(26.666667%,26.666667%,26.666667%);stroke-opacity:1;stroke-miterlimit:10;\" d=\"M 147.074219 229.015625 L 157.132812 264.210938 \"/>\n",
       "<path style=\"fill:none;stroke-width:1;stroke-linecap:butt;stroke-linejoin:miter;stroke:rgb(26.666667%,26.666667%,26.666667%);stroke-opacity:1;stroke-miterlimit:10;\" d=\"M 128.121094 170.324219 L 150.71875 197.15625 \"/>\n",
       "<path style=\"fill:none;stroke-width:1;stroke-linecap:butt;stroke-linejoin:miter;stroke:rgb(26.666667%,26.666667%,26.666667%);stroke-opacity:1;stroke-miterlimit:10;\" d=\"M 167.078125 88.542969 L 174.457031 57.542969 \"/>\n",
       "<path style=\"fill:none;stroke-width:1;stroke-linecap:butt;stroke-linejoin:miter;stroke:rgb(26.666667%,26.666667%,26.666667%);stroke-opacity:1;stroke-miterlimit:10;\" d=\"M 167.078125 88.542969 L 184.910156 55.070312 \"/>\n",
       "<path style=\"fill:none;stroke-width:1;stroke-linecap:butt;stroke-linejoin:miter;stroke:rgb(26.666667%,26.666667%,26.666667%);stroke-opacity:1;stroke-miterlimit:10;\" d=\"M 174.457031 57.542969 L 184.910156 55.070312 \"/>\n",
       "<path style=\"fill:none;stroke-width:1;stroke-linecap:butt;stroke-linejoin:miter;stroke:rgb(26.666667%,26.666667%,26.666667%);stroke-opacity:1;stroke-miterlimit:10;\" d=\"M 72.746094 117.558594 L 50.375 97.390625 \"/>\n",
       "<path style=\"fill:none;stroke-width:1;stroke-linecap:butt;stroke-linejoin:miter;stroke:rgb(26.666667%,26.666667%,26.666667%);stroke-opacity:1;stroke-miterlimit:10;\" d=\"M 72.746094 117.558594 L 47.699219 104.410156 \"/>\n",
       "<path style=\"fill:none;stroke-width:1;stroke-linecap:butt;stroke-linejoin:miter;stroke:rgb(26.666667%,26.666667%,26.666667%);stroke-opacity:1;stroke-miterlimit:10;\" d=\"M 72.746094 117.558594 L 57.097656 94.25 \"/>\n",
       "<path style=\"fill:none;stroke-width:1;stroke-linecap:butt;stroke-linejoin:miter;stroke:rgb(26.666667%,26.666667%,26.666667%);stroke-opacity:1;stroke-miterlimit:10;\" d=\"M 128.121094 170.324219 L 151.941406 167.097656 \"/>\n",
       "<path style=\"fill:none;stroke-width:1;stroke-linecap:butt;stroke-linejoin:miter;stroke:rgb(26.666667%,26.666667%,26.666667%);stroke-opacity:1;stroke-miterlimit:10;\" d=\"M 128.121094 170.324219 L 171.679688 110.421875 \"/>\n",
       "<path style=\"fill:none;stroke-width:1;stroke-linecap:butt;stroke-linejoin:miter;stroke:rgb(26.666667%,26.666667%,26.666667%);stroke-opacity:1;stroke-miterlimit:10;\" d=\"M 184.910156 55.070312 L 171.679688 110.421875 \"/>\n",
       "<path style=\"fill:none;stroke-width:1;stroke-linecap:butt;stroke-linejoin:miter;stroke:rgb(26.666667%,26.666667%,26.666667%);stroke-opacity:1;stroke-miterlimit:10;\" d=\"M 171.679688 110.421875 L 211.390625 100.4375 \"/>\n",
       "<path style=\"fill:none;stroke-width:1;stroke-linecap:butt;stroke-linejoin:miter;stroke:rgb(26.666667%,26.666667%,26.666667%);stroke-opacity:1;stroke-miterlimit:10;\" d=\"M 128.121094 170.324219 L 97.605469 214.867188 \"/>\n",
       "<path style=\"fill:none;stroke-width:1;stroke-linecap:butt;stroke-linejoin:miter;stroke:rgb(26.666667%,26.666667%,26.666667%);stroke-opacity:1;stroke-miterlimit:10;\" d=\"M 80.839844 233.726562 L 97.605469 214.867188 \"/>\n",
       "<path style=\"fill:none;stroke-width:1;stroke-linecap:butt;stroke-linejoin:miter;stroke:rgb(26.666667%,26.666667%,26.666667%);stroke-opacity:1;stroke-miterlimit:10;\" d=\"M 128.121094 170.324219 L 95.144531 222.96875 \"/>\n",
       "<path style=\"fill:none;stroke-width:1;stroke-linecap:butt;stroke-linejoin:miter;stroke:rgb(26.666667%,26.666667%,26.666667%);stroke-opacity:1;stroke-miterlimit:10;\" d=\"M 80.839844 233.726562 L 95.144531 222.96875 \"/>\n",
       "<path style=\"fill:none;stroke-width:1;stroke-linecap:butt;stroke-linejoin:miter;stroke:rgb(26.666667%,26.666667%,26.666667%);stroke-opacity:1;stroke-miterlimit:10;\" d=\"M 128.121094 170.324219 L 112.585938 217.0625 \"/>\n",
       "<path style=\"fill:none;stroke-width:1;stroke-linecap:butt;stroke-linejoin:miter;stroke:rgb(26.666667%,26.666667%,26.666667%);stroke-opacity:1;stroke-miterlimit:10;\" d=\"M 184.910156 55.070312 L 176.40625 27.910156 \"/>\n",
       "<path style=\"fill:none;stroke-width:1;stroke-linecap:butt;stroke-linejoin:miter;stroke:rgb(26.666667%,26.666667%,26.666667%);stroke-opacity:1;stroke-miterlimit:10;\" d=\"M 128.121094 170.324219 L 168.296875 181.503906 \"/>\n",
       "<path style=\"fill:none;stroke-width:1;stroke-linecap:butt;stroke-linejoin:miter;stroke:rgb(26.666667%,26.666667%,26.666667%);stroke-opacity:1;stroke-miterlimit:10;\" d=\"M 128.121094 170.324219 L 112.214844 81.414062 \"/>\n",
       "<path style=\"fill:none;stroke-width:1;stroke-linecap:butt;stroke-linejoin:miter;stroke:rgb(26.666667%,26.666667%,26.666667%);stroke-opacity:1;stroke-miterlimit:10;\" d=\"M 111.460938 45.855469 L 112.214844 81.414062 \"/>\n",
       "<path style=\"fill:none;stroke-width:1;stroke-linecap:butt;stroke-linejoin:miter;stroke:rgb(26.666667%,26.666667%,26.666667%);stroke-opacity:1;stroke-miterlimit:10;\" d=\"M 128.121094 170.324219 L 126.167969 124.476562 \"/>\n",
       "<path style=\"fill:none;stroke-width:1;stroke-linecap:butt;stroke-linejoin:miter;stroke:rgb(26.666667%,26.666667%,26.666667%);stroke-opacity:1;stroke-miterlimit:10;\" d=\"M 128.121094 170.324219 L 131.789062 123.546875 \"/>\n",
       "<path style=\"fill:none;stroke-width:1;stroke-linecap:butt;stroke-linejoin:miter;stroke:rgb(26.666667%,26.666667%,26.666667%);stroke-opacity:1;stroke-miterlimit:10;\" d=\"M 126.167969 124.476562 L 131.789062 123.546875 \"/>\n",
       "<path style=\"fill:none;stroke-width:1;stroke-linecap:butt;stroke-linejoin:miter;stroke:rgb(26.666667%,26.666667%,26.666667%);stroke-opacity:1;stroke-miterlimit:10;\" d=\"M 128.121094 170.324219 L 157.265625 190.105469 \"/>\n",
       "<path style=\"fill:none;stroke-width:1;stroke-linecap:butt;stroke-linejoin:miter;stroke:rgb(26.666667%,26.666667%,26.666667%);stroke-opacity:1;stroke-miterlimit:10;\" d=\"M 128.121094 170.324219 L 130.273438 186.414062 \"/>\n",
       "<path style=\"fill:none;stroke-width:1;stroke-linecap:butt;stroke-linejoin:miter;stroke:rgb(26.666667%,26.666667%,26.666667%);stroke-opacity:1;stroke-miterlimit:10;\" d=\"M 128.121094 170.324219 L 79.953125 198.152344 \"/>\n",
       "<path style=\"fill:none;stroke-width:1;stroke-linecap:butt;stroke-linejoin:miter;stroke:rgb(26.666667%,26.666667%,26.666667%);stroke-opacity:1;stroke-miterlimit:10;\" d=\"M 79.953125 198.152344 L 52.46875 214.53125 \"/>\n",
       "<path style=\"fill:none;stroke-width:1;stroke-linecap:butt;stroke-linejoin:miter;stroke:rgb(26.666667%,26.666667%,26.666667%);stroke-opacity:1;stroke-miterlimit:10;\" d=\"M 184.910156 55.070312 L 208.4375 49.703125 \"/>\n",
       "<path style=\"fill:none;stroke-width:1;stroke-linecap:butt;stroke-linejoin:miter;stroke:rgb(26.666667%,26.666667%,26.666667%);stroke-opacity:1;stroke-miterlimit:10;\" d=\"M 222.539062 34.429688 L 208.4375 49.703125 \"/>\n",
       "<path style=\"fill:none;stroke-width:1;stroke-linecap:butt;stroke-linejoin:miter;stroke:rgb(26.666667%,26.666667%,26.666667%);stroke-opacity:1;stroke-miterlimit:10;\" d=\"M 39.230469 182.625 L 20 182.382812 \"/>\n",
       "<path style=\"fill:none;stroke-width:1;stroke-linecap:butt;stroke-linejoin:miter;stroke:rgb(26.666667%,26.666667%,26.666667%);stroke-opacity:1;stroke-miterlimit:10;\" d=\"M 128.121094 170.324219 L 73.375 178.816406 \"/>\n",
       "<path style=\"fill:none;stroke-width:1;stroke-linecap:butt;stroke-linejoin:miter;stroke:rgb(26.666667%,26.666667%,26.666667%);stroke-opacity:1;stroke-miterlimit:10;\" d=\"M 39.230469 182.625 L 73.375 178.816406 \"/>\n",
       "<path style=\"fill:none;stroke-width:1;stroke-linecap:butt;stroke-linejoin:miter;stroke:rgb(26.666667%,26.666667%,26.666667%);stroke-opacity:1;stroke-miterlimit:10;\" d=\"M 167.078125 88.542969 L 196.808594 72.890625 \"/>\n",
       "<path style=\"fill:none;stroke-width:1;stroke-linecap:butt;stroke-linejoin:miter;stroke:rgb(26.666667%,26.666667%,26.666667%);stroke-opacity:1;stroke-miterlimit:10;\" d=\"M 208.4375 49.703125 L 196.808594 72.890625 \"/>\n",
       "<path style=\"fill:none;stroke-width:1;stroke-linecap:butt;stroke-linejoin:miter;stroke:rgb(26.666667%,26.666667%,26.666667%);stroke-opacity:1;stroke-miterlimit:10;\" d=\"M 196.808594 72.890625 L 209.878906 75.660156 \"/>\n",
       "<path style=\"fill:none;stroke-width:1;stroke-linecap:butt;stroke-linejoin:miter;stroke:rgb(26.666667%,26.666667%,26.666667%);stroke-opacity:1;stroke-miterlimit:10;\" d=\"M 189.285156 140.625 L 187.355469 85.558594 \"/>\n",
       "<path style=\"fill:none;stroke-width:1;stroke-linecap:butt;stroke-linejoin:miter;stroke:rgb(26.666667%,26.666667%,26.666667%);stroke-opacity:1;stroke-miterlimit:10;\" d=\"M 184.910156 55.070312 L 187.355469 85.558594 \"/>\n",
       "<path style=\"fill:none;stroke-width:1;stroke-linecap:butt;stroke-linejoin:miter;stroke:rgb(26.666667%,26.666667%,26.666667%);stroke-opacity:1;stroke-miterlimit:10;\" d=\"M 196.808594 72.890625 L 187.355469 85.558594 \"/>\n",
       "<path style=\"fill:none;stroke-width:1;stroke-linecap:butt;stroke-linejoin:miter;stroke:rgb(26.666667%,26.666667%,26.666667%);stroke-opacity:1;stroke-miterlimit:10;\" d=\"M 209.878906 75.660156 L 187.355469 85.558594 \"/>\n",
       "<path style=\"fill:none;stroke-width:1;stroke-linecap:butt;stroke-linejoin:miter;stroke:rgb(26.666667%,26.666667%,26.666667%);stroke-opacity:1;stroke-miterlimit:10;\" d=\"M 208.4375 49.703125 L 220.402344 55.515625 \"/>\n",
       "<path style=\"fill:none;stroke-width:1;stroke-linecap:butt;stroke-linejoin:miter;stroke:rgb(26.666667%,26.666667%,26.666667%);stroke-opacity:1;stroke-miterlimit:10;\" d=\"M 196.808594 72.890625 L 220.402344 55.515625 \"/>\n",
       "<path style=\"fill:none;stroke-width:1;stroke-linecap:butt;stroke-linejoin:miter;stroke:rgb(26.666667%,26.666667%,26.666667%);stroke-opacity:1;stroke-miterlimit:10;\" d=\"M 196.808594 72.890625 L 182.636719 101.582031 \"/>\n",
       "<path style=\"fill:none;stroke-width:1;stroke-linecap:butt;stroke-linejoin:miter;stroke:rgb(26.666667%,26.666667%,26.666667%);stroke-opacity:1;stroke-miterlimit:10;\" d=\"M 128.121094 170.324219 L 157.566406 118.820312 \"/>\n",
       "<path style=\"fill:none;stroke-width:1;stroke-linecap:butt;stroke-linejoin:miter;stroke:rgb(26.666667%,26.666667%,26.666667%);stroke-opacity:1;stroke-miterlimit:10;\" d=\"M 167.078125 88.542969 L 157.566406 118.820312 \"/>\n",
       "<path style=\"fill:none;stroke-width:1;stroke-linecap:butt;stroke-linejoin:miter;stroke:rgb(26.666667%,26.666667%,26.666667%);stroke-opacity:1;stroke-miterlimit:10;\" d=\"M 182.636719 101.582031 L 157.566406 118.820312 \"/>\n",
       "<path style=\"fill:none;stroke-width:1;stroke-linecap:butt;stroke-linejoin:miter;stroke:rgb(26.666667%,26.666667%,26.666667%);stroke-opacity:1;stroke-miterlimit:10;\" d=\"M 167.078125 88.542969 L 183.222656 70.042969 \"/>\n",
       "<path style=\"fill:none;stroke-width:1;stroke-linecap:butt;stroke-linejoin:miter;stroke:rgb(26.666667%,26.666667%,26.666667%);stroke-opacity:1;stroke-miterlimit:10;\" d=\"M 167.078125 88.542969 L 162.730469 56.296875 \"/>\n",
       "<path style=\"fill:none;stroke-width:1;stroke-linecap:butt;stroke-linejoin:miter;stroke:rgb(26.666667%,26.666667%,26.666667%);stroke-opacity:1;stroke-miterlimit:10;\" d=\"M 128.121094 170.324219 L 163.257812 123.214844 \"/>\n",
       "<path style=\"fill:none;stroke-width:1;stroke-linecap:butt;stroke-linejoin:miter;stroke:rgb(26.666667%,26.666667%,26.666667%);stroke-opacity:1;stroke-miterlimit:10;\" d=\"M 167.078125 88.542969 L 163.257812 123.214844 \"/>\n",
       "<path style=\"fill:none;stroke-width:1;stroke-linecap:butt;stroke-linejoin:miter;stroke:rgb(26.666667%,26.666667%,26.666667%);stroke-opacity:1;stroke-miterlimit:10;\" d=\"M 167.078125 88.542969 L 167.066406 63.703125 \"/>\n",
       "<path style=\"fill:none;stroke-width:1;stroke-linecap:butt;stroke-linejoin:miter;stroke:rgb(26.666667%,26.666667%,26.666667%);stroke-opacity:1;stroke-miterlimit:10;\" d=\"M 167.078125 88.542969 L 179.257812 63.023438 \"/>\n",
       "<path style=\"fill:none;stroke-width:1;stroke-linecap:butt;stroke-linejoin:miter;stroke:rgb(26.666667%,26.666667%,26.666667%);stroke-opacity:1;stroke-miterlimit:10;\" d=\"M 184.910156 55.070312 L 179.257812 63.023438 \"/>\n",
       "<path style=\"fill:none;stroke-width:1;stroke-linecap:butt;stroke-linejoin:miter;stroke:rgb(26.666667%,26.666667%,26.666667%);stroke-opacity:1;stroke-miterlimit:10;\" d=\"M 167.078125 88.542969 L 168.496094 46.859375 \"/>\n",
       "<path style=\"fill:none;stroke-width:1;stroke-linecap:butt;stroke-linejoin:miter;stroke:rgb(26.666667%,26.666667%,26.666667%);stroke-opacity:1;stroke-miterlimit:10;\" d=\"M 184.910156 55.070312 L 168.496094 46.859375 \"/>\n",
       "<path style=\"fill:none;stroke-width:1;stroke-linecap:butt;stroke-linejoin:miter;stroke:rgb(26.666667%,26.666667%,26.666667%);stroke-opacity:1;stroke-miterlimit:10;\" d=\"M 128.121094 170.324219 L 121.890625 192.964844 \"/>\n",
       "<path style=\"fill:none;stroke-width:1;stroke-linecap:butt;stroke-linejoin:miter;stroke:rgb(26.666667%,26.666667%,26.666667%);stroke-opacity:1;stroke-miterlimit:10;\" d=\"M 112.214844 81.414062 L 110.164062 54.734375 \"/>\n",
       "<path style=\"fill:none;stroke-width:1;stroke-linecap:butt;stroke-linejoin:miter;stroke:rgb(26.666667%,26.666667%,26.666667%);stroke-opacity:1;stroke-miterlimit:10;\" d=\"M 112.214844 81.414062 L 90.484375 64.070312 \"/>\n",
       "<path style=\"fill:none;stroke-width:1;stroke-linecap:butt;stroke-linejoin:miter;stroke:rgb(26.666667%,26.666667%,26.666667%);stroke-opacity:1;stroke-miterlimit:10;\" d=\"M 112.214844 81.414062 L 146.5 75.230469 \"/>\n",
       "<path style=\"fill:none;stroke-width:1;stroke-linecap:butt;stroke-linejoin:miter;stroke:rgb(26.666667%,26.666667%,26.666667%);stroke-opacity:1;stroke-miterlimit:10;\" d=\"M 187.355469 85.558594 L 146.5 75.230469 \"/>\n",
       "<path style=\"fill:none;stroke-width:1;stroke-linecap:butt;stroke-linejoin:miter;stroke:rgb(26.666667%,26.666667%,26.666667%);stroke-opacity:1;stroke-miterlimit:10;\" d=\"M 112.214844 81.414062 L 94.375 56.574219 \"/>\n",
       "<path style=\"fill:none;stroke-width:1;stroke-linecap:butt;stroke-linejoin:miter;stroke:rgb(26.666667%,26.666667%,26.666667%);stroke-opacity:1;stroke-miterlimit:10;\" d=\"M 112.214844 81.414062 L 103.277344 49.128906 \"/>\n",
       "<path style=\"fill:none;stroke-width:1;stroke-linecap:butt;stroke-linejoin:miter;stroke:rgb(26.666667%,26.666667%,26.666667%);stroke-opacity:1;stroke-miterlimit:10;\" d=\"M 112.214844 81.414062 L 92.003906 43.707031 \"/>\n",
       "<path style=\"fill:none;stroke-width:1;stroke-linecap:butt;stroke-linejoin:miter;stroke:rgb(26.666667%,26.666667%,26.666667%);stroke-opacity:1;stroke-miterlimit:10;\" d=\"M 112.214844 81.414062 L 118.171875 50.699219 \"/>\n",
       "<path style=\"fill:none;stroke-width:1;stroke-linecap:butt;stroke-linejoin:miter;stroke:rgb(26.666667%,26.666667%,26.666667%);stroke-opacity:1;stroke-miterlimit:10;\" d=\"M 112.214844 81.414062 L 101.351562 58.628906 \"/>\n",
       "<path style=\"fill:none;stroke-width:1;stroke-linecap:butt;stroke-linejoin:miter;stroke:rgb(26.666667%,26.666667%,26.666667%);stroke-opacity:1;stroke-miterlimit:10;\" d=\"M 128.121094 170.324219 L 116.523438 113.136719 \"/>\n",
       "<path style=\"fill:none;stroke-width:1;stroke-linecap:butt;stroke-linejoin:miter;stroke:rgb(26.666667%,26.666667%,26.666667%);stroke-opacity:1;stroke-miterlimit:10;\" d=\"M 112.214844 81.414062 L 116.523438 113.136719 \"/>\n",
       "<path style=\"fill:none;stroke-width:1;stroke-linecap:butt;stroke-linejoin:miter;stroke:rgb(26.666667%,26.666667%,26.666667%);stroke-opacity:1;stroke-miterlimit:10;\" d=\"M 128.121094 170.324219 L 119.761719 123.585938 \"/>\n",
       "<path style=\"fill:none;stroke-width:1;stroke-linecap:butt;stroke-linejoin:miter;stroke:rgb(26.666667%,26.666667%,26.666667%);stroke-opacity:1;stroke-miterlimit:10;\" d=\"M 227.992188 145.371094 L 242.902344 164.253906 \"/>\n",
       "<path style=\"fill:none;stroke-width:1;stroke-linecap:butt;stroke-linejoin:miter;stroke:rgb(26.666667%,26.666667%,26.666667%);stroke-opacity:1;stroke-miterlimit:10;\" d=\"M 223.355469 184.46875 L 242.902344 164.253906 \"/>\n",
       "<path style=\"fill:none;stroke-width:1;stroke-linecap:butt;stroke-linejoin:miter;stroke:rgb(26.666667%,26.666667%,26.666667%);stroke-opacity:1;stroke-miterlimit:10;\" d=\"M 242.902344 164.253906 L 260.664062 161.734375 \"/>\n",
       "<path style=\"fill:none;stroke-width:1;stroke-linecap:butt;stroke-linejoin:miter;stroke:rgb(26.666667%,26.666667%,26.666667%);stroke-opacity:1;stroke-miterlimit:10;\" d=\"M 128.121094 170.324219 L 97.382812 181.949219 \"/>\n",
       "<path style=\"fill:none;stroke-width:1;stroke-linecap:butt;stroke-linejoin:miter;stroke:rgb(26.666667%,26.666667%,26.666667%);stroke-opacity:1;stroke-miterlimit:10;\" d=\"M 128.121094 170.324219 L 85 180.792969 \"/>\n",
       "<path style=\"fill:none;stroke-width:1;stroke-linecap:butt;stroke-linejoin:miter;stroke:rgb(26.666667%,26.666667%,26.666667%);stroke-opacity:1;stroke-miterlimit:10;\" d=\"M 184.910156 55.070312 L 191.410156 24.964844 \"/>\n",
       "<path style=\"fill:none;stroke-width:1;stroke-linecap:butt;stroke-linejoin:miter;stroke:rgb(26.666667%,26.666667%,26.666667%);stroke-opacity:1;stroke-miterlimit:10;\" d=\"M 128.121094 170.324219 L 146.121094 130.414062 \"/>\n",
       "<path style=\"fill:none;stroke-width:1;stroke-linecap:butt;stroke-linejoin:miter;stroke:rgb(26.666667%,26.666667%,26.666667%);stroke-opacity:1;stroke-miterlimit:10;\" d=\"M 128.121094 170.324219 L 119.074219 219.015625 \"/>\n",
       "<path style=\"fill:none;stroke-width:1;stroke-linecap:butt;stroke-linejoin:miter;stroke:rgb(26.666667%,26.666667%,26.666667%);stroke-opacity:1;stroke-miterlimit:10;\" d=\"M 128.121094 170.324219 L 169.648438 164.351562 \"/>\n",
       "<path style=\"fill:none;stroke-width:1;stroke-linecap:butt;stroke-linejoin:miter;stroke:rgb(26.666667%,26.666667%,26.666667%);stroke-opacity:1;stroke-miterlimit:10;\" d=\"M 198.585938 203.988281 L 231.910156 214.925781 \"/>\n",
       "<path style=\"fill:none;stroke-width:1;stroke-linecap:butt;stroke-linejoin:miter;stroke:rgb(26.666667%,26.666667%,26.666667%);stroke-opacity:1;stroke-miterlimit:10;\" d=\"M 251.601562 220.34375 L 231.910156 214.925781 \"/>\n",
       "<path style=\"fill:none;stroke-width:1;stroke-linecap:butt;stroke-linejoin:miter;stroke:rgb(26.666667%,26.666667%,26.666667%);stroke-opacity:1;stroke-miterlimit:10;\" d=\"M 128.121094 170.324219 L 91.878906 174.132812 \"/>\n",
       "<path style=\"fill:none;stroke-width:1;stroke-linecap:butt;stroke-linejoin:miter;stroke:rgb(26.666667%,26.666667%,26.666667%);stroke-opacity:1;stroke-miterlimit:10;\" d=\"M 128.121094 170.324219 L 113.1875 151.433594 \"/>\n",
       "<path style=\"fill:none;stroke-width:1;stroke-linecap:butt;stroke-linejoin:miter;stroke:rgb(26.666667%,26.666667%,26.666667%);stroke-opacity:1;stroke-miterlimit:10;\" d=\"M 128.121094 170.324219 L 136.089844 204.585938 \"/>\n",
       "<path style=\"fill:none;stroke-width:1;stroke-linecap:butt;stroke-linejoin:miter;stroke:rgb(26.666667%,26.666667%,26.666667%);stroke-opacity:1;stroke-miterlimit:10;\" d=\"M 128.121094 170.324219 L 113.164062 125.480469 \"/>\n",
       "<path style=\"fill:none;stroke-width:1;stroke-linecap:butt;stroke-linejoin:miter;stroke:rgb(26.666667%,26.666667%,26.666667%);stroke-opacity:1;stroke-miterlimit:10;\" d=\"M 128.121094 170.324219 L 86.75 157.179688 \"/>\n",
       "<path style=\"fill:none;stroke-width:1;stroke-linecap:butt;stroke-linejoin:miter;stroke:rgb(26.666667%,26.666667%,26.666667%);stroke-opacity:1;stroke-miterlimit:10;\" d=\"M 128.121094 170.324219 L 103.1875 206.113281 \"/>\n",
       "<path style=\"fill:none;stroke-width:1;stroke-linecap:butt;stroke-linejoin:miter;stroke:rgb(26.666667%,26.666667%,26.666667%);stroke-opacity:1;stroke-miterlimit:10;\" d=\"M 128.121094 170.324219 L 92.972656 165.496094 \"/>\n",
       "<path style=\"fill:none;stroke-width:1;stroke-linecap:butt;stroke-linejoin:miter;stroke:rgb(26.666667%,26.666667%,26.666667%);stroke-opacity:1;stroke-miterlimit:10;\" d=\"M 128.121094 170.324219 L 120.359375 143.058594 \"/>\n",
       "<path style=\"fill:none;stroke-width:1;stroke-linecap:butt;stroke-linejoin:miter;stroke:rgb(26.666667%,26.666667%,26.666667%);stroke-opacity:1;stroke-miterlimit:10;\" d=\"M 128.121094 170.324219 L 88.851562 149.089844 \"/>\n",
       "<path style=\"fill:none;stroke-width:1;stroke-linecap:butt;stroke-linejoin:miter;stroke:rgb(26.666667%,26.666667%,26.666667%);stroke-opacity:1;stroke-miterlimit:10;\" d=\"M 128.121094 170.324219 L 113.347656 133.847656 \"/>\n",
       "<path style=\"fill:none;stroke-width:1;stroke-linecap:butt;stroke-linejoin:miter;stroke:rgb(26.666667%,26.666667%,26.666667%);stroke-opacity:1;stroke-miterlimit:10;\" d=\"M 128.121094 170.324219 L 95.4375 191.269531 \"/>\n",
       "<path style=\"fill:none;stroke-width:1;stroke-linecap:butt;stroke-linejoin:miter;stroke:rgb(26.666667%,26.666667%,26.666667%);stroke-opacity:1;stroke-miterlimit:10;\" d=\"M 128.121094 170.324219 L 141.179688 166.371094 \"/>\n",
       "<path style=\"fill:none;stroke-width:1;stroke-linecap:butt;stroke-linejoin:miter;stroke:rgb(26.666667%,26.666667%,26.666667%);stroke-opacity:1;stroke-miterlimit:10;\" d=\"M 128.121094 170.324219 L 118.089844 181.574219 \"/>\n",
       "<path style=\"fill:none;stroke-width:1;stroke-linecap:butt;stroke-linejoin:miter;stroke:rgb(26.666667%,26.666667%,26.666667%);stroke-opacity:1;stroke-miterlimit:10;\" d=\"M 128.121094 170.324219 L 146.113281 204.71875 \"/>\n",
       "<path style=\"fill:none;stroke-width:1;stroke-linecap:butt;stroke-linejoin:miter;stroke:rgb(26.666667%,26.666667%,26.666667%);stroke-opacity:1;stroke-miterlimit:10;\" d=\"M 128.121094 170.324219 L 116.34375 164.214844 \"/>\n",
       "<path style=\"fill:none;stroke-width:1;stroke-linecap:butt;stroke-linejoin:miter;stroke:rgb(26.666667%,26.666667%,26.666667%);stroke-opacity:1;stroke-miterlimit:10;\" d=\"M 128.121094 170.324219 L 102.394531 196.457031 \"/>\n",
       "<path style=\"fill:none;stroke-width:1;stroke-linecap:butt;stroke-linejoin:miter;stroke:rgb(26.666667%,26.666667%,26.666667%);stroke-opacity:1;stroke-miterlimit:10;\" d=\"M 128.121094 170.324219 L 77.363281 150.402344 \"/>\n",
       "<path style=\"fill:none;stroke-width:1;stroke-linecap:butt;stroke-linejoin:miter;stroke:rgb(26.666667%,26.666667%,26.666667%);stroke-opacity:1;stroke-miterlimit:10;\" d=\"M 128.121094 170.324219 L 141.390625 210.414062 \"/>\n",
       "<path style=\"fill:none;stroke-width:1;stroke-linecap:butt;stroke-linejoin:miter;stroke:rgb(26.666667%,26.666667%,26.666667%);stroke-opacity:1;stroke-miterlimit:10;\" d=\"M 128.121094 170.324219 L 133.242188 212.21875 \"/>\n",
       "<path style=\"fill:none;stroke-width:1;stroke-linecap:butt;stroke-linejoin:miter;stroke:rgb(26.666667%,26.666667%,26.666667%);stroke-opacity:1;stroke-miterlimit:10;\" d=\"M 128.121094 170.324219 L 91.425781 197.546875 \"/>\n",
       "<path style=\"fill:none;stroke-width:1;stroke-linecap:butt;stroke-linejoin:miter;stroke:rgb(26.666667%,26.666667%,26.666667%);stroke-opacity:1;stroke-miterlimit:10;\" d=\"M 128.121094 170.324219 L 152.726562 213.007812 \"/>\n",
       "<path style=\"fill:none;stroke-width:1;stroke-linecap:butt;stroke-linejoin:miter;stroke:rgb(26.666667%,26.666667%,26.666667%);stroke-opacity:1;stroke-miterlimit:10;\" d=\"M 128.121094 170.324219 L 126.269531 136.902344 \"/>\n",
       "<path style=\"fill:none;stroke-width:1;stroke-linecap:butt;stroke-linejoin:miter;stroke:rgb(26.666667%,26.666667%,26.666667%);stroke-opacity:1;stroke-miterlimit:10;\" d=\"M 128.121094 170.324219 L 106.886719 126.199219 \"/>\n",
       "<path style=\"fill:none;stroke-width:1;stroke-linecap:butt;stroke-linejoin:miter;stroke:rgb(26.666667%,26.666667%,26.666667%);stroke-opacity:1;stroke-miterlimit:10;\" d=\"M 128.121094 170.324219 L 142.910156 154.460938 \"/>\n",
       "<path style=\"fill:none;stroke-width:1;stroke-linecap:butt;stroke-linejoin:miter;stroke:rgb(26.666667%,26.666667%,26.666667%);stroke-opacity:1;stroke-miterlimit:10;\" d=\"M 128.121094 170.324219 L 126.300781 211.511719 \"/>\n",
       "<path style=\"fill:none;stroke-width:1;stroke-linecap:butt;stroke-linejoin:miter;stroke:rgb(26.666667%,26.666667%,26.666667%);stroke-opacity:1;stroke-miterlimit:10;\" d=\"M 128.121094 170.324219 L 169.589844 173.570312 \"/>\n",
       "<path style=\"fill:none;stroke-width:1;stroke-linecap:butt;stroke-linejoin:miter;stroke:rgb(26.666667%,26.666667%,26.666667%);stroke-opacity:1;stroke-miterlimit:10;\" d=\"M 128.121094 170.324219 L 157.863281 153.675781 \"/>\n",
       "<path style=\"fill:none;stroke-width:1;stroke-linecap:butt;stroke-linejoin:miter;stroke:rgb(26.666667%,26.666667%,26.666667%);stroke-opacity:1;stroke-miterlimit:10;\" d=\"M 128.121094 170.324219 L 120.445312 131.902344 \"/>\n",
       "<path style=\"fill:none;stroke-width:1;stroke-linecap:butt;stroke-linejoin:miter;stroke:rgb(26.666667%,26.666667%,26.666667%);stroke-opacity:1;stroke-miterlimit:10;\" d=\"M 128.121094 170.324219 L 108.949219 200.390625 \"/>\n",
       "<path style=\"fill:none;stroke-width:1;stroke-linecap:butt;stroke-linejoin:miter;stroke:rgb(26.666667%,26.666667%,26.666667%);stroke-opacity:1;stroke-miterlimit:10;\" d=\"M 128.121094 170.324219 L 150.96875 147.417969 \"/>\n",
       "<path style=\"fill:none;stroke-width:1;stroke-linecap:butt;stroke-linejoin:miter;stroke:rgb(26.666667%,26.666667%,26.666667%);stroke-opacity:1;stroke-miterlimit:10;\" d=\"M 128.121094 170.324219 L 124.546875 232.945312 \"/>\n",
       "<path style=\"fill:none;stroke-width:1;stroke-linecap:butt;stroke-linejoin:miter;stroke:rgb(26.666667%,26.666667%,26.666667%);stroke-opacity:1;stroke-miterlimit:10;\" d=\"M 128.121094 170.324219 L 95.664062 135.011719 \"/>\n",
       "<path style=\"fill:none;stroke-width:1;stroke-linecap:butt;stroke-linejoin:miter;stroke:rgb(26.666667%,26.666667%,26.666667%);stroke-opacity:1;stroke-miterlimit:10;\" d=\"M 128.121094 170.324219 L 133.164062 153.511719 \"/>\n",
       "<path style=\"fill:none;stroke-width:1;stroke-linecap:butt;stroke-linejoin:miter;stroke:rgb(26.666667%,26.666667%,26.666667%);stroke-opacity:1;stroke-miterlimit:10;\" d=\"M 128.121094 170.324219 L 105.984375 135.28125 \"/>\n",
       "<path style=\"fill:none;stroke-width:1;stroke-linecap:butt;stroke-linejoin:miter;stroke:rgb(26.666667%,26.666667%,26.666667%);stroke-opacity:1;stroke-miterlimit:10;\" d=\"M 128.121094 170.324219 L 173.832031 193.433594 \"/>\n",
       "<path style=\"fill:none;stroke-width:1;stroke-linecap:butt;stroke-linejoin:miter;stroke:rgb(26.666667%,26.666667%,26.666667%);stroke-opacity:1;stroke-miterlimit:10;\" d=\"M 198.585938 203.988281 L 173.832031 193.433594 \"/>\n",
       "<path style=\"fill:none;stroke-width:1;stroke-linecap:butt;stroke-linejoin:miter;stroke:rgb(26.666667%,26.666667%,26.666667%);stroke-opacity:1;stroke-miterlimit:10;\" d=\"M 128.121094 170.324219 L 141.503906 196.566406 \"/>\n",
       "<path style=\"fill:none;stroke-width:1;stroke-linecap:butt;stroke-linejoin:miter;stroke:rgb(26.666667%,26.666667%,26.666667%);stroke-opacity:1;stroke-miterlimit:10;\" d=\"M 128.121094 170.324219 L 139.316406 135.304688 \"/>\n",
       "<path style=\"fill:none;stroke-width:1;stroke-linecap:butt;stroke-linejoin:miter;stroke:rgb(26.666667%,26.666667%,26.666667%);stroke-opacity:1;stroke-miterlimit:10;\" d=\"M 128.121094 170.324219 L 183.769531 178.738281 \"/>\n",
       "<path style=\"fill:none;stroke-width:1;stroke-linecap:butt;stroke-linejoin:miter;stroke:rgb(26.666667%,26.666667%,26.666667%);stroke-opacity:1;stroke-miterlimit:10;\" d=\"M 223.355469 184.46875 L 183.769531 178.738281 \"/>\n",
       "<path style=\"fill:none;stroke-width:1;stroke-linecap:butt;stroke-linejoin:miter;stroke:rgb(26.666667%,26.666667%,26.666667%);stroke-opacity:1;stroke-miterlimit:10;\" d=\"M 128.121094 170.324219 L 139.507812 218.246094 \"/>\n",
       "<path style=\"fill:none;stroke-width:1;stroke-linecap:butt;stroke-linejoin:miter;stroke:rgb(26.666667%,26.666667%,26.666667%);stroke-opacity:1;stroke-miterlimit:10;\" d=\"M 128.121094 170.324219 L 95.921875 147.515625 \"/>\n",
       "<path style=\"fill:none;stroke-width:1;stroke-linecap:butt;stroke-linejoin:miter;stroke:rgb(26.666667%,26.666667%,26.666667%);stroke-opacity:1;stroke-miterlimit:10;\" d=\"M 128.121094 170.324219 L 132.488281 220.007812 \"/>\n",
       "<path style=\"fill:none;stroke-width:1;stroke-linecap:butt;stroke-linejoin:miter;stroke:rgb(26.666667%,26.666667%,26.666667%);stroke-opacity:1;stroke-miterlimit:10;\" d=\"M 128.121094 170.324219 L 108.300781 181.464844 \"/>\n",
       "<path style=\"fill:none;stroke-width:1;stroke-linecap:butt;stroke-linejoin:miter;stroke:rgb(26.666667%,26.666667%,26.666667%);stroke-opacity:1;stroke-miterlimit:10;\" d=\"M 128.121094 170.324219 L 108.515625 171.371094 \"/>\n",
       "<path style=\"fill:none;stroke-width:1;stroke-linecap:butt;stroke-linejoin:miter;stroke:rgb(26.666667%,26.666667%,26.666667%);stroke-opacity:1;stroke-miterlimit:10;\" d=\"M 128.121094 170.324219 L 119.140625 210.824219 \"/>\n",
       "<path style=\"fill:none;stroke-width:1;stroke-linecap:butt;stroke-linejoin:miter;stroke:rgb(26.666667%,26.666667%,26.666667%);stroke-opacity:1;stroke-miterlimit:10;\" d=\"M 128.121094 170.324219 L 107.410156 159.101562 \"/>\n",
       "<path style=\"fill:none;stroke-width:1;stroke-linecap:butt;stroke-linejoin:miter;stroke:rgb(26.666667%,26.666667%,26.666667%);stroke-opacity:1;stroke-miterlimit:10;\" d=\"M 128.121094 170.324219 L 164.058594 196.863281 \"/>\n",
       "<path style=\"fill:none;stroke-width:1;stroke-linecap:butt;stroke-linejoin:miter;stroke:rgb(26.666667%,26.666667%,26.666667%);stroke-opacity:1;stroke-miterlimit:10;\" d=\"M 128.121094 170.324219 L 117.367188 201.136719 \"/>\n",
       "<path style=\"fill:none;stroke-width:1;stroke-linecap:butt;stroke-linejoin:miter;stroke:rgb(26.666667%,26.666667%,26.666667%);stroke-opacity:1;stroke-miterlimit:10;\" d=\"M 128.121094 170.324219 L 104.675781 146.757812 \"/>\n",
       "<path style=\"fill:none;stroke-width:1;stroke-linecap:butt;stroke-linejoin:miter;stroke:rgb(26.666667%,26.666667%,26.666667%);stroke-opacity:1;stroke-miterlimit:10;\" d=\"M 128.121094 170.324219 L 166.976562 157.234375 \"/>\n",
       "<path style=\"fill:none;stroke-width:1;stroke-linecap:butt;stroke-linejoin:miter;stroke:rgb(26.666667%,26.666667%,26.666667%);stroke-opacity:1;stroke-miterlimit:10;\" d=\"M 128.121094 170.324219 L 158.085938 198.839844 \"/>\n",
       "<path style=\"fill:none;stroke-width:1;stroke-linecap:butt;stroke-linejoin:miter;stroke:rgb(26.666667%,26.666667%,26.666667%);stroke-opacity:1;stroke-miterlimit:10;\" d=\"M 128.121094 170.324219 L 93.328125 156.640625 \"/>\n",
       "<path style=\"fill:none;stroke-width:1;stroke-linecap:butt;stroke-linejoin:miter;stroke:rgb(26.666667%,26.666667%,26.666667%);stroke-opacity:1;stroke-miterlimit:10;\" d=\"M 128.121094 170.324219 L 154.121094 138.046875 \"/>\n",
       "<path style=\"fill:none;stroke-width:1;stroke-linecap:butt;stroke-linejoin:miter;stroke:rgb(26.666667%,26.666667%,26.666667%);stroke-opacity:1;stroke-miterlimit:10;\" d=\"M 128.121094 170.324219 L 151.039062 157.746094 \"/>\n",
       "<path style=\"fill:none;stroke-width:1;stroke-linecap:butt;stroke-linejoin:miter;stroke:rgb(26.666667%,26.666667%,26.666667%);stroke-opacity:1;stroke-miterlimit:10;\" d=\"M 128.121094 170.324219 L 147.480469 138.390625 \"/>\n",
       "<path style=\"fill:none;stroke-width:1;stroke-linecap:butt;stroke-linejoin:miter;stroke:rgb(26.666667%,26.666667%,26.666667%);stroke-opacity:1;stroke-miterlimit:10;\" d=\"M 128.121094 170.324219 L 139.75 184.578125 \"/>\n",
       "<path style=\"fill:none;stroke-width:1;stroke-linecap:butt;stroke-linejoin:miter;stroke:rgb(26.666667%,26.666667%,26.666667%);stroke-opacity:1;stroke-miterlimit:10;\" d=\"M 128.121094 170.324219 L 153.03125 205.867188 \"/>\n",
       "<path style=\"fill:none;stroke-width:1;stroke-linecap:butt;stroke-linejoin:miter;stroke:rgb(26.666667%,26.666667%,26.666667%);stroke-opacity:1;stroke-miterlimit:10;\" d=\"M 128.121094 170.324219 L 87.808594 190.117188 \"/>\n",
       "<path style=\"fill:none;stroke-width:1;stroke-linecap:butt;stroke-linejoin:miter;stroke:rgb(26.666667%,26.666667%,26.666667%);stroke-opacity:1;stroke-miterlimit:10;\" d=\"M 128.121094 170.324219 L 139.222656 126.511719 \"/>\n",
       "<path style=\"fill:none;stroke-width:1;stroke-linecap:butt;stroke-linejoin:miter;stroke:rgb(26.666667%,26.666667%,26.666667%);stroke-opacity:1;stroke-miterlimit:10;\" d=\"M 128.121094 170.324219 L 164.578125 188.65625 \"/>\n",
       "<path style=\"fill:none;stroke-width:1;stroke-linecap:butt;stroke-linejoin:miter;stroke:rgb(26.666667%,26.666667%,26.666667%);stroke-opacity:1;stroke-miterlimit:10;\" d=\"M 128.121094 170.324219 L 132.625 142.773438 \"/>\n",
       "<path style=\"fill:none;stroke-width:1;stroke-linecap:butt;stroke-linejoin:miter;stroke:rgb(26.666667%,26.666667%,26.666667%);stroke-opacity:1;stroke-miterlimit:10;\" d=\"M 128.121094 170.324219 L 106.914062 213.078125 \"/>\n",
       "<path style=\"fill:none;stroke-width:1;stroke-linecap:butt;stroke-linejoin:miter;stroke:rgb(26.666667%,26.666667%,26.666667%);stroke-opacity:1;stroke-miterlimit:10;\" d=\"M 128.121094 170.324219 L 101.007812 129.941406 \"/>\n",
       "<path style=\"fill:none;stroke-width:1;stroke-linecap:butt;stroke-linejoin:miter;stroke:rgb(26.666667%,26.666667%,26.666667%);stroke-opacity:1;stroke-miterlimit:10;\" d=\"M 128.121094 170.324219 L 125.617188 219.585938 \"/>\n",
       "<path style=\"fill:none;stroke-width:1;stroke-linecap:butt;stroke-linejoin:miter;stroke:rgb(26.666667%,26.666667%,26.666667%);stroke-opacity:1;stroke-miterlimit:10;\" d=\"M 128.121094 170.324219 L 157.734375 173.011719 \"/>\n",
       "<path style=\"fill:none;stroke-width:1;stroke-linecap:butt;stroke-linejoin:miter;stroke:rgb(26.666667%,26.666667%,26.666667%);stroke-opacity:1;stroke-miterlimit:10;\" d=\"M 128.121094 170.324219 L 164.144531 150.046875 \"/>\n",
       "<path style=\"fill:none;stroke-width:1;stroke-linecap:butt;stroke-linejoin:miter;stroke:rgb(26.666667%,26.666667%,26.666667%);stroke-opacity:1;stroke-miterlimit:10;\" d=\"M 128.121094 170.324219 L 161.660156 180.398438 \"/>\n",
       "<path style=\"fill:none;stroke-width:1;stroke-linecap:butt;stroke-linejoin:miter;stroke:rgb(26.666667%,26.666667%,26.666667%);stroke-opacity:1;stroke-miterlimit:10;\" d=\"M 128.121094 170.324219 L 160.3125 161.996094 \"/>\n",
       "<path style=\"fill:none;stroke-width:1;stroke-linecap:butt;stroke-linejoin:miter;stroke:rgb(26.666667%,26.666667%,26.666667%);stroke-opacity:1;stroke-miterlimit:10;\" d=\"M 128.121094 170.324219 L 153.804688 181.910156 \"/>\n",
       "<path style=\"fill:none;stroke-width:1;stroke-linecap:butt;stroke-linejoin:miter;stroke:rgb(26.666667%,26.666667%,26.666667%);stroke-opacity:1;stroke-miterlimit:10;\" d=\"M 128.121094 170.324219 L 141.730469 144.585938 \"/>\n",
       "<path style=\"fill:none;stroke-width:1;stroke-linecap:butt;stroke-linejoin:miter;stroke:rgb(26.666667%,26.666667%,26.666667%);stroke-opacity:1;stroke-miterlimit:10;\" d=\"M 128.121094 170.324219 L 111.625 142.03125 \"/>\n",
       "<path style=\"fill:none;stroke-width:1;stroke-linecap:butt;stroke-linejoin:miter;stroke:rgb(26.666667%,26.666667%,26.666667%);stroke-opacity:1;stroke-miterlimit:10;\" d=\"M 128.121094 170.324219 L 97.085938 201.59375 \"/>\n",
       "<path style=\"fill:none;stroke-width:1;stroke-linecap:butt;stroke-linejoin:miter;stroke:rgb(26.666667%,26.666667%,26.666667%);stroke-opacity:1;stroke-miterlimit:10;\" d=\"M 128.121094 170.324219 L 123.332031 152.929688 \"/>\n",
       "<path style=\"fill:none;stroke-width:1;stroke-linecap:butt;stroke-linejoin:miter;stroke:rgb(26.666667%,26.666667%,26.666667%);stroke-opacity:1;stroke-miterlimit:10;\" d=\"M 128.121094 170.324219 L 159.691406 206.371094 \"/>\n",
       "<path style=\"fill:none;stroke-width:1;stroke-linecap:butt;stroke-linejoin:miter;stroke:rgb(26.666667%,26.666667%,26.666667%);stroke-opacity:1;stroke-miterlimit:10;\" d=\"M 128.121094 170.324219 L 164.171875 169.320312 \"/>\n",
       "<path style=\"fill:none;stroke-width:1;stroke-linecap:butt;stroke-linejoin:miter;stroke:rgb(26.666667%,26.666667%,26.666667%);stroke-opacity:1;stroke-miterlimit:10;\" d=\"M 128.121094 170.324219 L 147.886719 189.003906 \"/>\n",
       "<path style=\"fill:none;stroke-width:1;stroke-linecap:butt;stroke-linejoin:miter;stroke:rgb(26.666667%,26.666667%,26.666667%);stroke-opacity:1;stroke-miterlimit:10;\" d=\"M 128.121094 170.324219 L 86.148438 164.964844 \"/>\n",
       "<path style=\"fill:none;stroke-width:1;stroke-linecap:butt;stroke-linejoin:miter;stroke:rgb(26.666667%,26.666667%,26.666667%);stroke-opacity:1;stroke-miterlimit:10;\" d=\"M 128.121094 170.324219 L 137.71875 111.695312 \"/>\n",
       "<path style=\"fill:none;stroke-width:1;stroke-linecap:butt;stroke-linejoin:miter;stroke:rgb(26.666667%,26.666667%,26.666667%);stroke-opacity:1;stroke-miterlimit:10;\" d=\"M 146.5 75.230469 L 137.71875 111.695312 \"/>\n",
       "<path style=\"fill:none;stroke-width:1;stroke-linecap:butt;stroke-linejoin:miter;stroke:rgb(26.666667%,26.666667%,26.666667%);stroke-opacity:1;stroke-miterlimit:10;\" d=\"M 128.121094 170.324219 L 146.460938 176.3125 \"/>\n",
       "<path style=\"fill:none;stroke-width:1;stroke-linecap:butt;stroke-linejoin:miter;stroke:rgb(26.666667%,26.666667%,26.666667%);stroke-opacity:1;stroke-miterlimit:10;\" d=\"M 128.121094 170.324219 L 172.550781 133.683594 \"/>\n",
       "<path style=\"fill:none;stroke-width:1;stroke-linecap:butt;stroke-linejoin:miter;stroke:rgb(26.666667%,26.666667%,26.666667%);stroke-opacity:1;stroke-miterlimit:10;\" d=\"M 182.636719 101.582031 L 172.550781 133.683594 \"/>\n",
       "<path style=\"fill:none;stroke-width:1;stroke-linecap:butt;stroke-linejoin:miter;stroke:rgb(26.666667%,26.666667%,26.666667%);stroke-opacity:1;stroke-miterlimit:10;\" d=\"M 128.121094 170.324219 L 125.707031 203.050781 \"/>\n",
       "<path style=\"fill:none;stroke-width:1;stroke-linecap:butt;stroke-linejoin:miter;stroke:rgb(26.666667%,26.666667%,26.666667%);stroke-opacity:1;stroke-miterlimit:10;\" d=\"M 128.121094 170.324219 L 85.257812 172.605469 \"/>\n",
       "<path style=\"fill:none;stroke-width:1;stroke-linecap:butt;stroke-linejoin:miter;stroke:rgb(26.666667%,26.666667%,26.666667%);stroke-opacity:1;stroke-miterlimit:10;\" d=\"M 128.121094 170.324219 L 112.304688 208.140625 \"/>\n",
       "<path style=\"fill:none;stroke-width:1;stroke-linecap:butt;stroke-linejoin:miter;stroke:rgb(26.666667%,26.666667%,26.666667%);stroke-opacity:1;stroke-miterlimit:10;\" d=\"M 128.121094 170.324219 L 158.777344 144.359375 \"/>\n",
       "<path style=\"fill:none;stroke-width:1;stroke-linecap:butt;stroke-linejoin:miter;stroke:rgb(26.666667%,26.666667%,26.666667%);stroke-opacity:1;stroke-miterlimit:10;\" d=\"M 128.121094 170.324219 L 100.285156 164.664062 \"/>\n",
       "<path style=\"fill:none;stroke-width:1;stroke-linecap:butt;stroke-linejoin:miter;stroke:rgb(26.666667%,26.666667%,26.666667%);stroke-opacity:1;stroke-miterlimit:10;\" d=\"M 128.121094 170.324219 L 135.882812 232.421875 \"/>\n",
       "<path style=\"fill:none;stroke-width:1;stroke-linecap:butt;stroke-linejoin:miter;stroke:rgb(26.666667%,26.666667%,26.666667%);stroke-opacity:1;stroke-miterlimit:10;\" d=\"M 128.121094 170.324219 L 99.886719 173.90625 \"/>\n",
       "<path style=\"fill:none;stroke-width:1;stroke-linecap:butt;stroke-linejoin:miter;stroke:rgb(26.666667%,26.666667%,26.666667%);stroke-opacity:1;stroke-miterlimit:10;\" d=\"M 128.121094 170.324219 L 90.652344 183.355469 \"/>\n",
       "<path style=\"fill:none;stroke-width:1;stroke-linecap:butt;stroke-linejoin:miter;stroke:rgb(26.666667%,26.666667%,26.666667%);stroke-opacity:1;stroke-miterlimit:10;\" d=\"M 280 161.019531 L 279.359375 172.316406 \"/>\n",
       "<path style=\"fill:none;stroke-width:1;stroke-linecap:butt;stroke-linejoin:miter;stroke:rgb(26.666667%,26.666667%,26.666667%);stroke-opacity:1;stroke-miterlimit:10;\" d=\"M 184.910156 55.070312 L 201.859375 37.511719 \"/>\n",
       "<path style=\"fill:none;stroke-width:1;stroke-linecap:butt;stroke-linejoin:miter;stroke:rgb(26.666667%,26.666667%,26.666667%);stroke-opacity:1;stroke-miterlimit:10;\" d=\"M 135.882812 232.421875 L 140.347656 269.058594 \"/>\n",
       "<path style=\"fill:none;stroke-width:1;stroke-linecap:butt;stroke-linejoin:miter;stroke:rgb(26.666667%,26.666667%,26.666667%);stroke-opacity:1;stroke-miterlimit:10;\" d=\"M 184.910156 55.070312 L 198.191406 30.398438 \"/>\n",
       "<path style=\"fill:none;stroke-width:1;stroke-linecap:butt;stroke-linejoin:miter;stroke:rgb(26.666667%,26.666667%,26.666667%);stroke-opacity:1;stroke-miterlimit:10;\" d=\"M 163.257812 123.214844 L 191.082031 109.167969 \"/>\n",
       "<path style=\"fill:none;stroke-width:1;stroke-linecap:butt;stroke-linejoin:miter;stroke:rgb(26.666667%,26.666667%,26.666667%);stroke-opacity:1;stroke-miterlimit:10;\" d=\"M 223.355469 184.46875 L 246.535156 182.714844 \"/>\n",
       "<path style=\"fill:none;stroke-width:1;stroke-linecap:butt;stroke-linejoin:miter;stroke:rgb(26.666667%,26.666667%,26.666667%);stroke-opacity:1;stroke-miterlimit:10;\" d=\"M 198.585938 203.988281 L 216.972656 226.207031 \"/>\n",
       "<path style=\"fill:none;stroke-width:1;stroke-linecap:butt;stroke-linejoin:miter;stroke:rgb(26.666667%,26.666667%,26.666667%);stroke-opacity:1;stroke-miterlimit:10;\" d=\"M 198.585938 203.988281 L 224.46875 203.449219 \"/>\n",
       "<path style=\"fill:none;stroke-width:1;stroke-linecap:butt;stroke-linejoin:miter;stroke:rgb(26.666667%,26.666667%,26.666667%);stroke-opacity:1;stroke-miterlimit:10;\" d=\"M 184.910156 55.070312 L 188.84375 33.011719 \"/>\n",
       "<path style=\"fill:none;stroke-width:1;stroke-linecap:butt;stroke-linejoin:miter;stroke:rgb(26.666667%,26.666667%,26.666667%);stroke-opacity:1;stroke-miterlimit:10;\" d=\"M 77.363281 150.402344 L 47.25 140.144531 \"/>\n",
       "<path style=\"fill:none;stroke-width:1;stroke-linecap:butt;stroke-linejoin:miter;stroke:rgb(26.666667%,26.666667%,26.666667%);stroke-opacity:1;stroke-miterlimit:10;\" d=\"M 184.910156 55.070312 L 183.03125 24.652344 \"/>\n",
       "<path style=\"fill:none;stroke-width:1;stroke-linecap:butt;stroke-linejoin:miter;stroke:rgb(26.666667%,26.666667%,26.666667%);stroke-opacity:1;stroke-miterlimit:10;\" d=\"M 198.585938 203.988281 L 222.855469 212.007812 \"/>\n",
       "<path style=\"fill:none;stroke-width:1;stroke-linecap:butt;stroke-linejoin:miter;stroke:rgb(26.666667%,26.666667%,26.666667%);stroke-opacity:1;stroke-miterlimit:10;\" d=\"M 211.390625 100.4375 L 240.425781 94.140625 \"/>\n",
       "<path style=\"fill:none;stroke-width:1;stroke-linecap:butt;stroke-linejoin:miter;stroke:rgb(26.666667%,26.666667%,26.666667%);stroke-opacity:1;stroke-miterlimit:10;\" d=\"M 187.355469 85.558594 L 207.546875 66.234375 \"/>\n",
       "<path style=\"fill:none;stroke-width:1;stroke-linecap:butt;stroke-linejoin:miter;stroke:rgb(26.666667%,26.666667%,26.666667%);stroke-opacity:1;stroke-miterlimit:10;\" d=\"M 220.402344 55.515625 L 237.609375 49.789062 \"/>\n",
       "<path style=\"fill:none;stroke-width:1;stroke-linecap:butt;stroke-linejoin:miter;stroke:rgb(26.666667%,26.666667%,26.666667%);stroke-opacity:1;stroke-miterlimit:10;\" d=\"M 198.585938 203.988281 L 226.074219 233.589844 \"/>\n",
       "<path style=\"fill:none;stroke-width:1;stroke-linecap:butt;stroke-linejoin:miter;stroke:rgb(26.666667%,26.666667%,26.666667%);stroke-opacity:1;stroke-miterlimit:10;\" d=\"M 226.074219 233.589844 L 235.582031 252.714844 \"/>\n",
       "<path style=\"fill:none;stroke-width:1;stroke-linecap:butt;stroke-linejoin:miter;stroke:rgb(26.666667%,26.666667%,26.666667%);stroke-opacity:1;stroke-miterlimit:10;\" d=\"M 226.074219 233.589844 L 243.113281 243.269531 \"/>\n",
       "<path style=\"fill:none;stroke-width:1;stroke-linecap:butt;stroke-linejoin:miter;stroke:rgb(26.666667%,26.666667%,26.666667%);stroke-opacity:1;stroke-miterlimit:10;\" d=\"M 240.425781 94.140625 L 254.5 84.679688 \"/>\n",
       "<path style=\"fill:none;stroke-width:1;stroke-linecap:butt;stroke-linejoin:miter;stroke:rgb(26.666667%,26.666667%,26.666667%);stroke-opacity:1;stroke-miterlimit:10;\" d=\"M 146.5 75.230469 L 141.28125 43.460938 \"/>\n",
       "<path style=\"fill:none;stroke-width:1;stroke-linecap:butt;stroke-linejoin:miter;stroke:rgb(26.666667%,26.666667%,26.666667%);stroke-opacity:1;stroke-miterlimit:10;\" d=\"M 124.546875 232.945312 L 122.871094 269.722656 \"/>\n",
       "<path style=\"fill:none;stroke-width:1;stroke-linecap:butt;stroke-linejoin:miter;stroke:rgb(26.666667%,26.666667%,26.666667%);stroke-opacity:1;stroke-miterlimit:10;\" d=\"M 95.144531 222.96875 L 77.804688 252.5625 \"/>\n",
       "<path style=\"fill:none;stroke-width:1;stroke-linecap:butt;stroke-linejoin:miter;stroke:rgb(26.666667%,26.666667%,26.666667%);stroke-opacity:1;stroke-miterlimit:10;\" d=\"M 58.429688 39.199219 L 73.523438 32.652344 \"/>\n",
       "<path style=\"fill:none;stroke-width:1;stroke-linecap:butt;stroke-linejoin:miter;stroke:rgb(26.666667%,26.666667%,26.666667%);stroke-opacity:1;stroke-miterlimit:10;\" d=\"M 92.003906 43.707031 L 73.523438 32.652344 \"/>\n",
       "<path style=\"fill:none;stroke-width:1;stroke-linecap:butt;stroke-linejoin:miter;stroke:rgb(26.666667%,26.666667%,26.666667%);stroke-opacity:1;stroke-miterlimit:10;\" d=\"M 174.664062 223.402344 L 191.621094 259.492188 \"/>\n",
       "<path style=\"fill:none;stroke-width:1;stroke-linecap:butt;stroke-linejoin:miter;stroke:rgb(26.666667%,26.666667%,26.666667%);stroke-opacity:1;stroke-miterlimit:10;\" d=\"M 200.636719 280 L 191.621094 259.492188 \"/>\n",
       "<path style=\"fill:none;stroke-width:1;stroke-linecap:butt;stroke-linejoin:miter;stroke:rgb(26.666667%,26.666667%,26.666667%);stroke-opacity:1;stroke-miterlimit:10;\" d=\"M 172.550781 133.683594 L 202.390625 124.1875 \"/>\n",
       "<path style=\"fill:none;stroke-width:1;stroke-linecap:butt;stroke-linejoin:miter;stroke:rgb(26.666667%,26.666667%,26.666667%);stroke-opacity:1;stroke-miterlimit:10;\" d=\"M 174.664062 223.402344 L 184.375 254.074219 \"/>\n",
       "<path style=\"fill:none;stroke-width:1;stroke-linecap:butt;stroke-linejoin:miter;stroke:rgb(26.666667%,26.666667%,26.666667%);stroke-opacity:1;stroke-miterlimit:10;\" d=\"M 92.003906 43.707031 L 90.089844 21.261719 \"/>\n",
       "<path style=\"fill:none;stroke-width:1;stroke-linecap:butt;stroke-linejoin:miter;stroke:rgb(26.666667%,26.666667%,26.666667%);stroke-opacity:1;stroke-miterlimit:10;\" d=\"M 168.496094 46.859375 L 160.953125 20 \"/>\n",
       "<path style=\"fill:none;stroke-width:1;stroke-linecap:butt;stroke-linejoin:miter;stroke:rgb(26.666667%,26.666667%,26.666667%);stroke-opacity:1;stroke-miterlimit:10;\" d=\"M 240.425781 94.140625 L 256.359375 96.714844 \"/>\n",
       "<path style=\"fill:none;stroke-width:1;stroke-linecap:butt;stroke-linejoin:miter;stroke:rgb(26.666667%,26.666667%,26.666667%);stroke-opacity:1;stroke-miterlimit:10;\" d=\"M 189.285156 140.625 L 217.617188 133.609375 \"/>\n",
       "<path style=\"fill-rule:nonzero;fill:rgb(100%,0%,0%);fill-opacity:1;stroke-width:1;stroke-linecap:butt;stroke-linejoin:miter;stroke:rgb(0%,0%,0%);stroke-opacity:1;stroke-miterlimit:10;\" d=\"M 252.988281 139.421875 C 252.988281 144.753906 244.988281 144.753906 244.988281 139.421875 C 244.988281 134.085938 252.988281 134.085938 252.988281 139.421875 \"/>\n",
       "<path style=\"fill-rule:nonzero;fill:rgb(100%,0%,0%);fill-opacity:1;stroke-width:1;stroke-linecap:butt;stroke-linejoin:miter;stroke:rgb(0%,0%,0%);stroke-opacity:1;stroke-miterlimit:10;\" d=\"M 231.992188 145.371094 C 231.992188 150.707031 223.992188 150.707031 223.992188 145.371094 C 223.992188 140.039062 231.992188 140.039062 231.992188 145.371094 \"/>\n",
       "<path style=\"fill-rule:nonzero;fill:rgb(100%,0%,0%);fill-opacity:1;stroke-width:1;stroke-linecap:butt;stroke-linejoin:miter;stroke:rgb(0%,0%,0%);stroke-opacity:1;stroke-miterlimit:10;\" d=\"M 104.171875 140.335938 C 104.171875 145.667969 96.171875 145.667969 96.171875 140.335938 C 96.171875 135 104.171875 135 104.171875 140.335938 \"/>\n",
       "<path style=\"fill-rule:nonzero;fill:rgb(100%,0%,0%);fill-opacity:1;stroke-width:1;stroke-linecap:butt;stroke-linejoin:miter;stroke:rgb(0%,0%,0%);stroke-opacity:1;stroke-miterlimit:10;\" d=\"M 132.121094 170.324219 C 132.121094 175.65625 124.121094 175.65625 124.121094 170.324219 C 124.121094 164.988281 132.121094 164.988281 132.121094 170.324219 \"/>\n",
       "<path style=\"fill-rule:nonzero;fill:rgb(100%,0%,0%);fill-opacity:1;stroke-width:1;stroke-linecap:butt;stroke-linejoin:miter;stroke:rgb(0%,0%,0%);stroke-opacity:1;stroke-miterlimit:10;\" d=\"M 136.316406 196.925781 C 136.316406 202.257812 128.316406 202.257812 128.316406 196.925781 C 128.316406 191.589844 136.316406 191.589844 136.316406 196.925781 \"/>\n",
       "<path style=\"fill-rule:nonzero;fill:rgb(100%,0%,0%);fill-opacity:1;stroke-width:1;stroke-linecap:butt;stroke-linejoin:miter;stroke:rgb(0%,0%,0%);stroke-opacity:1;stroke-miterlimit:10;\" d=\"M 95.46875 141.480469 C 95.46875 146.816406 87.46875 146.816406 87.46875 141.480469 C 87.46875 136.148438 95.46875 136.148438 95.46875 141.480469 \"/>\n",
       "<path style=\"fill-rule:nonzero;fill:rgb(100%,0%,0%);fill-opacity:1;stroke-width:1;stroke-linecap:butt;stroke-linejoin:miter;stroke:rgb(0%,0%,0%);stroke-opacity:1;stroke-miterlimit:10;\" d=\"M 55.621094 57.203125 C 55.621094 62.539062 47.621094 62.539062 47.621094 57.203125 C 47.621094 51.871094 55.621094 51.871094 55.621094 57.203125 \"/>\n",
       "<path style=\"fill-rule:nonzero;fill:rgb(100%,0%,0%);fill-opacity:1;stroke-width:1;stroke-linecap:butt;stroke-linejoin:miter;stroke:rgb(0%,0%,0%);stroke-opacity:1;stroke-miterlimit:10;\" d=\"M 61.019531 82.144531 C 61.019531 87.480469 53.019531 87.480469 53.019531 82.144531 C 53.019531 76.8125 61.019531 76.8125 61.019531 82.144531 \"/>\n",
       "<path style=\"fill-rule:nonzero;fill:rgb(100%,0%,0%);fill-opacity:1;stroke-width:1;stroke-linecap:butt;stroke-linejoin:miter;stroke:rgb(0%,0%,0%);stroke-opacity:1;stroke-miterlimit:10;\" d=\"M 62.429688 39.199219 C 62.429688 44.53125 54.429688 44.53125 54.429688 39.199219 C 54.429688 33.867188 62.429688 33.867188 62.429688 39.199219 \"/>\n",
       "<path style=\"fill-rule:nonzero;fill:rgb(100%,0%,0%);fill-opacity:1;stroke-width:1;stroke-linecap:butt;stroke-linejoin:miter;stroke:rgb(0%,0%,0%);stroke-opacity:1;stroke-miterlimit:10;\" d=\"M 205.136719 79.199219 C 205.136719 84.535156 197.136719 84.535156 197.136719 79.199219 C 197.136719 73.867188 205.136719 73.867188 205.136719 79.199219 \"/>\n",
       "<path style=\"fill-rule:nonzero;fill:rgb(100%,0%,0%);fill-opacity:1;stroke-width:1;stroke-linecap:butt;stroke-linejoin:miter;stroke:rgb(0%,0%,0%);stroke-opacity:1;stroke-miterlimit:10;\" d=\"M 229.320312 72.902344 C 229.320312 78.234375 221.320312 78.234375 221.320312 72.902344 C 221.320312 67.566406 229.320312 67.566406 229.320312 72.902344 \"/>\n",
       "<path style=\"fill-rule:nonzero;fill:rgb(100%,0%,0%);fill-opacity:1;stroke-width:1;stroke-linecap:butt;stroke-linejoin:miter;stroke:rgb(0%,0%,0%);stroke-opacity:1;stroke-miterlimit:10;\" d=\"M 171.078125 88.542969 C 171.078125 93.878906 163.078125 93.878906 163.078125 88.542969 C 163.078125 83.210938 171.078125 83.210938 171.078125 88.542969 \"/>\n",
       "<path style=\"fill-rule:nonzero;fill:rgb(100%,0%,0%);fill-opacity:1;stroke-width:1;stroke-linecap:butt;stroke-linejoin:miter;stroke:rgb(0%,0%,0%);stroke-opacity:1;stroke-miterlimit:10;\" d=\"M 96.390625 210.5 C 96.390625 215.832031 88.390625 215.832031 88.390625 210.5 C 88.390625 205.167969 96.390625 205.167969 96.390625 210.5 \"/>\n",
       "<path style=\"fill-rule:nonzero;fill:rgb(100%,0%,0%);fill-opacity:1;stroke-width:1;stroke-linecap:butt;stroke-linejoin:miter;stroke:rgb(0%,0%,0%);stroke-opacity:1;stroke-miterlimit:10;\" d=\"M 84.839844 233.726562 C 84.839844 239.058594 76.839844 239.058594 76.839844 233.726562 C 76.839844 228.390625 84.839844 228.390625 84.839844 233.726562 \"/>\n",
       "<path style=\"fill-rule:nonzero;fill:rgb(100%,0%,0%);fill-opacity:1;stroke-width:1;stroke-linecap:butt;stroke-linejoin:miter;stroke:rgb(0%,0%,0%);stroke-opacity:1;stroke-miterlimit:10;\" d=\"M 212.96875 171.101562 C 212.96875 176.433594 204.96875 176.433594 204.96875 171.101562 C 204.96875 165.769531 212.96875 165.769531 212.96875 171.101562 \"/>\n",
       "<path style=\"fill-rule:nonzero;fill:rgb(100%,0%,0%);fill-opacity:1;stroke-width:1;stroke-linecap:butt;stroke-linejoin:miter;stroke:rgb(0%,0%,0%);stroke-opacity:1;stroke-miterlimit:10;\" d=\"M 202.585938 203.988281 C 202.585938 209.320312 194.585938 209.320312 194.585938 203.988281 C 194.585938 198.652344 202.585938 198.652344 202.585938 203.988281 \"/>\n",
       "<path style=\"fill-rule:nonzero;fill:rgb(100%,0%,0%);fill-opacity:1;stroke-width:1;stroke-linecap:butt;stroke-linejoin:miter;stroke:rgb(0%,0%,0%);stroke-opacity:1;stroke-miterlimit:10;\" d=\"M 193.285156 140.625 C 193.285156 145.960938 185.285156 145.960938 185.285156 140.625 C 185.285156 135.292969 193.285156 135.292969 193.285156 140.625 \"/>\n",
       "<path style=\"fill-rule:nonzero;fill:rgb(100%,0%,0%);fill-opacity:1;stroke-width:1;stroke-linecap:butt;stroke-linejoin:miter;stroke:rgb(0%,0%,0%);stroke-opacity:1;stroke-miterlimit:10;\" d=\"M 279.59375 121.894531 C 279.59375 127.226562 271.59375 127.226562 271.59375 121.894531 C 271.59375 116.5625 279.59375 116.5625 279.59375 121.894531 \"/>\n",
       "<path style=\"fill-rule:nonzero;fill:rgb(100%,0%,0%);fill-opacity:1;stroke-width:1;stroke-linecap:butt;stroke-linejoin:miter;stroke:rgb(0%,0%,0%);stroke-opacity:1;stroke-miterlimit:10;\" d=\"M 278.417969 110.398438 C 278.417969 115.730469 270.417969 115.730469 270.417969 110.398438 C 270.417969 105.066406 278.417969 105.066406 278.417969 110.398438 \"/>\n",
       "<path style=\"fill-rule:nonzero;fill:rgb(100%,0%,0%);fill-opacity:1;stroke-width:1;stroke-linecap:butt;stroke-linejoin:miter;stroke:rgb(0%,0%,0%);stroke-opacity:1;stroke-miterlimit:10;\" d=\"M 107.707031 265.308594 C 107.707031 270.644531 99.707031 270.644531 99.707031 265.308594 C 99.707031 259.976562 107.707031 259.976562 107.707031 265.308594 \"/>\n",
       "<path style=\"fill-rule:nonzero;fill:rgb(100%,0%,0%);fill-opacity:1;stroke-width:1;stroke-linecap:butt;stroke-linejoin:miter;stroke:rgb(0%,0%,0%);stroke-opacity:1;stroke-miterlimit:10;\" d=\"M 116.464844 230.273438 C 116.464844 235.609375 108.464844 235.609375 108.464844 230.273438 C 108.464844 224.941406 116.464844 224.941406 116.464844 230.273438 \"/>\n",
       "<path style=\"fill-rule:nonzero;fill:rgb(100%,0%,0%);fill-opacity:1;stroke-width:1;stroke-linecap:butt;stroke-linejoin:miter;stroke:rgb(0%,0%,0%);stroke-opacity:1;stroke-miterlimit:10;\" d=\"M 136.238281 131.835938 C 136.238281 137.167969 128.238281 137.167969 128.238281 131.835938 C 128.238281 126.503906 136.238281 126.503906 136.238281 131.835938 \"/>\n",
       "<path style=\"fill-rule:nonzero;fill:rgb(100%,0%,0%);fill-opacity:1;stroke-width:1;stroke-linecap:butt;stroke-linejoin:miter;stroke:rgb(0%,0%,0%);stroke-opacity:1;stroke-miterlimit:10;\" d=\"M 215.277344 231.40625 C 215.277344 236.742188 207.277344 236.742188 207.277344 231.40625 C 207.277344 226.074219 215.277344 226.074219 215.277344 231.40625 \"/>\n",
       "<path style=\"fill-rule:nonzero;fill:rgb(100%,0%,0%);fill-opacity:1;stroke-width:1;stroke-linecap:butt;stroke-linejoin:miter;stroke:rgb(0%,0%,0%);stroke-opacity:1;stroke-miterlimit:10;\" d=\"M 116.066406 191.691406 C 116.066406 197.027344 108.066406 197.027344 108.066406 191.691406 C 108.066406 186.359375 116.066406 186.359375 116.066406 191.691406 \"/>\n",
       "<path style=\"fill-rule:nonzero;fill:rgb(100%,0%,0%);fill-opacity:1;stroke-width:1;stroke-linecap:butt;stroke-linejoin:miter;stroke:rgb(0%,0%,0%);stroke-opacity:1;stroke-miterlimit:10;\" d=\"M 222.941406 218.613281 C 222.941406 223.945312 214.941406 223.945312 214.941406 218.613281 C 214.941406 213.28125 222.941406 213.28125 222.941406 218.613281 \"/>\n",
       "<path style=\"fill-rule:nonzero;fill:rgb(100%,0%,0%);fill-opacity:1;stroke-width:1;stroke-linecap:butt;stroke-linejoin:miter;stroke:rgb(0%,0%,0%);stroke-opacity:1;stroke-miterlimit:10;\" d=\"M 106.988281 188.117188 C 106.988281 193.449219 98.988281 193.449219 98.988281 188.117188 C 98.988281 182.785156 106.988281 182.785156 106.988281 188.117188 \"/>\n",
       "<path style=\"fill-rule:nonzero;fill:rgb(100%,0%,0%);fill-opacity:1;stroke-width:1;stroke-linecap:butt;stroke-linejoin:miter;stroke:rgb(0%,0%,0%);stroke-opacity:1;stroke-miterlimit:10;\" d=\"M 160.144531 58.917969 C 160.144531 64.25 152.144531 64.25 152.144531 58.917969 C 152.144531 53.582031 160.144531 53.582031 160.144531 58.917969 \"/>\n",
       "<path style=\"fill-rule:nonzero;fill:rgb(100%,0%,0%);fill-opacity:1;stroke-width:1;stroke-linecap:butt;stroke-linejoin:miter;stroke:rgb(0%,0%,0%);stroke-opacity:1;stroke-miterlimit:10;\" d=\"M 49.359375 111.90625 C 49.359375 117.238281 41.359375 117.238281 41.359375 111.90625 C 41.359375 106.574219 49.359375 106.574219 49.359375 111.90625 \"/>\n",
       "<path style=\"fill-rule:nonzero;fill:rgb(100%,0%,0%);fill-opacity:1;stroke-width:1;stroke-linecap:butt;stroke-linejoin:miter;stroke:rgb(0%,0%,0%);stroke-opacity:1;stroke-miterlimit:10;\" d=\"M 76.746094 117.558594 C 76.746094 122.894531 68.746094 122.894531 68.746094 117.558594 C 68.746094 112.226562 76.746094 112.226562 76.746094 117.558594 \"/>\n",
       "<path style=\"fill-rule:nonzero;fill:rgb(100%,0%,0%);fill-opacity:1;stroke-width:1;stroke-linecap:butt;stroke-linejoin:miter;stroke:rgb(0%,0%,0%);stroke-opacity:1;stroke-miterlimit:10;\" d=\"M 104.382812 154.554688 C 104.382812 159.886719 96.382812 159.886719 96.382812 154.554688 C 96.382812 149.222656 104.382812 149.222656 104.382812 154.554688 \"/>\n",
       "<path style=\"fill-rule:nonzero;fill:rgb(100%,0%,0%);fill-opacity:1;stroke-width:1;stroke-linecap:butt;stroke-linejoin:miter;stroke:rgb(0%,0%,0%);stroke-opacity:1;stroke-miterlimit:10;\" d=\"M 197.613281 247.339844 C 197.613281 252.675781 189.613281 252.675781 189.613281 247.339844 C 189.613281 242.007812 197.613281 242.007812 197.613281 247.339844 \"/>\n",
       "<path style=\"fill-rule:nonzero;fill:rgb(100%,0%,0%);fill-opacity:1;stroke-width:1;stroke-linecap:butt;stroke-linejoin:miter;stroke:rgb(0%,0%,0%);stroke-opacity:1;stroke-miterlimit:10;\" d=\"M 178.664062 223.402344 C 178.664062 228.734375 170.664062 228.734375 170.664062 223.402344 C 170.664062 218.066406 178.664062 218.066406 178.664062 223.402344 \"/>\n",
       "<path style=\"fill-rule:nonzero;fill:rgb(100%,0%,0%);fill-opacity:1;stroke-width:1;stroke-linecap:butt;stroke-linejoin:miter;stroke:rgb(0%,0%,0%);stroke-opacity:1;stroke-miterlimit:10;\" d=\"M 250.183594 192.324219 C 250.183594 197.660156 242.183594 197.660156 242.183594 192.324219 C 242.183594 186.992188 250.183594 186.992188 250.183594 192.324219 \"/>\n",
       "<path style=\"fill-rule:nonzero;fill:rgb(100%,0%,0%);fill-opacity:1;stroke-width:1;stroke-linecap:butt;stroke-linejoin:miter;stroke:rgb(0%,0%,0%);stroke-opacity:1;stroke-miterlimit:10;\" d=\"M 227.355469 184.46875 C 227.355469 189.800781 219.355469 189.800781 219.355469 184.46875 C 219.355469 179.132812 227.355469 179.132812 227.355469 184.46875 \"/>\n",
       "<path style=\"fill-rule:nonzero;fill:rgb(100%,0%,0%);fill-opacity:1;stroke-width:1;stroke-linecap:butt;stroke-linejoin:miter;stroke:rgb(0%,0%,0%);stroke-opacity:1;stroke-miterlimit:10;\" d=\"M 47.726562 160.941406 C 47.726562 166.273438 39.726562 166.273438 39.726562 160.941406 C 39.726562 155.609375 47.726562 155.609375 47.726562 160.941406 \"/>\n",
       "<path style=\"fill-rule:nonzero;fill:rgb(100%,0%,0%);fill-opacity:1;stroke-width:1;stroke-linecap:butt;stroke-linejoin:miter;stroke:rgb(0%,0%,0%);stroke-opacity:1;stroke-miterlimit:10;\" d=\"M 78.8125 164.492188 C 78.8125 169.824219 70.8125 169.824219 70.8125 164.492188 C 70.8125 159.160156 78.8125 159.160156 78.8125 164.492188 \"/>\n",
       "<path style=\"fill-rule:nonzero;fill:rgb(100%,0%,0%);fill-opacity:1;stroke-width:1;stroke-linecap:butt;stroke-linejoin:miter;stroke:rgb(0%,0%,0%);stroke-opacity:1;stroke-miterlimit:10;\" d=\"M 150.507812 215.523438 C 150.507812 220.859375 142.507812 220.859375 142.507812 215.523438 C 142.507812 210.191406 150.507812 210.191406 150.507812 215.523438 \"/>\n",
       "<path style=\"fill-rule:nonzero;fill:rgb(100%,0%,0%);fill-opacity:1;stroke-width:1;stroke-linecap:butt;stroke-linejoin:miter;stroke:rgb(0%,0%,0%);stroke-opacity:1;stroke-miterlimit:10;\" d=\"M 151.074219 229.015625 C 151.074219 234.347656 143.074219 234.347656 143.074219 229.015625 C 143.074219 223.679688 151.074219 223.679688 151.074219 229.015625 \"/>\n",
       "<path style=\"fill-rule:nonzero;fill:rgb(100%,0%,0%);fill-opacity:1;stroke-width:1;stroke-linecap:butt;stroke-linejoin:miter;stroke:rgb(0%,0%,0%);stroke-opacity:1;stroke-miterlimit:10;\" d=\"M 161.132812 264.210938 C 161.132812 269.542969 153.132812 269.542969 153.132812 264.210938 C 153.132812 258.875 161.132812 258.875 161.132812 264.210938 \"/>\n",
       "<path style=\"fill-rule:nonzero;fill:rgb(100%,0%,0%);fill-opacity:1;stroke-width:1;stroke-linecap:butt;stroke-linejoin:miter;stroke:rgb(0%,0%,0%);stroke-opacity:1;stroke-miterlimit:10;\" d=\"M 154.71875 197.15625 C 154.71875 202.492188 146.71875 202.492188 146.71875 197.15625 C 146.71875 191.824219 154.71875 191.824219 154.71875 197.15625 \"/>\n",
       "<path style=\"fill-rule:nonzero;fill:rgb(100%,0%,0%);fill-opacity:1;stroke-width:1;stroke-linecap:butt;stroke-linejoin:miter;stroke:rgb(0%,0%,0%);stroke-opacity:1;stroke-miterlimit:10;\" d=\"M 178.457031 57.542969 C 178.457031 62.875 170.457031 62.875 170.457031 57.542969 C 170.457031 52.207031 178.457031 52.207031 178.457031 57.542969 \"/>\n",
       "<path style=\"fill-rule:nonzero;fill:rgb(100%,0%,0%);fill-opacity:1;stroke-width:1;stroke-linecap:butt;stroke-linejoin:miter;stroke:rgb(0%,0%,0%);stroke-opacity:1;stroke-miterlimit:10;\" d=\"M 188.910156 55.070312 C 188.910156 60.40625 180.910156 60.40625 180.910156 55.070312 C 180.910156 49.738281 188.910156 49.738281 188.910156 55.070312 \"/>\n",
       "<path style=\"fill-rule:nonzero;fill:rgb(100%,0%,0%);fill-opacity:1;stroke-width:1;stroke-linecap:butt;stroke-linejoin:miter;stroke:rgb(0%,0%,0%);stroke-opacity:1;stroke-miterlimit:10;\" d=\"M 54.375 97.390625 C 54.375 102.722656 46.375 102.722656 46.375 97.390625 C 46.375 92.054688 54.375 92.054688 54.375 97.390625 \"/>\n",
       "<path style=\"fill-rule:nonzero;fill:rgb(100%,0%,0%);fill-opacity:1;stroke-width:1;stroke-linecap:butt;stroke-linejoin:miter;stroke:rgb(0%,0%,0%);stroke-opacity:1;stroke-miterlimit:10;\" d=\"M 51.699219 104.410156 C 51.699219 109.742188 43.699219 109.742188 43.699219 104.410156 C 43.699219 99.078125 51.699219 99.078125 51.699219 104.410156 \"/>\n",
       "<path style=\"fill-rule:nonzero;fill:rgb(100%,0%,0%);fill-opacity:1;stroke-width:1;stroke-linecap:butt;stroke-linejoin:miter;stroke:rgb(0%,0%,0%);stroke-opacity:1;stroke-miterlimit:10;\" d=\"M 61.097656 94.25 C 61.097656 99.582031 53.097656 99.582031 53.097656 94.25 C 53.097656 88.917969 61.097656 88.917969 61.097656 94.25 \"/>\n",
       "<path style=\"fill-rule:nonzero;fill:rgb(100%,0%,0%);fill-opacity:1;stroke-width:1;stroke-linecap:butt;stroke-linejoin:miter;stroke:rgb(0%,0%,0%);stroke-opacity:1;stroke-miterlimit:10;\" d=\"M 155.941406 167.097656 C 155.941406 172.429688 147.941406 172.429688 147.941406 167.097656 C 147.941406 161.761719 155.941406 161.761719 155.941406 167.097656 \"/>\n",
       "<path style=\"fill-rule:nonzero;fill:rgb(100%,0%,0%);fill-opacity:1;stroke-width:1;stroke-linecap:butt;stroke-linejoin:miter;stroke:rgb(0%,0%,0%);stroke-opacity:1;stroke-miterlimit:10;\" d=\"M 175.679688 110.421875 C 175.679688 115.753906 167.679688 115.753906 167.679688 110.421875 C 167.679688 105.089844 175.679688 105.089844 175.679688 110.421875 \"/>\n",
       "<path style=\"fill-rule:nonzero;fill:rgb(100%,0%,0%);fill-opacity:1;stroke-width:1;stroke-linecap:butt;stroke-linejoin:miter;stroke:rgb(0%,0%,0%);stroke-opacity:1;stroke-miterlimit:10;\" d=\"M 215.390625 100.4375 C 215.390625 105.773438 207.390625 105.773438 207.390625 100.4375 C 207.390625 95.105469 215.390625 95.105469 215.390625 100.4375 \"/>\n",
       "<path style=\"fill-rule:nonzero;fill:rgb(100%,0%,0%);fill-opacity:1;stroke-width:1;stroke-linecap:butt;stroke-linejoin:miter;stroke:rgb(0%,0%,0%);stroke-opacity:1;stroke-miterlimit:10;\" d=\"M 101.605469 214.867188 C 101.605469 220.199219 93.605469 220.199219 93.605469 214.867188 C 93.605469 209.535156 101.605469 209.535156 101.605469 214.867188 \"/>\n",
       "<path style=\"fill-rule:nonzero;fill:rgb(100%,0%,0%);fill-opacity:1;stroke-width:1;stroke-linecap:butt;stroke-linejoin:miter;stroke:rgb(0%,0%,0%);stroke-opacity:1;stroke-miterlimit:10;\" d=\"M 99.144531 222.96875 C 99.144531 228.300781 91.144531 228.300781 91.144531 222.96875 C 91.144531 217.636719 99.144531 217.636719 99.144531 222.96875 \"/>\n",
       "<path style=\"fill-rule:nonzero;fill:rgb(100%,0%,0%);fill-opacity:1;stroke-width:1;stroke-linecap:butt;stroke-linejoin:miter;stroke:rgb(0%,0%,0%);stroke-opacity:1;stroke-miterlimit:10;\" d=\"M 116.585938 217.0625 C 116.585938 222.394531 108.585938 222.394531 108.585938 217.0625 C 108.585938 211.730469 116.585938 211.730469 116.585938 217.0625 \"/>\n",
       "<path style=\"fill-rule:nonzero;fill:rgb(100%,0%,0%);fill-opacity:1;stroke-width:1;stroke-linecap:butt;stroke-linejoin:miter;stroke:rgb(0%,0%,0%);stroke-opacity:1;stroke-miterlimit:10;\" d=\"M 180.40625 27.910156 C 180.40625 33.242188 172.40625 33.242188 172.40625 27.910156 C 172.40625 22.578125 180.40625 22.578125 180.40625 27.910156 \"/>\n",
       "<path style=\"fill-rule:nonzero;fill:rgb(100%,0%,0%);fill-opacity:1;stroke-width:1;stroke-linecap:butt;stroke-linejoin:miter;stroke:rgb(0%,0%,0%);stroke-opacity:1;stroke-miterlimit:10;\" d=\"M 172.296875 181.503906 C 172.296875 186.835938 164.296875 186.835938 164.296875 181.503906 C 164.296875 176.171875 172.296875 176.171875 172.296875 181.503906 \"/>\n",
       "<path style=\"fill-rule:nonzero;fill:rgb(100%,0%,0%);fill-opacity:1;stroke-width:1;stroke-linecap:butt;stroke-linejoin:miter;stroke:rgb(0%,0%,0%);stroke-opacity:1;stroke-miterlimit:10;\" d=\"M 115.460938 45.855469 C 115.460938 51.1875 107.460938 51.1875 107.460938 45.855469 C 107.460938 40.523438 115.460938 40.523438 115.460938 45.855469 \"/>\n",
       "<path style=\"fill-rule:nonzero;fill:rgb(100%,0%,0%);fill-opacity:1;stroke-width:1;stroke-linecap:butt;stroke-linejoin:miter;stroke:rgb(0%,0%,0%);stroke-opacity:1;stroke-miterlimit:10;\" d=\"M 116.214844 81.414062 C 116.214844 86.746094 108.214844 86.746094 108.214844 81.414062 C 108.214844 76.078125 116.214844 76.078125 116.214844 81.414062 \"/>\n",
       "<path style=\"fill-rule:nonzero;fill:rgb(100%,0%,0%);fill-opacity:1;stroke-width:1;stroke-linecap:butt;stroke-linejoin:miter;stroke:rgb(0%,0%,0%);stroke-opacity:1;stroke-miterlimit:10;\" d=\"M 130.167969 124.476562 C 130.167969 129.808594 122.167969 129.808594 122.167969 124.476562 C 122.167969 119.140625 130.167969 119.140625 130.167969 124.476562 \"/>\n",
       "<path style=\"fill-rule:nonzero;fill:rgb(100%,0%,0%);fill-opacity:1;stroke-width:1;stroke-linecap:butt;stroke-linejoin:miter;stroke:rgb(0%,0%,0%);stroke-opacity:1;stroke-miterlimit:10;\" d=\"M 135.789062 123.546875 C 135.789062 128.878906 127.789062 128.878906 127.789062 123.546875 C 127.789062 118.210938 135.789062 118.210938 135.789062 123.546875 \"/>\n",
       "<path style=\"fill-rule:nonzero;fill:rgb(100%,0%,0%);fill-opacity:1;stroke-width:1;stroke-linecap:butt;stroke-linejoin:miter;stroke:rgb(0%,0%,0%);stroke-opacity:1;stroke-miterlimit:10;\" d=\"M 161.265625 190.105469 C 161.265625 195.4375 153.265625 195.4375 153.265625 190.105469 C 153.265625 184.769531 161.265625 184.769531 161.265625 190.105469 \"/>\n",
       "<path style=\"fill-rule:nonzero;fill:rgb(100%,0%,0%);fill-opacity:1;stroke-width:1;stroke-linecap:butt;stroke-linejoin:miter;stroke:rgb(0%,0%,0%);stroke-opacity:1;stroke-miterlimit:10;\" d=\"M 134.273438 186.414062 C 134.273438 191.746094 126.273438 191.746094 126.273438 186.414062 C 126.273438 181.082031 134.273438 181.082031 134.273438 186.414062 \"/>\n",
       "<path style=\"fill-rule:nonzero;fill:rgb(100%,0%,0%);fill-opacity:1;stroke-width:1;stroke-linecap:butt;stroke-linejoin:miter;stroke:rgb(0%,0%,0%);stroke-opacity:1;stroke-miterlimit:10;\" d=\"M 83.953125 198.152344 C 83.953125 203.484375 75.953125 203.484375 75.953125 198.152344 C 75.953125 192.820312 83.953125 192.820312 83.953125 198.152344 \"/>\n",
       "<path style=\"fill-rule:nonzero;fill:rgb(100%,0%,0%);fill-opacity:1;stroke-width:1;stroke-linecap:butt;stroke-linejoin:miter;stroke:rgb(0%,0%,0%);stroke-opacity:1;stroke-miterlimit:10;\" d=\"M 56.46875 214.53125 C 56.46875 219.867188 48.46875 219.867188 48.46875 214.53125 C 48.46875 209.199219 56.46875 209.199219 56.46875 214.53125 \"/>\n",
       "<path style=\"fill-rule:nonzero;fill:rgb(100%,0%,0%);fill-opacity:1;stroke-width:1;stroke-linecap:butt;stroke-linejoin:miter;stroke:rgb(0%,0%,0%);stroke-opacity:1;stroke-miterlimit:10;\" d=\"M 226.539062 34.429688 C 226.539062 39.761719 218.539062 39.761719 218.539062 34.429688 C 218.539062 29.097656 226.539062 29.097656 226.539062 34.429688 \"/>\n",
       "<path style=\"fill-rule:nonzero;fill:rgb(100%,0%,0%);fill-opacity:1;stroke-width:1;stroke-linecap:butt;stroke-linejoin:miter;stroke:rgb(0%,0%,0%);stroke-opacity:1;stroke-miterlimit:10;\" d=\"M 212.4375 49.703125 C 212.4375 55.035156 204.4375 55.035156 204.4375 49.703125 C 204.4375 44.367188 212.4375 44.367188 212.4375 49.703125 \"/>\n",
       "<path style=\"fill-rule:nonzero;fill:rgb(100%,0%,0%);fill-opacity:1;stroke-width:1;stroke-linecap:butt;stroke-linejoin:miter;stroke:rgb(0%,0%,0%);stroke-opacity:1;stroke-miterlimit:10;\" d=\"M 43.230469 182.625 C 43.230469 187.957031 35.230469 187.957031 35.230469 182.625 C 35.230469 177.292969 43.230469 177.292969 43.230469 182.625 \"/>\n",
       "<path style=\"fill-rule:nonzero;fill:rgb(100%,0%,0%);fill-opacity:1;stroke-width:1;stroke-linecap:butt;stroke-linejoin:miter;stroke:rgb(0%,0%,0%);stroke-opacity:1;stroke-miterlimit:10;\" d=\"M 24 182.382812 C 24 187.714844 16 187.714844 16 182.382812 C 16 177.050781 24 177.050781 24 182.382812 \"/>\n",
       "<path style=\"fill-rule:nonzero;fill:rgb(100%,0%,0%);fill-opacity:1;stroke-width:1;stroke-linecap:butt;stroke-linejoin:miter;stroke:rgb(0%,0%,0%);stroke-opacity:1;stroke-miterlimit:10;\" d=\"M 77.375 178.816406 C 77.375 184.152344 69.375 184.152344 69.375 178.816406 C 69.375 173.484375 77.375 173.484375 77.375 178.816406 \"/>\n",
       "<path style=\"fill-rule:nonzero;fill:rgb(100%,0%,0%);fill-opacity:1;stroke-width:1;stroke-linecap:butt;stroke-linejoin:miter;stroke:rgb(0%,0%,0%);stroke-opacity:1;stroke-miterlimit:10;\" d=\"M 200.808594 72.890625 C 200.808594 78.226562 192.808594 78.226562 192.808594 72.890625 C 192.808594 67.558594 200.808594 67.558594 200.808594 72.890625 \"/>\n",
       "<path style=\"fill-rule:nonzero;fill:rgb(100%,0%,0%);fill-opacity:1;stroke-width:1;stroke-linecap:butt;stroke-linejoin:miter;stroke:rgb(0%,0%,0%);stroke-opacity:1;stroke-miterlimit:10;\" d=\"M 213.878906 75.660156 C 213.878906 80.996094 205.878906 80.996094 205.878906 75.660156 C 205.878906 70.328125 213.878906 70.328125 213.878906 75.660156 \"/>\n",
       "<path style=\"fill-rule:nonzero;fill:rgb(100%,0%,0%);fill-opacity:1;stroke-width:1;stroke-linecap:butt;stroke-linejoin:miter;stroke:rgb(0%,0%,0%);stroke-opacity:1;stroke-miterlimit:10;\" d=\"M 191.355469 85.558594 C 191.355469 90.890625 183.355469 90.890625 183.355469 85.558594 C 183.355469 80.226562 191.355469 80.226562 191.355469 85.558594 \"/>\n",
       "<path style=\"fill-rule:nonzero;fill:rgb(100%,0%,0%);fill-opacity:1;stroke-width:1;stroke-linecap:butt;stroke-linejoin:miter;stroke:rgb(0%,0%,0%);stroke-opacity:1;stroke-miterlimit:10;\" d=\"M 224.402344 55.515625 C 224.402344 60.851562 216.402344 60.851562 216.402344 55.515625 C 216.402344 50.183594 224.402344 50.183594 224.402344 55.515625 \"/>\n",
       "<path style=\"fill-rule:nonzero;fill:rgb(100%,0%,0%);fill-opacity:1;stroke-width:1;stroke-linecap:butt;stroke-linejoin:miter;stroke:rgb(0%,0%,0%);stroke-opacity:1;stroke-miterlimit:10;\" d=\"M 186.636719 101.582031 C 186.636719 106.914062 178.636719 106.914062 178.636719 101.582031 C 178.636719 96.246094 186.636719 96.246094 186.636719 101.582031 \"/>\n",
       "<path style=\"fill-rule:nonzero;fill:rgb(100%,0%,0%);fill-opacity:1;stroke-width:1;stroke-linecap:butt;stroke-linejoin:miter;stroke:rgb(0%,0%,0%);stroke-opacity:1;stroke-miterlimit:10;\" d=\"M 161.566406 118.820312 C 161.566406 124.15625 153.566406 124.15625 153.566406 118.820312 C 153.566406 113.488281 161.566406 113.488281 161.566406 118.820312 \"/>\n",
       "<path style=\"fill-rule:nonzero;fill:rgb(100%,0%,0%);fill-opacity:1;stroke-width:1;stroke-linecap:butt;stroke-linejoin:miter;stroke:rgb(0%,0%,0%);stroke-opacity:1;stroke-miterlimit:10;\" d=\"M 187.222656 70.042969 C 187.222656 75.378906 179.222656 75.378906 179.222656 70.042969 C 179.222656 64.710938 187.222656 64.710938 187.222656 70.042969 \"/>\n",
       "<path style=\"fill-rule:nonzero;fill:rgb(100%,0%,0%);fill-opacity:1;stroke-width:1;stroke-linecap:butt;stroke-linejoin:miter;stroke:rgb(0%,0%,0%);stroke-opacity:1;stroke-miterlimit:10;\" d=\"M 166.730469 56.296875 C 166.730469 61.628906 158.730469 61.628906 158.730469 56.296875 C 158.730469 50.960938 166.730469 50.960938 166.730469 56.296875 \"/>\n",
       "<path style=\"fill-rule:nonzero;fill:rgb(100%,0%,0%);fill-opacity:1;stroke-width:1;stroke-linecap:butt;stroke-linejoin:miter;stroke:rgb(0%,0%,0%);stroke-opacity:1;stroke-miterlimit:10;\" d=\"M 167.257812 123.214844 C 167.257812 128.546875 159.257812 128.546875 159.257812 123.214844 C 159.257812 117.878906 167.257812 117.878906 167.257812 123.214844 \"/>\n",
       "<path style=\"fill-rule:nonzero;fill:rgb(100%,0%,0%);fill-opacity:1;stroke-width:1;stroke-linecap:butt;stroke-linejoin:miter;stroke:rgb(0%,0%,0%);stroke-opacity:1;stroke-miterlimit:10;\" d=\"M 171.066406 63.703125 C 171.066406 69.035156 163.066406 69.035156 163.066406 63.703125 C 163.066406 58.371094 171.066406 58.371094 171.066406 63.703125 \"/>\n",
       "<path style=\"fill-rule:nonzero;fill:rgb(100%,0%,0%);fill-opacity:1;stroke-width:1;stroke-linecap:butt;stroke-linejoin:miter;stroke:rgb(0%,0%,0%);stroke-opacity:1;stroke-miterlimit:10;\" d=\"M 183.257812 63.023438 C 183.257812 68.359375 175.257812 68.359375 175.257812 63.023438 C 175.257812 57.691406 183.257812 57.691406 183.257812 63.023438 \"/>\n",
       "<path style=\"fill-rule:nonzero;fill:rgb(100%,0%,0%);fill-opacity:1;stroke-width:1;stroke-linecap:butt;stroke-linejoin:miter;stroke:rgb(0%,0%,0%);stroke-opacity:1;stroke-miterlimit:10;\" d=\"M 172.496094 46.859375 C 172.496094 52.195312 164.496094 52.195312 164.496094 46.859375 C 164.496094 41.527344 172.496094 41.527344 172.496094 46.859375 \"/>\n",
       "<path style=\"fill-rule:nonzero;fill:rgb(100%,0%,0%);fill-opacity:1;stroke-width:1;stroke-linecap:butt;stroke-linejoin:miter;stroke:rgb(0%,0%,0%);stroke-opacity:1;stroke-miterlimit:10;\" d=\"M 125.890625 192.964844 C 125.890625 198.300781 117.890625 198.300781 117.890625 192.964844 C 117.890625 187.632812 125.890625 187.632812 125.890625 192.964844 \"/>\n",
       "<path style=\"fill-rule:nonzero;fill:rgb(100%,0%,0%);fill-opacity:1;stroke-width:1;stroke-linecap:butt;stroke-linejoin:miter;stroke:rgb(0%,0%,0%);stroke-opacity:1;stroke-miterlimit:10;\" d=\"M 114.164062 54.734375 C 114.164062 60.070312 106.164062 60.070312 106.164062 54.734375 C 106.164062 49.402344 114.164062 49.402344 114.164062 54.734375 \"/>\n",
       "<path style=\"fill-rule:nonzero;fill:rgb(100%,0%,0%);fill-opacity:1;stroke-width:1;stroke-linecap:butt;stroke-linejoin:miter;stroke:rgb(0%,0%,0%);stroke-opacity:1;stroke-miterlimit:10;\" d=\"M 94.484375 64.070312 C 94.484375 69.402344 86.484375 69.402344 86.484375 64.070312 C 86.484375 58.738281 94.484375 58.738281 94.484375 64.070312 \"/>\n",
       "<path style=\"fill-rule:nonzero;fill:rgb(100%,0%,0%);fill-opacity:1;stroke-width:1;stroke-linecap:butt;stroke-linejoin:miter;stroke:rgb(0%,0%,0%);stroke-opacity:1;stroke-miterlimit:10;\" d=\"M 150.5 75.230469 C 150.5 80.5625 142.5 80.5625 142.5 75.230469 C 142.5 69.898438 150.5 69.898438 150.5 75.230469 \"/>\n",
       "<path style=\"fill-rule:nonzero;fill:rgb(100%,0%,0%);fill-opacity:1;stroke-width:1;stroke-linecap:butt;stroke-linejoin:miter;stroke:rgb(0%,0%,0%);stroke-opacity:1;stroke-miterlimit:10;\" d=\"M 98.375 56.574219 C 98.375 61.90625 90.375 61.90625 90.375 56.574219 C 90.375 51.238281 98.375 51.238281 98.375 56.574219 \"/>\n",
       "<path style=\"fill-rule:nonzero;fill:rgb(100%,0%,0%);fill-opacity:1;stroke-width:1;stroke-linecap:butt;stroke-linejoin:miter;stroke:rgb(0%,0%,0%);stroke-opacity:1;stroke-miterlimit:10;\" d=\"M 107.277344 49.128906 C 107.277344 54.464844 99.277344 54.464844 99.277344 49.128906 C 99.277344 43.796875 107.277344 43.796875 107.277344 49.128906 \"/>\n",
       "<path style=\"fill-rule:nonzero;fill:rgb(100%,0%,0%);fill-opacity:1;stroke-width:1;stroke-linecap:butt;stroke-linejoin:miter;stroke:rgb(0%,0%,0%);stroke-opacity:1;stroke-miterlimit:10;\" d=\"M 96.003906 43.707031 C 96.003906 49.042969 88.003906 49.042969 88.003906 43.707031 C 88.003906 38.375 96.003906 38.375 96.003906 43.707031 \"/>\n",
       "<path style=\"fill-rule:nonzero;fill:rgb(100%,0%,0%);fill-opacity:1;stroke-width:1;stroke-linecap:butt;stroke-linejoin:miter;stroke:rgb(0%,0%,0%);stroke-opacity:1;stroke-miterlimit:10;\" d=\"M 122.171875 50.699219 C 122.171875 56.03125 114.171875 56.03125 114.171875 50.699219 C 114.171875 45.363281 122.171875 45.363281 122.171875 50.699219 \"/>\n",
       "<path style=\"fill-rule:nonzero;fill:rgb(100%,0%,0%);fill-opacity:1;stroke-width:1;stroke-linecap:butt;stroke-linejoin:miter;stroke:rgb(0%,0%,0%);stroke-opacity:1;stroke-miterlimit:10;\" d=\"M 105.351562 58.628906 C 105.351562 63.960938 97.351562 63.960938 97.351562 58.628906 C 97.351562 53.296875 105.351562 53.296875 105.351562 58.628906 \"/>\n",
       "<path style=\"fill-rule:nonzero;fill:rgb(100%,0%,0%);fill-opacity:1;stroke-width:1;stroke-linecap:butt;stroke-linejoin:miter;stroke:rgb(0%,0%,0%);stroke-opacity:1;stroke-miterlimit:10;\" d=\"M 120.523438 113.136719 C 120.523438 118.472656 112.523438 118.472656 112.523438 113.136719 C 112.523438 107.804688 120.523438 107.804688 120.523438 113.136719 \"/>\n",
       "<path style=\"fill-rule:nonzero;fill:rgb(100%,0%,0%);fill-opacity:1;stroke-width:1;stroke-linecap:butt;stroke-linejoin:miter;stroke:rgb(0%,0%,0%);stroke-opacity:1;stroke-miterlimit:10;\" d=\"M 123.761719 123.585938 C 123.761719 128.921875 115.761719 128.921875 115.761719 123.585938 C 115.761719 118.253906 123.761719 118.253906 123.761719 123.585938 \"/>\n",
       "<path style=\"fill-rule:nonzero;fill:rgb(100%,0%,0%);fill-opacity:1;stroke-width:1;stroke-linecap:butt;stroke-linejoin:miter;stroke:rgb(0%,0%,0%);stroke-opacity:1;stroke-miterlimit:10;\" d=\"M 246.902344 164.253906 C 246.902344 169.585938 238.902344 169.585938 238.902344 164.253906 C 238.902344 158.917969 246.902344 158.917969 246.902344 164.253906 \"/>\n",
       "<path style=\"fill-rule:nonzero;fill:rgb(100%,0%,0%);fill-opacity:1;stroke-width:1;stroke-linecap:butt;stroke-linejoin:miter;stroke:rgb(0%,0%,0%);stroke-opacity:1;stroke-miterlimit:10;\" d=\"M 264.664062 161.734375 C 264.664062 167.066406 256.664062 167.066406 256.664062 161.734375 C 256.664062 156.398438 264.664062 156.398438 264.664062 161.734375 \"/>\n",
       "<path style=\"fill-rule:nonzero;fill:rgb(100%,0%,0%);fill-opacity:1;stroke-width:1;stroke-linecap:butt;stroke-linejoin:miter;stroke:rgb(0%,0%,0%);stroke-opacity:1;stroke-miterlimit:10;\" d=\"M 101.382812 181.949219 C 101.382812 187.28125 93.382812 187.28125 93.382812 181.949219 C 93.382812 176.613281 101.382812 176.613281 101.382812 181.949219 \"/>\n",
       "<path style=\"fill-rule:nonzero;fill:rgb(100%,0%,0%);fill-opacity:1;stroke-width:1;stroke-linecap:butt;stroke-linejoin:miter;stroke:rgb(0%,0%,0%);stroke-opacity:1;stroke-miterlimit:10;\" d=\"M 89 180.792969 C 89 186.125 81 186.125 81 180.792969 C 81 175.457031 89 175.457031 89 180.792969 \"/>\n",
       "<path style=\"fill-rule:nonzero;fill:rgb(100%,0%,0%);fill-opacity:1;stroke-width:1;stroke-linecap:butt;stroke-linejoin:miter;stroke:rgb(0%,0%,0%);stroke-opacity:1;stroke-miterlimit:10;\" d=\"M 195.410156 24.964844 C 195.410156 30.300781 187.410156 30.300781 187.410156 24.964844 C 187.410156 19.632812 195.410156 19.632812 195.410156 24.964844 \"/>\n",
       "<path style=\"fill-rule:nonzero;fill:rgb(100%,0%,0%);fill-opacity:1;stroke-width:1;stroke-linecap:butt;stroke-linejoin:miter;stroke:rgb(0%,0%,0%);stroke-opacity:1;stroke-miterlimit:10;\" d=\"M 150.121094 130.414062 C 150.121094 135.746094 142.121094 135.746094 142.121094 130.414062 C 142.121094 125.078125 150.121094 125.078125 150.121094 130.414062 \"/>\n",
       "<path style=\"fill-rule:nonzero;fill:rgb(100%,0%,0%);fill-opacity:1;stroke-width:1;stroke-linecap:butt;stroke-linejoin:miter;stroke:rgb(0%,0%,0%);stroke-opacity:1;stroke-miterlimit:10;\" d=\"M 123.074219 219.015625 C 123.074219 224.347656 115.074219 224.347656 115.074219 219.015625 C 115.074219 213.683594 123.074219 213.683594 123.074219 219.015625 \"/>\n",
       "<path style=\"fill-rule:nonzero;fill:rgb(100%,0%,0%);fill-opacity:1;stroke-width:1;stroke-linecap:butt;stroke-linejoin:miter;stroke:rgb(0%,0%,0%);stroke-opacity:1;stroke-miterlimit:10;\" d=\"M 173.648438 164.351562 C 173.648438 169.683594 165.648438 169.683594 165.648438 164.351562 C 165.648438 159.019531 173.648438 159.019531 173.648438 164.351562 \"/>\n",
       "<path style=\"fill-rule:nonzero;fill:rgb(100%,0%,0%);fill-opacity:1;stroke-width:1;stroke-linecap:butt;stroke-linejoin:miter;stroke:rgb(0%,0%,0%);stroke-opacity:1;stroke-miterlimit:10;\" d=\"M 255.601562 220.34375 C 255.601562 225.675781 247.601562 225.675781 247.601562 220.34375 C 247.601562 215.007812 255.601562 215.007812 255.601562 220.34375 \"/>\n",
       "<path style=\"fill-rule:nonzero;fill:rgb(100%,0%,0%);fill-opacity:1;stroke-width:1;stroke-linecap:butt;stroke-linejoin:miter;stroke:rgb(0%,0%,0%);stroke-opacity:1;stroke-miterlimit:10;\" d=\"M 235.910156 214.925781 C 235.910156 220.257812 227.910156 220.257812 227.910156 214.925781 C 227.910156 209.589844 235.910156 209.589844 235.910156 214.925781 \"/>\n",
       "<path style=\"fill-rule:nonzero;fill:rgb(100%,0%,0%);fill-opacity:1;stroke-width:1;stroke-linecap:butt;stroke-linejoin:miter;stroke:rgb(0%,0%,0%);stroke-opacity:1;stroke-miterlimit:10;\" d=\"M 95.878906 174.132812 C 95.878906 179.46875 87.878906 179.46875 87.878906 174.132812 C 87.878906 168.800781 95.878906 168.800781 95.878906 174.132812 \"/>\n",
       "<path style=\"fill-rule:nonzero;fill:rgb(100%,0%,0%);fill-opacity:1;stroke-width:1;stroke-linecap:butt;stroke-linejoin:miter;stroke:rgb(0%,0%,0%);stroke-opacity:1;stroke-miterlimit:10;\" d=\"M 117.1875 151.433594 C 117.1875 156.765625 109.1875 156.765625 109.1875 151.433594 C 109.1875 146.101562 117.1875 146.101562 117.1875 151.433594 \"/>\n",
       "<path style=\"fill-rule:nonzero;fill:rgb(100%,0%,0%);fill-opacity:1;stroke-width:1;stroke-linecap:butt;stroke-linejoin:miter;stroke:rgb(0%,0%,0%);stroke-opacity:1;stroke-miterlimit:10;\" d=\"M 140.089844 204.585938 C 140.089844 209.917969 132.089844 209.917969 132.089844 204.585938 C 132.089844 199.253906 140.089844 199.253906 140.089844 204.585938 \"/>\n",
       "<path style=\"fill-rule:nonzero;fill:rgb(100%,0%,0%);fill-opacity:1;stroke-width:1;stroke-linecap:butt;stroke-linejoin:miter;stroke:rgb(0%,0%,0%);stroke-opacity:1;stroke-miterlimit:10;\" d=\"M 117.164062 125.480469 C 117.164062 130.8125 109.164062 130.8125 109.164062 125.480469 C 109.164062 120.148438 117.164062 120.148438 117.164062 125.480469 \"/>\n",
       "<path style=\"fill-rule:nonzero;fill:rgb(100%,0%,0%);fill-opacity:1;stroke-width:1;stroke-linecap:butt;stroke-linejoin:miter;stroke:rgb(0%,0%,0%);stroke-opacity:1;stroke-miterlimit:10;\" d=\"M 90.75 157.179688 C 90.75 162.511719 82.75 162.511719 82.75 157.179688 C 82.75 151.84375 90.75 151.84375 90.75 157.179688 \"/>\n",
       "<path style=\"fill-rule:nonzero;fill:rgb(100%,0%,0%);fill-opacity:1;stroke-width:1;stroke-linecap:butt;stroke-linejoin:miter;stroke:rgb(0%,0%,0%);stroke-opacity:1;stroke-miterlimit:10;\" d=\"M 107.1875 206.113281 C 107.1875 211.445312 99.1875 211.445312 99.1875 206.113281 C 99.1875 200.78125 107.1875 200.78125 107.1875 206.113281 \"/>\n",
       "<path style=\"fill-rule:nonzero;fill:rgb(100%,0%,0%);fill-opacity:1;stroke-width:1;stroke-linecap:butt;stroke-linejoin:miter;stroke:rgb(0%,0%,0%);stroke-opacity:1;stroke-miterlimit:10;\" d=\"M 96.972656 165.496094 C 96.972656 170.828125 88.972656 170.828125 88.972656 165.496094 C 88.972656 160.160156 96.972656 160.160156 96.972656 165.496094 \"/>\n",
       "<path style=\"fill-rule:nonzero;fill:rgb(100%,0%,0%);fill-opacity:1;stroke-width:1;stroke-linecap:butt;stroke-linejoin:miter;stroke:rgb(0%,0%,0%);stroke-opacity:1;stroke-miterlimit:10;\" d=\"M 124.359375 143.058594 C 124.359375 148.390625 116.359375 148.390625 116.359375 143.058594 C 116.359375 137.722656 124.359375 137.722656 124.359375 143.058594 \"/>\n",
       "<path style=\"fill-rule:nonzero;fill:rgb(100%,0%,0%);fill-opacity:1;stroke-width:1;stroke-linecap:butt;stroke-linejoin:miter;stroke:rgb(0%,0%,0%);stroke-opacity:1;stroke-miterlimit:10;\" d=\"M 92.851562 149.089844 C 92.851562 154.425781 84.851562 154.425781 84.851562 149.089844 C 84.851562 143.757812 92.851562 143.757812 92.851562 149.089844 \"/>\n",
       "<path style=\"fill-rule:nonzero;fill:rgb(100%,0%,0%);fill-opacity:1;stroke-width:1;stroke-linecap:butt;stroke-linejoin:miter;stroke:rgb(0%,0%,0%);stroke-opacity:1;stroke-miterlimit:10;\" d=\"M 117.347656 133.847656 C 117.347656 139.179688 109.347656 139.179688 109.347656 133.847656 C 109.347656 128.511719 117.347656 128.511719 117.347656 133.847656 \"/>\n",
       "<path style=\"fill-rule:nonzero;fill:rgb(100%,0%,0%);fill-opacity:1;stroke-width:1;stroke-linecap:butt;stroke-linejoin:miter;stroke:rgb(0%,0%,0%);stroke-opacity:1;stroke-miterlimit:10;\" d=\"M 99.4375 191.269531 C 99.4375 196.605469 91.4375 196.605469 91.4375 191.269531 C 91.4375 185.9375 99.4375 185.9375 99.4375 191.269531 \"/>\n",
       "<path style=\"fill-rule:nonzero;fill:rgb(100%,0%,0%);fill-opacity:1;stroke-width:1;stroke-linecap:butt;stroke-linejoin:miter;stroke:rgb(0%,0%,0%);stroke-opacity:1;stroke-miterlimit:10;\" d=\"M 145.179688 166.371094 C 145.179688 171.707031 137.179688 171.707031 137.179688 166.371094 C 137.179688 161.039062 145.179688 161.039062 145.179688 166.371094 \"/>\n",
       "<path style=\"fill-rule:nonzero;fill:rgb(100%,0%,0%);fill-opacity:1;stroke-width:1;stroke-linecap:butt;stroke-linejoin:miter;stroke:rgb(0%,0%,0%);stroke-opacity:1;stroke-miterlimit:10;\" d=\"M 122.089844 181.574219 C 122.089844 186.90625 114.089844 186.90625 114.089844 181.574219 C 114.089844 176.242188 122.089844 176.242188 122.089844 181.574219 \"/>\n",
       "<path style=\"fill-rule:nonzero;fill:rgb(100%,0%,0%);fill-opacity:1;stroke-width:1;stroke-linecap:butt;stroke-linejoin:miter;stroke:rgb(0%,0%,0%);stroke-opacity:1;stroke-miterlimit:10;\" d=\"M 150.113281 204.71875 C 150.113281 210.050781 142.113281 210.050781 142.113281 204.71875 C 142.113281 199.382812 150.113281 199.382812 150.113281 204.71875 \"/>\n",
       "<path style=\"fill-rule:nonzero;fill:rgb(100%,0%,0%);fill-opacity:1;stroke-width:1;stroke-linecap:butt;stroke-linejoin:miter;stroke:rgb(0%,0%,0%);stroke-opacity:1;stroke-miterlimit:10;\" d=\"M 120.34375 164.214844 C 120.34375 169.546875 112.34375 169.546875 112.34375 164.214844 C 112.34375 158.878906 120.34375 158.878906 120.34375 164.214844 \"/>\n",
       "<path style=\"fill-rule:nonzero;fill:rgb(100%,0%,0%);fill-opacity:1;stroke-width:1;stroke-linecap:butt;stroke-linejoin:miter;stroke:rgb(0%,0%,0%);stroke-opacity:1;stroke-miterlimit:10;\" d=\"M 106.394531 196.457031 C 106.394531 201.792969 98.394531 201.792969 98.394531 196.457031 C 98.394531 191.125 106.394531 191.125 106.394531 196.457031 \"/>\n",
       "<path style=\"fill-rule:nonzero;fill:rgb(100%,0%,0%);fill-opacity:1;stroke-width:1;stroke-linecap:butt;stroke-linejoin:miter;stroke:rgb(0%,0%,0%);stroke-opacity:1;stroke-miterlimit:10;\" d=\"M 81.363281 150.402344 C 81.363281 155.734375 73.363281 155.734375 73.363281 150.402344 C 73.363281 145.066406 81.363281 145.066406 81.363281 150.402344 \"/>\n",
       "<path style=\"fill-rule:nonzero;fill:rgb(100%,0%,0%);fill-opacity:1;stroke-width:1;stroke-linecap:butt;stroke-linejoin:miter;stroke:rgb(0%,0%,0%);stroke-opacity:1;stroke-miterlimit:10;\" d=\"M 145.390625 210.414062 C 145.390625 215.746094 137.390625 215.746094 137.390625 210.414062 C 137.390625 205.082031 145.390625 205.082031 145.390625 210.414062 \"/>\n",
       "<path style=\"fill-rule:nonzero;fill:rgb(100%,0%,0%);fill-opacity:1;stroke-width:1;stroke-linecap:butt;stroke-linejoin:miter;stroke:rgb(0%,0%,0%);stroke-opacity:1;stroke-miterlimit:10;\" d=\"M 137.242188 212.21875 C 137.242188 217.550781 129.242188 217.550781 129.242188 212.21875 C 129.242188 206.886719 137.242188 206.886719 137.242188 212.21875 \"/>\n",
       "<path style=\"fill-rule:nonzero;fill:rgb(100%,0%,0%);fill-opacity:1;stroke-width:1;stroke-linecap:butt;stroke-linejoin:miter;stroke:rgb(0%,0%,0%);stroke-opacity:1;stroke-miterlimit:10;\" d=\"M 95.425781 197.546875 C 95.425781 202.878906 87.425781 202.878906 87.425781 197.546875 C 87.425781 192.214844 95.425781 192.214844 95.425781 197.546875 \"/>\n",
       "<path style=\"fill-rule:nonzero;fill:rgb(100%,0%,0%);fill-opacity:1;stroke-width:1;stroke-linecap:butt;stroke-linejoin:miter;stroke:rgb(0%,0%,0%);stroke-opacity:1;stroke-miterlimit:10;\" d=\"M 156.726562 213.007812 C 156.726562 218.339844 148.726562 218.339844 148.726562 213.007812 C 148.726562 207.675781 156.726562 207.675781 156.726562 213.007812 \"/>\n",
       "<path style=\"fill-rule:nonzero;fill:rgb(100%,0%,0%);fill-opacity:1;stroke-width:1;stroke-linecap:butt;stroke-linejoin:miter;stroke:rgb(0%,0%,0%);stroke-opacity:1;stroke-miterlimit:10;\" d=\"M 130.269531 136.902344 C 130.269531 142.238281 122.269531 142.238281 122.269531 136.902344 C 122.269531 131.570312 130.269531 131.570312 130.269531 136.902344 \"/>\n",
       "<path style=\"fill-rule:nonzero;fill:rgb(100%,0%,0%);fill-opacity:1;stroke-width:1;stroke-linecap:butt;stroke-linejoin:miter;stroke:rgb(0%,0%,0%);stroke-opacity:1;stroke-miterlimit:10;\" d=\"M 110.886719 126.199219 C 110.886719 131.53125 102.886719 131.53125 102.886719 126.199219 C 102.886719 120.867188 110.886719 120.867188 110.886719 126.199219 \"/>\n",
       "<path style=\"fill-rule:nonzero;fill:rgb(100%,0%,0%);fill-opacity:1;stroke-width:1;stroke-linecap:butt;stroke-linejoin:miter;stroke:rgb(0%,0%,0%);stroke-opacity:1;stroke-miterlimit:10;\" d=\"M 146.910156 154.460938 C 146.910156 159.792969 138.910156 159.792969 138.910156 154.460938 C 138.910156 149.128906 146.910156 149.128906 146.910156 154.460938 \"/>\n",
       "<path style=\"fill-rule:nonzero;fill:rgb(100%,0%,0%);fill-opacity:1;stroke-width:1;stroke-linecap:butt;stroke-linejoin:miter;stroke:rgb(0%,0%,0%);stroke-opacity:1;stroke-miterlimit:10;\" d=\"M 130.300781 211.511719 C 130.300781 216.847656 122.300781 216.847656 122.300781 211.511719 C 122.300781 206.179688 130.300781 206.179688 130.300781 211.511719 \"/>\n",
       "<path style=\"fill-rule:nonzero;fill:rgb(100%,0%,0%);fill-opacity:1;stroke-width:1;stroke-linecap:butt;stroke-linejoin:miter;stroke:rgb(0%,0%,0%);stroke-opacity:1;stroke-miterlimit:10;\" d=\"M 173.589844 173.570312 C 173.589844 178.90625 165.589844 178.90625 165.589844 173.570312 C 165.589844 168.238281 173.589844 168.238281 173.589844 173.570312 \"/>\n",
       "<path style=\"fill-rule:nonzero;fill:rgb(100%,0%,0%);fill-opacity:1;stroke-width:1;stroke-linecap:butt;stroke-linejoin:miter;stroke:rgb(0%,0%,0%);stroke-opacity:1;stroke-miterlimit:10;\" d=\"M 161.863281 153.675781 C 161.863281 159.007812 153.863281 159.007812 153.863281 153.675781 C 153.863281 148.339844 161.863281 148.339844 161.863281 153.675781 \"/>\n",
       "<path style=\"fill-rule:nonzero;fill:rgb(100%,0%,0%);fill-opacity:1;stroke-width:1;stroke-linecap:butt;stroke-linejoin:miter;stroke:rgb(0%,0%,0%);stroke-opacity:1;stroke-miterlimit:10;\" d=\"M 124.445312 131.902344 C 124.445312 137.234375 116.445312 137.234375 116.445312 131.902344 C 116.445312 126.570312 124.445312 126.570312 124.445312 131.902344 \"/>\n",
       "<path style=\"fill-rule:nonzero;fill:rgb(100%,0%,0%);fill-opacity:1;stroke-width:1;stroke-linecap:butt;stroke-linejoin:miter;stroke:rgb(0%,0%,0%);stroke-opacity:1;stroke-miterlimit:10;\" d=\"M 112.949219 200.390625 C 112.949219 205.726562 104.949219 205.726562 104.949219 200.390625 C 104.949219 195.058594 112.949219 195.058594 112.949219 200.390625 \"/>\n",
       "<path style=\"fill-rule:nonzero;fill:rgb(100%,0%,0%);fill-opacity:1;stroke-width:1;stroke-linecap:butt;stroke-linejoin:miter;stroke:rgb(0%,0%,0%);stroke-opacity:1;stroke-miterlimit:10;\" d=\"M 154.96875 147.417969 C 154.96875 152.75 146.96875 152.75 146.96875 147.417969 C 146.96875 142.082031 154.96875 142.082031 154.96875 147.417969 \"/>\n",
       "<path style=\"fill-rule:nonzero;fill:rgb(100%,0%,0%);fill-opacity:1;stroke-width:1;stroke-linecap:butt;stroke-linejoin:miter;stroke:rgb(0%,0%,0%);stroke-opacity:1;stroke-miterlimit:10;\" d=\"M 128.546875 232.945312 C 128.546875 238.277344 120.546875 238.277344 120.546875 232.945312 C 120.546875 227.609375 128.546875 227.609375 128.546875 232.945312 \"/>\n",
       "<path style=\"fill-rule:nonzero;fill:rgb(100%,0%,0%);fill-opacity:1;stroke-width:1;stroke-linecap:butt;stroke-linejoin:miter;stroke:rgb(0%,0%,0%);stroke-opacity:1;stroke-miterlimit:10;\" d=\"M 99.664062 135.011719 C 99.664062 140.34375 91.664062 140.34375 91.664062 135.011719 C 91.664062 129.679688 99.664062 129.679688 99.664062 135.011719 \"/>\n",
       "<path style=\"fill-rule:nonzero;fill:rgb(100%,0%,0%);fill-opacity:1;stroke-width:1;stroke-linecap:butt;stroke-linejoin:miter;stroke:rgb(0%,0%,0%);stroke-opacity:1;stroke-miterlimit:10;\" d=\"M 137.164062 153.511719 C 137.164062 158.84375 129.164062 158.84375 129.164062 153.511719 C 129.164062 148.175781 137.164062 148.175781 137.164062 153.511719 \"/>\n",
       "<path style=\"fill-rule:nonzero;fill:rgb(100%,0%,0%);fill-opacity:1;stroke-width:1;stroke-linecap:butt;stroke-linejoin:miter;stroke:rgb(0%,0%,0%);stroke-opacity:1;stroke-miterlimit:10;\" d=\"M 109.984375 135.28125 C 109.984375 140.617188 101.984375 140.617188 101.984375 135.28125 C 101.984375 129.949219 109.984375 129.949219 109.984375 135.28125 \"/>\n",
       "<path style=\"fill-rule:nonzero;fill:rgb(100%,0%,0%);fill-opacity:1;stroke-width:1;stroke-linecap:butt;stroke-linejoin:miter;stroke:rgb(0%,0%,0%);stroke-opacity:1;stroke-miterlimit:10;\" d=\"M 177.832031 193.433594 C 177.832031 198.765625 169.832031 198.765625 169.832031 193.433594 C 169.832031 188.097656 177.832031 188.097656 177.832031 193.433594 \"/>\n",
       "<path style=\"fill-rule:nonzero;fill:rgb(100%,0%,0%);fill-opacity:1;stroke-width:1;stroke-linecap:butt;stroke-linejoin:miter;stroke:rgb(0%,0%,0%);stroke-opacity:1;stroke-miterlimit:10;\" d=\"M 145.503906 196.566406 C 145.503906 201.898438 137.503906 201.898438 137.503906 196.566406 C 137.503906 191.230469 145.503906 191.230469 145.503906 196.566406 \"/>\n",
       "<path style=\"fill-rule:nonzero;fill:rgb(100%,0%,0%);fill-opacity:1;stroke-width:1;stroke-linecap:butt;stroke-linejoin:miter;stroke:rgb(0%,0%,0%);stroke-opacity:1;stroke-miterlimit:10;\" d=\"M 143.316406 135.304688 C 143.316406 140.640625 135.316406 140.640625 135.316406 135.304688 C 135.316406 129.972656 143.316406 129.972656 143.316406 135.304688 \"/>\n",
       "<path style=\"fill-rule:nonzero;fill:rgb(100%,0%,0%);fill-opacity:1;stroke-width:1;stroke-linecap:butt;stroke-linejoin:miter;stroke:rgb(0%,0%,0%);stroke-opacity:1;stroke-miterlimit:10;\" d=\"M 187.769531 178.738281 C 187.769531 184.074219 179.769531 184.074219 179.769531 178.738281 C 179.769531 173.40625 187.769531 173.40625 187.769531 178.738281 \"/>\n",
       "<path style=\"fill-rule:nonzero;fill:rgb(100%,0%,0%);fill-opacity:1;stroke-width:1;stroke-linecap:butt;stroke-linejoin:miter;stroke:rgb(0%,0%,0%);stroke-opacity:1;stroke-miterlimit:10;\" d=\"M 143.507812 218.246094 C 143.507812 223.578125 135.507812 223.578125 135.507812 218.246094 C 135.507812 212.910156 143.507812 212.910156 143.507812 218.246094 \"/>\n",
       "<path style=\"fill-rule:nonzero;fill:rgb(100%,0%,0%);fill-opacity:1;stroke-width:1;stroke-linecap:butt;stroke-linejoin:miter;stroke:rgb(0%,0%,0%);stroke-opacity:1;stroke-miterlimit:10;\" d=\"M 99.921875 147.515625 C 99.921875 152.851562 91.921875 152.851562 91.921875 147.515625 C 91.921875 142.183594 99.921875 142.183594 99.921875 147.515625 \"/>\n",
       "<path style=\"fill-rule:nonzero;fill:rgb(100%,0%,0%);fill-opacity:1;stroke-width:1;stroke-linecap:butt;stroke-linejoin:miter;stroke:rgb(0%,0%,0%);stroke-opacity:1;stroke-miterlimit:10;\" d=\"M 136.488281 220.007812 C 136.488281 225.339844 128.488281 225.339844 128.488281 220.007812 C 128.488281 214.671875 136.488281 214.671875 136.488281 220.007812 \"/>\n",
       "<path style=\"fill-rule:nonzero;fill:rgb(100%,0%,0%);fill-opacity:1;stroke-width:1;stroke-linecap:butt;stroke-linejoin:miter;stroke:rgb(0%,0%,0%);stroke-opacity:1;stroke-miterlimit:10;\" d=\"M 112.300781 181.464844 C 112.300781 186.796875 104.300781 186.796875 104.300781 181.464844 C 104.300781 176.132812 112.300781 176.132812 112.300781 181.464844 \"/>\n",
       "<path style=\"fill-rule:nonzero;fill:rgb(100%,0%,0%);fill-opacity:1;stroke-width:1;stroke-linecap:butt;stroke-linejoin:miter;stroke:rgb(0%,0%,0%);stroke-opacity:1;stroke-miterlimit:10;\" d=\"M 112.515625 171.371094 C 112.515625 176.703125 104.515625 176.703125 104.515625 171.371094 C 104.515625 166.035156 112.515625 166.035156 112.515625 171.371094 \"/>\n",
       "<path style=\"fill-rule:nonzero;fill:rgb(100%,0%,0%);fill-opacity:1;stroke-width:1;stroke-linecap:butt;stroke-linejoin:miter;stroke:rgb(0%,0%,0%);stroke-opacity:1;stroke-miterlimit:10;\" d=\"M 123.140625 210.824219 C 123.140625 216.160156 115.140625 216.160156 115.140625 210.824219 C 115.140625 205.492188 123.140625 205.492188 123.140625 210.824219 \"/>\n",
       "<path style=\"fill-rule:nonzero;fill:rgb(100%,0%,0%);fill-opacity:1;stroke-width:1;stroke-linecap:butt;stroke-linejoin:miter;stroke:rgb(0%,0%,0%);stroke-opacity:1;stroke-miterlimit:10;\" d=\"M 111.410156 159.101562 C 111.410156 164.433594 103.410156 164.433594 103.410156 159.101562 C 103.410156 153.765625 111.410156 153.765625 111.410156 159.101562 \"/>\n",
       "<path style=\"fill-rule:nonzero;fill:rgb(100%,0%,0%);fill-opacity:1;stroke-width:1;stroke-linecap:butt;stroke-linejoin:miter;stroke:rgb(0%,0%,0%);stroke-opacity:1;stroke-miterlimit:10;\" d=\"M 168.058594 196.863281 C 168.058594 202.195312 160.058594 202.195312 160.058594 196.863281 C 160.058594 191.53125 168.058594 191.53125 168.058594 196.863281 \"/>\n",
       "<path style=\"fill-rule:nonzero;fill:rgb(100%,0%,0%);fill-opacity:1;stroke-width:1;stroke-linecap:butt;stroke-linejoin:miter;stroke:rgb(0%,0%,0%);stroke-opacity:1;stroke-miterlimit:10;\" d=\"M 121.367188 201.136719 C 121.367188 206.46875 113.367188 206.46875 113.367188 201.136719 C 113.367188 195.800781 121.367188 195.800781 121.367188 201.136719 \"/>\n",
       "<path style=\"fill-rule:nonzero;fill:rgb(100%,0%,0%);fill-opacity:1;stroke-width:1;stroke-linecap:butt;stroke-linejoin:miter;stroke:rgb(0%,0%,0%);stroke-opacity:1;stroke-miterlimit:10;\" d=\"M 108.675781 146.757812 C 108.675781 152.089844 100.675781 152.089844 100.675781 146.757812 C 100.675781 141.421875 108.675781 141.421875 108.675781 146.757812 \"/>\n",
       "<path style=\"fill-rule:nonzero;fill:rgb(100%,0%,0%);fill-opacity:1;stroke-width:1;stroke-linecap:butt;stroke-linejoin:miter;stroke:rgb(0%,0%,0%);stroke-opacity:1;stroke-miterlimit:10;\" d=\"M 170.976562 157.234375 C 170.976562 162.566406 162.976562 162.566406 162.976562 157.234375 C 162.976562 151.898438 170.976562 151.898438 170.976562 157.234375 \"/>\n",
       "<path style=\"fill-rule:nonzero;fill:rgb(100%,0%,0%);fill-opacity:1;stroke-width:1;stroke-linecap:butt;stroke-linejoin:miter;stroke:rgb(0%,0%,0%);stroke-opacity:1;stroke-miterlimit:10;\" d=\"M 162.085938 198.839844 C 162.085938 204.175781 154.085938 204.175781 154.085938 198.839844 C 154.085938 193.507812 162.085938 193.507812 162.085938 198.839844 \"/>\n",
       "<path style=\"fill-rule:nonzero;fill:rgb(100%,0%,0%);fill-opacity:1;stroke-width:1;stroke-linecap:butt;stroke-linejoin:miter;stroke:rgb(0%,0%,0%);stroke-opacity:1;stroke-miterlimit:10;\" d=\"M 97.328125 156.640625 C 97.328125 161.976562 89.328125 161.976562 89.328125 156.640625 C 89.328125 151.308594 97.328125 151.308594 97.328125 156.640625 \"/>\n",
       "<path style=\"fill-rule:nonzero;fill:rgb(100%,0%,0%);fill-opacity:1;stroke-width:1;stroke-linecap:butt;stroke-linejoin:miter;stroke:rgb(0%,0%,0%);stroke-opacity:1;stroke-miterlimit:10;\" d=\"M 158.121094 138.046875 C 158.121094 143.378906 150.121094 143.378906 150.121094 138.046875 C 150.121094 132.710938 158.121094 132.710938 158.121094 138.046875 \"/>\n",
       "<path style=\"fill-rule:nonzero;fill:rgb(100%,0%,0%);fill-opacity:1;stroke-width:1;stroke-linecap:butt;stroke-linejoin:miter;stroke:rgb(0%,0%,0%);stroke-opacity:1;stroke-miterlimit:10;\" d=\"M 155.039062 157.746094 C 155.039062 163.078125 147.039062 163.078125 147.039062 157.746094 C 147.039062 152.410156 155.039062 152.410156 155.039062 157.746094 \"/>\n",
       "<path style=\"fill-rule:nonzero;fill:rgb(100%,0%,0%);fill-opacity:1;stroke-width:1;stroke-linecap:butt;stroke-linejoin:miter;stroke:rgb(0%,0%,0%);stroke-opacity:1;stroke-miterlimit:10;\" d=\"M 151.480469 138.390625 C 151.480469 143.722656 143.480469 143.722656 143.480469 138.390625 C 143.480469 133.054688 151.480469 133.054688 151.480469 138.390625 \"/>\n",
       "<path style=\"fill-rule:nonzero;fill:rgb(100%,0%,0%);fill-opacity:1;stroke-width:1;stroke-linecap:butt;stroke-linejoin:miter;stroke:rgb(0%,0%,0%);stroke-opacity:1;stroke-miterlimit:10;\" d=\"M 143.75 184.578125 C 143.75 189.910156 135.75 189.910156 135.75 184.578125 C 135.75 179.246094 143.75 179.246094 143.75 184.578125 \"/>\n",
       "<path style=\"fill-rule:nonzero;fill:rgb(100%,0%,0%);fill-opacity:1;stroke-width:1;stroke-linecap:butt;stroke-linejoin:miter;stroke:rgb(0%,0%,0%);stroke-opacity:1;stroke-miterlimit:10;\" d=\"M 157.03125 205.867188 C 157.03125 211.203125 149.03125 211.203125 149.03125 205.867188 C 149.03125 200.535156 157.03125 200.535156 157.03125 205.867188 \"/>\n",
       "<path style=\"fill-rule:nonzero;fill:rgb(100%,0%,0%);fill-opacity:1;stroke-width:1;stroke-linecap:butt;stroke-linejoin:miter;stroke:rgb(0%,0%,0%);stroke-opacity:1;stroke-miterlimit:10;\" d=\"M 91.808594 190.117188 C 91.808594 195.449219 83.808594 195.449219 83.808594 190.117188 C 83.808594 184.78125 91.808594 184.78125 91.808594 190.117188 \"/>\n",
       "<path style=\"fill-rule:nonzero;fill:rgb(100%,0%,0%);fill-opacity:1;stroke-width:1;stroke-linecap:butt;stroke-linejoin:miter;stroke:rgb(0%,0%,0%);stroke-opacity:1;stroke-miterlimit:10;\" d=\"M 143.222656 126.511719 C 143.222656 131.847656 135.222656 131.847656 135.222656 126.511719 C 135.222656 121.179688 143.222656 121.179688 143.222656 126.511719 \"/>\n",
       "<path style=\"fill-rule:nonzero;fill:rgb(100%,0%,0%);fill-opacity:1;stroke-width:1;stroke-linecap:butt;stroke-linejoin:miter;stroke:rgb(0%,0%,0%);stroke-opacity:1;stroke-miterlimit:10;\" d=\"M 168.578125 188.65625 C 168.578125 193.988281 160.578125 193.988281 160.578125 188.65625 C 160.578125 183.320312 168.578125 183.320312 168.578125 188.65625 \"/>\n",
       "<path style=\"fill-rule:nonzero;fill:rgb(100%,0%,0%);fill-opacity:1;stroke-width:1;stroke-linecap:butt;stroke-linejoin:miter;stroke:rgb(0%,0%,0%);stroke-opacity:1;stroke-miterlimit:10;\" d=\"M 136.625 142.773438 C 136.625 148.105469 128.625 148.105469 128.625 142.773438 C 128.625 137.441406 136.625 137.441406 136.625 142.773438 \"/>\n",
       "<path style=\"fill-rule:nonzero;fill:rgb(100%,0%,0%);fill-opacity:1;stroke-width:1;stroke-linecap:butt;stroke-linejoin:miter;stroke:rgb(0%,0%,0%);stroke-opacity:1;stroke-miterlimit:10;\" d=\"M 110.914062 213.078125 C 110.914062 218.410156 102.914062 218.410156 102.914062 213.078125 C 102.914062 207.746094 110.914062 207.746094 110.914062 213.078125 \"/>\n",
       "<path style=\"fill-rule:nonzero;fill:rgb(100%,0%,0%);fill-opacity:1;stroke-width:1;stroke-linecap:butt;stroke-linejoin:miter;stroke:rgb(0%,0%,0%);stroke-opacity:1;stroke-miterlimit:10;\" d=\"M 105.007812 129.941406 C 105.007812 135.277344 97.007812 135.277344 97.007812 129.941406 C 97.007812 124.609375 105.007812 124.609375 105.007812 129.941406 \"/>\n",
       "<path style=\"fill-rule:nonzero;fill:rgb(100%,0%,0%);fill-opacity:1;stroke-width:1;stroke-linecap:butt;stroke-linejoin:miter;stroke:rgb(0%,0%,0%);stroke-opacity:1;stroke-miterlimit:10;\" d=\"M 129.617188 219.585938 C 129.617188 224.917969 121.617188 224.917969 121.617188 219.585938 C 121.617188 214.25 129.617188 214.25 129.617188 219.585938 \"/>\n",
       "<path style=\"fill-rule:nonzero;fill:rgb(100%,0%,0%);fill-opacity:1;stroke-width:1;stroke-linecap:butt;stroke-linejoin:miter;stroke:rgb(0%,0%,0%);stroke-opacity:1;stroke-miterlimit:10;\" d=\"M 161.734375 173.011719 C 161.734375 178.347656 153.734375 178.347656 153.734375 173.011719 C 153.734375 167.679688 161.734375 167.679688 161.734375 173.011719 \"/>\n",
       "<path style=\"fill-rule:nonzero;fill:rgb(100%,0%,0%);fill-opacity:1;stroke-width:1;stroke-linecap:butt;stroke-linejoin:miter;stroke:rgb(0%,0%,0%);stroke-opacity:1;stroke-miterlimit:10;\" d=\"M 168.144531 150.046875 C 168.144531 155.378906 160.144531 155.378906 160.144531 150.046875 C 160.144531 144.710938 168.144531 144.710938 168.144531 150.046875 \"/>\n",
       "<path style=\"fill-rule:nonzero;fill:rgb(100%,0%,0%);fill-opacity:1;stroke-width:1;stroke-linecap:butt;stroke-linejoin:miter;stroke:rgb(0%,0%,0%);stroke-opacity:1;stroke-miterlimit:10;\" d=\"M 165.660156 180.398438 C 165.660156 185.734375 157.660156 185.734375 157.660156 180.398438 C 157.660156 175.066406 165.660156 175.066406 165.660156 180.398438 \"/>\n",
       "<path style=\"fill-rule:nonzero;fill:rgb(100%,0%,0%);fill-opacity:1;stroke-width:1;stroke-linecap:butt;stroke-linejoin:miter;stroke:rgb(0%,0%,0%);stroke-opacity:1;stroke-miterlimit:10;\" d=\"M 164.3125 161.996094 C 164.3125 167.328125 156.3125 167.328125 156.3125 161.996094 C 156.3125 156.660156 164.3125 156.660156 164.3125 161.996094 \"/>\n",
       "<path style=\"fill-rule:nonzero;fill:rgb(100%,0%,0%);fill-opacity:1;stroke-width:1;stroke-linecap:butt;stroke-linejoin:miter;stroke:rgb(0%,0%,0%);stroke-opacity:1;stroke-miterlimit:10;\" d=\"M 157.804688 181.910156 C 157.804688 187.246094 149.804688 187.246094 149.804688 181.910156 C 149.804688 176.578125 157.804688 176.578125 157.804688 181.910156 \"/>\n",
       "<path style=\"fill-rule:nonzero;fill:rgb(100%,0%,0%);fill-opacity:1;stroke-width:1;stroke-linecap:butt;stroke-linejoin:miter;stroke:rgb(0%,0%,0%);stroke-opacity:1;stroke-miterlimit:10;\" d=\"M 145.730469 144.585938 C 145.730469 149.921875 137.730469 149.921875 137.730469 144.585938 C 137.730469 139.253906 145.730469 139.253906 145.730469 144.585938 \"/>\n",
       "<path style=\"fill-rule:nonzero;fill:rgb(100%,0%,0%);fill-opacity:1;stroke-width:1;stroke-linecap:butt;stroke-linejoin:miter;stroke:rgb(0%,0%,0%);stroke-opacity:1;stroke-miterlimit:10;\" d=\"M 115.625 142.03125 C 115.625 147.367188 107.625 147.367188 107.625 142.03125 C 107.625 136.699219 115.625 136.699219 115.625 142.03125 \"/>\n",
       "<path style=\"fill-rule:nonzero;fill:rgb(100%,0%,0%);fill-opacity:1;stroke-width:1;stroke-linecap:butt;stroke-linejoin:miter;stroke:rgb(0%,0%,0%);stroke-opacity:1;stroke-miterlimit:10;\" d=\"M 101.085938 201.59375 C 101.085938 206.929688 93.085938 206.929688 93.085938 201.59375 C 93.085938 196.261719 101.085938 196.261719 101.085938 201.59375 \"/>\n",
       "<path style=\"fill-rule:nonzero;fill:rgb(100%,0%,0%);fill-opacity:1;stroke-width:1;stroke-linecap:butt;stroke-linejoin:miter;stroke:rgb(0%,0%,0%);stroke-opacity:1;stroke-miterlimit:10;\" d=\"M 127.332031 152.929688 C 127.332031 158.265625 119.332031 158.265625 119.332031 152.929688 C 119.332031 147.597656 127.332031 147.597656 127.332031 152.929688 \"/>\n",
       "<path style=\"fill-rule:nonzero;fill:rgb(100%,0%,0%);fill-opacity:1;stroke-width:1;stroke-linecap:butt;stroke-linejoin:miter;stroke:rgb(0%,0%,0%);stroke-opacity:1;stroke-miterlimit:10;\" d=\"M 163.691406 206.371094 C 163.691406 211.703125 155.691406 211.703125 155.691406 206.371094 C 155.691406 201.035156 163.691406 201.035156 163.691406 206.371094 \"/>\n",
       "<path style=\"fill-rule:nonzero;fill:rgb(100%,0%,0%);fill-opacity:1;stroke-width:1;stroke-linecap:butt;stroke-linejoin:miter;stroke:rgb(0%,0%,0%);stroke-opacity:1;stroke-miterlimit:10;\" d=\"M 168.171875 169.320312 C 168.171875 174.652344 160.171875 174.652344 160.171875 169.320312 C 160.171875 163.984375 168.171875 163.984375 168.171875 169.320312 \"/>\n",
       "<path style=\"fill-rule:nonzero;fill:rgb(100%,0%,0%);fill-opacity:1;stroke-width:1;stroke-linecap:butt;stroke-linejoin:miter;stroke:rgb(0%,0%,0%);stroke-opacity:1;stroke-miterlimit:10;\" d=\"M 151.886719 189.003906 C 151.886719 194.335938 143.886719 194.335938 143.886719 189.003906 C 143.886719 183.667969 151.886719 183.667969 151.886719 189.003906 \"/>\n",
       "<path style=\"fill-rule:nonzero;fill:rgb(100%,0%,0%);fill-opacity:1;stroke-width:1;stroke-linecap:butt;stroke-linejoin:miter;stroke:rgb(0%,0%,0%);stroke-opacity:1;stroke-miterlimit:10;\" d=\"M 90.148438 164.964844 C 90.148438 170.300781 82.148438 170.300781 82.148438 164.964844 C 82.148438 159.632812 90.148438 159.632812 90.148438 164.964844 \"/>\n",
       "<path style=\"fill-rule:nonzero;fill:rgb(100%,0%,0%);fill-opacity:1;stroke-width:1;stroke-linecap:butt;stroke-linejoin:miter;stroke:rgb(0%,0%,0%);stroke-opacity:1;stroke-miterlimit:10;\" d=\"M 141.71875 111.695312 C 141.71875 117.027344 133.71875 117.027344 133.71875 111.695312 C 133.71875 106.363281 141.71875 106.363281 141.71875 111.695312 \"/>\n",
       "<path style=\"fill-rule:nonzero;fill:rgb(100%,0%,0%);fill-opacity:1;stroke-width:1;stroke-linecap:butt;stroke-linejoin:miter;stroke:rgb(0%,0%,0%);stroke-opacity:1;stroke-miterlimit:10;\" d=\"M 150.460938 176.3125 C 150.460938 181.648438 142.460938 181.648438 142.460938 176.3125 C 142.460938 170.980469 150.460938 170.980469 150.460938 176.3125 \"/>\n",
       "<path style=\"fill-rule:nonzero;fill:rgb(100%,0%,0%);fill-opacity:1;stroke-width:1;stroke-linecap:butt;stroke-linejoin:miter;stroke:rgb(0%,0%,0%);stroke-opacity:1;stroke-miterlimit:10;\" d=\"M 176.550781 133.683594 C 176.550781 139.015625 168.550781 139.015625 168.550781 133.683594 C 168.550781 128.347656 176.550781 128.347656 176.550781 133.683594 \"/>\n",
       "<path style=\"fill-rule:nonzero;fill:rgb(100%,0%,0%);fill-opacity:1;stroke-width:1;stroke-linecap:butt;stroke-linejoin:miter;stroke:rgb(0%,0%,0%);stroke-opacity:1;stroke-miterlimit:10;\" d=\"M 129.707031 203.050781 C 129.707031 208.386719 121.707031 208.386719 121.707031 203.050781 C 121.707031 197.71875 129.707031 197.71875 129.707031 203.050781 \"/>\n",
       "<path style=\"fill-rule:nonzero;fill:rgb(100%,0%,0%);fill-opacity:1;stroke-width:1;stroke-linecap:butt;stroke-linejoin:miter;stroke:rgb(0%,0%,0%);stroke-opacity:1;stroke-miterlimit:10;\" d=\"M 89.257812 172.605469 C 89.257812 177.941406 81.257812 177.941406 81.257812 172.605469 C 81.257812 167.273438 89.257812 167.273438 89.257812 172.605469 \"/>\n",
       "<path style=\"fill-rule:nonzero;fill:rgb(100%,0%,0%);fill-opacity:1;stroke-width:1;stroke-linecap:butt;stroke-linejoin:miter;stroke:rgb(0%,0%,0%);stroke-opacity:1;stroke-miterlimit:10;\" d=\"M 116.304688 208.140625 C 116.304688 213.472656 108.304688 213.472656 108.304688 208.140625 C 108.304688 202.808594 116.304688 202.808594 116.304688 208.140625 \"/>\n",
       "<path style=\"fill-rule:nonzero;fill:rgb(100%,0%,0%);fill-opacity:1;stroke-width:1;stroke-linecap:butt;stroke-linejoin:miter;stroke:rgb(0%,0%,0%);stroke-opacity:1;stroke-miterlimit:10;\" d=\"M 162.777344 144.359375 C 162.777344 149.695312 154.777344 149.695312 154.777344 144.359375 C 154.777344 139.027344 162.777344 139.027344 162.777344 144.359375 \"/>\n",
       "<path style=\"fill-rule:nonzero;fill:rgb(100%,0%,0%);fill-opacity:1;stroke-width:1;stroke-linecap:butt;stroke-linejoin:miter;stroke:rgb(0%,0%,0%);stroke-opacity:1;stroke-miterlimit:10;\" d=\"M 104.285156 164.664062 C 104.285156 170 96.285156 170 96.285156 164.664062 C 96.285156 159.332031 104.285156 159.332031 104.285156 164.664062 \"/>\n",
       "<path style=\"fill-rule:nonzero;fill:rgb(100%,0%,0%);fill-opacity:1;stroke-width:1;stroke-linecap:butt;stroke-linejoin:miter;stroke:rgb(0%,0%,0%);stroke-opacity:1;stroke-miterlimit:10;\" d=\"M 139.882812 232.421875 C 139.882812 237.753906 131.882812 237.753906 131.882812 232.421875 C 131.882812 227.085938 139.882812 227.085938 139.882812 232.421875 \"/>\n",
       "<path style=\"fill-rule:nonzero;fill:rgb(100%,0%,0%);fill-opacity:1;stroke-width:1;stroke-linecap:butt;stroke-linejoin:miter;stroke:rgb(0%,0%,0%);stroke-opacity:1;stroke-miterlimit:10;\" d=\"M 103.886719 173.90625 C 103.886719 179.242188 95.886719 179.242188 95.886719 173.90625 C 95.886719 168.574219 103.886719 168.574219 103.886719 173.90625 \"/>\n",
       "<path style=\"fill-rule:nonzero;fill:rgb(100%,0%,0%);fill-opacity:1;stroke-width:1;stroke-linecap:butt;stroke-linejoin:miter;stroke:rgb(0%,0%,0%);stroke-opacity:1;stroke-miterlimit:10;\" d=\"M 94.652344 183.355469 C 94.652344 188.691406 86.652344 188.691406 86.652344 183.355469 C 86.652344 178.023438 94.652344 178.023438 94.652344 183.355469 \"/>\n",
       "<path style=\"fill-rule:nonzero;fill:rgb(100%,0%,0%);fill-opacity:1;stroke-width:1;stroke-linecap:butt;stroke-linejoin:miter;stroke:rgb(0%,0%,0%);stroke-opacity:1;stroke-miterlimit:10;\" d=\"M 284 161.019531 C 284 166.355469 276 166.355469 276 161.019531 C 276 155.6875 284 155.6875 284 161.019531 \"/>\n",
       "<path style=\"fill-rule:nonzero;fill:rgb(100%,0%,0%);fill-opacity:1;stroke-width:1;stroke-linecap:butt;stroke-linejoin:miter;stroke:rgb(0%,0%,0%);stroke-opacity:1;stroke-miterlimit:10;\" d=\"M 283.359375 172.316406 C 283.359375 177.648438 275.359375 177.648438 275.359375 172.316406 C 275.359375 166.984375 283.359375 166.984375 283.359375 172.316406 \"/>\n",
       "<path style=\"fill-rule:nonzero;fill:rgb(100%,0%,0%);fill-opacity:1;stroke-width:1;stroke-linecap:butt;stroke-linejoin:miter;stroke:rgb(0%,0%,0%);stroke-opacity:1;stroke-miterlimit:10;\" d=\"M 205.859375 37.511719 C 205.859375 42.847656 197.859375 42.847656 197.859375 37.511719 C 197.859375 32.179688 205.859375 32.179688 205.859375 37.511719 \"/>\n",
       "<path style=\"fill-rule:nonzero;fill:rgb(100%,0%,0%);fill-opacity:1;stroke-width:1;stroke-linecap:butt;stroke-linejoin:miter;stroke:rgb(0%,0%,0%);stroke-opacity:1;stroke-miterlimit:10;\" d=\"M 144.347656 269.058594 C 144.347656 274.390625 136.347656 274.390625 136.347656 269.058594 C 136.347656 263.726562 144.347656 263.726562 144.347656 269.058594 \"/>\n",
       "<path style=\"fill-rule:nonzero;fill:rgb(100%,0%,0%);fill-opacity:1;stroke-width:1;stroke-linecap:butt;stroke-linejoin:miter;stroke:rgb(0%,0%,0%);stroke-opacity:1;stroke-miterlimit:10;\" d=\"M 202.191406 30.398438 C 202.191406 35.730469 194.191406 35.730469 194.191406 30.398438 C 194.191406 25.0625 202.191406 25.0625 202.191406 30.398438 \"/>\n",
       "<path style=\"fill-rule:nonzero;fill:rgb(100%,0%,0%);fill-opacity:1;stroke-width:1;stroke-linecap:butt;stroke-linejoin:miter;stroke:rgb(0%,0%,0%);stroke-opacity:1;stroke-miterlimit:10;\" d=\"M 195.082031 109.167969 C 195.082031 114.5 187.082031 114.5 187.082031 109.167969 C 187.082031 103.835938 195.082031 103.835938 195.082031 109.167969 \"/>\n",
       "<path style=\"fill-rule:nonzero;fill:rgb(100%,0%,0%);fill-opacity:1;stroke-width:1;stroke-linecap:butt;stroke-linejoin:miter;stroke:rgb(0%,0%,0%);stroke-opacity:1;stroke-miterlimit:10;\" d=\"M 250.535156 182.714844 C 250.535156 188.046875 242.535156 188.046875 242.535156 182.714844 C 242.535156 177.378906 250.535156 177.378906 250.535156 182.714844 \"/>\n",
       "<path style=\"fill-rule:nonzero;fill:rgb(100%,0%,0%);fill-opacity:1;stroke-width:1;stroke-linecap:butt;stroke-linejoin:miter;stroke:rgb(0%,0%,0%);stroke-opacity:1;stroke-miterlimit:10;\" d=\"M 220.972656 226.207031 C 220.972656 231.539062 212.972656 231.539062 212.972656 226.207031 C 212.972656 220.875 220.972656 220.875 220.972656 226.207031 \"/>\n",
       "<path style=\"fill-rule:nonzero;fill:rgb(100%,0%,0%);fill-opacity:1;stroke-width:1;stroke-linecap:butt;stroke-linejoin:miter;stroke:rgb(0%,0%,0%);stroke-opacity:1;stroke-miterlimit:10;\" d=\"M 228.46875 203.449219 C 228.46875 208.785156 220.46875 208.785156 220.46875 203.449219 C 220.46875 198.117188 228.46875 198.117188 228.46875 203.449219 \"/>\n",
       "<path style=\"fill-rule:nonzero;fill:rgb(100%,0%,0%);fill-opacity:1;stroke-width:1;stroke-linecap:butt;stroke-linejoin:miter;stroke:rgb(0%,0%,0%);stroke-opacity:1;stroke-miterlimit:10;\" d=\"M 192.84375 33.011719 C 192.84375 38.34375 184.84375 38.34375 184.84375 33.011719 C 184.84375 27.675781 192.84375 27.675781 192.84375 33.011719 \"/>\n",
       "<path style=\"fill-rule:nonzero;fill:rgb(100%,0%,0%);fill-opacity:1;stroke-width:1;stroke-linecap:butt;stroke-linejoin:miter;stroke:rgb(0%,0%,0%);stroke-opacity:1;stroke-miterlimit:10;\" d=\"M 51.25 140.144531 C 51.25 145.480469 43.25 145.480469 43.25 140.144531 C 43.25 134.8125 51.25 134.8125 51.25 140.144531 \"/>\n",
       "<path style=\"fill-rule:nonzero;fill:rgb(100%,0%,0%);fill-opacity:1;stroke-width:1;stroke-linecap:butt;stroke-linejoin:miter;stroke:rgb(0%,0%,0%);stroke-opacity:1;stroke-miterlimit:10;\" d=\"M 187.03125 24.652344 C 187.03125 29.988281 179.03125 29.988281 179.03125 24.652344 C 179.03125 19.320312 187.03125 19.320312 187.03125 24.652344 \"/>\n",
       "<path style=\"fill-rule:nonzero;fill:rgb(100%,0%,0%);fill-opacity:1;stroke-width:1;stroke-linecap:butt;stroke-linejoin:miter;stroke:rgb(0%,0%,0%);stroke-opacity:1;stroke-miterlimit:10;\" d=\"M 226.855469 212.007812 C 226.855469 217.339844 218.855469 217.339844 218.855469 212.007812 C 218.855469 206.671875 226.855469 206.671875 226.855469 212.007812 \"/>\n",
       "<path style=\"fill-rule:nonzero;fill:rgb(100%,0%,0%);fill-opacity:1;stroke-width:1;stroke-linecap:butt;stroke-linejoin:miter;stroke:rgb(0%,0%,0%);stroke-opacity:1;stroke-miterlimit:10;\" d=\"M 244.425781 94.140625 C 244.425781 99.472656 236.425781 99.472656 236.425781 94.140625 C 236.425781 88.808594 244.425781 88.808594 244.425781 94.140625 \"/>\n",
       "<path style=\"fill-rule:nonzero;fill:rgb(100%,0%,0%);fill-opacity:1;stroke-width:1;stroke-linecap:butt;stroke-linejoin:miter;stroke:rgb(0%,0%,0%);stroke-opacity:1;stroke-miterlimit:10;\" d=\"M 211.546875 66.234375 C 211.546875 71.566406 203.546875 71.566406 203.546875 66.234375 C 203.546875 60.902344 211.546875 60.902344 211.546875 66.234375 \"/>\n",
       "<path style=\"fill-rule:nonzero;fill:rgb(100%,0%,0%);fill-opacity:1;stroke-width:1;stroke-linecap:butt;stroke-linejoin:miter;stroke:rgb(0%,0%,0%);stroke-opacity:1;stroke-miterlimit:10;\" d=\"M 241.609375 49.789062 C 241.609375 55.121094 233.609375 55.121094 233.609375 49.789062 C 233.609375 44.457031 241.609375 44.457031 241.609375 49.789062 \"/>\n",
       "<path style=\"fill-rule:nonzero;fill:rgb(100%,0%,0%);fill-opacity:1;stroke-width:1;stroke-linecap:butt;stroke-linejoin:miter;stroke:rgb(0%,0%,0%);stroke-opacity:1;stroke-miterlimit:10;\" d=\"M 230.074219 233.589844 C 230.074219 238.925781 222.074219 238.925781 222.074219 233.589844 C 222.074219 228.257812 230.074219 228.257812 230.074219 233.589844 \"/>\n",
       "<path style=\"fill-rule:nonzero;fill:rgb(100%,0%,0%);fill-opacity:1;stroke-width:1;stroke-linecap:butt;stroke-linejoin:miter;stroke:rgb(0%,0%,0%);stroke-opacity:1;stroke-miterlimit:10;\" d=\"M 239.582031 252.714844 C 239.582031 258.050781 231.582031 258.050781 231.582031 252.714844 C 231.582031 247.382812 239.582031 247.382812 239.582031 252.714844 \"/>\n",
       "<path style=\"fill-rule:nonzero;fill:rgb(100%,0%,0%);fill-opacity:1;stroke-width:1;stroke-linecap:butt;stroke-linejoin:miter;stroke:rgb(0%,0%,0%);stroke-opacity:1;stroke-miterlimit:10;\" d=\"M 247.113281 243.269531 C 247.113281 248.601562 239.113281 248.601562 239.113281 243.269531 C 239.113281 237.933594 247.113281 237.933594 247.113281 243.269531 \"/>\n",
       "<path style=\"fill-rule:nonzero;fill:rgb(100%,0%,0%);fill-opacity:1;stroke-width:1;stroke-linecap:butt;stroke-linejoin:miter;stroke:rgb(0%,0%,0%);stroke-opacity:1;stroke-miterlimit:10;\" d=\"M 258.5 84.679688 C 258.5 90.015625 250.5 90.015625 250.5 84.679688 C 250.5 79.347656 258.5 79.347656 258.5 84.679688 \"/>\n",
       "<path style=\"fill-rule:nonzero;fill:rgb(100%,0%,0%);fill-opacity:1;stroke-width:1;stroke-linecap:butt;stroke-linejoin:miter;stroke:rgb(0%,0%,0%);stroke-opacity:1;stroke-miterlimit:10;\" d=\"M 145.28125 43.460938 C 145.28125 48.796875 137.28125 48.796875 137.28125 43.460938 C 137.28125 38.128906 145.28125 38.128906 145.28125 43.460938 \"/>\n",
       "<path style=\"fill-rule:nonzero;fill:rgb(100%,0%,0%);fill-opacity:1;stroke-width:1;stroke-linecap:butt;stroke-linejoin:miter;stroke:rgb(0%,0%,0%);stroke-opacity:1;stroke-miterlimit:10;\" d=\"M 126.871094 269.722656 C 126.871094 275.058594 118.871094 275.058594 118.871094 269.722656 C 118.871094 264.390625 126.871094 264.390625 126.871094 269.722656 \"/>\n",
       "<path style=\"fill-rule:nonzero;fill:rgb(100%,0%,0%);fill-opacity:1;stroke-width:1;stroke-linecap:butt;stroke-linejoin:miter;stroke:rgb(0%,0%,0%);stroke-opacity:1;stroke-miterlimit:10;\" d=\"M 81.804688 252.5625 C 81.804688 257.898438 73.804688 257.898438 73.804688 252.5625 C 73.804688 247.230469 81.804688 247.230469 81.804688 252.5625 \"/>\n",
       "<path style=\"fill-rule:nonzero;fill:rgb(100%,0%,0%);fill-opacity:1;stroke-width:1;stroke-linecap:butt;stroke-linejoin:miter;stroke:rgb(0%,0%,0%);stroke-opacity:1;stroke-miterlimit:10;\" d=\"M 77.523438 32.652344 C 77.523438 37.984375 69.523438 37.984375 69.523438 32.652344 C 69.523438 27.316406 77.523438 27.316406 77.523438 32.652344 \"/>\n",
       "<path style=\"fill-rule:nonzero;fill:rgb(100%,0%,0%);fill-opacity:1;stroke-width:1;stroke-linecap:butt;stroke-linejoin:miter;stroke:rgb(0%,0%,0%);stroke-opacity:1;stroke-miterlimit:10;\" d=\"M 204.636719 280 C 204.636719 285.332031 196.636719 285.332031 196.636719 280 C 196.636719 274.667969 204.636719 274.667969 204.636719 280 \"/>\n",
       "<path style=\"fill-rule:nonzero;fill:rgb(100%,0%,0%);fill-opacity:1;stroke-width:1;stroke-linecap:butt;stroke-linejoin:miter;stroke:rgb(0%,0%,0%);stroke-opacity:1;stroke-miterlimit:10;\" d=\"M 195.621094 259.492188 C 195.621094 264.824219 187.621094 264.824219 187.621094 259.492188 C 187.621094 254.160156 195.621094 254.160156 195.621094 259.492188 \"/>\n",
       "<path style=\"fill-rule:nonzero;fill:rgb(100%,0%,0%);fill-opacity:1;stroke-width:1;stroke-linecap:butt;stroke-linejoin:miter;stroke:rgb(0%,0%,0%);stroke-opacity:1;stroke-miterlimit:10;\" d=\"M 206.390625 124.1875 C 206.390625 129.519531 198.390625 129.519531 198.390625 124.1875 C 198.390625 118.851562 206.390625 118.851562 206.390625 124.1875 \"/>\n",
       "<path style=\"fill-rule:nonzero;fill:rgb(100%,0%,0%);fill-opacity:1;stroke-width:1;stroke-linecap:butt;stroke-linejoin:miter;stroke:rgb(0%,0%,0%);stroke-opacity:1;stroke-miterlimit:10;\" d=\"M 188.375 254.074219 C 188.375 259.410156 180.375 259.410156 180.375 254.074219 C 180.375 248.742188 188.375 248.742188 188.375 254.074219 \"/>\n",
       "<path style=\"fill-rule:nonzero;fill:rgb(100%,0%,0%);fill-opacity:1;stroke-width:1;stroke-linecap:butt;stroke-linejoin:miter;stroke:rgb(0%,0%,0%);stroke-opacity:1;stroke-miterlimit:10;\" d=\"M 94.089844 21.261719 C 94.089844 26.59375 86.089844 26.59375 86.089844 21.261719 C 86.089844 15.925781 94.089844 15.925781 94.089844 21.261719 \"/>\n",
       "<path style=\"fill-rule:nonzero;fill:rgb(100%,0%,0%);fill-opacity:1;stroke-width:1;stroke-linecap:butt;stroke-linejoin:miter;stroke:rgb(0%,0%,0%);stroke-opacity:1;stroke-miterlimit:10;\" d=\"M 164.953125 20 C 164.953125 25.332031 156.953125 25.332031 156.953125 20 C 156.953125 14.667969 164.953125 14.667969 164.953125 20 \"/>\n",
       "<path style=\"fill-rule:nonzero;fill:rgb(100%,0%,0%);fill-opacity:1;stroke-width:1;stroke-linecap:butt;stroke-linejoin:miter;stroke:rgb(0%,0%,0%);stroke-opacity:1;stroke-miterlimit:10;\" d=\"M 260.359375 96.714844 C 260.359375 102.046875 252.359375 102.046875 252.359375 96.714844 C 252.359375 91.378906 260.359375 91.378906 260.359375 96.714844 \"/>\n",
       "<path style=\"fill-rule:nonzero;fill:rgb(100%,0%,0%);fill-opacity:1;stroke-width:1;stroke-linecap:butt;stroke-linejoin:miter;stroke:rgb(0%,0%,0%);stroke-opacity:1;stroke-miterlimit:10;\" d=\"M 221.617188 133.609375 C 221.617188 138.941406 213.617188 138.941406 213.617188 133.609375 C 213.617188 128.277344 221.617188 128.277344 221.617188 133.609375 \"/>\n",
       "</g>\n",
       "</svg>\n"
      ],
      "text/plain": [
       "<igraph.drawing.cairo.plot.CairoPlot at 0x7fee44ad2190>"
      ]
     },
     "execution_count": 4,
     "metadata": {
      "image/svg+xml": {
       "isolated": true
      }
     },
     "output_type": "execute_result"
    }
   ],
   "source": [
    "## subgraphs - example\n",
    "sg_id = 0\n",
    "sg = G.subgraph(np.where(np.array(G.vs['graph']) == sg_id)[0].tolist())\n",
    "ig.plot(sg, bbox=(300,300), vertex_size=8)"
   ]
  },
  {
   "cell_type": "markdown",
   "id": "1a2befff",
   "metadata": {},
   "source": [
    "### Method 1 - Expander-based Node Features\n",
    "\n",
    "For every \"small\" graphs, compute some features derived from expansion properties of vertices.\n",
    "\n",
    "See details in our blog post.\n",
    "\n",
    "We can ignore the **node labels** if we want to compare with methods that rely only on the graph structure.\n"
   ]
  },
  {
   "cell_type": "code",
   "execution_count": 5,
   "id": "9bf3fb24",
   "metadata": {},
   "outputs": [],
   "source": [
    "## by default, we ignore vertex labels.\n",
    "def get_sg_features(sg, depth=7, add_features=False):\n",
    "    F = []\n",
    "    n = sg.vcount()\n",
    "    if add_features:\n",
    "        features = [sg.degree(),\n",
    "                    sg.transitivity_local_undirected(mode='zero'),\n",
    "                    #np.array(sg.betweenness())/n**2,\n",
    "                    #sg.pagerank(),\n",
    "                    sg.coreness()] \n",
    "        for j in range(len(features)):\n",
    "            F.append(features[j])\n",
    "    ## now consider increading depths\n",
    "    for i in range(depth):\n",
    "        current = sg.neighborhood_size(order=i+1)\n",
    "        ## expanding proportion\n",
    "        F.append([i/n for i in current])\n",
    "        ## relative expanding properties\n",
    "        if i>0:\n",
    "            F.append([i / j for i, j in zip(current, previous)])\n",
    "        previous = current\n",
    "        ## aggregate of other features at this depth\n",
    "        if add_features:\n",
    "            for j in range(len(features)):\n",
    "                F.append([np.mean([features[j][i] for i in x]) for x in sg.neighborhood(order=i+1)])\n",
    "    F = np.array(F).transpose()\n",
    "    return F"
   ]
  },
  {
   "cell_type": "markdown",
   "id": "a29ba611",
   "metadata": {},
   "source": [
    "### Input format\n",
    "\n",
    "* **node_features**: array (length = number of graphs) of arrays of size \"number of vertices x number of features\"\n",
    "\n",
    "Below, we prepare the data we have in this format."
   ]
  },
  {
   "cell_type": "code",
   "execution_count": 6,
   "id": "f1ab254a",
   "metadata": {},
   "outputs": [
    {
     "name": "stdout",
     "output_type": "stream",
     "text": [
      "100\n",
      "200\n",
      "300\n",
      "400\n",
      "500\n",
      "600\n",
      "700\n",
      "800\n",
      "900\n",
      "1000\n",
      "1100\n",
      "1200\n",
      "1300\n",
      "1400\n",
      "1500\n",
      "1600\n",
      "1700\n",
      "1800\n",
      "1900\n",
      "2000\n",
      "CPU times: user 25min 17s, sys: 39.5 s, total: 25min 56s\n",
      "Wall time: 25min 57s\n"
     ]
    }
   ],
   "source": [
    "%%time\n",
    "## feature for every graph - this is the slowest part\n",
    "node_features = []\n",
    "rows = []\n",
    "ctr = 1\n",
    "for i in list(set(G.vs['graph'])):\n",
    "    ## we keep the giant component for each small graph\n",
    "    sg = G.subgraph(np.where(np.array(G.vs['graph']) == i)[0].tolist()).connected_components().giant()\n",
    "    node_features.append(get_sg_features(sg, depth=7, add_features=True))\n",
    "    rows.extend(np.repeat(i,sg.vcount()))\n",
    "    ctr += 1\n",
    "    if ctr % 100 == 0:\n",
    "        print(ctr)\n",
    "node_features = np.array(node_features, dtype=object)\n"
   ]
  },
  {
   "cell_type": "markdown",
   "id": "9fee9714",
   "metadata": {},
   "source": [
    "### first step - build (graphs x nodes) sparse incidence matrix\n"
   ]
  },
  {
   "cell_type": "code",
   "execution_count": 7,
   "id": "df7ee582",
   "metadata": {},
   "outputs": [],
   "source": [
    "## consider all node's feature vectors\n",
    "node_vectors = np.vstack(node_features)"
   ]
  },
  {
   "cell_type": "code",
   "execution_count": 8,
   "id": "ddc6b9e7",
   "metadata": {},
   "outputs": [
    {
     "name": "stdout",
     "output_type": "stream",
     "text": [
      "CPU times: user 120 ms, sys: 107 µs, total: 120 ms\n",
      "Wall time: 119 ms\n"
     ]
    },
    {
     "data": {
      "text/plain": [
       "<2000x851133 sparse matrix of type '<class 'numpy.float32'>'\n",
       "\twith 851133 stored elements in Compressed Sparse Row format>"
      ]
     },
     "execution_count": 8,
     "metadata": {},
     "output_type": "execute_result"
    }
   ],
   "source": [
    "%%time\n",
    "## incidence - this is quite fast\n",
    "n = len(rows)\n",
    "cols = np.arange(n)\n",
    "incidence_matrix = scipy.sparse.csr_matrix((np.repeat(1.0,n).astype(np.float32), (rows, cols)))\n",
    "incidence_matrix"
   ]
  },
  {
   "cell_type": "markdown",
   "id": "d1a321b7",
   "metadata": {},
   "source": [
    "### second step - embed graphs via Wasserstein's"
   ]
  },
  {
   "cell_type": "code",
   "execution_count": 9,
   "id": "539a7d0d",
   "metadata": {},
   "outputs": [
    {
     "name": "stdout",
     "output_type": "stream",
     "text": [
      "CPU times: user 639 ms, sys: 2.83 s, total: 3.47 s\n",
      "Wall time: 270 ms\n"
     ]
    },
    {
     "data": {
      "text/plain": [
       "(2000, 37)"
      ]
     },
     "execution_count": 9,
     "metadata": {},
     "output_type": "execute_result"
    }
   ],
   "source": [
    "%%time\n",
    "## embed the graphs via distributions over node vectors - also fast\n",
    "graphs_embed = vectorizers.ApproximateWassersteinVectorizer(\n",
    "    normalization_power=0.66,\n",
    "    random_state=42,\n",
    ").fit_transform(incidence_matrix, vectors=node_vectors)\n",
    "graphs_embed.shape"
   ]
  },
  {
   "cell_type": "code",
   "execution_count": 10,
   "id": "5a3d7e8b",
   "metadata": {},
   "outputs": [
    {
     "name": "stdout",
     "output_type": "stream",
     "text": [
      "CPU times: user 531 ms, sys: 2.12 s, total: 2.65 s\n",
      "Wall time: 409 ms\n"
     ]
    },
    {
     "data": {
      "text/plain": [
       "(2000, 37)"
      ]
     },
     "execution_count": 10,
     "metadata": {},
     "output_type": "execute_result"
    }
   ],
   "source": [
    "%%time\n",
    "## same as above, but with normalized vectors\n",
    "node_vectors_norm = normalize(node_vectors, axis=1, norm='l1')\n",
    "graphs_embed_norm = vectorizers.ApproximateWassersteinVectorizer(\n",
    "    normalization_power=0.66,\n",
    "    random_state=42,\n",
    ").fit_transform(incidence_matrix, vectors=node_vectors_norm)\n",
    "graphs_embed_norm.shape"
   ]
  },
  {
   "cell_type": "markdown",
   "id": "707a3ea6",
   "metadata": {},
   "source": [
    "## Recursive part - looking at each node's neighbourhood\n",
    "\n",
    "This is based on Valerie's experiment: https://github.com/vpoulin/graphs-Vectorization\n",
    "\n",
    "We do a single iteration below.\n"
   ]
  },
  {
   "cell_type": "code",
   "execution_count": 11,
   "id": "3b60a942",
   "metadata": {},
   "outputs": [
    {
     "data": {
      "text/plain": [
       "851133"
      ]
     },
     "execution_count": 11,
     "metadata": {},
     "output_type": "execute_result"
    }
   ],
   "source": [
    "## some work req'd as we kept only the giant components from overall graph G\n",
    "## we could speed this up when building G in the first place if required (TBD)\n",
    "G_pruned = G.copy()\n",
    "drop = set()\n",
    "for i in list(set(G_pruned.vs['graph'])):\n",
    "    sg = G_pruned.subgraph(np.where(np.array(G_pruned.vs['graph']) == i)[0].tolist()).connected_components().giant()\n",
    "    ssg = G_pruned.subgraph(np.where(np.array(G_pruned.vs['graph']) == i)[0].tolist())\n",
    "    if sg.vcount() != ssg.vcount():\n",
    "        drop = drop.union(set(ssg.vs['name']) - set(sg.vs['name']))\n",
    "G_pruned.delete_vertices([G_pruned.vs.find(name=x).index for x in drop])\n",
    "G_pruned.vcount()\n"
   ]
  },
  {
   "cell_type": "code",
   "execution_count": 12,
   "id": "7c60854a",
   "metadata": {},
   "outputs": [
    {
     "name": "stdout",
     "output_type": "stream",
     "text": [
      "CPU times: user 8 s, sys: 180 ms, total: 8.18 s\n",
      "Wall time: 8.17 s\n"
     ]
    }
   ],
   "source": [
    "%%time\n",
    "## incidence matrix\n",
    "node_incidence_matrix = G_pruned.get_adjacency_sparse()\n",
    "node_incidence_matrix.setdiag(1) ## add self to neighbourhoods\n"
   ]
  },
  {
   "cell_type": "code",
   "execution_count": 13,
   "id": "219d219f",
   "metadata": {},
   "outputs": [
    {
     "name": "stdout",
     "output_type": "stream",
     "text": [
      "CPU times: user 59 s, sys: 1min 38s, total: 2min 37s\n",
      "Wall time: 21.1 s\n"
     ]
    }
   ],
   "source": [
    "%%time\n",
    "## apply recursion\n",
    "n_components = node_vectors.shape[1]\n",
    "svd = TruncatedSVD(n_components=n_components)\n",
    "\n",
    "node_vectors_expand = vectorizers.ApproximateWassersteinVectorizer(\n",
    "    normalization_power=0.66,\n",
    "    random_state=42,\n",
    ").fit_transform(node_incidence_matrix, vectors=node_vectors_norm)\n",
    "\n",
    "node_vectors_expand = normalize(node_vectors_expand, axis=1, norm='l1')\n",
    "\n",
    "graphs_embed_expand = vectorizers.ApproximateWassersteinVectorizer(\n",
    "    random_state=42,\n",
    "    normalization_power=0.66,\n",
    ").fit_transform(incidence_matrix, vectors=np.hstack([node_vectors_norm,node_vectors_expand]))\n",
    "graphs_embed_expand_svd = svd.fit_transform(graphs_embed_expand)\n"
   ]
  },
  {
   "cell_type": "code",
   "execution_count": 14,
   "id": "4039eb33-4190-4e44-82bd-ca9a030f550d",
   "metadata": {},
   "outputs": [],
   "source": [
    "##save results\n",
    "import pickle\n",
    "fn = 'Results/expander_'+dataset+'.pkl'\n",
    "with open(fn,'wb') as fp:\n",
    "    pickle.dump( (graphs_embed,\n",
    "                  graphs_embed_norm,\n",
    "                  graphs_embed_expand,\n",
    "                  graphs_embed_expand_svd), \n",
    "                  fp\n",
    "    )\n"
   ]
  },
  {
   "cell_type": "code",
   "execution_count": 15,
   "id": "6da0299e",
   "metadata": {},
   "outputs": [
    {
     "name": "stdout",
     "output_type": "stream",
     "text": [
      "2000 859233 851133\n"
     ]
    }
   ],
   "source": [
    "print(len(set(G.vs['graph'])), G.vcount(), G_pruned.vcount())"
   ]
  },
  {
   "cell_type": "code",
   "execution_count": 16,
   "id": "1c02e687",
   "metadata": {},
   "outputs": [
    {
     "data": {
      "text/plain": [
       "[0, 1, 2, 3, 4, 5, 6, 7, 8, 9]"
      ]
     },
     "execution_count": 16,
     "metadata": {},
     "output_type": "execute_result"
    }
   ],
   "source": [
    "sgnx = sg.to_networkx()\n",
    "[sgnx.nodes[i]['_igraph_index'] for i in range(10)]"
   ]
  },
  {
   "cell_type": "code",
   "execution_count": 17,
   "id": "e8817db2",
   "metadata": {
    "scrolled": true
   },
   "outputs": [
    {
     "data": {
      "text/plain": [
       "-0.28825622775800713"
      ]
     },
     "execution_count": 17,
     "metadata": {},
     "output_type": "execute_result"
    }
   ],
   "source": [
    "import networkx as nx\n",
    "nx.degree_assortativity_coefficient(sgnx,nodes=[0,1,2,3])"
   ]
  },
  {
   "cell_type": "code",
   "execution_count": null,
   "id": "81263e7e",
   "metadata": {},
   "outputs": [],
   "source": []
  }
 ],
 "metadata": {
  "kernelspec": {
   "display_name": "Python [conda env:vector]",
   "language": "python",
   "name": "conda-env-vector-py"
  },
  "language_info": {
   "codemirror_mode": {
    "name": "ipython",
    "version": 3
   },
   "file_extension": ".py",
   "mimetype": "text/x-python",
   "name": "python",
   "nbconvert_exporter": "python",
   "pygments_lexer": "ipython3",
   "version": "3.11.4"
  }
 },
 "nbformat": 4,
 "nbformat_minor": 5
}
