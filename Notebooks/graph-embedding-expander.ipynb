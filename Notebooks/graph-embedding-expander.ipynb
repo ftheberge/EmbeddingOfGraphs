{
 "cells": [
  {
   "cell_type": "code",
   "execution_count": 1,
   "id": "98c21936",
   "metadata": {},
   "outputs": [],
   "source": [
    "import warnings\n",
    "warnings.simplefilter(\"ignore\")\n",
    "import numpy as np\n",
    "import pandas as pd\n",
    "import matplotlib.pyplot as plt\n",
    "from sklearn.decomposition import TruncatedSVD\n",
    "from sklearn.preprocessing import normalize\n",
    "import scipy.sparse\n",
    "import vectorizers\n",
    "import vectorizers.transformers\n",
    "import igraph as ig\n",
    "from scipy.sparse import vstack\n",
    "from collections import Counter\n",
    "import sklearn.model_selection\n",
    "import sklearn.ensemble\n",
    "import sklearn.linear_model\n",
    "import sklearn.neural_network\n",
    "import sklearn.neighbors\n"
   ]
  },
  {
   "cell_type": "markdown",
   "id": "8662753f",
   "metadata": {},
   "source": [
    "# Datasets\n",
    "\n",
    "Dataset; #graphs; #nodes; #nodes in giant comps\n",
    "\n",
    "* MUTAG; 188; 3,371; 3,371\n",
    "* BZR; 405; 14,479; 14,479\n",
    "* NCI1; 4110; 122,747; 119,345\n",
    "* NCI109; 4127; 122,494; 119,162\n",
    "* IMDB-BINARY; 1000; 19,773; 19,773\n",
    "* REDDIT-BINARY; 2000; 859,254; 851,133\n"
   ]
  },
  {
   "cell_type": "code",
   "execution_count": 2,
   "id": "ae717a35",
   "metadata": {},
   "outputs": [],
   "source": [
    "dataset = 'BZR'\n",
    "datadir = '../Data/'+dataset+'/'+dataset\n",
    "\n",
    "## read data from folder\n",
    "fn_edges = datadir+'.edges'\n",
    "fn_graph_id = datadir+'.graph_id'\n",
    "fn_graph_label = datadir+'.graph_labels'\n"
   ]
  },
  {
   "cell_type": "code",
   "execution_count": 3,
   "id": "dd4b0172",
   "metadata": {},
   "outputs": [
    {
     "name": "stdout",
     "output_type": "stream",
     "text": [
      "number of graphs: 405\n"
     ]
    }
   ],
   "source": [
    "## read edges, build overall graph\n",
    "with open(fn_edges) as f:\n",
    "    E = [tuple(map(int,x.strip().split(','))) for x in f.readlines()]\n",
    "G = ig.Graph.TupleList(E, directed=True).as_undirected()\n",
    "\n",
    "## read subgraph node memberships (subgraphs names are 1-based)\n",
    "with open(fn_graph_id) as f:\n",
    "    sg_mem = [int(x.strip())-1 for x in f.readlines()]\n",
    "\n",
    "## build dictionary (node names are 1-based)\n",
    "graph_dict = {(x+1):y for x,y in enumerate(sg_mem)}\n",
    "for v in G.vs:\n",
    "    v['graph'] = graph_dict[v['name']]\n",
    "\n",
    "## read graph labels\n",
    "with open(fn_graph_label) as f:\n",
    "    graph_labels = [int(x.strip()) for x in f.readlines()]\n",
    "print('number of graphs:',len(graph_labels))\n"
   ]
  },
  {
   "cell_type": "code",
   "execution_count": 4,
   "id": "e80f2019",
   "metadata": {
    "scrolled": false
   },
   "outputs": [
    {
     "data": {
      "image/svg+xml": [
       "<?xml version=\"1.0\" encoding=\"UTF-8\"?>\n",
       "<svg xmlns=\"http://www.w3.org/2000/svg\" xmlns:xlink=\"http://www.w3.org/1999/xlink\" width=\"300pt\" height=\"300pt\" viewBox=\"0 0 300 300\" version=\"1.1\">\n",
       "<g id=\"surface2\">\n",
       "<rect x=\"0\" y=\"0\" width=\"300\" height=\"300\" style=\"fill:rgb(100%,100%,100%);fill-opacity:1;stroke:none;\"/>\n",
       "<path style=\"fill:none;stroke-width:1;stroke-linecap:butt;stroke-linejoin:miter;stroke:rgb(26.666667%,26.666667%,26.666667%);stroke-opacity:1;stroke-miterlimit:10;\" d=\"M 177.554688 231.929688 L 145.273438 248.390625 \"/>\n",
       "<path style=\"fill:none;stroke-width:1;stroke-linecap:butt;stroke-linejoin:miter;stroke:rgb(26.666667%,26.666667%,26.666667%);stroke-opacity:1;stroke-miterlimit:10;\" d=\"M 145.273438 248.390625 L 117.566406 225.957031 \"/>\n",
       "<path style=\"fill:none;stroke-width:1;stroke-linecap:butt;stroke-linejoin:miter;stroke:rgb(26.666667%,26.666667%,26.666667%);stroke-opacity:1;stroke-miterlimit:10;\" d=\"M 145.273438 248.390625 L 143.824219 280 \"/>\n",
       "<path style=\"fill:none;stroke-width:1;stroke-linecap:butt;stroke-linejoin:miter;stroke:rgb(26.666667%,26.666667%,26.666667%);stroke-opacity:1;stroke-miterlimit:10;\" d=\"M 177.554688 231.929688 L 176.28125 198.148438 \"/>\n",
       "<path style=\"fill:none;stroke-width:1;stroke-linecap:butt;stroke-linejoin:miter;stroke:rgb(26.666667%,26.666667%,26.666667%);stroke-opacity:1;stroke-miterlimit:10;\" d=\"M 177.554688 231.929688 L 205.753906 253.03125 \"/>\n",
       "<path style=\"fill:none;stroke-width:1;stroke-linecap:butt;stroke-linejoin:miter;stroke:rgb(26.666667%,26.666667%,26.666667%);stroke-opacity:1;stroke-miterlimit:10;\" d=\"M 176.28125 198.148438 L 149.582031 172.757812 \"/>\n",
       "<path style=\"fill:none;stroke-width:1;stroke-linecap:butt;stroke-linejoin:miter;stroke:rgb(26.666667%,26.666667%,26.666667%);stroke-opacity:1;stroke-miterlimit:10;\" d=\"M 176.28125 198.148438 L 212.097656 202.652344 \"/>\n",
       "<path style=\"fill:none;stroke-width:1;stroke-linecap:butt;stroke-linejoin:miter;stroke:rgb(26.666667%,26.666667%,26.666667%);stroke-opacity:1;stroke-miterlimit:10;\" d=\"M 117.566406 225.957031 L 115.617188 192.015625 \"/>\n",
       "<path style=\"fill:none;stroke-width:1;stroke-linecap:butt;stroke-linejoin:miter;stroke:rgb(26.666667%,26.666667%,26.666667%);stroke-opacity:1;stroke-miterlimit:10;\" d=\"M 149.582031 172.757812 L 115.617188 192.015625 \"/>\n",
       "<path style=\"fill:none;stroke-width:1;stroke-linecap:butt;stroke-linejoin:miter;stroke:rgb(26.666667%,26.666667%,26.666667%);stroke-opacity:1;stroke-miterlimit:10;\" d=\"M 149.582031 172.757812 L 150.402344 137.625 \"/>\n",
       "<path style=\"fill:none;stroke-width:1;stroke-linecap:butt;stroke-linejoin:miter;stroke:rgb(26.666667%,26.666667%,26.666667%);stroke-opacity:1;stroke-miterlimit:10;\" d=\"M 115.617188 192.015625 L 77.128906 184.753906 \"/>\n",
       "<path style=\"fill:none;stroke-width:1;stroke-linecap:butt;stroke-linejoin:miter;stroke:rgb(26.666667%,26.666667%,26.666667%);stroke-opacity:1;stroke-miterlimit:10;\" d=\"M 117.566406 225.957031 L 92.101562 249.238281 \"/>\n",
       "<path style=\"fill:none;stroke-width:1;stroke-linecap:butt;stroke-linejoin:miter;stroke:rgb(26.666667%,26.666667%,26.666667%);stroke-opacity:1;stroke-miterlimit:10;\" d=\"M 150.402344 137.625 L 112.75 126.769531 \"/>\n",
       "<path style=\"fill:none;stroke-width:1;stroke-linecap:butt;stroke-linejoin:miter;stroke:rgb(26.666667%,26.666667%,26.666667%);stroke-opacity:1;stroke-miterlimit:10;\" d=\"M 150.402344 137.625 L 177.488281 111.476562 \"/>\n",
       "<path style=\"fill:none;stroke-width:1;stroke-linecap:butt;stroke-linejoin:miter;stroke:rgb(26.666667%,26.666667%,26.666667%);stroke-opacity:1;stroke-miterlimit:10;\" d=\"M 112.75 126.769531 L 73.570312 127.285156 \"/>\n",
       "<path style=\"fill:none;stroke-width:1;stroke-linecap:butt;stroke-linejoin:miter;stroke:rgb(26.666667%,26.666667%,26.666667%);stroke-opacity:1;stroke-miterlimit:10;\" d=\"M 77.128906 184.753906 L 57.863281 157.445312 \"/>\n",
       "<path style=\"fill:none;stroke-width:1;stroke-linecap:butt;stroke-linejoin:miter;stroke:rgb(26.666667%,26.666667%,26.666667%);stroke-opacity:1;stroke-miterlimit:10;\" d=\"M 73.570312 127.285156 L 57.863281 157.445312 \"/>\n",
       "<path style=\"fill:none;stroke-width:1;stroke-linecap:butt;stroke-linejoin:miter;stroke:rgb(26.666667%,26.666667%,26.666667%);stroke-opacity:1;stroke-miterlimit:10;\" d=\"M 73.570312 127.285156 L 59.105469 98.234375 \"/>\n",
       "<path style=\"fill:none;stroke-width:1;stroke-linecap:butt;stroke-linejoin:miter;stroke:rgb(26.666667%,26.666667%,26.666667%);stroke-opacity:1;stroke-miterlimit:10;\" d=\"M 73.570312 127.285156 L 38.90625 115.164062 \"/>\n",
       "<path style=\"fill:none;stroke-width:1;stroke-linecap:butt;stroke-linejoin:miter;stroke:rgb(26.666667%,26.666667%,26.666667%);stroke-opacity:1;stroke-miterlimit:10;\" d=\"M 57.863281 157.445312 L 20 160.617188 \"/>\n",
       "<path style=\"fill:none;stroke-width:1;stroke-linecap:butt;stroke-linejoin:miter;stroke:rgb(26.666667%,26.666667%,26.666667%);stroke-opacity:1;stroke-miterlimit:10;\" d=\"M 77.128906 184.753906 L 46.75 203.933594 \"/>\n",
       "<path style=\"fill:none;stroke-width:1;stroke-linecap:butt;stroke-linejoin:miter;stroke:rgb(26.666667%,26.666667%,26.666667%);stroke-opacity:1;stroke-miterlimit:10;\" d=\"M 177.488281 111.476562 L 173.828125 77.492188 \"/>\n",
       "<path style=\"fill:none;stroke-width:1;stroke-linecap:butt;stroke-linejoin:miter;stroke:rgb(26.666667%,26.666667%,26.666667%);stroke-opacity:1;stroke-miterlimit:10;\" d=\"M 177.488281 111.476562 L 216.914062 108.148438 \"/>\n",
       "<path style=\"fill:none;stroke-width:1;stroke-linecap:butt;stroke-linejoin:miter;stroke:rgb(26.666667%,26.666667%,26.666667%);stroke-opacity:1;stroke-miterlimit:10;\" d=\"M 173.828125 77.492188 L 198.121094 51.148438 \"/>\n",
       "<path style=\"fill:none;stroke-width:1;stroke-linecap:butt;stroke-linejoin:miter;stroke:rgb(26.666667%,26.666667%,26.666667%);stroke-opacity:1;stroke-miterlimit:10;\" d=\"M 173.828125 77.492188 L 148.15625 54.792969 \"/>\n",
       "<path style=\"fill:none;stroke-width:1;stroke-linecap:butt;stroke-linejoin:miter;stroke:rgb(26.666667%,26.666667%,26.666667%);stroke-opacity:1;stroke-miterlimit:10;\" d=\"M 198.121094 51.148438 L 235.90625 50.761719 \"/>\n",
       "<path style=\"fill:none;stroke-width:1;stroke-linecap:butt;stroke-linejoin:miter;stroke:rgb(26.666667%,26.666667%,26.666667%);stroke-opacity:1;stroke-miterlimit:10;\" d=\"M 198.121094 51.148438 L 189.429688 20 \"/>\n",
       "<path style=\"fill:none;stroke-width:1;stroke-linecap:butt;stroke-linejoin:miter;stroke:rgb(26.666667%,26.666667%,26.666667%);stroke-opacity:1;stroke-miterlimit:10;\" d=\"M 216.914062 108.148438 L 242.644531 82.667969 \"/>\n",
       "<path style=\"fill:none;stroke-width:1;stroke-linecap:butt;stroke-linejoin:miter;stroke:rgb(26.666667%,26.666667%,26.666667%);stroke-opacity:1;stroke-miterlimit:10;\" d=\"M 235.90625 50.761719 L 242.644531 82.667969 \"/>\n",
       "<path style=\"fill:none;stroke-width:1;stroke-linecap:butt;stroke-linejoin:miter;stroke:rgb(26.666667%,26.666667%,26.666667%);stroke-opacity:1;stroke-miterlimit:10;\" d=\"M 235.90625 50.761719 L 259.039062 26.667969 \"/>\n",
       "<path style=\"fill:none;stroke-width:1;stroke-linecap:butt;stroke-linejoin:miter;stroke:rgb(26.666667%,26.666667%,26.666667%);stroke-opacity:1;stroke-miterlimit:10;\" d=\"M 242.644531 82.667969 L 280 83.796875 \"/>\n",
       "<path style=\"fill:none;stroke-width:1;stroke-linecap:butt;stroke-linejoin:miter;stroke:rgb(26.666667%,26.666667%,26.666667%);stroke-opacity:1;stroke-miterlimit:10;\" d=\"M 216.914062 108.148438 L 247.679688 125.117188 \"/>\n",
       "<path style=\"fill-rule:nonzero;fill:rgb(100%,0%,0%);fill-opacity:1;stroke-width:1;stroke-linecap:butt;stroke-linejoin:miter;stroke:rgb(0%,0%,0%);stroke-opacity:1;stroke-miterlimit:10;\" d=\"M 181.554688 231.929688 C 181.554688 237.261719 173.554688 237.261719 173.554688 231.929688 C 173.554688 226.59375 181.554688 226.59375 181.554688 231.929688 \"/>\n",
       "<path style=\"fill-rule:nonzero;fill:rgb(100%,0%,0%);fill-opacity:1;stroke-width:1;stroke-linecap:butt;stroke-linejoin:miter;stroke:rgb(0%,0%,0%);stroke-opacity:1;stroke-miterlimit:10;\" d=\"M 149.273438 248.390625 C 149.273438 253.722656 141.273438 253.722656 141.273438 248.390625 C 141.273438 243.058594 149.273438 243.058594 149.273438 248.390625 \"/>\n",
       "<path style=\"fill-rule:nonzero;fill:rgb(100%,0%,0%);fill-opacity:1;stroke-width:1;stroke-linecap:butt;stroke-linejoin:miter;stroke:rgb(0%,0%,0%);stroke-opacity:1;stroke-miterlimit:10;\" d=\"M 121.566406 225.957031 C 121.566406 231.289062 113.566406 231.289062 113.566406 225.957031 C 113.566406 220.625 121.566406 220.625 121.566406 225.957031 \"/>\n",
       "<path style=\"fill-rule:nonzero;fill:rgb(100%,0%,0%);fill-opacity:1;stroke-width:1;stroke-linecap:butt;stroke-linejoin:miter;stroke:rgb(0%,0%,0%);stroke-opacity:1;stroke-miterlimit:10;\" d=\"M 147.824219 280 C 147.824219 285.332031 139.824219 285.332031 139.824219 280 C 139.824219 274.667969 147.824219 274.667969 147.824219 280 \"/>\n",
       "<path style=\"fill-rule:nonzero;fill:rgb(100%,0%,0%);fill-opacity:1;stroke-width:1;stroke-linecap:butt;stroke-linejoin:miter;stroke:rgb(0%,0%,0%);stroke-opacity:1;stroke-miterlimit:10;\" d=\"M 180.28125 198.148438 C 180.28125 203.480469 172.28125 203.480469 172.28125 198.148438 C 172.28125 192.816406 180.28125 192.816406 180.28125 198.148438 \"/>\n",
       "<path style=\"fill-rule:nonzero;fill:rgb(100%,0%,0%);fill-opacity:1;stroke-width:1;stroke-linecap:butt;stroke-linejoin:miter;stroke:rgb(0%,0%,0%);stroke-opacity:1;stroke-miterlimit:10;\" d=\"M 209.753906 253.03125 C 209.753906 258.363281 201.753906 258.363281 201.753906 253.03125 C 201.753906 247.699219 209.753906 247.699219 209.753906 253.03125 \"/>\n",
       "<path style=\"fill-rule:nonzero;fill:rgb(100%,0%,0%);fill-opacity:1;stroke-width:1;stroke-linecap:butt;stroke-linejoin:miter;stroke:rgb(0%,0%,0%);stroke-opacity:1;stroke-miterlimit:10;\" d=\"M 153.582031 172.757812 C 153.582031 178.089844 145.582031 178.089844 145.582031 172.757812 C 145.582031 167.425781 153.582031 167.425781 153.582031 172.757812 \"/>\n",
       "<path style=\"fill-rule:nonzero;fill:rgb(100%,0%,0%);fill-opacity:1;stroke-width:1;stroke-linecap:butt;stroke-linejoin:miter;stroke:rgb(0%,0%,0%);stroke-opacity:1;stroke-miterlimit:10;\" d=\"M 216.097656 202.652344 C 216.097656 207.988281 208.097656 207.988281 208.097656 202.652344 C 208.097656 197.320312 216.097656 197.320312 216.097656 202.652344 \"/>\n",
       "<path style=\"fill-rule:nonzero;fill:rgb(100%,0%,0%);fill-opacity:1;stroke-width:1;stroke-linecap:butt;stroke-linejoin:miter;stroke:rgb(0%,0%,0%);stroke-opacity:1;stroke-miterlimit:10;\" d=\"M 119.617188 192.015625 C 119.617188 197.351562 111.617188 197.351562 111.617188 192.015625 C 111.617188 186.683594 119.617188 186.683594 119.617188 192.015625 \"/>\n",
       "<path style=\"fill-rule:nonzero;fill:rgb(100%,0%,0%);fill-opacity:1;stroke-width:1;stroke-linecap:butt;stroke-linejoin:miter;stroke:rgb(0%,0%,0%);stroke-opacity:1;stroke-miterlimit:10;\" d=\"M 154.402344 137.625 C 154.402344 142.957031 146.402344 142.957031 146.402344 137.625 C 146.402344 132.289062 154.402344 132.289062 154.402344 137.625 \"/>\n",
       "<path style=\"fill-rule:nonzero;fill:rgb(100%,0%,0%);fill-opacity:1;stroke-width:1;stroke-linecap:butt;stroke-linejoin:miter;stroke:rgb(0%,0%,0%);stroke-opacity:1;stroke-miterlimit:10;\" d=\"M 81.128906 184.753906 C 81.128906 190.085938 73.128906 190.085938 73.128906 184.753906 C 73.128906 179.421875 81.128906 179.421875 81.128906 184.753906 \"/>\n",
       "<path style=\"fill-rule:nonzero;fill:rgb(100%,0%,0%);fill-opacity:1;stroke-width:1;stroke-linecap:butt;stroke-linejoin:miter;stroke:rgb(0%,0%,0%);stroke-opacity:1;stroke-miterlimit:10;\" d=\"M 96.101562 249.238281 C 96.101562 254.574219 88.101562 254.574219 88.101562 249.238281 C 88.101562 243.90625 96.101562 243.90625 96.101562 249.238281 \"/>\n",
       "<path style=\"fill-rule:nonzero;fill:rgb(100%,0%,0%);fill-opacity:1;stroke-width:1;stroke-linecap:butt;stroke-linejoin:miter;stroke:rgb(0%,0%,0%);stroke-opacity:1;stroke-miterlimit:10;\" d=\"M 116.75 126.769531 C 116.75 132.101562 108.75 132.101562 108.75 126.769531 C 108.75 121.4375 116.75 121.4375 116.75 126.769531 \"/>\n",
       "<path style=\"fill-rule:nonzero;fill:rgb(100%,0%,0%);fill-opacity:1;stroke-width:1;stroke-linecap:butt;stroke-linejoin:miter;stroke:rgb(0%,0%,0%);stroke-opacity:1;stroke-miterlimit:10;\" d=\"M 181.488281 111.476562 C 181.488281 116.808594 173.488281 116.808594 173.488281 111.476562 C 173.488281 106.140625 181.488281 106.140625 181.488281 111.476562 \"/>\n",
       "<path style=\"fill-rule:nonzero;fill:rgb(100%,0%,0%);fill-opacity:1;stroke-width:1;stroke-linecap:butt;stroke-linejoin:miter;stroke:rgb(0%,0%,0%);stroke-opacity:1;stroke-miterlimit:10;\" d=\"M 77.570312 127.285156 C 77.570312 132.617188 69.570312 132.617188 69.570312 127.285156 C 69.570312 121.949219 77.570312 121.949219 77.570312 127.285156 \"/>\n",
       "<path style=\"fill-rule:nonzero;fill:rgb(100%,0%,0%);fill-opacity:1;stroke-width:1;stroke-linecap:butt;stroke-linejoin:miter;stroke:rgb(0%,0%,0%);stroke-opacity:1;stroke-miterlimit:10;\" d=\"M 61.863281 157.445312 C 61.863281 162.78125 53.863281 162.78125 53.863281 157.445312 C 53.863281 152.113281 61.863281 152.113281 61.863281 157.445312 \"/>\n",
       "<path style=\"fill-rule:nonzero;fill:rgb(100%,0%,0%);fill-opacity:1;stroke-width:1;stroke-linecap:butt;stroke-linejoin:miter;stroke:rgb(0%,0%,0%);stroke-opacity:1;stroke-miterlimit:10;\" d=\"M 63.105469 98.234375 C 63.105469 103.566406 55.105469 103.566406 55.105469 98.234375 C 55.105469 92.898438 63.105469 92.898438 63.105469 98.234375 \"/>\n",
       "<path style=\"fill-rule:nonzero;fill:rgb(100%,0%,0%);fill-opacity:1;stroke-width:1;stroke-linecap:butt;stroke-linejoin:miter;stroke:rgb(0%,0%,0%);stroke-opacity:1;stroke-miterlimit:10;\" d=\"M 42.90625 115.164062 C 42.90625 120.496094 34.90625 120.496094 34.90625 115.164062 C 34.90625 109.828125 42.90625 109.828125 42.90625 115.164062 \"/>\n",
       "<path style=\"fill-rule:nonzero;fill:rgb(100%,0%,0%);fill-opacity:1;stroke-width:1;stroke-linecap:butt;stroke-linejoin:miter;stroke:rgb(0%,0%,0%);stroke-opacity:1;stroke-miterlimit:10;\" d=\"M 24 160.617188 C 24 165.953125 16 165.953125 16 160.617188 C 16 155.285156 24 155.285156 24 160.617188 \"/>\n",
       "<path style=\"fill-rule:nonzero;fill:rgb(100%,0%,0%);fill-opacity:1;stroke-width:1;stroke-linecap:butt;stroke-linejoin:miter;stroke:rgb(0%,0%,0%);stroke-opacity:1;stroke-miterlimit:10;\" d=\"M 50.75 203.933594 C 50.75 209.265625 42.75 209.265625 42.75 203.933594 C 42.75 198.601562 50.75 198.601562 50.75 203.933594 \"/>\n",
       "<path style=\"fill-rule:nonzero;fill:rgb(100%,0%,0%);fill-opacity:1;stroke-width:1;stroke-linecap:butt;stroke-linejoin:miter;stroke:rgb(0%,0%,0%);stroke-opacity:1;stroke-miterlimit:10;\" d=\"M 177.828125 77.492188 C 177.828125 82.824219 169.828125 82.824219 169.828125 77.492188 C 169.828125 72.15625 177.828125 72.15625 177.828125 77.492188 \"/>\n",
       "<path style=\"fill-rule:nonzero;fill:rgb(100%,0%,0%);fill-opacity:1;stroke-width:1;stroke-linecap:butt;stroke-linejoin:miter;stroke:rgb(0%,0%,0%);stroke-opacity:1;stroke-miterlimit:10;\" d=\"M 220.914062 108.148438 C 220.914062 113.480469 212.914062 113.480469 212.914062 108.148438 C 212.914062 102.816406 220.914062 102.816406 220.914062 108.148438 \"/>\n",
       "<path style=\"fill-rule:nonzero;fill:rgb(100%,0%,0%);fill-opacity:1;stroke-width:1;stroke-linecap:butt;stroke-linejoin:miter;stroke:rgb(0%,0%,0%);stroke-opacity:1;stroke-miterlimit:10;\" d=\"M 202.121094 51.148438 C 202.121094 56.480469 194.121094 56.480469 194.121094 51.148438 C 194.121094 45.8125 202.121094 45.8125 202.121094 51.148438 \"/>\n",
       "<path style=\"fill-rule:nonzero;fill:rgb(100%,0%,0%);fill-opacity:1;stroke-width:1;stroke-linecap:butt;stroke-linejoin:miter;stroke:rgb(0%,0%,0%);stroke-opacity:1;stroke-miterlimit:10;\" d=\"M 152.15625 54.792969 C 152.15625 60.125 144.15625 60.125 144.15625 54.792969 C 144.15625 49.457031 152.15625 49.457031 152.15625 54.792969 \"/>\n",
       "<path style=\"fill-rule:nonzero;fill:rgb(100%,0%,0%);fill-opacity:1;stroke-width:1;stroke-linecap:butt;stroke-linejoin:miter;stroke:rgb(0%,0%,0%);stroke-opacity:1;stroke-miterlimit:10;\" d=\"M 239.90625 50.761719 C 239.90625 56.09375 231.90625 56.09375 231.90625 50.761719 C 231.90625 45.429688 239.90625 45.429688 239.90625 50.761719 \"/>\n",
       "<path style=\"fill-rule:nonzero;fill:rgb(100%,0%,0%);fill-opacity:1;stroke-width:1;stroke-linecap:butt;stroke-linejoin:miter;stroke:rgb(0%,0%,0%);stroke-opacity:1;stroke-miterlimit:10;\" d=\"M 193.429688 20 C 193.429688 25.332031 185.429688 25.332031 185.429688 20 C 185.429688 14.667969 193.429688 14.667969 193.429688 20 \"/>\n",
       "<path style=\"fill-rule:nonzero;fill:rgb(100%,0%,0%);fill-opacity:1;stroke-width:1;stroke-linecap:butt;stroke-linejoin:miter;stroke:rgb(0%,0%,0%);stroke-opacity:1;stroke-miterlimit:10;\" d=\"M 246.644531 82.667969 C 246.644531 88 238.644531 88 238.644531 82.667969 C 238.644531 77.332031 246.644531 77.332031 246.644531 82.667969 \"/>\n",
       "<path style=\"fill-rule:nonzero;fill:rgb(100%,0%,0%);fill-opacity:1;stroke-width:1;stroke-linecap:butt;stroke-linejoin:miter;stroke:rgb(0%,0%,0%);stroke-opacity:1;stroke-miterlimit:10;\" d=\"M 263.039062 26.667969 C 263.039062 32.003906 255.039062 32.003906 255.039062 26.667969 C 255.039062 21.335938 263.039062 21.335938 263.039062 26.667969 \"/>\n",
       "<path style=\"fill-rule:nonzero;fill:rgb(100%,0%,0%);fill-opacity:1;stroke-width:1;stroke-linecap:butt;stroke-linejoin:miter;stroke:rgb(0%,0%,0%);stroke-opacity:1;stroke-miterlimit:10;\" d=\"M 284 83.796875 C 284 89.132812 276 89.132812 276 83.796875 C 276 78.464844 284 78.464844 284 83.796875 \"/>\n",
       "<path style=\"fill-rule:nonzero;fill:rgb(100%,0%,0%);fill-opacity:1;stroke-width:1;stroke-linecap:butt;stroke-linejoin:miter;stroke:rgb(0%,0%,0%);stroke-opacity:1;stroke-miterlimit:10;\" d=\"M 251.679688 125.117188 C 251.679688 130.453125 243.679688 130.453125 243.679688 125.117188 C 243.679688 119.785156 251.679688 119.785156 251.679688 125.117188 \"/>\n",
       "</g>\n",
       "</svg>\n"
      ],
      "text/plain": [
       "<igraph.drawing.cairo.plot.CairoPlot at 0x166653710>"
      ]
     },
     "execution_count": 4,
     "metadata": {
      "image/svg+xml": {
       "isolated": true
      }
     },
     "output_type": "execute_result"
    }
   ],
   "source": [
    "## subgraphs - example\n",
    "sg_id = 0\n",
    "sg = G.subgraph(np.where(np.array(G.vs['graph']) == sg_id)[0].tolist())\n",
    "ig.plot(sg, bbox=(300,300), vertex_size=8)"
   ]
  },
  {
   "cell_type": "markdown",
   "id": "1a2befff",
   "metadata": {},
   "source": [
    "### Method 1 - Expander-based Node Features\n",
    "\n",
    "For every \"small\" graphs, compute some features derived from expansion properties of vertices.\n",
    "\n",
    "See details in our blog post.\n",
    "\n",
    "We can ignore the **node labels** if we want to compare with methods that rely only on the graph structure.\n"
   ]
  },
  {
   "cell_type": "code",
   "execution_count": 5,
   "id": "9bf3fb24",
   "metadata": {},
   "outputs": [],
   "source": [
    "## by default, we ignore vertex labels.\n",
    "def get_sg_features(sg, depth=7, add_features=False):\n",
    "    F = []\n",
    "    n = sg.vcount()\n",
    "    m = sg.ecount()\n",
    "    sg.vs['deg'] = sg.degree()\n",
    "    Excess = np.array(sg.degree())-1\n",
    "    Exp_q = (sum((Excess+1)*Excess)/(2*m))\n",
    "    Var_q = sum((Excess+1)*Excess*Excess)/(2*m) - Exp_q**2\n",
    "    if Var_q > 0:\n",
    "        sg.vs['assort'] = Excess*(Excess+1)*(np.array([np.mean([Excess[j] for j in sg.neighbors(i)]) for i in range(n)]) - Exp_q)/(2*m*Var_q)\n",
    "    else:\n",
    "        sg.vs['assort'] = 1\n",
    "    \n",
    "    if add_features:\n",
    "        features = [np.array(sg.degree()),\n",
    "                    sg.transitivity_local_undirected(mode='zero'),\n",
    "                    np.array(sg.betweenness())/n**2,\n",
    "                    sg.pagerank(),\n",
    "                    np.array(sg.coreness()),\n",
    "                    sg.vs['assort']\n",
    "                   ] \n",
    "        for j in range(len(features)):\n",
    "            F.append(features[j])\n",
    "    ## now consider increading depths\n",
    "    for i in range(depth):\n",
    "        current = sg.neighborhood_size(order=i+1)\n",
    "        ## expanding proportion\n",
    "        F.append([j/n for j in current])\n",
    "        ## relative expanding properties\n",
    "        if i>0:\n",
    "            F.append([j / k for j, k in zip(current, previous)])\n",
    "        previous = current\n",
    "        ## aggregate of other features at this depth\n",
    "        if add_features:\n",
    "            sg_nei = sg.neighborhood(order=i+1)\n",
    "            for j in range(len(features)):\n",
    "                F.append([np.mean([features[j][k] for k in x]) for x in sg_nei])\n",
    "    F = np.array(F).transpose()\n",
    "    return F"
   ]
  },
  {
   "cell_type": "markdown",
   "id": "a29ba611",
   "metadata": {},
   "source": [
    "### Input format\n",
    "\n",
    "* **node_features**: array (length = number of graphs) of arrays of size \"number of vertices x number of features\"\n",
    "\n",
    "Below, we prepare the data we have in this format."
   ]
  },
  {
   "cell_type": "code",
   "execution_count": 6,
   "id": "f1ab254a",
   "metadata": {},
   "outputs": [
    {
     "name": "stdout",
     "output_type": "stream",
     "text": [
      "250\n",
      "CPU times: user 5.56 s, sys: 42 ms, total: 5.6 s\n",
      "Wall time: 5.63 s\n"
     ]
    }
   ],
   "source": [
    "%%time\n",
    "## feature for every graph - this is the slowest part\n",
    "node_features = []\n",
    "rows = []\n",
    "ctr = 1\n",
    "for i in list(set(G.vs['graph'])):\n",
    "    ## we keep the giant component for each small graph\n",
    "    sg = G.subgraph(np.where(np.array(G.vs['graph']) == i)[0].tolist()).connected_components().giant()\n",
    "    node_features.append(get_sg_features(sg, depth=7, add_features=True))\n",
    "    rows.extend(np.repeat(i,sg.vcount()))\n",
    "    ctr += 1\n",
    "    if ctr % 250 == 0:\n",
    "        print(ctr)\n",
    "node_features = np.array(node_features, dtype=object)\n"
   ]
  },
  {
   "cell_type": "markdown",
   "id": "9fee9714",
   "metadata": {},
   "source": [
    "### first step - build (graphs x nodes) sparse incidence matrix\n"
   ]
  },
  {
   "cell_type": "code",
   "execution_count": 7,
   "id": "df7ee582",
   "metadata": {},
   "outputs": [],
   "source": [
    "## consider all node's feature vectors\n",
    "node_vectors = np.vstack(node_features)"
   ]
  },
  {
   "cell_type": "code",
   "execution_count": 8,
   "id": "ddc6b9e7",
   "metadata": {},
   "outputs": [
    {
     "name": "stdout",
     "output_type": "stream",
     "text": [
      "CPU times: user 3.01 ms, sys: 1.32 ms, total: 4.33 ms\n",
      "Wall time: 4.26 ms\n"
     ]
    },
    {
     "data": {
      "text/plain": [
       "<405x14479 sparse matrix of type '<class 'numpy.float32'>'\n",
       "\twith 14479 stored elements in Compressed Sparse Row format>"
      ]
     },
     "execution_count": 8,
     "metadata": {},
     "output_type": "execute_result"
    }
   ],
   "source": [
    "%%time\n",
    "## incidence - this is quite fast\n",
    "n = len(rows)\n",
    "cols = np.arange(n)\n",
    "incidence_matrix = scipy.sparse.csr_matrix((np.repeat(1.0,n).astype(np.float32), (rows, cols)))\n",
    "incidence_matrix"
   ]
  },
  {
   "cell_type": "markdown",
   "id": "d1a321b7",
   "metadata": {},
   "source": [
    "### second step - embed graphs via Wasserstein's"
   ]
  },
  {
   "cell_type": "code",
   "execution_count": 9,
   "id": "539a7d0d",
   "metadata": {},
   "outputs": [
    {
     "name": "stdout",
     "output_type": "stream",
     "text": [
      "CPU times: user 179 ms, sys: 78.6 ms, total: 257 ms\n",
      "Wall time: 52.9 ms\n"
     ]
    },
    {
     "data": {
      "text/plain": [
       "(405, 61)"
      ]
     },
     "execution_count": 9,
     "metadata": {},
     "output_type": "execute_result"
    }
   ],
   "source": [
    "%%time\n",
    "## embed the graphs via distributions over node vectors - also fast\n",
    "graphs_embed = vectorizers.ApproximateWassersteinVectorizer(\n",
    "    normalization_power=0.66,\n",
    "    random_state=42,\n",
    ").fit_transform(incidence_matrix, vectors=node_vectors)\n",
    "graphs_embed.shape"
   ]
  },
  {
   "cell_type": "code",
   "execution_count": 10,
   "id": "5a3d7e8b",
   "metadata": {},
   "outputs": [
    {
     "name": "stdout",
     "output_type": "stream",
     "text": [
      "CPU times: user 148 ms, sys: 98.6 ms, total: 246 ms\n",
      "Wall time: 41.7 ms\n"
     ]
    },
    {
     "data": {
      "text/plain": [
       "(405, 61)"
      ]
     },
     "execution_count": 10,
     "metadata": {},
     "output_type": "execute_result"
    }
   ],
   "source": [
    "%%time\n",
    "## same as above, but with normalized vectors\n",
    "node_vectors_norm = normalize(node_vectors, axis=1, norm='l1')\n",
    "graphs_embed_norm = vectorizers.ApproximateWassersteinVectorizer(\n",
    "    normalization_power=0.66,\n",
    "    random_state=42,\n",
    ").fit_transform(incidence_matrix, vectors=node_vectors_norm)\n",
    "graphs_embed_norm.shape"
   ]
  },
  {
   "cell_type": "markdown",
   "id": "707a3ea6",
   "metadata": {},
   "source": [
    "## Recursive part - looking at each node's neighbourhood\n",
    "\n",
    "This is based on Valerie's experiment: https://github.com/vpoulin/graphs-Vectorization\n",
    "\n",
    "We do a single iteration below.\n"
   ]
  },
  {
   "cell_type": "code",
   "execution_count": 11,
   "id": "3b60a942",
   "metadata": {},
   "outputs": [
    {
     "data": {
      "text/plain": [
       "14479"
      ]
     },
     "execution_count": 11,
     "metadata": {},
     "output_type": "execute_result"
    }
   ],
   "source": [
    "## some work req'd as we kept only the giant components from overall graph G\n",
    "## we could speed this up when building G in the first place if required (TBD)\n",
    "G_pruned = G.copy()\n",
    "drop = set()\n",
    "for i in list(set(G_pruned.vs['graph'])):\n",
    "    sg = G_pruned.subgraph(np.where(np.array(G_pruned.vs['graph']) == i)[0].tolist()).connected_components().giant()\n",
    "    ssg = G_pruned.subgraph(np.where(np.array(G_pruned.vs['graph']) == i)[0].tolist())\n",
    "    if sg.vcount() != ssg.vcount():\n",
    "        drop = drop.union(set(ssg.vs['name']) - set(sg.vs['name']))\n",
    "G_pruned.delete_vertices([G_pruned.vs.find(name=x).index for x in drop])\n",
    "G_pruned.vcount()\n"
   ]
  },
  {
   "cell_type": "code",
   "execution_count": 12,
   "id": "7c60854a",
   "metadata": {},
   "outputs": [
    {
     "name": "stdout",
     "output_type": "stream",
     "text": [
      "CPU times: user 128 ms, sys: 4.41 ms, total: 132 ms\n",
      "Wall time: 134 ms\n"
     ]
    }
   ],
   "source": [
    "%%time\n",
    "## incidence matrix\n",
    "node_incidence_matrix = G_pruned.get_adjacency_sparse()\n",
    "node_incidence_matrix.setdiag(1) ## add self to neighbourhoods\n"
   ]
  },
  {
   "cell_type": "code",
   "execution_count": 13,
   "id": "219d219f",
   "metadata": {},
   "outputs": [
    {
     "name": "stdout",
     "output_type": "stream",
     "text": [
      "CPU times: user 1.11 s, sys: 1.13 s, total: 2.24 s\n",
      "Wall time: 358 ms\n"
     ]
    }
   ],
   "source": [
    "%%time\n",
    "## apply recursion\n",
    "n_components = node_vectors.shape[1]\n",
    "svd = TruncatedSVD(n_components=n_components)\n",
    "\n",
    "node_vectors_expand = vectorizers.ApproximateWassersteinVectorizer(\n",
    "    normalization_power=0.66,\n",
    "    random_state=42,\n",
    ").fit_transform(node_incidence_matrix, vectors=node_vectors_norm)\n",
    "\n",
    "node_vectors_expand = normalize(node_vectors_expand, axis=1, norm='l1')\n",
    "\n",
    "graphs_embed_expand = vectorizers.ApproximateWassersteinVectorizer(\n",
    "    random_state=42,\n",
    "    normalization_power=0.66,\n",
    ").fit_transform(incidence_matrix, vectors=np.hstack([node_vectors_norm,node_vectors_expand]))\n",
    "graphs_embed_expand_svd = svd.fit_transform(graphs_embed_expand)\n"
   ]
  },
  {
   "cell_type": "code",
   "execution_count": 14,
   "id": "4039eb33-4190-4e44-82bd-ca9a030f550d",
   "metadata": {},
   "outputs": [],
   "source": [
    "##save results\n",
    "import pickle\n",
    "fn = 'Results/expander_'+dataset+'.pkl'\n",
    "with open(fn,'wb') as fp:\n",
    "    pickle.dump( (graphs_embed,\n",
    "                  graphs_embed_norm,\n",
    "                  graphs_embed_expand,\n",
    "                  graphs_embed_expand_svd), \n",
    "                  fp\n",
    "    )\n"
   ]
  },
  {
   "cell_type": "code",
   "execution_count": 15,
   "id": "6da0299e",
   "metadata": {
    "scrolled": true
   },
   "outputs": [
    {
     "name": "stdout",
     "output_type": "stream",
     "text": [
      "405 14479 14479\n"
     ]
    }
   ],
   "source": [
    "#print(len(set(G.vs['graph'])), G.vcount(), G_pruned.vcount())"
   ]
  },
  {
   "cell_type": "markdown",
   "id": "08043220",
   "metadata": {},
   "source": [
    "### Assortativity (local)"
   ]
  },
  {
   "cell_type": "raw",
   "id": "d4b9665e",
   "metadata": {},
   "source": [
    "sg_id = 35\n",
    "sg = G.subgraph(np.where(np.array(G.vs['graph']) == sg_id)[0].tolist())\n",
    "\n",
    "## local assortativity\n",
    "## Required: Excess, m, Var(q), \n",
    "Excess = np.array(sg.degree())-1\n",
    "m = sg.ecount()\n",
    "n = sg.vcount()\n",
    "Exp_q = (sum((Excess+1)*Excess)/(2*m))\n",
    "Var_q = sum((Excess+1)*Excess*Excess)/(2*m) - Exp_q**2\n",
    "assort = Excess*(Excess+1)*(np.array([np.mean([Excess[j] for j in sg.neighbors(i)]) for i in range(n)]) - Exp_q)/(2*m*Var_q)\n",
    "\n",
    "sg.vs['label'] = [ int(1000*assort[i])/1000 for i in range(len(assort)) ]\n",
    "sg.vs['size'] = 0\n",
    "ig.plot(sg, bbox=(400,300), vertex_label_size=8, vertex_color='lightblue', edge_color='lightgray')\n"
   ]
  }
 ],
 "metadata": {
  "kernelspec": {
   "display_name": "vector",
   "language": "python",
   "name": "vector"
  },
  "language_info": {
   "codemirror_mode": {
    "name": "ipython",
    "version": 3
   },
   "file_extension": ".py",
   "mimetype": "text/x-python",
   "name": "python",
   "nbconvert_exporter": "python",
   "pygments_lexer": "ipython3",
   "version": "3.11.3"
  }
 },
 "nbformat": 4,
 "nbformat_minor": 5
}
