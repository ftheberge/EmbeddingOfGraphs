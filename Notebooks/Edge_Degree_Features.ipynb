{
 "cells": [
  {
   "cell_type": "code",
   "execution_count": null,
   "id": "3eb00fbc",
   "metadata": {},
   "outputs": [],
   "source": [
    "import hdbscan\n",
    "import numpy as np\n",
    "import pandas as pd\n",
    "import matplotlib.pyplot as plt\n",
    "import sklearn.feature_extraction.text\n",
    "import sklearn.preprocessing\n",
    "import scipy.sparse\n",
    "import vectorizers\n",
    "import vectorizers.transformers\n",
    "import umap\n",
    "import umap.plot\n",
    "import pynndescent\n",
    "import seaborn as sns\n",
    "import matplotlib.colors\n",
    "import warnings\n",
    "from bokeh.plotting import show\n",
    "from sklearn.metrics import adjusted_rand_score\n",
    "from collections import Counter\n",
    "\n",
    "umap.plot.output_notebook()\n",
    "warnings.simplefilter(\"ignore\")\n",
    "sns.set()\n"
   ]
  },
  {
   "cell_type": "code",
   "execution_count": null,
   "id": "1694d421",
   "metadata": {},
   "outputs": [],
   "source": [
    "import json\n",
    "import igraph as ig\n",
    "\n",
    "label = np.array(pd.read_csv('../Data/NCI1/DS_graph_labels.txt', header=None)[0])"
   ]
  },
  {
   "cell_type": "code",
   "execution_count": null,
   "id": "a938debe",
   "metadata": {},
   "outputs": [],
   "source": [
    "D = []\n",
    "for i in range(4110):\n",
    "    fn = '../Data/NCI1/'+str(i)+'.json'\n",
    "    with open(fn,'r') as fp:\n",
    "        sg = json.load(fp)\n",
    "        g = ig.Graph(sg['edges'])\n",
    "        g.vs['deg'] = g.degree()\n",
    "        for e in g.es:\n",
    "            m = min(g.vs[e.source]['deg'],g.vs[e.target]['deg'])\n",
    "            M = max(g.vs[e.source]['deg'],g.vs[e.target]['deg'])\n",
    "            e['ds'] = str(m)+'_'+str(M)\n",
    "        D.append(g.es['ds'])"
   ]
  },
  {
   "cell_type": "code",
   "execution_count": null,
   "id": "aae1f6ea",
   "metadata": {},
   "outputs": [],
   "source": [
    "ngrammer = vectorizers.NgramVectorizer()\n",
    "ngram_vector = ngrammer.fit_transform(D)"
   ]
  },
  {
   "cell_type": "code",
   "execution_count": null,
   "id": "8931ff81",
   "metadata": {
    "scrolled": false
   },
   "outputs": [],
   "source": [
    "Um = umap.UMAP(metric='cosine').fit(ngram_vector)\n",
    "umap.plot.points(Um, labels=label, width=800, height=600, theme='fire');"
   ]
  }
 ],
 "metadata": {
  "kernelspec": {
   "display_name": "vector",
   "language": "python",
   "name": "vector"
  },
  "language_info": {
   "codemirror_mode": {
    "name": "ipython",
    "version": 3
   },
   "file_extension": ".py",
   "mimetype": "text/x-python",
   "name": "python",
   "nbconvert_exporter": "python",
   "pygments_lexer": "ipython3",
   "version": "3.10.11"
  }
 },
 "nbformat": 4,
 "nbformat_minor": 5
}
