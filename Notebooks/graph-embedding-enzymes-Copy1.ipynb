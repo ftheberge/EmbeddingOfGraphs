{
 "cells": [
  {
   "cell_type": "markdown",
   "id": "44ca61e4-9152-4d97-8c0b-a7c0599c263c",
   "metadata": {
    "tags": []
   },
   "source": [
    "# Graph Embeddings\n",
    "\n",
    "What we are trying here for graph embedding is similar to what has been tried with the Wasserstein Weisfeiler-Lehman graph kernels. \n",
    "See https://arxiv.org/pdf/1906.01277v2.pdf.\n",
    "However, instead of using Weisfeiler-Lehman kernels for averaging the appropriate vectors at each node, we iteratively use Wasserstein vectorizations on vertex neighborhoods to generate a sequece of node vectors. \n",
    "\n",
    "## The data: ENZYMES. \n",
    "We have 600 small graphs. There is a vector associated to each node for all graphs - this vector is given in the dataset. We want to obtain a graph vector representation. The downstream task is enzyme/graph classification: 6 classes in this dataset. The classes are balanced: 100 graphs in each class.\n",
    "* https://github.com/snap-stanford/GraphRNN/tree/master/dataset/ENZYMES\n",
    "* https://paperswithcode.com/sota/graph-classification-on-enzymes\n",
    "\n",
    "## What we do in more details\n",
    "We transform graphs into hypergraphs by representing each neighborhood by a hyperedge (we can include each node in its neighborhood or not). We get one hyperedge per node. These hyperedges are used to obtain new vertex vector representations (of the vertices' neighborhoods) using the Wasserstein vectorizer on all hyperedges or all graphs simultaneously. This process is then applied iteratively, using the same hyperedges but different vectors. At each iteration, we use the vertex vectors of the previous iteration. This process results in a sequence of vertex vectors that incorporate information about neighborhoods of larger radius each time: n1, n2, n3, ... \n",
    "\n",
    "For each vertex, we then concatenate its associated vectors to get a final vertex vector representatation. \n",
    "(n0)- vertex vector | n1-neighborhood vector | n2-neighborhood vector | ... \n",
    "\n",
    "Finally, we use these concatenated vertex vectors, one per vertex, to generate a graph representation via the Wasserstein vectorizer. "
   ]
  },
  {
   "cell_type": "code",
   "execution_count": 1,
   "id": "98c21936",
   "metadata": {},
   "outputs": [],
   "source": [
    "import numpy as np\n",
    "import pandas as pd\n",
    "import matplotlib.pyplot as plt\n",
    "import sklearn.datasets\n",
    "import sklearn.feature_extraction.text\n",
    "import sklearn.preprocessing\n",
    "from sklearn.decomposition import TruncatedSVD\n",
    "from sklearn.preprocessing import normalize\n",
    "import scipy.sparse\n",
    "import vectorizers\n",
    "import vectorizers.transformers\n",
    "import seaborn as sns\n",
    "import warnings\n",
    "import igraph as ig\n",
    "from scipy.sparse import vstack\n",
    "      \n",
    "warnings.simplefilter(\"ignore\")\n",
    "sns.set()\n",
    "\n",
    "import umap\n",
    "import umap.plot\n",
    "umap.plot.output_notebook()\n",
    "from bokeh.plotting import show\n"
   ]
  },
  {
   "cell_type": "code",
   "execution_count": 2,
   "id": "be843b07-9663-4101-8af4-a1faebc94fb4",
   "metadata": {},
   "outputs": [],
   "source": [
    "import os\n",
    "directory = '../data/ENZYMES/'\n",
    "all_filenames =  np.sort(os.listdir(directory))\n",
    "graph_filenames = [f'{directory}{x}' for x in all_filenames if x.endswith('.gml')]\n",
    "label_filename = f'{directory}Labels.txt'\n",
    "feature_filename = f'{directory}node_features.npy'"
   ]
  },
  {
   "cell_type": "code",
   "execution_count": 104,
   "id": "8590f14a-8f58-4d9c-bca3-47decb3f84e6",
   "metadata": {},
   "outputs": [],
   "source": [
    "graphs = [ig.read(fname) for fname in graph_filenames]\n",
    "## using 'name' -- more convenient with igraph\n",
    "for g in graphs:\n",
    "    g.vs['name']=g.vs['id']\n",
    "    del(g.vs['id'])\n",
    "\n",
    "# load node features for continuous graphs\n",
    "node_features = np.load(feature_filename, allow_pickle=True)\n",
    "\n",
    "with open(label_filename) as file:\n",
    "    graph_labels = np.array([line.rstrip() for line in file])"
   ]
  },
  {
   "cell_type": "code",
   "execution_count": 105,
   "id": "190b480a-31be-43fb-8f58-74428de34e6b",
   "metadata": {},
   "outputs": [
    {
     "name": "stdout",
     "output_type": "stream",
     "text": [
      "0 37 (37, 18)\n",
      "1 23 (23, 18)\n",
      "2 25 (25, 18)\n",
      "3 24 (24, 18)\n",
      "4 23 (23, 18)\n"
     ]
    }
   ],
   "source": [
    "# Making sure the graphs and the features lists are properly aligned by checking their sizes\n",
    "for i in range(5):\n",
    "    print(i, graphs[i].vcount(), node_features[i].shape)"
   ]
  },
  {
   "cell_type": "code",
   "execution_count": 181,
   "id": "13720fda",
   "metadata": {},
   "outputs": [
    {
     "data": {
      "text/plain": [
       "array([[ 1.1000000e+01,  1.5887014e+01,  3.7780000e+01, -5.1000000e-01,\n",
       "         1.7010000e+00,  9.3900000e+01,  4.0000000e+00,  5.0000000e+00,\n",
       "         2.0000000e+00,  4.0000000e+00,  4.0000000e+00,  3.0000000e+00,\n",
       "         3.0000000e+00,  4.0000000e+00,  4.0000000e+00,  3.0000000e+00,\n",
       "         6.0000000e+00,  2.0000000e+00],\n",
       "       [ 1.1000000e+01,  1.6362935e+01,  4.0380000e+01, -2.0300000e+00,\n",
       "         1.7770000e+00,  1.0260000e+02,  2.0000000e+00,  7.0000000e+00,\n",
       "         2.0000000e+00,  6.0000000e+00,  2.0000000e+00,  3.0000000e+00,\n",
       "         3.0000000e+00,  2.0000000e+00,  6.0000000e+00,  1.0000000e+00,\n",
       "         8.0000000e+00,  2.0000000e+00],\n",
       "       [ 1.6000000e+01,  2.1395072e+01,  6.3350000e+01,  2.0400000e+00,\n",
       "         2.9810000e+00,  1.3600000e+02,  2.0000000e+00,  7.0000000e+00,\n",
       "         7.0000000e+00,  6.0000000e+00,  4.0000000e+00,  6.0000000e+00,\n",
       "         6.0000000e+00,  2.0000000e+00,  8.0000000e+00,  2.0000000e+00,\n",
       "         7.0000000e+00,  7.0000000e+00],\n",
       "       [ 6.0000000e+00,  8.8817060e+00,  1.6920000e+01,  1.7900000e+00,\n",
       "         8.0500000e-01,  4.2700000e+01,  3.0000000e+00,  1.0000000e+00,\n",
       "         2.0000000e+00,  0.0000000e+00,  3.0000000e+00,  3.0000000e+00,\n",
       "         3.0000000e+00,  3.0000000e+00,  0.0000000e+00,  3.0000000e+00,\n",
       "         1.0000000e+00,  2.0000000e+00],\n",
       "       [ 1.7000000e+01,  2.5530009e+01,  5.3410000e+01, -5.7900000e+00,\n",
       "         2.3630000e+00,  1.5690000e+02,  7.0000000e+00,  7.0000000e+00,\n",
       "         3.0000000e+00,  7.0000000e+00,  8.0000000e+00,  2.0000000e+00,\n",
       "         3.0000000e+00,  7.0000000e+00,  7.0000000e+00,  7.0000000e+00,\n",
       "         7.0000000e+00,  3.0000000e+00],\n",
       "       [ 6.0000000e+00,  8.3454630e+00,  2.4190000e+01, -1.1700000e+00,\n",
       "         1.0930000e+00,  5.5700000e+01,  1.0000000e+00,  4.0000000e+00,\n",
       "         1.0000000e+00,  3.0000000e+00,  1.0000000e+00,  2.0000000e+00,\n",
       "         2.0000000e+00,  1.0000000e+00,  3.0000000e+00,  1.0000000e+00,\n",
       "         4.0000000e+00,  1.0000000e+00],\n",
       "       [ 9.0000000e+00,  1.2384249e+01,  3.5770000e+01,  1.2400000e+00,\n",
       "         1.6330000e+00,  7.3200000e+01,  2.0000000e+00,  4.0000000e+00,\n",
       "         3.0000000e+00,  3.0000000e+00,  2.0000000e+00,  4.0000000e+00,\n",
       "         4.0000000e+00,  2.0000000e+00,  3.0000000e+00,  2.0000000e+00,\n",
       "         4.0000000e+00,  3.0000000e+00],\n",
       "       [ 3.0000000e+00,  5.4650700e+00,  1.0030000e+01,  1.1700000e+00,\n",
       "         4.6900000e-01,  1.9800000e+01,  1.0000000e+00,  1.0000000e+00,\n",
       "         1.0000000e+00,  0.0000000e+00,  1.0000000e+00,  2.0000000e+00,\n",
       "         2.0000000e+00,  1.0000000e+00,  0.0000000e+00,  1.0000000e+00,\n",
       "         1.0000000e+00,  1.0000000e+00],\n",
       "       [ 6.0000000e+00,  8.8646020e+00,  1.8980000e+01,  1.4200000e+00,\n",
       "         8.8100000e-01,  4.3700000e+01,  2.0000000e+00,  3.0000000e+00,\n",
       "         1.0000000e+00,  1.0000000e+00,  2.0000000e+00,  3.0000000e+00,\n",
       "         3.0000000e+00,  2.0000000e+00,  1.0000000e+00,  2.0000000e+00,\n",
       "         3.0000000e+00,  1.0000000e+00],\n",
       "       [ 1.0000000e+01,  1.3509898e+01,  4.5500000e+01, -2.5000000e+00,\n",
       "         2.0610000e+00,  1.0070000e+02,  2.0000000e+00,  2.0000000e+00,\n",
       "         6.0000000e+00,  7.0000000e+00,  2.0000000e+00,  1.0000000e+00,\n",
       "         2.0000000e+00,  1.0000000e+00,  7.0000000e+00,  2.0000000e+00,\n",
       "         2.0000000e+00,  6.0000000e+00],\n",
       "       [ 5.0000000e+00,  7.6902440e+00,  1.8040000e+01,  4.3000000e-01,\n",
       "         8.1500000e-01,  4.1700000e+01,  1.0000000e+00,  3.0000000e+00,\n",
       "         1.0000000e+00,  1.0000000e+00,  2.0000000e+00,  2.0000000e+00,\n",
       "         2.0000000e+00,  1.0000000e+00,  2.0000000e+00,  1.0000000e+00,\n",
       "         3.0000000e+00,  1.0000000e+00],\n",
       "       [ 1.3000000e+01,  1.9220647e+01,  4.3880000e+01,  4.5100000e+00,\n",
       "         2.0140000e+00,  9.8600000e+01,  6.0000000e+00,  4.0000000e+00,\n",
       "         3.0000000e+00,  2.0000000e+00,  7.0000000e+00,  4.0000000e+00,\n",
       "         6.0000000e+00,  5.0000000e+00,  2.0000000e+00,  5.0000000e+00,\n",
       "         5.0000000e+00,  3.0000000e+00],\n",
       "       [ 1.5000000e+01,  2.1155231e+01,  6.0380000e+01,  8.5000000e-01,\n",
       "         2.8040000e+00,  1.2650000e+02,  2.0000000e+00,  8.0000000e+00,\n",
       "         5.0000000e+00,  7.0000000e+00,  3.0000000e+00,  5.0000000e+00,\n",
       "         6.0000000e+00,  2.0000000e+00,  7.0000000e+00,  2.0000000e+00,\n",
       "         8.0000000e+00,  5.0000000e+00],\n",
       "       [ 1.0000000e+01,  1.4245194e+01,  3.8510000e+01,  2.3700000e+00,\n",
       "         1.8150000e+00,  8.0500000e+01,  3.0000000e+00,  2.0000000e+00,\n",
       "         5.0000000e+00,  3.0000000e+00,  3.0000000e+00,  4.0000000e+00,\n",
       "         4.0000000e+00,  3.0000000e+00,  3.0000000e+00,  1.0000000e+00,\n",
       "         4.0000000e+00,  5.0000000e+00],\n",
       "       [ 3.0000000e+00,  5.6964170e+00,  8.2200000e+00, -1.2200000e+00,\n",
       "         3.6700000e-01,  2.9000000e+01,  3.0000000e+00,  0.0000000e+00,\n",
       "         0.0000000e+00,  1.0000000e+00,  2.0000000e+00,  0.0000000e+00,\n",
       "         0.0000000e+00,  2.0000000e+00,  1.0000000e+00,  1.0000000e+00,\n",
       "         2.0000000e+00,  0.0000000e+00],\n",
       "       [ 1.0000000e+01,  1.3230200e+01,  4.1410000e+01,  4.7700000e+00,\n",
       "         1.9240000e+00,  6.7300000e+01,  3.0000000e+00,  4.0000000e+00,\n",
       "         3.0000000e+00,  1.0000000e+00,  4.0000000e+00,  5.0000000e+00,\n",
       "         6.0000000e+00,  3.0000000e+00,  1.0000000e+00,  2.0000000e+00,\n",
       "         5.0000000e+00,  3.0000000e+00],\n",
       "       [ 1.2000000e+01,  1.7514039e+01,  3.7670000e+01, -2.7800000e+00,\n",
       "         1.6240000e+00,  1.1300000e+02,  3.0000000e+00,  8.0000000e+00,\n",
       "         1.0000000e+00,  6.0000000e+00,  3.0000000e+00,  3.0000000e+00,\n",
       "         3.0000000e+00,  3.0000000e+00,  6.0000000e+00,  3.0000000e+00,\n",
       "         8.0000000e+00,  1.0000000e+00],\n",
       "       [ 1.7000000e+01,  2.4386388e+01,  5.3430000e+01,  4.5400000e+00,\n",
       "         2.5020000e+00,  1.3010000e+02,  8.0000000e+00,  5.0000000e+00,\n",
       "         4.0000000e+00,  2.0000000e+00,  1.0000000e+01,  5.0000000e+00,\n",
       "         6.0000000e+00,  8.0000000e+00,  3.0000000e+00,  6.0000000e+00,\n",
       "         7.0000000e+00,  4.0000000e+00],\n",
       "       [ 8.0000000e+00,  1.0984308e+01,  3.1650000e+01,  5.0000000e-02,\n",
       "         1.4290000e+00,  6.9400000e+01,  3.0000000e+00,  2.0000000e+00,\n",
       "         3.0000000e+00,  3.0000000e+00,  3.0000000e+00,  2.0000000e+00,\n",
       "         3.0000000e+00,  2.0000000e+00,  3.0000000e+00,  3.0000000e+00,\n",
       "         2.0000000e+00,  3.0000000e+00],\n",
       "       [ 5.0000000e+00,  6.9283980e+00,  1.9750000e+01,  1.9600000e+00,\n",
       "         9.4200000e-01,  3.9100000e+01,  2.0000000e+00,  1.0000000e+00,\n",
       "         2.0000000e+00,  1.0000000e+00,  2.0000000e+00,  2.0000000e+00,\n",
       "         2.0000000e+00,  2.0000000e+00,  1.0000000e+00,  2.0000000e+00,\n",
       "         1.0000000e+00,  2.0000000e+00],\n",
       "       [ 1.5000000e+01,  2.1146036e+01,  5.2750000e+01, -3.5000000e+00,\n",
       "         2.3660000e+00,  1.4400000e+02,  5.0000000e+00,  5.0000000e+00,\n",
       "         5.0000000e+00,  8.0000000e+00,  5.0000000e+00,  2.0000000e+00,\n",
       "         3.0000000e+00,  4.0000000e+00,  8.0000000e+00,  5.0000000e+00,\n",
       "         5.0000000e+00,  5.0000000e+00],\n",
       "       [ 5.0000000e+00,  7.4631920e+00,  1.3100000e+01, -1.0400000e+00,\n",
       "         5.7600000e-01,  4.2500000e+01,  3.0000000e+00,  2.0000000e+00,\n",
       "         0.0000000e+00,  1.0000000e+00,  3.0000000e+00,  1.0000000e+00,\n",
       "         1.0000000e+00,  3.0000000e+00,  1.0000000e+00,  2.0000000e+00,\n",
       "         3.0000000e+00,  0.0000000e+00],\n",
       "       [ 8.0000000e+00,  1.0368715e+01,  2.7620000e+01,  3.6100000e+00,\n",
       "         1.2930000e+00,  5.6200000e+01,  3.0000000e+00,  3.0000000e+00,\n",
       "         2.0000000e+00,  1.0000000e+00,  3.0000000e+00,  4.0000000e+00,\n",
       "         4.0000000e+00,  3.0000000e+00,  1.0000000e+00,  3.0000000e+00,\n",
       "         3.0000000e+00,  2.0000000e+00],\n",
       "       [ 1.1000000e+01,  1.4909556e+01,  3.7490000e+01, -2.6000000e+00,\n",
       "         1.7070000e+00,  1.0250000e+02,  3.0000000e+00,  6.0000000e+00,\n",
       "         2.0000000e+00,  6.0000000e+00,  3.0000000e+00,  2.0000000e+00,\n",
       "         2.0000000e+00,  3.0000000e+00,  6.0000000e+00,  3.0000000e+00,\n",
       "         6.0000000e+00,  2.0000000e+00],\n",
       "       [ 3.0000000e+00,  6.4316840e+00,  1.0780000e+01,  1.8000000e+00,\n",
       "         4.7700000e-01,  2.3400000e+01,  0.0000000e+00,  3.0000000e+00,\n",
       "         0.0000000e+00,  1.0000000e+00,  0.0000000e+00,  2.0000000e+00,\n",
       "         2.0000000e+00,  0.0000000e+00,  1.0000000e+00,  0.0000000e+00,\n",
       "         3.0000000e+00,  0.0000000e+00],\n",
       "       [ 5.0000000e+00,  1.2935648e+01,  1.9750000e+01,  5.3900000e+00,\n",
       "         9.6500000e-01,  2.7200000e+01,  1.0000000e+00,  2.0000000e+00,\n",
       "         2.0000000e+00,  0.0000000e+00,  0.0000000e+00,  5.0000000e+00,\n",
       "         5.0000000e+00,  0.0000000e+00,  0.0000000e+00,  0.0000000e+00,\n",
       "         3.0000000e+00,  2.0000000e+00],\n",
       "       [ 5.0000000e+00,  1.3383984e+01,  1.1210000e+01, -6.1000000e-01,\n",
       "         5.1200000e-01,  4.1900000e+01,  2.0000000e+00,  2.0000000e+00,\n",
       "         1.0000000e+00,  1.0000000e+00,  2.0000000e+00,  2.0000000e+00,\n",
       "         2.0000000e+00,  2.0000000e+00,  1.0000000e+00,  2.0000000e+00,\n",
       "         2.0000000e+00,  1.0000000e+00],\n",
       "       [ 6.0000000e+00,  1.6370706e+01,  1.5370000e+01,  3.1000000e-01,\n",
       "         6.9900000e-01,  4.7800000e+01,  3.0000000e+00,  2.0000000e+00,\n",
       "         1.0000000e+00,  1.0000000e+00,  3.0000000e+00,  2.0000000e+00,\n",
       "         2.0000000e+00,  3.0000000e+00,  1.0000000e+00,  3.0000000e+00,\n",
       "         2.0000000e+00,  1.0000000e+00],\n",
       "       [ 6.0000000e+00,  1.6017738e+01,  2.2770000e+01,  6.6100000e+00,\n",
       "         1.0570000e+00,  3.8400000e+01,  0.0000000e+00,  5.0000000e+00,\n",
       "         1.0000000e+00,  1.0000000e+00,  0.0000000e+00,  5.0000000e+00,\n",
       "         5.0000000e+00,  0.0000000e+00,  1.0000000e+00,  0.0000000e+00,\n",
       "         5.0000000e+00,  1.0000000e+00],\n",
       "       [ 5.0000000e+00,  1.3593809e+01,  2.6270000e+01,  2.0400000e+00,\n",
       "         1.2160000e+00,  3.9100000e+01,  0.0000000e+00,  2.0000000e+00,\n",
       "         3.0000000e+00,  2.0000000e+00,  1.0000000e+00,  2.0000000e+00,\n",
       "         3.0000000e+00,  0.0000000e+00,  2.0000000e+00,  0.0000000e+00,\n",
       "         2.0000000e+00,  3.0000000e+00],\n",
       "       [ 4.0000000e+00,  9.7709080e+00,  1.3380000e+01,  1.0300000e+00,\n",
       "         5.8500000e-01,  3.2000000e+01,  1.0000000e+00,  3.0000000e+00,\n",
       "         0.0000000e+00,  1.0000000e+00,  1.0000000e+00,  2.0000000e+00,\n",
       "         2.0000000e+00,  1.0000000e+00,  1.0000000e+00,  1.0000000e+00,\n",
       "         3.0000000e+00,  0.0000000e+00],\n",
       "       [ 7.0000000e+00,  2.0248083e+01,  3.4280000e+01,  3.4900000e+00,\n",
       "         1.6290000e+00,  5.3400000e+01,  0.0000000e+00,  3.0000000e+00,\n",
       "         4.0000000e+00,  3.0000000e+00,  0.0000000e+00,  4.0000000e+00,\n",
       "         4.0000000e+00,  0.0000000e+00,  3.0000000e+00,  0.0000000e+00,\n",
       "         3.0000000e+00,  4.0000000e+00],\n",
       "       [ 5.0000000e+00,  1.3285927e+01,  2.4210000e+01,  1.0100000e+00,\n",
       "         1.1340000e+00,  4.1600000e+01,  0.0000000e+00,  3.0000000e+00,\n",
       "         2.0000000e+00,  3.0000000e+00,  0.0000000e+00,  2.0000000e+00,\n",
       "         2.0000000e+00,  0.0000000e+00,  3.0000000e+00,  0.0000000e+00,\n",
       "         3.0000000e+00,  2.0000000e+00],\n",
       "       [ 3.0000000e+00,  6.8432150e+00,  1.4130000e+01,  1.8600000e+00,\n",
       "         6.6300000e-01,  2.0300000e+01,  0.0000000e+00,  2.0000000e+00,\n",
       "         1.0000000e+00,  1.0000000e+00,  0.0000000e+00,  2.0000000e+00,\n",
       "         2.0000000e+00,  0.0000000e+00,  1.0000000e+00,  0.0000000e+00,\n",
       "         2.0000000e+00,  1.0000000e+00],\n",
       "       [ 2.0000000e+00,  3.8139230e+00,  6.7800000e+00, -1.0000000e-02,\n",
       "         2.9100000e-01,  1.8200000e+01,  0.0000000e+00,  2.0000000e+00,\n",
       "         0.0000000e+00,  1.0000000e+00,  0.0000000e+00,  1.0000000e+00,\n",
       "         1.0000000e+00,  0.0000000e+00,  1.0000000e+00,  0.0000000e+00,\n",
       "         2.0000000e+00,  0.0000000e+00],\n",
       "       [ 2.0000000e+00,  3.7979110e+00,  1.2080000e+01,  3.5200000e+00,\n",
       "         5.9500000e-01,  1.0600000e+01,  0.0000000e+00,  1.0000000e+00,\n",
       "         1.0000000e+00,  0.0000000e+00,  0.0000000e+00,  2.0000000e+00,\n",
       "         2.0000000e+00,  0.0000000e+00,  0.0000000e+00,  0.0000000e+00,\n",
       "         1.0000000e+00,  1.0000000e+00],\n",
       "       [ 2.0000000e+00,  3.8162990e+00,  6.9500000e+00,  3.0000000e-02,\n",
       "         3.2000000e-01,  1.6400000e+01,  0.0000000e+00,  2.0000000e+00,\n",
       "         0.0000000e+00,  1.0000000e+00,  0.0000000e+00,  1.0000000e+00,\n",
       "         1.0000000e+00,  0.0000000e+00,  1.0000000e+00,  0.0000000e+00,\n",
       "         2.0000000e+00,  0.0000000e+00]])"
      ]
     },
     "execution_count": 181,
     "metadata": {},
     "output_type": "execute_result"
    }
   ],
   "source": []
  },
  {
   "cell_type": "code",
   "execution_count": 106,
   "id": "3f83b1b9-bc74-4910-a101-b2e4187a3b31",
   "metadata": {},
   "outputs": [],
   "source": [
    "vertex_vectors_0 = np.vstack(node_features)"
   ]
  },
  {
   "cell_type": "code",
   "execution_count": 107,
   "id": "3205bf08-a4d1-42b8-93ce-6f4591fe9ad7",
   "metadata": {},
   "outputs": [
    {
     "data": {
      "text/plain": [
       "(19474, 18)"
      ]
     },
     "execution_count": 107,
     "metadata": {},
     "output_type": "execute_result"
    }
   ],
   "source": [
    "vertex_vectors_0.shape"
   ]
  },
  {
   "cell_type": "code",
   "execution_count": 108,
   "id": "415edb80-b909-48b1-aeca-4aadc63ec8ac",
   "metadata": {},
   "outputs": [],
   "source": [
    "graphs_vertices = [[str(x) for x in list(np.sort([int(v['name']) for v in g.vs]))] for g in graphs]"
   ]
  },
  {
   "cell_type": "code",
   "execution_count": 109,
   "id": "b13532f1-8968-4fda-9c2d-759618c1fc2c",
   "metadata": {},
   "outputs": [],
   "source": [
    "vertex_names = list(np.hstack(graphs_vertices))\n",
    "vertex_names_dictionary = dict()\n",
    "for i, v in enumerate(vertex_names):\n",
    "    vertex_names_dictionary[v] = i\n",
    "    \n",
    "n_vertices = len(vertex_names_dictionary)"
   ]
  },
  {
   "cell_type": "code",
   "execution_count": 154,
   "id": "1409047e",
   "metadata": {},
   "outputs": [
    {
     "name": "stdout",
     "output_type": "stream",
     "text": [
      "CPU times: user 154 ms, sys: 3.78 ms, total: 158 ms\n",
      "Wall time: 155 ms\n"
     ]
    }
   ],
   "source": [
    "%%time\n",
    "incidence_vectorizer = vectorizers.NgramVectorizer(\n",
    "    token_dictionary=vertex_names_dictionary\n",
    ").fit(graphs_vertices)\n",
    "\n",
    "incidence_matrix = incidence_vectorizer.transform(graphs_vertices)"
   ]
  },
  {
   "cell_type": "code",
   "execution_count": 182,
   "id": "d2541779",
   "metadata": {},
   "outputs": [
    {
     "data": {
      "text/plain": [
       "(600, 19474)"
      ]
     },
     "execution_count": 182,
     "metadata": {},
     "output_type": "execute_result"
    }
   ],
   "source": [
    "incidence_matrix.shape"
   ]
  },
  {
   "cell_type": "markdown",
   "id": "5637ac15-9d8b-4e25-9e1b-d6fa6c2d2e96",
   "metadata": {},
   "source": [
    "# Data description\n",
    "\n",
    "We have 600 enzymes/graphs. Graphs may contain up to 125 nodes, or as little as 2 nodes, but the average is around 32. You can see the graph size distribution below.\n",
    "\n",
    "With all graphs together, there is a total of 19,474 vertices overall. "
   ]
  },
  {
   "cell_type": "code",
   "execution_count": 155,
   "id": "9f7d593b-5ba9-4088-babd-ffefb1279f56",
   "metadata": {},
   "outputs": [
    {
     "name": "stdout",
     "output_type": "stream",
     "text": [
      "125.0\n",
      "2.0\n",
      "32.456665\n"
     ]
    }
   ],
   "source": [
    "print(np.max(incidence_matrix.sum(axis=1)))\n",
    "print(np.min(incidence_matrix.sum(axis=1)))\n",
    "print(np.mean(incidence_matrix.sum(axis=1)))"
   ]
  },
  {
   "cell_type": "code",
   "execution_count": 156,
   "id": "b4755b3c-944b-4d7f-b126-b26b28266c46",
   "metadata": {},
   "outputs": [
    {
     "data": {
      "image/png": "[encoded data removed]",
      "text/plain": [
       "<Figure size 640x480 with 1 Axes>"
      ]
     },
     "metadata": {},
     "output_type": "display_data"
    }
   ],
   "source": [
    "sns.histplot(incidence_matrix.sum(axis=1), legend=False).set_title(\"Graphs' sizes\");"
   ]
  },
  {
   "cell_type": "code",
   "execution_count": 157,
   "id": "6643e764-917d-42ff-848f-e09078e9ab0f",
   "metadata": {},
   "outputs": [
    {
     "data": {
      "image/png": "[encoded data removed]",
      "text/plain": [
       "<Figure size 640x480 with 1 Axes>"
      ]
     },
     "metadata": {},
     "output_type": "display_data"
    }
   ],
   "source": [
    "vertex_degrees = [deg for g in graphs for deg in g.degree()]\n",
    "len(vertex_degrees)\n",
    "sns.histplot(vertex_degrees, legend=False).set_title(\"Vertex degrees - over all graphs\");"
   ]
  },
  {
   "cell_type": "markdown",
   "id": "515a766a",
   "metadata": {},
   "source": [
    "##### Embed graphs as bags of vertex vectors (Wasserstein)"
   ]
  },
  {
   "cell_type": "code",
   "execution_count": 158,
   "id": "c911a244",
   "metadata": {},
   "outputs": [
    {
     "name": "stdout",
     "output_type": "stream",
     "text": [
      "CPU times: user 256 ms, sys: 8.57 ms, total: 264 ms\n",
      "Wall time: 10.2 ms\n"
     ]
    },
    {
     "data": {
      "text/plain": [
       "(600, 18)"
      ]
     },
     "execution_count": 158,
     "metadata": {},
     "output_type": "execute_result"
    }
   ],
   "source": [
    "%%time\n",
    "# n_components = vertex_vectors_0.shape[0]\n",
    "graph_awe_matrix_0 = vectorizers.ApproximateWassersteinVectorizer(\n",
    "    normalization_power=0.66,\n",
    "    # n_components=n_components,\n",
    "    random_state=42,\n",
    ").fit_transform(incidence_matrix, vectors=vertex_vectors_0)\n",
    "\n",
    "graph_awe_matrix_0.shape"
   ]
  },
  {
   "cell_type": "code",
   "execution_count": 159,
   "id": "1f12ef0a",
   "metadata": {},
   "outputs": [
    {
     "data": {
      "text/html": [
       "\n",
       "  <div class=\"bk-root\" id=\"3e9ca513-158e-4aba-b680-a00aa190f416\" data-root-id=\"1852\"></div>\n"
      ]
     },
     "metadata": {},
     "output_type": "display_data"
    },
    {
     "data": {
      "application/javascript": [
       "(function(root) {\n",
       "  function embed_document(root) {\n",
       "  const docs_json = {\"b660dcd6-47cb-4ee1-9cb7-88b9a5a18ad0\":{\"defs\":[{\"extends\":null,\"module\":null,\"name\":\"ReactiveHTML1\",\"overrides\":[],\"properties\":[]},{\"extends\":null,\"module\":null,\"name\":\"FlexBox1\",\"overrides\":[],\"properties\":[{\"default\":\"flex-start\",\"kind\":null,\"name\":\"align_content\"},{\"default\":\"flex-start\",\"kind\":null,\"name\":\"align_items\"},{\"default\":\"row\",\"kind\":null,\"name\":\"flex_direction\"},{\"default\":\"wrap\",\"kind\":null,\"name\":\"flex_wrap\"},{\"default\":\"flex-start\",\"kind\":null,\"name\":\"justify_content\"}]},{\"extends\":null,\"module\":null,\"name\":\"GridStack1\",\"overrides\":[],\"properties\":[{\"default\":\"warn\",\"kind\":null,\"name\":\"mode\"},{\"default\":null,\"kind\":null,\"name\":\"ncols\"},{\"default\":null,\"kind\":null,\"name\":\"nrows\"},{\"default\":true,\"kind\":null,\"name\":\"allow_resize\"},{\"default\":true,\"kind\":null,\"name\":\"allow_drag\"},{\"default\":[],\"kind\":null,\"name\":\"state\"}]},{\"extends\":null,\"module\":null,\"name\":\"click1\",\"overrides\":[],\"properties\":[{\"default\":\"\",\"kind\":null,\"name\":\"terminal_output\"},{\"default\":\"\",\"kind\":null,\"name\":\"debug_name\"},{\"default\":0,\"kind\":null,\"name\":\"clears\"}]},{\"extends\":null,\"module\":null,\"name\":\"NotificationAreaBase1\",\"overrides\":[],\"properties\":[{\"default\":\"bottom-right\",\"kind\":null,\"name\":\"position\"},{\"default\":0,\"kind\":null,\"name\":\"_clear\"}]},{\"extends\":null,\"module\":null,\"name\":\"NotificationArea1\",\"overrides\":[],\"properties\":[{\"default\":[],\"kind\":null,\"name\":\"notifications\"},{\"default\":\"bottom-right\",\"kind\":null,\"name\":\"position\"},{\"default\":0,\"kind\":null,\"name\":\"_clear\"},{\"default\":[{\"background\":\"#ffc107\",\"icon\":{\"className\":\"fas fa-exclamation-triangle\",\"color\":\"white\",\"tagName\":\"i\"},\"type\":\"warning\"},{\"background\":\"#007bff\",\"icon\":{\"className\":\"fas fa-info-circle\",\"color\":\"white\",\"tagName\":\"i\"},\"type\":\"info\"}],\"kind\":null,\"name\":\"types\"}]},{\"extends\":null,\"module\":null,\"name\":\"Notification\",\"overrides\":[],\"properties\":[{\"default\":null,\"kind\":null,\"name\":\"background\"},{\"default\":3000,\"kind\":null,\"name\":\"duration\"},{\"default\":null,\"kind\":null,\"name\":\"icon\"},{\"default\":\"\",\"kind\":null,\"name\":\"message\"},{\"default\":null,\"kind\":null,\"name\":\"notification_type\"},{\"default\":false,\"kind\":null,\"name\":\"_destroyed\"}]},{\"extends\":null,\"module\":null,\"name\":\"TemplateActions1\",\"overrides\":[],\"properties\":[{\"default\":0,\"kind\":null,\"name\":\"open_modal\"},{\"default\":0,\"kind\":null,\"name\":\"close_modal\"}]},{\"extends\":null,\"module\":null,\"name\":\"MaterialTemplateActions1\",\"overrides\":[],\"properties\":[{\"default\":0,\"kind\":null,\"name\":\"open_modal\"},{\"default\":0,\"kind\":null,\"name\":\"close_modal\"}]}],\"roots\":{\"references\":[{\"attributes\":{\"background_fill_color\":\"black\",\"below\":[{\"id\":\"1861\"}],\"center\":[{\"id\":\"1864\"},{\"id\":\"1868\"}],\"left\":[{\"id\":\"1865\"}],\"renderers\":[{\"id\":\"1887\"}],\"title\":{\"id\":\"1944\"},\"toolbar\":{\"id\":\"1876\"},\"width\":800,\"x_range\":{\"id\":\"1853\"},\"x_scale\":{\"id\":\"1857\"},\"y_range\":{\"id\":\"1855\"},\"y_scale\":{\"id\":\"1859\"}},\"id\":\"1852\",\"subtype\":\"Figure\",\"type\":\"Plot\"},{\"attributes\":{},\"id\":\"1866\",\"type\":\"BasicTicker\"},{\"attributes\":{},\"id\":\"1853\",\"type\":\"DataRange1d\"},{\"attributes\":{},\"id\":\"1948\",\"type\":\"AllLabels\"},{\"attributes\":{\"bottom_units\":\"screen\",\"coordinates\":null,\"fill_alpha\":0.5,\"fill_color\":\"lightgrey\",\"group\":null,\"left_units\":\"screen\",\"level\":\"overlay\",\"line_alpha\":1.0,\"line_color\":\"black\",\"line_dash\":[4,4],\"line_width\":2,\"right_units\":\"screen\",\"syncable\":false,\"top_units\":\"screen\"},\"id\":\"1875\",\"type\":\"BoxAnnotation\"},{\"attributes\":{\"coordinates\":null,\"formatter\":{\"id\":\"1947\"},\"group\":null,\"major_label_policy\":{\"id\":\"1948\"},\"ticker\":{\"id\":\"1866\"},\"visible\":false},\"id\":\"1865\",\"type\":\"LinearAxis\"},{\"attributes\":{},\"id\":\"1874\",\"type\":\"HelpTool\"},{\"attributes\":{\"coordinates\":null,\"data_source\":{\"id\":\"1851\"},\"glyph\":{\"id\":\"1884\"},\"group\":null,\"hover_glyph\":null,\"muted_glyph\":{\"id\":\"1886\"},\"nonselection_glyph\":{\"id\":\"1885\"},\"view\":{\"id\":\"1888\"}},\"id\":\"1887\",\"type\":\"GlyphRenderer\"},{\"attributes\":{\"axis\":{\"id\":\"1861\"},\"coordinates\":null,\"group\":null,\"ticker\":null,\"visible\":false},\"id\":\"1864\",\"type\":\"Grid\"},{\"attributes\":{},\"id\":\"1953\",\"type\":\"Selection\"},{\"attributes\":{\"coordinates\":null,\"formatter\":{\"id\":\"1950\"},\"group\":null,\"major_label_policy\":{\"id\":\"1951\"},\"ticker\":{\"id\":\"1862\"},\"visible\":false},\"id\":\"1861\",\"type\":\"LinearAxis\"},{\"attributes\":{},\"id\":\"1873\",\"type\":\"ResetTool\"},{\"attributes\":{},\"id\":\"1859\",\"type\":\"LinearScale\"},{\"attributes\":{},\"id\":\"1862\",\"type\":\"BasicTicker\"},{\"attributes\":{},\"id\":\"1855\",\"type\":\"DataRange1d\"},{\"attributes\":{\"coordinates\":null,\"group\":null},\"id\":\"1944\",\"type\":\"Title\"},{\"attributes\":{\"tools\":[{\"id\":\"1869\"},{\"id\":\"1870\"},{\"id\":\"1871\"},{\"id\":\"1872\"},{\"id\":\"1873\"},{\"id\":\"1874\"}]},\"id\":\"1876\",\"type\":\"Toolbar\"},{\"attributes\":{\"data\":{\"alpha\":[1,1,1,1,1,1,1,1,1,1,1,1,1,1,1,1,1,1,1,1,1,1,1,1,1,1,1,1,1,1,1,1,1,1,1,1,1,1,1,1,1,1,1,1,1,1,1,1,1,1,1,1,1,1,1,1,1,1,1,1,1,1,1,1,1,1,1,1,1,1,1,1,1,1,1,1,1,1,1,1,1,1,1,1,1,1,1,1,1,1,1,1,1,1,1,1,1,1,1,1,1,1,1,1,1,1,1,1,1,1,1,1,1,1,1,1,1,1,1,1,1,1,1,1,1,1,1,1,1,1,1,1,1,1,1,1,1,1,1,1,1,1,1,1,1,1,1,1,1,1,1,1,1,1,1,1,1,1,1,1,1,1,1,1,1,1,1,1,1,1,1,1,1,1,1,1,1,1,1,1,1,1,1,1,1,1,1,1,1,1,1,1,1,1,1,1,1,1,1,1,1,1,1,1,1,1,1,1,1,1,1,1,1,1,1,1,1,1,1,1,1,1,1,1,1,1,1,1,1,1,1,1,1,1,1,1,1,1,1,1,1,1,1,1,1,1,1,1,1,1,1,1,1,1,1,1,1,1,1,1,1,1,1,1,1,1,1,1,1,1,1,1,1,1,1,1,1,1,1,1,1,1,1,1,1,1,1,1,1,1,1,1,1,1,1,1,1,1,1,1,1,1,1,1,1,1,1,1,1,1,1,1,1,1,1,1,1,1,1,1,1,1,1,1,1,1,1,1,1,1,1,1,1,1,1,1,1,1,1,1,1,1,1,1,1,1,1,1,1,1,1,1,1,1,1,1,1,1,1,1,1,1,1,1,1,1,1,1,1,1,1,1,1,1,1,1,1,1,1,1,1,1,1,1,1,1,1,1,1,1,1,1,1,1,1,1,1,1,1,1,1,1,1,1,1,1,1,1,1,1,1,1,1,1,1,1,1,1,1,1,1,1,1,1,1,1,1,1,1,1,1,1,1,1,1,1,1,1,1,1,1,1,1,1,1,1,1,1,1,1,1,1,1,1,1,1,1,1,1,1,1,1,1,1,1,1,1,1,1,1,1,1,1,1,1,1,1,1,1,1,1,1,1,1,1,1,1,1,1,1,1,1,1,1,1,1,1,1,1,1,1,1,1,1,1,1,1,1,1,1,1,1,1,1,1,1,1,1,1,1,1,1,1,1,1,1,1,1,1,1,1,1,1,1,1,1,1,1,1,1,1,1,1,1,1,1,1,1,1,1,1,1,1,1,1,1,1,1,1,1,1,1,1,1,1,1,1,1,1,1,1,1,1,1,1,1,1,1,1,1,1,1,1,1,1,1,1,1,1,1,1,1,1,1,1,1,1,1,1,1],\"color\":[\"#ff0000\",\"#ff0000\",\"#ff0000\",\"#ff0000\",\"#ff0000\",\"#ff0000\",\"#ff0000\",\"#ff0000\",\"#ff0000\",\"#ff0000\",\"#ff0000\",\"#ff0000\",\"#ff0000\",\"#ff0000\",\"#ff0000\",\"#ff0000\",\"#ff0000\",\"#ff0000\",\"#ff0000\",\"#ff0000\",\"#ff0000\",\"#ff0000\",\"#ff0000\",\"#ff0000\",\"#ff0000\",\"#ff0000\",\"#ff0000\",\"#ff0000\",\"#ff0000\",\"#ff0000\",\"#ff0000\",\"#ff0000\",\"#ff0000\",\"#ff0000\",\"#ff0000\",\"#ff0000\",\"#ff0000\",\"#ff0000\",\"#ff0000\",\"#ff0000\",\"#ff0000\",\"#ff0000\",\"#ff0000\",\"#ff0000\",\"#ff0000\",\"#ff0000\",\"#ff0000\",\"#ff0000\",\"#ff0000\",\"#ff0000\",\"#ff0000\",\"#ff0000\",\"#ff0000\",\"#ff0000\",\"#ff0000\",\"#ff0000\",\"#ff0000\",\"#ff0000\",\"#ff0000\",\"#ff0000\",\"#ff0000\",\"#ff0000\",\"#ff0000\",\"#ff0000\",\"#ff0000\",\"#ff0000\",\"#ff0000\",\"#ff0000\",\"#ff0000\",\"#ff0000\",\"#ff0000\",\"#ff0000\",\"#ff0000\",\"#ff0000\",\"#ff0000\",\"#ff0000\",\"#ff0000\",\"#ff0000\",\"#ff0000\",\"#ff0000\",\"#ff0000\",\"#ff0000\",\"#ff0000\",\"#ff0000\",\"#ff0000\",\"#ff0000\",\"#ff0000\",\"#ff0000\",\"#ff0000\",\"#ff0000\",\"#ff0000\",\"#ff0000\",\"#ff0000\",\"#ff0000\",\"#ff0000\",\"#ff0000\",\"#ff0000\",\"#ff0000\",\"#ff0000\",\"#ff0000\",\"#ff964f\",\"#ff964f\",\"#ff964f\",\"#ff964f\",\"#ff964f\",\"#ff964f\",\"#ff964f\",\"#ff964f\",\"#ff964f\",\"#ff964f\",\"#ff964f\",\"#ff964f\",\"#ff964f\",\"#ff964f\",\"#ff964f\",\"#ff964f\",\"#ff964f\",\"#ff964f\",\"#ff964f\",\"#ff964f\",\"#ff964f\",\"#ff964f\",\"#ff964f\",\"#ff964f\",\"#ff964f\",\"#ff964f\",\"#ff964f\",\"#ff964f\",\"#ff964f\",\"#ff964f\",\"#ff964f\",\"#ff964f\",\"#ff964f\",\"#ff964f\",\"#ff964f\",\"#ff964f\",\"#ff964f\",\"#ff964f\",\"#ff964f\",\"#ff964f\",\"#ff964f\",\"#ff964f\",\"#ff964f\",\"#ff964f\",\"#ff964f\",\"#ff964f\",\"#ff964f\",\"#ff964f\",\"#ff964f\",\"#ff964f\",\"#ff964f\",\"#ff964f\",\"#ff964f\",\"#ff964f\",\"#ff964f\",\"#ff964f\",\"#ff964f\",\"#ff964f\",\"#ff964f\",\"#ff964f\",\"#ff964f\",\"#ff964f\",\"#ff964f\",\"#ff964f\",\"#ff964f\",\"#ff964f\",\"#ff964f\",\"#ff964f\",\"#ff964f\",\"#ff964f\",\"#ff964f\",\"#ff964f\",\"#ff964f\",\"#ff964f\",\"#ff964f\",\"#ff964f\",\"#ff964f\",\"#ff964f\",\"#ff964f\",\"#ff964f\",\"#ff964f\",\"#ff964f\",\"#ff964f\",\"#ff964f\",\"#ff964f\",\"#ff964f\",\"#ff964f\",\"#ff964f\",\"#ff964f\",\"#ff964f\",\"#ff964f\",\"#ff964f\",\"#ff964f\",\"#ff964f\",\"#ff964f\",\"#ff964f\",\"#ff964f\",\"#ff964f\",\"#ff964f\",\"#ff964f\",\"#8000ff\",\"#8000ff\",\"#8000ff\",\"#8000ff\",\"#8000ff\",\"#8000ff\",\"#8000ff\",\"#8000ff\",\"#8000ff\",\"#8000ff\",\"#8000ff\",\"#8000ff\",\"#8000ff\",\"#8000ff\",\"#8000ff\",\"#8000ff\",\"#8000ff\",\"#8000ff\",\"#8000ff\",\"#8000ff\",\"#8000ff\",\"#8000ff\",\"#8000ff\",\"#8000ff\",\"#8000ff\",\"#8000ff\",\"#8000ff\",\"#8000ff\",\"#8000ff\",\"#8000ff\",\"#8000ff\",\"#8000ff\",\"#8000ff\",\"#8000ff\",\"#8000ff\",\"#8000ff\",\"#8000ff\",\"#8000ff\",\"#8000ff\",\"#8000ff\",\"#8000ff\",\"#8000ff\",\"#8000ff\",\"#8000ff\",\"#8000ff\",\"#8000ff\",\"#8000ff\",\"#8000ff\",\"#8000ff\",\"#8000ff\",\"#8000ff\",\"#8000ff\",\"#8000ff\",\"#8000ff\",\"#8000ff\",\"#8000ff\",\"#8000ff\",\"#8000ff\",\"#8000ff\",\"#8000ff\",\"#8000ff\",\"#8000ff\",\"#8000ff\",\"#8000ff\",\"#8000ff\",\"#8000ff\",\"#8000ff\",\"#8000ff\",\"#8000ff\",\"#8000ff\",\"#8000ff\",\"#8000ff\",\"#8000ff\",\"#8000ff\",\"#8000ff\",\"#8000ff\",\"#8000ff\",\"#8000ff\",\"#8000ff\",\"#8000ff\",\"#8000ff\",\"#8000ff\",\"#8000ff\",\"#8000ff\",\"#8000ff\",\"#8000ff\",\"#8000ff\",\"#8000ff\",\"#8000ff\",\"#8000ff\",\"#8000ff\",\"#8000ff\",\"#8000ff\",\"#8000ff\",\"#8000ff\",\"#8000ff\",\"#8000ff\",\"#8000ff\",\"#8000ff\",\"#8000ff\",\"#1996f3\",\"#1996f3\",\"#1996f3\",\"#1996f3\",\"#1996f3\",\"#1996f3\",\"#1996f3\",\"#1996f3\",\"#1996f3\",\"#1996f3\",\"#1996f3\",\"#1996f3\",\"#1996f3\",\"#1996f3\",\"#1996f3\",\"#1996f3\",\"#1996f3\",\"#1996f3\",\"#1996f3\",\"#1996f3\",\"#1996f3\",\"#1996f3\",\"#1996f3\",\"#1996f3\",\"#1996f3\",\"#1996f3\",\"#1996f3\",\"#1996f3\",\"#1996f3\",\"#1996f3\",\"#1996f3\",\"#1996f3\",\"#1996f3\",\"#1996f3\",\"#1996f3\",\"#1996f3\",\"#1996f3\",\"#1996f3\",\"#1996f3\",\"#1996f3\",\"#1996f3\",\"#1996f3\",\"#1996f3\",\"#1996f3\",\"#1996f3\",\"#1996f3\",\"#1996f3\",\"#1996f3\",\"#1996f3\",\"#1996f3\",\"#1996f3\",\"#1996f3\",\"#1996f3\",\"#1996f3\",\"#1996f3\",\"#1996f3\",\"#1996f3\",\"#1996f3\",\"#1996f3\",\"#1996f3\",\"#1996f3\",\"#1996f3\",\"#1996f3\",\"#1996f3\",\"#1996f3\",\"#1996f3\",\"#1996f3\",\"#1996f3\",\"#1996f3\",\"#1996f3\",\"#1996f3\",\"#1996f3\",\"#1996f3\",\"#1996f3\",\"#1996f3\",\"#1996f3\",\"#1996f3\",\"#1996f3\",\"#1996f3\",\"#1996f3\",\"#1996f3\",\"#1996f3\",\"#1996f3\",\"#1996f3\",\"#1996f3\",\"#1996f3\",\"#1996f3\",\"#1996f3\",\"#1996f3\",\"#1996f3\",\"#1996f3\",\"#1996f3\",\"#1996f3\",\"#1996f3\",\"#1996f3\",\"#1996f3\",\"#1996f3\",\"#1996f3\",\"#1996f3\",\"#1996f3\",\"#4df3ce\",\"#4df3ce\",\"#4df3ce\",\"#4df3ce\",\"#4df3ce\",\"#4df3ce\",\"#4df3ce\",\"#4df3ce\",\"#4df3ce\",\"#4df3ce\",\"#4df3ce\",\"#4df3ce\",\"#4df3ce\",\"#4df3ce\",\"#4df3ce\",\"#4df3ce\",\"#4df3ce\",\"#4df3ce\",\"#4df3ce\",\"#4df3ce\",\"#4df3ce\",\"#4df3ce\",\"#4df3ce\",\"#4df3ce\",\"#4df3ce\",\"#4df3ce\",\"#4df3ce\",\"#4df3ce\",\"#4df3ce\",\"#4df3ce\",\"#4df3ce\",\"#4df3ce\",\"#4df3ce\",\"#4df3ce\",\"#4df3ce\",\"#4df3ce\",\"#4df3ce\",\"#4df3ce\",\"#4df3ce\",\"#4df3ce\",\"#4df3ce\",\"#4df3ce\",\"#4df3ce\",\"#4df3ce\",\"#4df3ce\",\"#4df3ce\",\"#4df3ce\",\"#4df3ce\",\"#4df3ce\",\"#4df3ce\",\"#4df3ce\",\"#4df3ce\",\"#4df3ce\",\"#4df3ce\",\"#4df3ce\",\"#4df3ce\",\"#4df3ce\",\"#4df3ce\",\"#4df3ce\",\"#4df3ce\",\"#4df3ce\",\"#4df3ce\",\"#4df3ce\",\"#4df3ce\",\"#4df3ce\",\"#4df3ce\",\"#4df3ce\",\"#4df3ce\",\"#4df3ce\",\"#4df3ce\",\"#4df3ce\",\"#4df3ce\",\"#4df3ce\",\"#4df3ce\",\"#4df3ce\",\"#4df3ce\",\"#4df3ce\",\"#4df3ce\",\"#4df3ce\",\"#4df3ce\",\"#4df3ce\",\"#4df3ce\",\"#4df3ce\",\"#4df3ce\",\"#4df3ce\",\"#4df3ce\",\"#4df3ce\",\"#4df3ce\",\"#4df3ce\",\"#4df3ce\",\"#4df3ce\",\"#4df3ce\",\"#4df3ce\",\"#4df3ce\",\"#4df3ce\",\"#4df3ce\",\"#4df3ce\",\"#4df3ce\",\"#4df3ce\",\"#4df3ce\",\"#b2f396\",\"#b2f396\",\"#b2f396\",\"#b2f396\",\"#b2f396\",\"#b2f396\",\"#b2f396\",\"#b2f396\",\"#b2f396\",\"#b2f396\",\"#b2f396\",\"#b2f396\",\"#b2f396\",\"#b2f396\",\"#b2f396\",\"#b2f396\",\"#b2f396\",\"#b2f396\",\"#b2f396\",\"#b2f396\",\"#b2f396\",\"#b2f396\",\"#b2f396\",\"#b2f396\",\"#b2f396\",\"#b2f396\",\"#b2f396\",\"#b2f396\",\"#b2f396\",\"#b2f396\",\"#b2f396\",\"#b2f396\",\"#b2f396\",\"#b2f396\",\"#b2f396\",\"#b2f396\",\"#b2f396\",\"#b2f396\",\"#b2f396\",\"#b2f396\",\"#b2f396\",\"#b2f396\",\"#b2f396\",\"#b2f396\",\"#b2f396\",\"#b2f396\",\"#b2f396\",\"#b2f396\",\"#b2f396\",\"#b2f396\",\"#b2f396\",\"#b2f396\",\"#b2f396\",\"#b2f396\",\"#b2f396\",\"#b2f396\",\"#b2f396\",\"#b2f396\",\"#b2f396\",\"#b2f396\",\"#b2f396\",\"#b2f396\",\"#b2f396\",\"#b2f396\",\"#b2f396\",\"#b2f396\",\"#b2f396\",\"#b2f396\",\"#b2f396\",\"#b2f396\",\"#b2f396\",\"#b2f396\",\"#b2f396\",\"#b2f396\",\"#b2f396\",\"#b2f396\",\"#b2f396\",\"#b2f396\",\"#b2f396\",\"#b2f396\",\"#b2f396\",\"#b2f396\",\"#b2f396\",\"#b2f396\",\"#b2f396\",\"#b2f396\",\"#b2f396\",\"#b2f396\",\"#b2f396\",\"#b2f396\",\"#b2f396\",\"#b2f396\",\"#b2f396\",\"#b2f396\",\"#b2f396\",\"#b2f396\",\"#b2f396\",\"#b2f396\",\"#b2f396\",\"#b2f396\"],\"index\":[0,1,2,3,4,5,6,7,8,9,10,11,12,13,14,15,16,17,18,19,20,21,22,23,24,25,26,27,28,29,30,31,32,33,34,35,36,37,38,39,40,41,42,43,44,45,46,47,48,49,50,51,52,53,54,55,56,57,58,59,60,61,62,63,64,65,66,67,68,69,70,71,72,73,74,75,76,77,78,79,80,81,82,83,84,85,86,87,88,89,90,91,92,93,94,95,96,97,98,99,100,101,102,103,104,105,106,107,108,109,110,111,112,113,114,115,116,117,118,119,120,121,122,123,124,125,126,127,128,129,130,131,132,133,134,135,136,137,138,139,140,141,142,143,144,145,146,147,148,149,150,151,152,153,154,155,156,157,158,159,160,161,162,163,164,165,166,167,168,169,170,171,172,173,174,175,176,177,178,179,180,181,182,183,184,185,186,187,188,189,190,191,192,193,194,195,196,197,198,199,200,201,202,203,204,205,206,207,208,209,210,211,212,213,214,215,216,217,218,219,220,221,222,223,224,225,226,227,228,229,230,231,232,233,234,235,236,237,238,239,240,241,242,243,244,245,246,247,248,249,250,251,252,253,254,255,256,257,258,259,260,261,262,263,264,265,266,267,268,269,270,271,272,273,274,275,276,277,278,279,280,281,282,283,284,285,286,287,288,289,290,291,292,293,294,295,296,297,298,299,300,301,302,303,304,305,306,307,308,309,310,311,312,313,314,315,316,317,318,319,320,321,322,323,324,325,326,327,328,329,330,331,332,333,334,335,336,337,338,339,340,341,342,343,344,345,346,347,348,349,350,351,352,353,354,355,356,357,358,359,360,361,362,363,364,365,366,367,368,369,370,371,372,373,374,375,376,377,378,379,380,381,382,383,384,385,386,387,388,389,390,391,392,393,394,395,396,397,398,399,400,401,402,403,404,405,406,407,408,409,410,411,412,413,414,415,416,417,418,419,420,421,422,423,424,425,426,427,428,429,430,431,432,433,434,435,436,437,438,439,440,441,442,443,444,445,446,447,448,449,450,451,452,453,454,455,456,457,458,459,460,461,462,463,464,465,466,467,468,469,470,471,472,473,474,475,476,477,478,479,480,481,482,483,484,485,486,487,488,489,490,491,492,493,494,495,496,497,498,499,500,501,502,503,504,505,506,507,508,509,510,511,512,513,514,515,516,517,518,519,520,521,522,523,524,525,526,527,528,529,530,531,532,533,534,535,536,537,538,539,540,541,542,543,544,545,546,547,548,549,550,551,552,553,554,555,556,557,558,559,560,561,562,563,564,565,566,567,568,569,570,571,572,573,574,575,576,577,578,579,580,581,582,583,584,585,586,587,588,589,590,591,592,593,594,595,596,597,598,599],\"label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x\":{\"__ndarray__\":\"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\",\"dtype\":\"float32\",\"order\":\"little\",\"shape\":[600]},\"y\":{\"__ndarray__\":\"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\",\"dtype\":\"float32\",\"order\":\"little\",\"shape\":[600]}},\"selected\":{\"id\":\"1953\"},\"selection_policy\":{\"id\":\"1952\"}},\"id\":\"1851\",\"type\":\"ColumnDataSource\"},{\"attributes\":{},\"id\":\"1952\",\"type\":\"UnionRenderers\"},{\"attributes\":{},\"id\":\"1857\",\"type\":\"LinearScale\"},{\"attributes\":{\"fill_alpha\":{\"value\":0.2},\"fill_color\":{\"field\":\"color\"},\"hatch_alpha\":{\"value\":0.2},\"hatch_color\":{\"field\":\"color\"},\"line_alpha\":{\"value\":0.2},\"line_color\":{\"field\":\"color\"},\"size\":{\"value\":3},\"x\":{\"field\":\"x\"},\"y\":{\"field\":\"y\"}},\"id\":\"1886\",\"type\":\"Circle\"},{\"attributes\":{\"fill_alpha\":{\"field\":\"alpha\"},\"fill_color\":{\"field\":\"color\"},\"hatch_alpha\":{\"field\":\"alpha\"},\"hatch_color\":{\"field\":\"color\"},\"line_alpha\":{\"field\":\"alpha\"},\"line_color\":{\"field\":\"color\"},\"size\":{\"value\":3},\"x\":{\"field\":\"x\"},\"y\":{\"field\":\"y\"}},\"id\":\"1884\",\"type\":\"Circle\"},{\"attributes\":{},\"id\":\"1950\",\"type\":\"BasicTickFormatter\"},{\"attributes\":{},\"id\":\"1947\",\"type\":\"BasicTickFormatter\"},{\"attributes\":{\"fill_alpha\":{\"value\":0.1},\"fill_color\":{\"field\":\"color\"},\"hatch_alpha\":{\"value\":0.1},\"hatch_color\":{\"field\":\"color\"},\"line_alpha\":{\"value\":0.1},\"line_color\":{\"field\":\"color\"},\"size\":{\"value\":3},\"x\":{\"field\":\"x\"},\"y\":{\"field\":\"y\"}},\"id\":\"1885\",\"type\":\"Circle\"},{\"attributes\":{},\"id\":\"1869\",\"type\":\"PanTool\"},{\"attributes\":{\"overlay\":{\"id\":\"1875\"}},\"id\":\"1871\",\"type\":\"BoxZoomTool\"},{\"attributes\":{},\"id\":\"1951\",\"type\":\"AllLabels\"},{\"attributes\":{\"source\":{\"id\":\"1851\"}},\"id\":\"1888\",\"type\":\"CDSView\"},{\"attributes\":{},\"id\":\"1872\",\"type\":\"SaveTool\"},{\"attributes\":{},\"id\":\"1870\",\"type\":\"WheelZoomTool\"},{\"attributes\":{\"axis\":{\"id\":\"1865\"},\"coordinates\":null,\"dimension\":1,\"group\":null,\"ticker\":null,\"visible\":false},\"id\":\"1868\",\"type\":\"Grid\"}],\"root_ids\":[\"1852\"]},\"title\":\"Bokeh Application\",\"version\":\"2.4.3\"}};\n",
       "  const render_items = [{\"docid\":\"b660dcd6-47cb-4ee1-9cb7-88b9a5a18ad0\",\"root_ids\":[\"1852\"],\"roots\":{\"1852\":\"3e9ca513-158e-4aba-b680-a00aa190f416\"}}];\n",
       "  root.Bokeh.embed.embed_items_notebook(docs_json, render_items);\n",
       "  }\n",
       "  if (root.Bokeh !== undefined) {\n",
       "    embed_document(root);\n",
       "  } else {\n",
       "    let attempts = 0;\n",
       "    const timer = setInterval(function(root) {\n",
       "      if (root.Bokeh !== undefined) {\n",
       "        clearInterval(timer);\n",
       "        embed_document(root);\n",
       "      } else {\n",
       "        attempts++;\n",
       "        if (attempts > 100) {\n",
       "          clearInterval(timer);\n",
       "          console.log(\"Bokeh: ERROR: Unable to run BokehJS code because BokehJS library is missing\");\n",
       "        }\n",
       "      }\n",
       "    }, 10, root)\n",
       "  }\n",
       "})(window);"
      ],
      "application/vnd.bokehjs_exec.v0+json": ""
     },
     "metadata": {
      "application/vnd.bokehjs_exec.v0+json": {
       "id": "1852"
      }
     },
     "output_type": "display_data"
    }
   ],
   "source": [
    "g_mapper = umap.UMAP(random_state=42).fit(graph_awe_matrix_0)\n",
    "p = umap.plot.interactive(\n",
    "    M_mapper_norm_1, \n",
    "    labels=graph_labels,\n",
    "    point_size=3, \n",
    "    width=800, \n",
    "    height=600, \n",
    "    theme='fire')\n",
    "show(p)"
   ]
  },
  {
   "cell_type": "markdown",
   "id": "c4f65f92-5153-4575-beb4-0892dc588ad6",
   "metadata": {},
   "source": [
    "##### Embed neighborhoods as bags of vertex vectors (Wasserstein)\n",
    "\n",
    "To do this, we consider each neighborhood as a hyperedge assigned to a vertex, and we build a node incidence matrix of this hypergraph."
   ]
  },
  {
   "cell_type": "code",
   "execution_count": 160,
   "id": "d3bd8df0",
   "metadata": {},
   "outputs": [
    {
     "data": {
      "text/plain": [
       "<19474x19474 sparse matrix of type '<class 'numpy.int64'>'\n",
       "\twith 94038 stored elements in Compressed Sparse Row format>"
      ]
     },
     "execution_count": 160,
     "metadata": {},
     "output_type": "execute_result"
    }
   ],
   "source": [
    "G = ig.union([g for g in graphs])\n",
    "node_incidence_matrix = G.get_adjacency_sparse()\n",
    "node_incidence_matrix.setdiag(1) ## add self to neighbourhoods\n",
    "node_incidence_matrix"
   ]
  },
  {
   "cell_type": "code",
   "execution_count": 161,
   "id": "28ae509d",
   "metadata": {},
   "outputs": [],
   "source": [
    "hyperedges_all = [ [str(int(G.vs[x]['name'])) for x in G.neighborhood(v)] for v in range(G.vcount())]\n"
   ]
  },
  {
   "cell_type": "markdown",
   "id": "f421a61e-72cb-4af8-8c10-f34c3d993bc2",
   "metadata": {},
   "source": [
    "##### Effect of vector normalization?"
   ]
  },
  {
   "cell_type": "code",
   "execution_count": 162,
   "id": "8e0387e8-0b05-419f-b3b7-de3a6692b3e4",
   "metadata": {},
   "outputs": [],
   "source": [
    "vertex_vectors_norm_0 = normalize(vertex_vectors_0, axis=1, norm='l1')\n",
    "\n",
    "graph_awe_matrix_norm_0 = vectorizers.ApproximateWassersteinVectorizer(\n",
    "    normalization_power=0.66,\n",
    "    \n",
    "    # n_components=n_components,\n",
    "    random_state=42,\n",
    ").fit_transform(incidence_matrix, vectors=vertex_vectors_norm_0)"
   ]
  },
  {
   "cell_type": "markdown",
   "id": "139f3d9f-a7ad-49cd-8e21-7dc932c74a3b",
   "metadata": {},
   "source": [
    "##### Iteratively embed vertices as bags (n1-neighborhoods) of vertices (via Wasserstein)"
   ]
  },
  {
   "cell_type": "code",
   "execution_count": 163,
   "id": "3b9cd7ba-11ab-48f9-a48f-d57ea23f943b",
   "metadata": {},
   "outputs": [],
   "source": [
    "vertex_awe_vectors = dict()\n",
    "graph_awe_matrix = dict()\n",
    "graph_awe_matrix_svd = dict()"
   ]
  },
  {
   "cell_type": "code",
   "execution_count": 164,
   "id": "69877e9b-19d3-410e-8f8b-524fb7764ac4",
   "metadata": {},
   "outputs": [],
   "source": [
    "number_iteration = 3"
   ]
  },
  {
   "cell_type": "code",
   "execution_count": 165,
   "id": "150caa77-dffb-4405-840d-9688be6cc102",
   "metadata": {},
   "outputs": [],
   "source": [
    "vertex_awe_vectors[0] = vertex_vectors_0\n",
    "graph_awe_matrix[0] = graph_awe_matrix_0"
   ]
  },
  {
   "cell_type": "code",
   "execution_count": 166,
   "id": "4a38cff1-df94-43ef-aa6c-725ebed81ded",
   "metadata": {},
   "outputs": [
    {
     "name": "stdout",
     "output_type": "stream",
     "text": [
      "Interation 1, shape of vector matrix (19474, 18), shape of graph matrix (600, 36)\n",
      "Interation 2, shape of vector matrix (19474, 18), shape of graph matrix (600, 54)\n"
     ]
    }
   ],
   "source": [
    "vertex_awe_vectors[0] = normalize(vertex_awe_vectors[0], axis=1, norm='l1')\n",
    "n_components = vertex_awe_vectors[0].shape[1]\n",
    "svd = TruncatedSVD(n_components=n_components)\n",
    "\n",
    "for i in range(1,number_iteration):\n",
    "    vertex_awe_vectors[i] = vectorizers.ApproximateWassersteinVectorizer(\n",
    "        normalization_power=0.66,\n",
    "        random_state=42,\n",
    "        # n_components=n_components\n",
    "    ).fit_transform(node_incidence_matrix, vectors=vertex_awe_vectors[i-1])\n",
    "\n",
    "\n",
    "    vertex_awe_vectors[i] = normalize(vertex_awe_vectors[i], axis=1, norm='l1')\n",
    "\n",
    "    graph_awe_matrix[i] = vectorizers.ApproximateWassersteinVectorizer(\n",
    "        random_state=42,\n",
    "        # n_components=n_components,\n",
    "        normalization_power=0.66,\n",
    "    ).fit_transform(incidence_matrix, \n",
    "                    vectors=np.hstack([vertex_awe_vectors[i] for j in range(i+1)])\n",
    "                   )\n",
    "    \n",
    "    graph_awe_matrix_svd[i] = svd.fit_transform(graph_awe_matrix[i])\n",
    "    \n",
    "    print(f'Interation {i}, shape of vector matrix {vertex_awe_vectors[i].shape}, shape of graph matrix {graph_awe_matrix[i].shape}')"
   ]
  },
  {
   "cell_type": "code",
   "execution_count": 167,
   "id": "fec69564-f55b-4669-9ce1-d415fbd6709b",
   "metadata": {},
   "outputs": [],
   "source": [
    "vector_df = pd.DataFrame()\n",
    "vector_df['groups'] = np.hstack(np.array([i]*vertex_awe_vectors[i].shape[0]) for i in range(number_iteration))\n",
    "vector_df['lengths'] = np.hstack(np.linalg.norm(vertex_awe_vectors[i], axis=1, ord=1) for i in range(number_iteration))"
   ]
  },
  {
   "cell_type": "markdown",
   "id": "f2b05a67",
   "metadata": {},
   "source": [
    "# Downstream Task Comparison\n",
    "\n",
    "Let's see how that does on the classification task"
   ]
  },
  {
   "cell_type": "markdown",
   "id": "34165bb6",
   "metadata": {},
   "source": [
    "Currently, there is no use of using TF-IDF or info-gain as each node appears only once. If we were to use the vector representation of nodes, we could use a continuous version of info gain... not sure how to do this."
   ]
  },
  {
   "cell_type": "code",
   "execution_count": 168,
   "id": "1be6a6ca",
   "metadata": {},
   "outputs": [],
   "source": [
    "import sklearn.model_selection\n",
    "import sklearn.ensemble\n",
    "import sklearn.linear_model\n",
    "import sklearn.neural_network\n",
    "import sklearn.neighbors\n",
    "\n",
    "from sklearn.experimental import enable_hist_gradient_boosting"
   ]
  },
  {
   "cell_type": "code",
   "execution_count": 169,
   "id": "14f7dcc1",
   "metadata": {},
   "outputs": [],
   "source": [
    "def cross_validate(model, data, labels, n_splits=20, test_ratio=0.1, random_seed=42):\n",
    "    splitter = sklearn.model_selection.ShuffleSplit(\n",
    "        n_splits=n_splits, test_size=test_ratio, random_state=random_seed\n",
    "    )\n",
    "    result = sklearn.model_selection.cross_val_score(model, data, labels, cv=splitter)\n",
    "    return result\n",
    "\n",
    "def cross_validation_dataframe(model, data, labels, feature_sets, n_splits=20, test_ratio=0.1, random_seed=42):\n",
    "    dfs = []\n",
    "    for feature_space_name, feature_space in feature_sets.items():\n",
    "        cv_scores = cross_validate(model, feature_space, labels, n_splits, test_ratio, random_seed)\n",
    "        feature_df = pd.DataFrame(\n",
    "            {\n",
    "                \"run\" : np.arange(n_splits), \n",
    "                \"Embedding\" : feature_space_name,\n",
    "                \"Model\" : model.__repr__().split(\"(\")[0],\n",
    "                \"Accuracy\" : cv_scores,\n",
    "            }\n",
    "        )\n",
    "        dfs.append(feature_df)\n",
    "    return pd.concat(dfs)"
   ]
  },
  {
   "cell_type": "markdown",
   "id": "948e3508-ae61-4634-91b2-82c9bf86310a",
   "metadata": {},
   "source": [
    "## Normalization effect on downstream task - no neighborhoods\n",
    "\n",
    "Here, we just represent graphs as bag of vertex vectors: no Weisfeiler-Lehman graph kernels, no Wasserstein vectorizing of neighborhoods. This method works remarkably well for our graphs given its simplicity. We get a average of roughly 70% with a RandomForest classifier, comparable to the baseline in the paper (RBF-WL radial basis function with Weisfeiler-Lehman)."
   ]
  },
  {
   "cell_type": "markdown",
   "id": "9a53e63f-f665-4c16-a81a-71cee0fcfee5",
   "metadata": {},
   "source": [
    "It seems like the neighborhoods do not bring \n",
    "\n",
    "The results found in https://arxiv.org/pdf/1906.01277v2.pdf\n",
    "\n",
    "![image.png](attachment:588ffce4-bedd-4761-8d3a-2c004e3b5d26.png)\n",
    "\n",
    "The leaderboard found at https://paperswithcode.com/sota/graph-classification-on-enzymes"
   ]
  },
  {
   "cell_type": "code",
   "execution_count": 170,
   "id": "aef1d25c-4a5c-447b-83e2-6e3dd6854e0d",
   "metadata": {},
   "outputs": [
    {
     "data": {
      "text/plain": [
       "Counter({'6': 100, '5': 100, '1': 100, '2': 100, '3': 100, '4': 100})"
      ]
     },
     "execution_count": 170,
     "metadata": {},
     "output_type": "execute_result"
    }
   ],
   "source": [
    "from collections import Counter\n",
    "Counter(graph_labels)"
   ]
  },
  {
   "cell_type": "code",
   "execution_count": 171,
   "id": "c0474ae7-1bd3-4737-9c2d-052d7fc7ff12",
   "metadata": {},
   "outputs": [],
   "source": [
    "models_norm = [\n",
    "    sklearn.neighbors.KNeighborsClassifier(metric=\"cosine\", n_neighbors=10, weights=\"distance\"),\n",
    "    # sklearn.ensemble.HistGradientBoostingClassifier(),\n",
    "    sklearn.ensemble.RandomForestClassifier(),\n",
    "    # sklearn.neural_network.MLPClassifier(hidden_layer_sizes=(100, 80, 40))\n",
    "]\n",
    "feature_sets_norm = {\n",
    "    \"Wasserstein original\": graph_awe_matrix_0,\n",
    "    \"Wasserstein normalized\":  graph_awe_matrix_norm_0\n",
    "}"
   ]
  },
  {
   "cell_type": "code",
   "execution_count": 172,
   "id": "7d6a82e4-999b-4adf-99c4-b3e29c131b6b",
   "metadata": {},
   "outputs": [
    {
     "name": "stdout",
     "output_type": "stream",
     "text": [
      "KNeighborsClassifier(metric='cosine', n_neighbors=10, weights='distance')\n",
      "RandomForestClassifier()\n",
      "CPU times: user 19.4 s, sys: 511 ms, total: 19.9 s\n",
      "Wall time: 9.73 s\n"
     ]
    }
   ],
   "source": [
    "%%time\n",
    "results_norm = []\n",
    "for model in models_norm:\n",
    "    print(model)\n",
    "    res = cross_validation_dataframe(\n",
    "        model, \n",
    "        feature_sets_norm,\n",
    "        graph_labels,\n",
    "        feature_sets = feature_sets_norm\n",
    "    )\n",
    "    results_norm.append(res)\n",
    "\n",
    "df_norm = pd.concat( results_norm )"
   ]
  },
  {
   "cell_type": "code",
   "execution_count": 173,
   "id": "d493d156-21c1-4baa-bb95-d43fe60f6b79",
   "metadata": {},
   "outputs": [
    {
     "data": {
      "text/plain": [
       "<seaborn.axisgrid.FacetGrid at 0x7f64a51bce20>"
      ]
     },
     "execution_count": 173,
     "metadata": {},
     "output_type": "execute_result"
    },
    {
     "data": {
      "image/png": "[encoded data removed]",
      "text/plain": [
       "<Figure size 1600x800 with 2 Axes>"
      ]
     },
     "metadata": {},
     "output_type": "display_data"
    }
   ],
   "source": [
    "g = sns.catplot(\n",
    "    kind=\"swarm\", \n",
    "    x=\"Embedding\", \n",
    "    y=\"Accuracy\", \n",
    "    col=\"Model\",\n",
    "    col_wrap=2,\n",
    "    data=df_norm, \n",
    "    height=8, \n",
    "    alpha=0.5,\n",
    "    zorder=1,\n",
    ")\n",
    "g.map_dataframe(\n",
    "    sns.pointplot, \n",
    "    x=\"Embedding\", \n",
    "    y=\"Accuracy\", \n",
    "    color=\"Model\", \n",
    "    data=df_norm, \n",
    "    # height=6, \n",
    "    # aspect=1.3,\n",
    "    palette=\"dark\",\n",
    "    join=False,\n",
    "    order=[\n",
    "        \"Wasserstein original\",\n",
    "        \"Wasserstein normalized\"\n",
    "    ],\n",
    "    ci=\"sd\",\n",
    "    # zorder=2,\n",
    "    scale=0.9,\n",
    ")\n",
    "g.set_titles(col_template=\"{col_name}\")\n",
    "g.set_xticklabels([\n",
    "        \"Wasserstein original\",\n",
    "        \"Wasserstein normalized\"\n",
    "    ])"
   ]
  },
  {
   "cell_type": "markdown",
   "id": "bcfd76a0-e995-4a4a-91bd-9d36b36cf026",
   "metadata": {},
   "source": [
    "It seems like normalizing the vectors is not helpful but does not degrade the results all that much. The problem is that if we are to concatenate vectors that incorporate information of different neighborhoods' sizes, the vectors obtained via the Wasserstein vectorizer and the initial vectors are not on comparable scales. This is why, in the next section, we normalize all vectors."
   ]
  },
  {
   "cell_type": "markdown",
   "id": "7f0c5645-00de-4b64-93df-9d1c303e18d1",
   "metadata": {},
   "source": [
    "## Concatenating neighborhood vectors on downstream task"
   ]
  },
  {
   "cell_type": "code",
   "execution_count": 174,
   "id": "f98c7438",
   "metadata": {},
   "outputs": [],
   "source": [
    "models = [\n",
    "    sklearn.neighbors.KNeighborsClassifier(metric=\"cosine\", n_neighbors=10, weights=\"distance\"),\n",
    "    # sklearn.ensemble.HistGradientBoostingClassifier(),\n",
    "    sklearn.ensemble.RandomForestClassifier(),\n",
    "    # sklearn.neural_network.MLPClassifier(hidden_layer_sizes=(100, 80, 40))\n",
    "]\n",
    "feature_sets = {\n",
    "    f\"AW {i}-times \": graph_awe_matrix[i] for i in range(number_iteration)\n",
    "}\n",
    "feature_sets.update({\n",
    "    f\"AW-svd {i}-times \": graph_awe_matrix_svd[i] for i in range(1, number_iteration)\n",
    "})\n",
    "\n",
    "order = [\n",
    "        f\"AW {i}-times \" for i in range(number_iteration)\n",
    "    ] + [\n",
    "        f\"AW-svd {i}-times \" for i in range(1, number_iteration)\n",
    "    ]"
   ]
  },
  {
   "cell_type": "markdown",
   "id": "727d1bcf",
   "metadata": {},
   "source": [
    "Now we reun the cross validation across all the models and all the feature sets. Be forewarned if you run this, it will take quite a while."
   ]
  },
  {
   "cell_type": "code",
   "execution_count": 175,
   "id": "19de522c-ab87-4dc3-8554-43d7f217c143",
   "metadata": {},
   "outputs": [
    {
     "name": "stdout",
     "output_type": "stream",
     "text": [
      "KNeighborsClassifier(metric='cosine', n_neighbors=10, weights='distance')\n",
      "RandomForestClassifier()\n",
      "CPU times: user 41.6 s, sys: 935 ms, total: 42.5 s\n",
      "Wall time: 25.7 s\n"
     ]
    }
   ],
   "source": [
    "%%time\n",
    "results = []\n",
    "for model in models:\n",
    "    print(model)\n",
    "    res = cross_validation_dataframe(\n",
    "        model, \n",
    "        feature_sets,\n",
    "        graph_labels,\n",
    "        feature_sets\n",
    "    )\n",
    "    results.append(res)\n",
    "\n",
    "df_all = pd.concat( results )"
   ]
  },
  {
   "cell_type": "code",
   "execution_count": 176,
   "id": "4b382c82-7d7a-47f1-9a0d-19882b4ff557",
   "metadata": {},
   "outputs": [],
   "source": [
    "df = df_all"
   ]
  },
  {
   "cell_type": "code",
   "execution_count": 178,
   "id": "4543f3dd",
   "metadata": {},
   "outputs": [
    {
     "data": {
      "text/html": [
       "<div>\n",
       "<style scoped>\n",
       "    .dataframe tbody tr th:only-of-type {\n",
       "        vertical-align: middle;\n",
       "    }\n",
       "\n",
       "    .dataframe tbody tr th {\n",
       "        vertical-align: top;\n",
       "    }\n",
       "\n",
       "    .dataframe thead th {\n",
       "        text-align: right;\n",
       "    }\n",
       "</style>\n",
       "<table border=\"1\" class=\"dataframe\">\n",
       "  <thead>\n",
       "    <tr style=\"text-align: right;\">\n",
       "      <th></th>\n",
       "      <th>run</th>\n",
       "      <th>Embedding</th>\n",
       "      <th>Model</th>\n",
       "      <th>Accuracy</th>\n",
       "    </tr>\n",
       "  </thead>\n",
       "  <tbody>\n",
       "    <tr>\n",
       "      <th>0</th>\n",
       "      <td>0</td>\n",
       "      <td>AW 0-times</td>\n",
       "      <td>KNeighborsClassifier</td>\n",
       "      <td>0.683333</td>\n",
       "    </tr>\n",
       "    <tr>\n",
       "      <th>1</th>\n",
       "      <td>1</td>\n",
       "      <td>AW 0-times</td>\n",
       "      <td>KNeighborsClassifier</td>\n",
       "      <td>0.666667</td>\n",
       "    </tr>\n",
       "    <tr>\n",
       "      <th>2</th>\n",
       "      <td>2</td>\n",
       "      <td>AW 0-times</td>\n",
       "      <td>KNeighborsClassifier</td>\n",
       "      <td>0.566667</td>\n",
       "    </tr>\n",
       "    <tr>\n",
       "      <th>3</th>\n",
       "      <td>3</td>\n",
       "      <td>AW 0-times</td>\n",
       "      <td>KNeighborsClassifier</td>\n",
       "      <td>0.650000</td>\n",
       "    </tr>\n",
       "    <tr>\n",
       "      <th>4</th>\n",
       "      <td>4</td>\n",
       "      <td>AW 0-times</td>\n",
       "      <td>KNeighborsClassifier</td>\n",
       "      <td>0.600000</td>\n",
       "    </tr>\n",
       "    <tr>\n",
       "      <th>...</th>\n",
       "      <td>...</td>\n",
       "      <td>...</td>\n",
       "      <td>...</td>\n",
       "      <td>...</td>\n",
       "    </tr>\n",
       "    <tr>\n",
       "      <th>15</th>\n",
       "      <td>15</td>\n",
       "      <td>AW-svd 2-times</td>\n",
       "      <td>RandomForestClassifier</td>\n",
       "      <td>0.616667</td>\n",
       "    </tr>\n",
       "    <tr>\n",
       "      <th>16</th>\n",
       "      <td>16</td>\n",
       "      <td>AW-svd 2-times</td>\n",
       "      <td>RandomForestClassifier</td>\n",
       "      <td>0.550000</td>\n",
       "    </tr>\n",
       "    <tr>\n",
       "      <th>17</th>\n",
       "      <td>17</td>\n",
       "      <td>AW-svd 2-times</td>\n",
       "      <td>RandomForestClassifier</td>\n",
       "      <td>0.533333</td>\n",
       "    </tr>\n",
       "    <tr>\n",
       "      <th>18</th>\n",
       "      <td>18</td>\n",
       "      <td>AW-svd 2-times</td>\n",
       "      <td>RandomForestClassifier</td>\n",
       "      <td>0.550000</td>\n",
       "    </tr>\n",
       "    <tr>\n",
       "      <th>19</th>\n",
       "      <td>19</td>\n",
       "      <td>AW-svd 2-times</td>\n",
       "      <td>RandomForestClassifier</td>\n",
       "      <td>0.633333</td>\n",
       "    </tr>\n",
       "  </tbody>\n",
       "</table>\n",
       "<p>200 rows × 4 columns</p>\n",
       "</div>"
      ],
      "text/plain": [
       "    run        Embedding                   Model  Accuracy\n",
       "0     0      AW 0-times     KNeighborsClassifier  0.683333\n",
       "1     1      AW 0-times     KNeighborsClassifier  0.666667\n",
       "2     2      AW 0-times     KNeighborsClassifier  0.566667\n",
       "3     3      AW 0-times     KNeighborsClassifier  0.650000\n",
       "4     4      AW 0-times     KNeighborsClassifier  0.600000\n",
       "..  ...              ...                     ...       ...\n",
       "15   15  AW-svd 2-times   RandomForestClassifier  0.616667\n",
       "16   16  AW-svd 2-times   RandomForestClassifier  0.550000\n",
       "17   17  AW-svd 2-times   RandomForestClassifier  0.533333\n",
       "18   18  AW-svd 2-times   RandomForestClassifier  0.550000\n",
       "19   19  AW-svd 2-times   RandomForestClassifier  0.633333\n",
       "\n",
       "[200 rows x 4 columns]"
      ]
     },
     "execution_count": 178,
     "metadata": {},
     "output_type": "execute_result"
    }
   ],
   "source": [
    "df_all"
   ]
  },
  {
   "cell_type": "markdown",
   "id": "4485dd79",
   "metadata": {},
   "source": [
    "Finally we plot the results. We'll make some good use of seaborn to get a good looking comparison out."
   ]
  },
  {
   "cell_type": "code",
   "execution_count": 177,
   "id": "12bcf2ac",
   "metadata": {},
   "outputs": [
    {
     "data": {
      "text/plain": [
       "<seaborn.axisgrid.FacetGrid at 0x7f63fb683970>"
      ]
     },
     "execution_count": 177,
     "metadata": {},
     "output_type": "execute_result"
    },
    {
     "data": {
      "image/png": "[encoded data removed]",
      "text/plain": [
       "<Figure size 1600x800 with 2 Axes>"
      ]
     },
     "metadata": {},
     "output_type": "display_data"
    }
   ],
   "source": [
    "g = sns.catplot(\n",
    "    kind=\"swarm\", \n",
    "    x=\"Embedding\", \n",
    "    y=\"Accuracy\", \n",
    "    col=\"Model\",\n",
    "    col_wrap=2,\n",
    "    data=df, \n",
    "    height=8, \n",
    "    alpha=0.5,\n",
    "    zorder=1,\n",
    ")\n",
    "g.map_dataframe(\n",
    "    sns.pointplot, \n",
    "    x=\"Embedding\", \n",
    "    y=\"Accuracy\", \n",
    "    color=\"Model\", \n",
    "    data=df, \n",
    "    # height=6, \n",
    "    # aspect=1.3,\n",
    "    palette=\"dark\",\n",
    "    join=False,\n",
    "    order= order\n",
    "    ,\n",
    "    ci=\"sd\",\n",
    "    # zorder=2,\n",
    "    scale=0.9,\n",
    ")\n",
    "g.set_titles(col_template=\"{col_name}\")\n",
    "g.set_xticklabels(order)\n",
    "# g.savefig(\"figures/recipe_embedding_comparison_downstream_task.png\", facecolor=\"none\")"
   ]
  },
  {
   "cell_type": "code",
   "execution_count": null,
   "id": "be813f7a-3b15-4bbc-8d7b-1a1dae9555f9",
   "metadata": {},
   "outputs": [],
   "source": []
  },
  {
   "cell_type": "code",
   "execution_count": null,
   "id": "e060559c-5e4b-48a0-988c-0d3beee90ac4",
   "metadata": {},
   "outputs": [],
   "source": []
  },
  {
   "cell_type": "code",
   "execution_count": null,
   "id": "d5e39ec6-096d-4814-9d7e-c4b7f02f0608",
   "metadata": {},
   "outputs": [],
   "source": []
  },
  {
   "cell_type": "code",
   "execution_count": null,
   "id": "4039eb33-4190-4e44-82bd-ca9a030f550d",
   "metadata": {},
   "outputs": [],
   "source": []
  }
 ],
 "metadata": {
  "kernelspec": {
   "display_name": "vector",
   "language": "python",
   "name": "vector"
  },
  "language_info": {
   "codemirror_mode": {
    "name": "ipython",
    "version": 3
   },
   "file_extension": ".py",
   "mimetype": "text/x-python",
   "name": "python",
   "nbconvert_exporter": "python",
   "pygments_lexer": "ipython3",
   "version": "3.11.3"
  }
 },
 "nbformat": 4,
 "nbformat_minor": 5
}
