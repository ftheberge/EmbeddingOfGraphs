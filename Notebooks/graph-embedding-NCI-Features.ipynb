{
 "cells": [
  {
   "cell_type": "code",
   "execution_count": 1,
   "id": "98c21936",
   "metadata": {},
   "outputs": [
    {
     "data": {
      "text/html": [
       "<div class=\"bk-root\">\n",
       "        <a href=\"https://bokeh.org\" target=\"_blank\" class=\"bk-logo bk-logo-small bk-logo-notebook\"></a>\n",
       "        <span id=\"1002\">Loading BokehJS ...</span>\n",
       "    </div>\n"
      ]
     },
     "metadata": {},
     "output_type": "display_data"
    },
    {
     "data": {
      "application/javascript": [
       "(function(root) {\n",
       "  function now() {\n",
       "    return new Date();\n",
       "  }\n",
       "\n",
       "  const force = true;\n",
       "\n",
       "  if (typeof root._bokeh_onload_callbacks === \"undefined\" || force === true) {\n",
       "    root._bokeh_onload_callbacks = [];\n",
       "    root._bokeh_is_loading = undefined;\n",
       "  }\n",
       "\n",
       "const JS_MIME_TYPE = 'application/javascript';\n",
       "  const HTML_MIME_TYPE = 'text/html';\n",
       "  const EXEC_MIME_TYPE = 'application/vnd.bokehjs_exec.v0+json';\n",
       "  const CLASS_NAME = 'output_bokeh rendered_html';\n",
       "\n",
       "  /**\n",
       "   * Render data to the DOM node\n",
       "   */\n",
       "  function render(props, node) {\n",
       "    const script = document.createElement(\"script\");\n",
       "    node.appendChild(script);\n",
       "  }\n",
       "\n",
       "  /**\n",
       "   * Handle when an output is cleared or removed\n",
       "   */\n",
       "  function handleClearOutput(event, handle) {\n",
       "    const cell = handle.cell;\n",
       "\n",
       "    const id = cell.output_area._bokeh_element_id;\n",
       "    const server_id = cell.output_area._bokeh_server_id;\n",
       "    // Clean up Bokeh references\n",
       "    if (id != null && id in Bokeh.index) {\n",
       "      Bokeh.index[id].model.document.clear();\n",
       "      delete Bokeh.index[id];\n",
       "    }\n",
       "\n",
       "    if (server_id !== undefined) {\n",
       "      // Clean up Bokeh references\n",
       "      const cmd_clean = \"from bokeh.io.state import curstate; print(curstate().uuid_to_server['\" + server_id + \"'].get_sessions()[0].document.roots[0]._id)\";\n",
       "      cell.notebook.kernel.execute(cmd_clean, {\n",
       "        iopub: {\n",
       "          output: function(msg) {\n",
       "            const id = msg.content.text.trim();\n",
       "            if (id in Bokeh.index) {\n",
       "              Bokeh.index[id].model.document.clear();\n",
       "              delete Bokeh.index[id];\n",
       "            }\n",
       "          }\n",
       "        }\n",
       "      });\n",
       "      // Destroy server and session\n",
       "      const cmd_destroy = \"import bokeh.io.notebook as ion; ion.destroy_server('\" + server_id + \"')\";\n",
       "      cell.notebook.kernel.execute(cmd_destroy);\n",
       "    }\n",
       "  }\n",
       "\n",
       "  /**\n",
       "   * Handle when a new output is added\n",
       "   */\n",
       "  function handleAddOutput(event, handle) {\n",
       "    const output_area = handle.output_area;\n",
       "    const output = handle.output;\n",
       "\n",
       "    // limit handleAddOutput to display_data with EXEC_MIME_TYPE content only\n",
       "    if ((output.output_type != \"display_data\") || (!Object.prototype.hasOwnProperty.call(output.data, EXEC_MIME_TYPE))) {\n",
       "      return\n",
       "    }\n",
       "\n",
       "    const toinsert = output_area.element.find(\".\" + CLASS_NAME.split(' ')[0]);\n",
       "\n",
       "    if (output.metadata[EXEC_MIME_TYPE][\"id\"] !== undefined) {\n",
       "      toinsert[toinsert.length - 1].firstChild.textContent = output.data[JS_MIME_TYPE];\n",
       "      // store reference to embed id on output_area\n",
       "      output_area._bokeh_element_id = output.metadata[EXEC_MIME_TYPE][\"id\"];\n",
       "    }\n",
       "    if (output.metadata[EXEC_MIME_TYPE][\"server_id\"] !== undefined) {\n",
       "      const bk_div = document.createElement(\"div\");\n",
       "      bk_div.innerHTML = output.data[HTML_MIME_TYPE];\n",
       "      const script_attrs = bk_div.children[0].attributes;\n",
       "      for (let i = 0; i < script_attrs.length; i++) {\n",
       "        toinsert[toinsert.length - 1].firstChild.setAttribute(script_attrs[i].name, script_attrs[i].value);\n",
       "        toinsert[toinsert.length - 1].firstChild.textContent = bk_div.children[0].textContent\n",
       "      }\n",
       "      // store reference to server id on output_area\n",
       "      output_area._bokeh_server_id = output.metadata[EXEC_MIME_TYPE][\"server_id\"];\n",
       "    }\n",
       "  }\n",
       "\n",
       "  function register_renderer(events, OutputArea) {\n",
       "\n",
       "    function append_mime(data, metadata, element) {\n",
       "      // create a DOM node to render to\n",
       "      const toinsert = this.create_output_subarea(\n",
       "        metadata,\n",
       "        CLASS_NAME,\n",
       "        EXEC_MIME_TYPE\n",
       "      );\n",
       "      this.keyboard_manager.register_events(toinsert);\n",
       "      // Render to node\n",
       "      const props = {data: data, metadata: metadata[EXEC_MIME_TYPE]};\n",
       "      render(props, toinsert[toinsert.length - 1]);\n",
       "      element.append(toinsert);\n",
       "      return toinsert\n",
       "    }\n",
       "\n",
       "    /* Handle when an output is cleared or removed */\n",
       "    events.on('clear_output.CodeCell', handleClearOutput);\n",
       "    events.on('delete.Cell', handleClearOutput);\n",
       "\n",
       "    /* Handle when a new output is added */\n",
       "    events.on('output_added.OutputArea', handleAddOutput);\n",
       "\n",
       "    /**\n",
       "     * Register the mime type and append_mime function with output_area\n",
       "     */\n",
       "    OutputArea.prototype.register_mime_type(EXEC_MIME_TYPE, append_mime, {\n",
       "      /* Is output safe? */\n",
       "      safe: true,\n",
       "      /* Index of renderer in `output_area.display_order` */\n",
       "      index: 0\n",
       "    });\n",
       "  }\n",
       "\n",
       "  // register the mime type if in Jupyter Notebook environment and previously unregistered\n",
       "  if (root.Jupyter !== undefined) {\n",
       "    const events = require('base/js/events');\n",
       "    const OutputArea = require('notebook/js/outputarea').OutputArea;\n",
       "\n",
       "    if (OutputArea.prototype.mime_types().indexOf(EXEC_MIME_TYPE) == -1) {\n",
       "      register_renderer(events, OutputArea);\n",
       "    }\n",
       "  }\n",
       "  if (typeof (root._bokeh_timeout) === \"undefined\" || force === true) {\n",
       "    root._bokeh_timeout = Date.now() + 5000;\n",
       "    root._bokeh_failed_load = false;\n",
       "  }\n",
       "\n",
       "  const NB_LOAD_WARNING = {'data': {'text/html':\n",
       "     \"<div style='background-color: #fdd'>\\n\"+\n",
       "     \"<p>\\n\"+\n",
       "     \"BokehJS does not appear to have successfully loaded. If loading BokehJS from CDN, this \\n\"+\n",
       "     \"may be due to a slow or bad network connection. Possible fixes:\\n\"+\n",
       "     \"</p>\\n\"+\n",
       "     \"<ul>\\n\"+\n",
       "     \"<li>re-rerun `output_notebook()` to attempt to load from CDN again, or</li>\\n\"+\n",
       "     \"<li>use INLINE resources instead, as so:</li>\\n\"+\n",
       "     \"</ul>\\n\"+\n",
       "     \"<code>\\n\"+\n",
       "     \"from bokeh.resources import INLINE\\n\"+\n",
       "     \"output_notebook(resources=INLINE)\\n\"+\n",
       "     \"</code>\\n\"+\n",
       "     \"</div>\"}};\n",
       "\n",
       "  function display_loaded() {\n",
       "    const el = document.getElementById(\"1002\");\n",
       "    if (el != null) {\n",
       "      el.textContent = \"BokehJS is loading...\";\n",
       "    }\n",
       "    if (root.Bokeh !== undefined) {\n",
       "      if (el != null) {\n",
       "        el.textContent = \"BokehJS \" + root.Bokeh.version + \" successfully loaded.\";\n",
       "      }\n",
       "    } else if (Date.now() < root._bokeh_timeout) {\n",
       "      setTimeout(display_loaded, 100)\n",
       "    }\n",
       "  }\n",
       "\n",
       "  function run_callbacks() {\n",
       "    try {\n",
       "      root._bokeh_onload_callbacks.forEach(function(callback) {\n",
       "        if (callback != null)\n",
       "          callback();\n",
       "      });\n",
       "    } finally {\n",
       "      delete root._bokeh_onload_callbacks\n",
       "    }\n",
       "    console.debug(\"Bokeh: all callbacks have finished\");\n",
       "  }\n",
       "\n",
       "  function load_libs(css_urls, js_urls, callback) {\n",
       "    if (css_urls == null) css_urls = [];\n",
       "    if (js_urls == null) js_urls = [];\n",
       "\n",
       "    root._bokeh_onload_callbacks.push(callback);\n",
       "    if (root._bokeh_is_loading > 0) {\n",
       "      console.debug(\"Bokeh: BokehJS is being loaded, scheduling callback at\", now());\n",
       "      return null;\n",
       "    }\n",
       "    if (js_urls == null || js_urls.length === 0) {\n",
       "      run_callbacks();\n",
       "      return null;\n",
       "    }\n",
       "    console.debug(\"Bokeh: BokehJS not loaded, scheduling load and callback at\", now());\n",
       "    root._bokeh_is_loading = css_urls.length + js_urls.length;\n",
       "\n",
       "    function on_load() {\n",
       "      root._bokeh_is_loading--;\n",
       "      if (root._bokeh_is_loading === 0) {\n",
       "        console.debug(\"Bokeh: all BokehJS libraries/stylesheets loaded\");\n",
       "        run_callbacks()\n",
       "      }\n",
       "    }\n",
       "\n",
       "    function on_error(url) {\n",
       "      console.error(\"failed to load \" + url);\n",
       "    }\n",
       "\n",
       "    for (let i = 0; i < css_urls.length; i++) {\n",
       "      const url = css_urls[i];\n",
       "      const element = document.createElement(\"link\");\n",
       "      element.onload = on_load;\n",
       "      element.onerror = on_error.bind(null, url);\n",
       "      element.rel = \"stylesheet\";\n",
       "      element.type = \"text/css\";\n",
       "      element.href = url;\n",
       "      console.debug(\"Bokeh: injecting link tag for BokehJS stylesheet: \", url);\n",
       "      document.body.appendChild(element);\n",
       "    }\n",
       "\n",
       "    for (let i = 0; i < js_urls.length; i++) {\n",
       "      const url = js_urls[i];\n",
       "      const element = document.createElement('script');\n",
       "      element.onload = on_load;\n",
       "      element.onerror = on_error.bind(null, url);\n",
       "      element.async = false;\n",
       "      element.src = url;\n",
       "      console.debug(\"Bokeh: injecting script tag for BokehJS library: \", url);\n",
       "      document.head.appendChild(element);\n",
       "    }\n",
       "  };\n",
       "\n",
       "  function inject_raw_css(css) {\n",
       "    const element = document.createElement(\"style\");\n",
       "    element.appendChild(document.createTextNode(css));\n",
       "    document.body.appendChild(element);\n",
       "  }\n",
       "\n",
       "  const js_urls = [\"https://cdn.bokeh.org/bokeh/release/bokeh-2.4.3.min.js\", \"https://cdn.bokeh.org/bokeh/release/bokeh-gl-2.4.3.min.js\", \"https://cdn.bokeh.org/bokeh/release/bokeh-widgets-2.4.3.min.js\", \"https://cdn.bokeh.org/bokeh/release/bokeh-tables-2.4.3.min.js\", \"https://cdn.bokeh.org/bokeh/release/bokeh-mathjax-2.4.3.min.js\", \"https://unpkg.com/@holoviz/panel@0.14.4/dist/panel.min.js\"];\n",
       "  const css_urls = [];\n",
       "\n",
       "  const inline_js = [    function(Bokeh) {\n",
       "      Bokeh.set_log_level(\"info\");\n",
       "    },\n",
       "function(Bokeh) {\n",
       "    }\n",
       "  ];\n",
       "\n",
       "  function run_inline_js() {\n",
       "    if (root.Bokeh !== undefined || force === true) {\n",
       "          for (let i = 0; i < inline_js.length; i++) {\n",
       "      inline_js[i].call(root, root.Bokeh);\n",
       "    }\n",
       "if (force === true) {\n",
       "        display_loaded();\n",
       "      }} else if (Date.now() < root._bokeh_timeout) {\n",
       "      setTimeout(run_inline_js, 100);\n",
       "    } else if (!root._bokeh_failed_load) {\n",
       "      console.log(\"Bokeh: BokehJS failed to load within specified timeout.\");\n",
       "      root._bokeh_failed_load = true;\n",
       "    } else if (force !== true) {\n",
       "      const cell = $(document.getElementById(\"1002\")).parents('.cell').data().cell;\n",
       "      cell.output_area.append_execute_result(NB_LOAD_WARNING)\n",
       "    }\n",
       "  }\n",
       "\n",
       "  if (root._bokeh_is_loading === 0) {\n",
       "    console.debug(\"Bokeh: BokehJS loaded, going straight to plotting\");\n",
       "    run_inline_js();\n",
       "  } else {\n",
       "    load_libs(css_urls, js_urls, function() {\n",
       "      console.debug(\"Bokeh: BokehJS plotting callback run at\", now());\n",
       "      run_inline_js();\n",
       "    });\n",
       "  }\n",
       "}(window));"
      ],
      "application/vnd.bokehjs_load.v0+json": "(function(root) {\n  function now() {\n    return new Date();\n  }\n\n  const force = true;\n\n  if (typeof root._bokeh_onload_callbacks === \"undefined\" || force === true) {\n    root._bokeh_onload_callbacks = [];\n    root._bokeh_is_loading = undefined;\n  }\n\n\n  if (typeof (root._bokeh_timeout) === \"undefined\" || force === true) {\n    root._bokeh_timeout = Date.now() + 5000;\n    root._bokeh_failed_load = false;\n  }\n\n  const NB_LOAD_WARNING = {'data': {'text/html':\n     \"<div style='background-color: #fdd'>\\n\"+\n     \"<p>\\n\"+\n     \"BokehJS does not appear to have successfully loaded. If loading BokehJS from CDN, this \\n\"+\n     \"may be due to a slow or bad network connection. Possible fixes:\\n\"+\n     \"</p>\\n\"+\n     \"<ul>\\n\"+\n     \"<li>re-rerun `output_notebook()` to attempt to load from CDN again, or</li>\\n\"+\n     \"<li>use INLINE resources instead, as so:</li>\\n\"+\n     \"</ul>\\n\"+\n     \"<code>\\n\"+\n     \"from bokeh.resources import INLINE\\n\"+\n     \"output_notebook(resources=INLINE)\\n\"+\n     \"</code>\\n\"+\n     \"</div>\"}};\n\n  function display_loaded() {\n    const el = document.getElementById(\"1002\");\n    if (el != null) {\n      el.textContent = \"BokehJS is loading...\";\n    }\n    if (root.Bokeh !== undefined) {\n      if (el != null) {\n        el.textContent = \"BokehJS \" + root.Bokeh.version + \" successfully loaded.\";\n      }\n    } else if (Date.now() < root._bokeh_timeout) {\n      setTimeout(display_loaded, 100)\n    }\n  }\n\n  function run_callbacks() {\n    try {\n      root._bokeh_onload_callbacks.forEach(function(callback) {\n        if (callback != null)\n          callback();\n      });\n    } finally {\n      delete root._bokeh_onload_callbacks\n    }\n    console.debug(\"Bokeh: all callbacks have finished\");\n  }\n\n  function load_libs(css_urls, js_urls, callback) {\n    if (css_urls == null) css_urls = [];\n    if (js_urls == null) js_urls = [];\n\n    root._bokeh_onload_callbacks.push(callback);\n    if (root._bokeh_is_loading > 0) {\n      console.debug(\"Bokeh: BokehJS is being loaded, scheduling callback at\", now());\n      return null;\n    }\n    if (js_urls == null || js_urls.length === 0) {\n      run_callbacks();\n      return null;\n    }\n    console.debug(\"Bokeh: BokehJS not loaded, scheduling load and callback at\", now());\n    root._bokeh_is_loading = css_urls.length + js_urls.length;\n\n    function on_load() {\n      root._bokeh_is_loading--;\n      if (root._bokeh_is_loading === 0) {\n        console.debug(\"Bokeh: all BokehJS libraries/stylesheets loaded\");\n        run_callbacks()\n      }\n    }\n\n    function on_error(url) {\n      console.error(\"failed to load \" + url);\n    }\n\n    for (let i = 0; i < css_urls.length; i++) {\n      const url = css_urls[i];\n      const element = document.createElement(\"link\");\n      element.onload = on_load;\n      element.onerror = on_error.bind(null, url);\n      element.rel = \"stylesheet\";\n      element.type = \"text/css\";\n      element.href = url;\n      console.debug(\"Bokeh: injecting link tag for BokehJS stylesheet: \", url);\n      document.body.appendChild(element);\n    }\n\n    for (let i = 0; i < js_urls.length; i++) {\n      const url = js_urls[i];\n      const element = document.createElement('script');\n      element.onload = on_load;\n      element.onerror = on_error.bind(null, url);\n      element.async = false;\n      element.src = url;\n      console.debug(\"Bokeh: injecting script tag for BokehJS library: \", url);\n      document.head.appendChild(element);\n    }\n  };\n\n  function inject_raw_css(css) {\n    const element = document.createElement(\"style\");\n    element.appendChild(document.createTextNode(css));\n    document.body.appendChild(element);\n  }\n\n  const js_urls = [\"https://cdn.bokeh.org/bokeh/release/bokeh-2.4.3.min.js\", \"https://cdn.bokeh.org/bokeh/release/bokeh-gl-2.4.3.min.js\", \"https://cdn.bokeh.org/bokeh/release/bokeh-widgets-2.4.3.min.js\", \"https://cdn.bokeh.org/bokeh/release/bokeh-tables-2.4.3.min.js\", \"https://cdn.bokeh.org/bokeh/release/bokeh-mathjax-2.4.3.min.js\", \"https://unpkg.com/@holoviz/panel@0.14.4/dist/panel.min.js\"];\n  const css_urls = [];\n\n  const inline_js = [    function(Bokeh) {\n      Bokeh.set_log_level(\"info\");\n    },\nfunction(Bokeh) {\n    }\n  ];\n\n  function run_inline_js() {\n    if (root.Bokeh !== undefined || force === true) {\n          for (let i = 0; i < inline_js.length; i++) {\n      inline_js[i].call(root, root.Bokeh);\n    }\nif (force === true) {\n        display_loaded();\n      }} else if (Date.now() < root._bokeh_timeout) {\n      setTimeout(run_inline_js, 100);\n    } else if (!root._bokeh_failed_load) {\n      console.log(\"Bokeh: BokehJS failed to load within specified timeout.\");\n      root._bokeh_failed_load = true;\n    } else if (force !== true) {\n      const cell = $(document.getElementById(\"1002\")).parents('.cell').data().cell;\n      cell.output_area.append_execute_result(NB_LOAD_WARNING)\n    }\n  }\n\n  if (root._bokeh_is_loading === 0) {\n    console.debug(\"Bokeh: BokehJS loaded, going straight to plotting\");\n    run_inline_js();\n  } else {\n    load_libs(css_urls, js_urls, function() {\n      console.debug(\"Bokeh: BokehJS plotting callback run at\", now());\n      run_inline_js();\n    });\n  }\n}(window));"
     },
     "metadata": {},
     "output_type": "display_data"
    }
   ],
   "source": [
    "import warnings\n",
    "warnings.simplefilter(\"ignore\")\n",
    "import numpy as np\n",
    "import pandas as pd\n",
    "import matplotlib.pyplot as plt\n",
    "#import sklearn.datasets\n",
    "#import sklearn.feature_extraction.text\n",
    "#import sklearn.preprocessing\n",
    "from sklearn.decomposition import TruncatedSVD\n",
    "from sklearn.preprocessing import normalize\n",
    "import scipy.sparse\n",
    "import vectorizers\n",
    "import vectorizers.transformers\n",
    "import seaborn as sns\n",
    "import igraph as ig\n",
    "from scipy.sparse import vstack\n",
    "sns.set()\n",
    "import umap\n",
    "import umap.plot\n",
    "umap.plot.output_notebook()\n",
    "from bokeh.plotting import show\n",
    "from collections import Counter\n",
    "\n",
    "import sklearn.model_selection\n",
    "import sklearn.ensemble\n",
    "import sklearn.linear_model\n",
    "import sklearn.neural_network\n",
    "import sklearn.neighbors\n"
   ]
  },
  {
   "cell_type": "markdown",
   "id": "8662753f",
   "metadata": {},
   "source": [
    "# NCI Datasets\n",
    "\n",
    "We build one large graph from 4000+ smaller ones (there are 2 datasets, NCI1 and NCI109)\n",
    "For each vertex, we have the following attributes:\n",
    "* name:  unique for each vertex (1-based str)\n",
    "* graph: the small graph this node belongs to (1-based int)\n",
    "* label: the vertex label (1-based int)\n",
    "\n",
    "Note that some vertices have label and are assigned to a small graph, but are not part of any edge.\n",
    "We add those as isolated vertices nevertheless.\n",
    "\n",
    "Each small graph belongs to one of two classes; the classes are roughly balanced.\n"
   ]
  },
  {
   "cell_type": "code",
   "execution_count": 2,
   "id": "ae717a35",
   "metadata": {},
   "outputs": [],
   "source": [
    "datadir = '../Data/NCI1/'\n",
    "\n",
    "## read data from NCI folder\n",
    "fn_edges = datadir+'DS_A.txt'\n",
    "fn_graph_id = datadir+'DS_graph_indicator.txt'\n",
    "fn_graph_label = datadir+'DS_graph_labels.txt'\n",
    "fn_node_label = datadir+'DS_node_labels.txt'\n"
   ]
  },
  {
   "cell_type": "code",
   "execution_count": 3,
   "id": "bab01d50",
   "metadata": {},
   "outputs": [
    {
     "name": "stdout",
     "output_type": "stream",
     "text": [
      "number of vertices before: 122319 min index: 1 max index: 122747\n",
      "number of vertices afteur: 122747 min index: 1 max index: 122747\n"
     ]
    }
   ],
   "source": [
    "## read edges, build overall graph\n",
    "with open(fn_edges) as f:\n",
    "    E = [tuple(map(int,x.strip().split(','))) for x in f.readlines()]\n",
    "G = ig.Graph.TupleList(E, directed=True).as_undirected()\n",
    "\n",
    "## read subgraph node memberships (subgraphs names are 1-based)\n",
    "with open(fn_graph_id) as f:\n",
    "    sg_mem = [int(x.strip()) for x in f.readlines()]\n",
    "    \n",
    "## some vertices do not appear in any edges\n",
    "## we add those as isolated nodes for easier processing.\n",
    "vertices = set(G.vs['name'])\n",
    "print('number of vertices before:',G.vcount(),'min index:',min(vertices),'max index:',max(vertices))\n",
    "v = set(np.arange(1,len(sg_mem)+1))\n",
    "diff = v.difference(vertices)\n",
    "G.add_vertices(list(diff))\n",
    "print('number of vertices afteur:',G.vcount(),'min index:',min(vertices),'max index:',max(vertices))\n",
    "\n",
    "## mapping nodes in order of name\n",
    "node_idx = list(np.argsort(G.vs['name']))\n",
    "\n",
    "## assign subgraph\n",
    "for i in range(len(sg_mem)):\n",
    "    G.vs[node_idx[i]]['graph'] = sg_mem[i]\n",
    "\n",
    "## verify with graph label list -- should output 'True'\n",
    "l = [G.vs[i]['graph'] for i in node_idx]\n",
    "if l != sg_mem:\n",
    "    print('something is wrong')\n",
    "\n",
    "## read and store node labels\n",
    "with open(fn_node_label) as f:\n",
    "    l = [int(x.strip()) for x in f.readlines()]\n",
    "for i in range(len(l)):\n",
    "    G.vs[node_idx[i]]['label'] = l[i]\n",
    "\n",
    "## read graph labels\n",
    "with open(fn_graph_label) as f:\n",
    "    graph_labels = [int(x.strip()) for x in f.readlines()]\n",
    "\n",
    "G.vs['name'] = [str(i) for i in G.vs['name']]\n",
    "    "
   ]
  },
  {
   "cell_type": "code",
   "execution_count": 4,
   "id": "e80f2019",
   "metadata": {
    "scrolled": false
   },
   "outputs": [
    {
     "data": {
      "image/svg+xml": [
       "<?xml version=\"1.0\" encoding=\"UTF-8\"?>\n",
       "<svg xmlns=\"http://www.w3.org/2000/svg\" xmlns:xlink=\"http://www.w3.org/1999/xlink\" width=\"300pt\" height=\"300pt\" viewBox=\"0 0 300 300\" version=\"1.1\">\n",
       "<defs>\n",
       "<g>\n",
       "<symbol overflow=\"visible\" id=\"glyph0-0\">\n",
       "<path style=\"stroke:none;\" d=\"M 0.40625 1.421875 L 0.40625 -5.640625 L 4.40625 -5.640625 L 4.40625 1.421875 Z M 0.84375 0.96875 L 3.953125 0.96875 L 3.953125 -5.1875 L 0.84375 -5.1875 Z M 0.84375 0.96875 \"/>\n",
       "</symbol>\n",
       "<symbol overflow=\"visible\" id=\"glyph0-1\">\n",
       "<path style=\"stroke:none;\" d=\"M 3.25 -3.140625 C 3.625 -3.066406 3.914062 -2.898438 4.125 -2.640625 C 4.34375 -2.390625 4.453125 -2.078125 4.453125 -1.703125 C 4.453125 -1.117188 4.253906 -0.671875 3.859375 -0.359375 C 3.460938 -0.046875 2.898438 0.109375 2.171875 0.109375 C 1.921875 0.109375 1.664062 0.0820312 1.40625 0.03125 C 1.15625 -0.0078125 0.890625 -0.078125 0.609375 -0.171875 L 0.609375 -0.9375 C 0.828125 -0.8125 1.066406 -0.710938 1.328125 -0.640625 C 1.585938 -0.578125 1.859375 -0.546875 2.140625 -0.546875 C 2.640625 -0.546875 3.019531 -0.644531 3.28125 -0.84375 C 3.539062 -1.039062 3.671875 -1.328125 3.671875 -1.703125 C 3.671875 -2.046875 3.546875 -2.3125 3.296875 -2.5 C 3.054688 -2.695312 2.722656 -2.796875 2.296875 -2.796875 L 1.625 -2.796875 L 1.625 -3.4375 L 2.328125 -3.4375 C 2.710938 -3.4375 3.007812 -3.515625 3.21875 -3.671875 C 3.425781 -3.828125 3.53125 -4.050781 3.53125 -4.34375 C 3.53125 -4.644531 3.421875 -4.875 3.203125 -5.03125 C 2.992188 -5.195312 2.691406 -5.28125 2.296875 -5.28125 C 2.078125 -5.28125 1.84375 -5.253906 1.59375 -5.203125 C 1.351562 -5.160156 1.082031 -5.085938 0.78125 -4.984375 L 0.78125 -5.6875 C 1.082031 -5.769531 1.363281 -5.832031 1.625 -5.875 C 1.882812 -5.914062 2.132812 -5.9375 2.375 -5.9375 C 2.96875 -5.9375 3.4375 -5.800781 3.78125 -5.53125 C 4.132812 -5.257812 4.3125 -4.890625 4.3125 -4.421875 C 4.3125 -4.097656 4.21875 -3.828125 4.03125 -3.609375 C 3.851562 -3.390625 3.59375 -3.234375 3.25 -3.140625 Z M 3.25 -3.140625 \"/>\n",
       "</symbol>\n",
       "<symbol overflow=\"visible\" id=\"glyph0-2\">\n",
       "<path style=\"stroke:none;\" d=\"M 1 -0.671875 L 2.28125 -0.671875 L 2.28125 -5.109375 L 0.875 -4.828125 L 0.875 -5.546875 L 2.28125 -5.828125 L 3.0625 -5.828125 L 3.0625 -0.671875 L 4.359375 -0.671875 L 4.359375 0 L 1 0 Z M 1 -0.671875 \"/>\n",
       "</symbol>\n",
       "<symbol overflow=\"visible\" id=\"glyph0-3\">\n",
       "<path style=\"stroke:none;\" d=\"M 1.53125 -0.671875 L 4.296875 -0.671875 L 4.296875 0 L 0.59375 0 L 0.59375 -0.671875 C 0.882812 -0.972656 1.289062 -1.382812 1.8125 -1.90625 C 2.332031 -2.4375 2.65625 -2.773438 2.78125 -2.921875 C 3.039062 -3.203125 3.21875 -3.441406 3.3125 -3.640625 C 3.414062 -3.835938 3.46875 -4.03125 3.46875 -4.21875 C 3.46875 -4.53125 3.359375 -4.785156 3.140625 -4.984375 C 2.921875 -5.179688 2.640625 -5.28125 2.296875 -5.28125 C 2.046875 -5.28125 1.78125 -5.234375 1.5 -5.140625 C 1.226562 -5.054688 0.9375 -4.925781 0.625 -4.75 L 0.625 -5.546875 C 0.945312 -5.679688 1.242188 -5.78125 1.515625 -5.84375 C 1.796875 -5.90625 2.050781 -5.9375 2.28125 -5.9375 C 2.882812 -5.9375 3.363281 -5.785156 3.71875 -5.484375 C 4.082031 -5.179688 4.265625 -4.78125 4.265625 -4.28125 C 4.265625 -4.039062 4.21875 -3.8125 4.125 -3.59375 C 4.03125 -3.375 3.867188 -3.117188 3.640625 -2.828125 C 3.566406 -2.753906 3.351562 -2.535156 3 -2.171875 C 2.65625 -1.816406 2.164062 -1.316406 1.53125 -0.671875 Z M 1.53125 -0.671875 \"/>\n",
       "</symbol>\n",
       "</g>\n",
       "</defs>\n",
       "<g id=\"surface2\">\n",
       "<rect x=\"0\" y=\"0\" width=\"300\" height=\"300\" style=\"fill:rgb(100%,100%,100%);fill-opacity:1;stroke:none;\"/>\n",
       "<path style=\"fill:none;stroke-width:1;stroke-linecap:butt;stroke-linejoin:miter;stroke:rgb(26.666667%,26.666667%,26.666667%);stroke-opacity:1;stroke-miterlimit:10;\" d=\"M 186.125 68.328125 L 184.898438 43.261719 \"/>\n",
       "<path style=\"fill:none;stroke-width:1;stroke-linecap:butt;stroke-linejoin:miter;stroke:rgb(26.666667%,26.666667%,26.666667%);stroke-opacity:1;stroke-miterlimit:10;\" d=\"M 184.898438 43.261719 L 186.308594 20 \"/>\n",
       "<path style=\"fill:none;stroke-width:1;stroke-linecap:butt;stroke-linejoin:miter;stroke:rgb(26.666667%,26.666667%,26.666667%);stroke-opacity:1;stroke-miterlimit:10;\" d=\"M 186.125 68.328125 L 215.867188 76.640625 \"/>\n",
       "<path style=\"fill:none;stroke-width:1;stroke-linecap:butt;stroke-linejoin:miter;stroke:rgb(26.666667%,26.666667%,26.666667%);stroke-opacity:1;stroke-miterlimit:10;\" d=\"M 215.867188 76.640625 L 248.945312 72.972656 \"/>\n",
       "<path style=\"fill:none;stroke-width:1;stroke-linecap:butt;stroke-linejoin:miter;stroke:rgb(26.666667%,26.666667%,26.666667%);stroke-opacity:1;stroke-miterlimit:10;\" d=\"M 248.945312 72.972656 L 280 66.777344 \"/>\n",
       "<path style=\"fill:none;stroke-width:1;stroke-linecap:butt;stroke-linejoin:miter;stroke:rgb(26.666667%,26.666667%,26.666667%);stroke-opacity:1;stroke-miterlimit:10;\" d=\"M 81.328125 219.71875 L 48.996094 229.125 \"/>\n",
       "<path style=\"fill:none;stroke-width:1;stroke-linecap:butt;stroke-linejoin:miter;stroke:rgb(26.666667%,26.666667%,26.666667%);stroke-opacity:1;stroke-miterlimit:10;\" d=\"M 48.996094 229.125 L 20 240.027344 \"/>\n",
       "<path style=\"fill:none;stroke-width:1;stroke-linecap:butt;stroke-linejoin:miter;stroke:rgb(26.666667%,26.666667%,26.666667%);stroke-opacity:1;stroke-miterlimit:10;\" d=\"M 81.328125 219.71875 L 110.789062 235.390625 \"/>\n",
       "<path style=\"fill:none;stroke-width:1;stroke-linecap:butt;stroke-linejoin:miter;stroke:rgb(26.666667%,26.666667%,26.666667%);stroke-opacity:1;stroke-miterlimit:10;\" d=\"M 110.789062 235.390625 L 120.785156 258.421875 \"/>\n",
       "<path style=\"fill:none;stroke-width:1;stroke-linecap:butt;stroke-linejoin:miter;stroke:rgb(26.666667%,26.666667%,26.666667%);stroke-opacity:1;stroke-miterlimit:10;\" d=\"M 120.785156 258.421875 L 130.835938 280 \"/>\n",
       "<path style=\"fill:none;stroke-width:1;stroke-linecap:butt;stroke-linejoin:miter;stroke:rgb(26.666667%,26.666667%,26.666667%);stroke-opacity:1;stroke-miterlimit:10;\" d=\"M 109.917969 125.800781 L 76.261719 112 \"/>\n",
       "<path style=\"fill:none;stroke-width:1;stroke-linecap:butt;stroke-linejoin:miter;stroke:rgb(26.666667%,26.666667%,26.666667%);stroke-opacity:1;stroke-miterlimit:10;\" d=\"M 76.261719 112 L 84.710938 88.542969 \"/>\n",
       "<path style=\"fill:none;stroke-width:1;stroke-linecap:butt;stroke-linejoin:miter;stroke:rgb(26.666667%,26.666667%,26.666667%);stroke-opacity:1;stroke-miterlimit:10;\" d=\"M 76.261719 112 L 43.621094 118.539062 \"/>\n",
       "<path style=\"fill:none;stroke-width:1;stroke-linecap:butt;stroke-linejoin:miter;stroke:rgb(26.666667%,26.666667%,26.666667%);stroke-opacity:1;stroke-miterlimit:10;\" d=\"M 76.261719 112 L 45.117188 98.183594 \"/>\n",
       "<path style=\"fill:none;stroke-width:1;stroke-linecap:butt;stroke-linejoin:miter;stroke:rgb(26.666667%,26.666667%,26.666667%);stroke-opacity:1;stroke-miterlimit:10;\" d=\"M 109.917969 125.800781 L 141.398438 111.351562 \"/>\n",
       "<path style=\"fill:none;stroke-width:1;stroke-linecap:butt;stroke-linejoin:miter;stroke:rgb(26.666667%,26.666667%,26.666667%);stroke-opacity:1;stroke-miterlimit:10;\" d=\"M 109.917969 125.800781 L 111.449219 151.375 \"/>\n",
       "<path style=\"fill:none;stroke-width:1;stroke-linecap:butt;stroke-linejoin:miter;stroke:rgb(26.666667%,26.666667%,26.666667%);stroke-opacity:1;stroke-miterlimit:10;\" d=\"M 84.710938 88.542969 L 114.101562 76.515625 \"/>\n",
       "<path style=\"fill:none;stroke-width:1;stroke-linecap:butt;stroke-linejoin:miter;stroke:rgb(26.666667%,26.666667%,26.666667%);stroke-opacity:1;stroke-miterlimit:10;\" d=\"M 141.398438 111.351562 L 145.925781 89.960938 \"/>\n",
       "<path style=\"fill:none;stroke-width:1;stroke-linecap:butt;stroke-linejoin:miter;stroke:rgb(26.666667%,26.666667%,26.666667%);stroke-opacity:1;stroke-miterlimit:10;\" d=\"M 114.101562 76.515625 L 145.925781 89.960938 \"/>\n",
       "<path style=\"fill:none;stroke-width:1;stroke-linecap:butt;stroke-linejoin:miter;stroke:rgb(26.666667%,26.666667%,26.666667%);stroke-opacity:1;stroke-miterlimit:10;\" d=\"M 186.125 68.328125 L 169.476562 94.882812 \"/>\n",
       "<path style=\"fill:none;stroke-width:1;stroke-linecap:butt;stroke-linejoin:miter;stroke:rgb(26.666667%,26.666667%,26.666667%);stroke-opacity:1;stroke-miterlimit:10;\" d=\"M 141.398438 111.351562 L 169.476562 94.882812 \"/>\n",
       "<path style=\"fill:none;stroke-width:1;stroke-linecap:butt;stroke-linejoin:miter;stroke:rgb(26.666667%,26.666667%,26.666667%);stroke-opacity:1;stroke-miterlimit:10;\" d=\"M 111.449219 151.375 L 110.839844 176.277344 \"/>\n",
       "<path style=\"fill:none;stroke-width:1;stroke-linecap:butt;stroke-linejoin:miter;stroke:rgb(26.666667%,26.666667%,26.666667%);stroke-opacity:1;stroke-miterlimit:10;\" d=\"M 215.867188 76.640625 L 188.554688 91.40625 \"/>\n",
       "<path style=\"fill:none;stroke-width:1;stroke-linecap:butt;stroke-linejoin:miter;stroke:rgb(26.666667%,26.666667%,26.666667%);stroke-opacity:1;stroke-miterlimit:10;\" d=\"M 145.925781 89.960938 L 188.554688 91.40625 \"/>\n",
       "<path style=\"fill:none;stroke-width:1;stroke-linecap:butt;stroke-linejoin:miter;stroke:rgb(26.666667%,26.666667%,26.666667%);stroke-opacity:1;stroke-miterlimit:10;\" d=\"M 81.328125 219.71875 L 85.96875 194.464844 \"/>\n",
       "<path style=\"fill:none;stroke-width:1;stroke-linecap:butt;stroke-linejoin:miter;stroke:rgb(26.666667%,26.666667%,26.666667%);stroke-opacity:1;stroke-miterlimit:10;\" d=\"M 110.839844 176.277344 L 85.96875 194.464844 \"/>\n",
       "<path style=\"fill:none;stroke-width:1;stroke-linecap:butt;stroke-linejoin:miter;stroke:rgb(26.666667%,26.666667%,26.666667%);stroke-opacity:1;stroke-miterlimit:10;\" d=\"M 110.839844 176.277344 L 137.496094 193.5625 \"/>\n",
       "<path style=\"fill:none;stroke-width:1;stroke-linecap:butt;stroke-linejoin:miter;stroke:rgb(26.666667%,26.666667%,26.666667%);stroke-opacity:1;stroke-miterlimit:10;\" d=\"M 110.789062 235.390625 L 136.785156 218.015625 \"/>\n",
       "<path style=\"fill:none;stroke-width:1;stroke-linecap:butt;stroke-linejoin:miter;stroke:rgb(26.666667%,26.666667%,26.666667%);stroke-opacity:1;stroke-miterlimit:10;\" d=\"M 137.496094 193.5625 L 136.785156 218.015625 \"/>\n",
       "<path style=\"fill-rule:nonzero;fill:rgb(100%,0%,0%);fill-opacity:1;stroke-width:1;stroke-linecap:butt;stroke-linejoin:miter;stroke:rgb(0%,0%,0%);stroke-opacity:1;stroke-miterlimit:10;\" d=\"M 192.125 68.328125 C 192.125 71.644531 189.4375 74.328125 186.125 74.328125 C 182.8125 74.328125 180.125 71.644531 180.125 68.328125 C 180.125 65.015625 182.8125 62.328125 186.125 62.328125 C 189.4375 62.328125 192.125 65.015625 192.125 68.328125 \"/>\n",
       "<path style=\"fill-rule:nonzero;fill:rgb(100%,0%,0%);fill-opacity:1;stroke-width:1;stroke-linecap:butt;stroke-linejoin:miter;stroke:rgb(0%,0%,0%);stroke-opacity:1;stroke-miterlimit:10;\" d=\"M 190.898438 43.261719 C 190.898438 46.574219 188.210938 49.261719 184.898438 49.261719 C 181.585938 49.261719 178.898438 46.574219 178.898438 43.261719 C 178.898438 39.949219 181.585938 37.261719 184.898438 37.261719 C 188.210938 37.261719 190.898438 39.949219 190.898438 43.261719 \"/>\n",
       "<path style=\"fill-rule:nonzero;fill:rgb(100%,0%,0%);fill-opacity:1;stroke-width:1;stroke-linecap:butt;stroke-linejoin:miter;stroke:rgb(0%,0%,0%);stroke-opacity:1;stroke-miterlimit:10;\" d=\"M 192.308594 20 C 192.308594 23.3125 189.621094 26 186.308594 26 C 182.992188 26 180.308594 23.3125 180.308594 20 C 180.308594 16.6875 182.992188 14 186.308594 14 C 189.621094 14 192.308594 16.6875 192.308594 20 \"/>\n",
       "<path style=\"fill-rule:nonzero;fill:rgb(100%,0%,0%);fill-opacity:1;stroke-width:1;stroke-linecap:butt;stroke-linejoin:miter;stroke:rgb(0%,0%,0%);stroke-opacity:1;stroke-miterlimit:10;\" d=\"M 221.867188 76.640625 C 221.867188 79.953125 219.179688 82.640625 215.867188 82.640625 C 212.550781 82.640625 209.867188 79.953125 209.867188 76.640625 C 209.867188 73.324219 212.550781 70.640625 215.867188 70.640625 C 219.179688 70.640625 221.867188 73.324219 221.867188 76.640625 \"/>\n",
       "<path style=\"fill-rule:nonzero;fill:rgb(100%,0%,0%);fill-opacity:1;stroke-width:1;stroke-linecap:butt;stroke-linejoin:miter;stroke:rgb(0%,0%,0%);stroke-opacity:1;stroke-miterlimit:10;\" d=\"M 254.945312 72.972656 C 254.945312 76.285156 252.257812 78.972656 248.945312 78.972656 C 245.628906 78.972656 242.945312 76.285156 242.945312 72.972656 C 242.945312 69.660156 245.628906 66.972656 248.945312 66.972656 C 252.257812 66.972656 254.945312 69.660156 254.945312 72.972656 \"/>\n",
       "<path style=\"fill-rule:nonzero;fill:rgb(100%,0%,0%);fill-opacity:1;stroke-width:1;stroke-linecap:butt;stroke-linejoin:miter;stroke:rgb(0%,0%,0%);stroke-opacity:1;stroke-miterlimit:10;\" d=\"M 286 66.777344 C 286 70.089844 283.3125 72.777344 280 72.777344 C 276.6875 72.777344 274 70.089844 274 66.777344 C 274 63.460938 276.6875 60.777344 280 60.777344 C 283.3125 60.777344 286 63.460938 286 66.777344 \"/>\n",
       "<path style=\"fill-rule:nonzero;fill:rgb(100%,0%,0%);fill-opacity:1;stroke-width:1;stroke-linecap:butt;stroke-linejoin:miter;stroke:rgb(0%,0%,0%);stroke-opacity:1;stroke-miterlimit:10;\" d=\"M 87.328125 219.71875 C 87.328125 223.03125 84.644531 225.71875 81.328125 225.71875 C 78.015625 225.71875 75.328125 223.03125 75.328125 219.71875 C 75.328125 216.40625 78.015625 213.71875 81.328125 213.71875 C 84.644531 213.71875 87.328125 216.40625 87.328125 219.71875 \"/>\n",
       "<path style=\"fill-rule:nonzero;fill:rgb(100%,0%,0%);fill-opacity:1;stroke-width:1;stroke-linecap:butt;stroke-linejoin:miter;stroke:rgb(0%,0%,0%);stroke-opacity:1;stroke-miterlimit:10;\" d=\"M 54.996094 229.125 C 54.996094 232.441406 52.308594 235.125 48.996094 235.125 C 45.683594 235.125 42.996094 232.441406 42.996094 229.125 C 42.996094 225.8125 45.683594 223.125 48.996094 223.125 C 52.308594 223.125 54.996094 225.8125 54.996094 229.125 \"/>\n",
       "<path style=\"fill-rule:nonzero;fill:rgb(100%,0%,0%);fill-opacity:1;stroke-width:1;stroke-linecap:butt;stroke-linejoin:miter;stroke:rgb(0%,0%,0%);stroke-opacity:1;stroke-miterlimit:10;\" d=\"M 26 240.027344 C 26 243.339844 23.3125 246.027344 20 246.027344 C 16.6875 246.027344 14 243.339844 14 240.027344 C 14 236.714844 16.6875 234.027344 20 234.027344 C 23.3125 234.027344 26 236.714844 26 240.027344 \"/>\n",
       "<path style=\"fill-rule:nonzero;fill:rgb(100%,0%,0%);fill-opacity:1;stroke-width:1;stroke-linecap:butt;stroke-linejoin:miter;stroke:rgb(0%,0%,0%);stroke-opacity:1;stroke-miterlimit:10;\" d=\"M 116.789062 235.390625 C 116.789062 238.703125 114.105469 241.390625 110.789062 241.390625 C 107.476562 241.390625 104.789062 238.703125 104.789062 235.390625 C 104.789062 232.078125 107.476562 229.390625 110.789062 229.390625 C 114.105469 229.390625 116.789062 232.078125 116.789062 235.390625 \"/>\n",
       "<path style=\"fill-rule:nonzero;fill:rgb(100%,0%,0%);fill-opacity:1;stroke-width:1;stroke-linecap:butt;stroke-linejoin:miter;stroke:rgb(0%,0%,0%);stroke-opacity:1;stroke-miterlimit:10;\" d=\"M 126.785156 258.421875 C 126.785156 261.734375 124.101562 264.421875 120.785156 264.421875 C 117.472656 264.421875 114.785156 261.734375 114.785156 258.421875 C 114.785156 255.109375 117.472656 252.421875 120.785156 252.421875 C 124.101562 252.421875 126.785156 255.109375 126.785156 258.421875 \"/>\n",
       "<path style=\"fill-rule:nonzero;fill:rgb(100%,0%,0%);fill-opacity:1;stroke-width:1;stroke-linecap:butt;stroke-linejoin:miter;stroke:rgb(0%,0%,0%);stroke-opacity:1;stroke-miterlimit:10;\" d=\"M 136.835938 280 C 136.835938 283.3125 134.148438 286 130.835938 286 C 127.519531 286 124.835938 283.3125 124.835938 280 C 124.835938 276.6875 127.519531 274 130.835938 274 C 134.148438 274 136.835938 276.6875 136.835938 280 \"/>\n",
       "<path style=\"fill-rule:nonzero;fill:rgb(100%,0%,0%);fill-opacity:1;stroke-width:1;stroke-linecap:butt;stroke-linejoin:miter;stroke:rgb(0%,0%,0%);stroke-opacity:1;stroke-miterlimit:10;\" d=\"M 115.917969 125.800781 C 115.917969 129.113281 113.230469 131.800781 109.917969 131.800781 C 106.605469 131.800781 103.917969 129.113281 103.917969 125.800781 C 103.917969 122.484375 106.605469 119.800781 109.917969 119.800781 C 113.230469 119.800781 115.917969 122.484375 115.917969 125.800781 \"/>\n",
       "<path style=\"fill-rule:nonzero;fill:rgb(100%,0%,0%);fill-opacity:1;stroke-width:1;stroke-linecap:butt;stroke-linejoin:miter;stroke:rgb(0%,0%,0%);stroke-opacity:1;stroke-miterlimit:10;\" d=\"M 82.261719 112 C 82.261719 115.3125 79.578125 118 76.261719 118 C 72.949219 118 70.261719 115.3125 70.261719 112 C 70.261719 108.6875 72.949219 106 76.261719 106 C 79.578125 106 82.261719 108.6875 82.261719 112 \"/>\n",
       "<path style=\"fill-rule:nonzero;fill:rgb(100%,0%,0%);fill-opacity:1;stroke-width:1;stroke-linecap:butt;stroke-linejoin:miter;stroke:rgb(0%,0%,0%);stroke-opacity:1;stroke-miterlimit:10;\" d=\"M 90.710938 88.542969 C 90.710938 91.855469 88.027344 94.542969 84.710938 94.542969 C 81.398438 94.542969 78.710938 91.855469 78.710938 88.542969 C 78.710938 85.230469 81.398438 82.542969 84.710938 82.542969 C 88.027344 82.542969 90.710938 85.230469 90.710938 88.542969 \"/>\n",
       "<path style=\"fill-rule:nonzero;fill:rgb(100%,0%,0%);fill-opacity:1;stroke-width:1;stroke-linecap:butt;stroke-linejoin:miter;stroke:rgb(0%,0%,0%);stroke-opacity:1;stroke-miterlimit:10;\" d=\"M 49.621094 118.539062 C 49.621094 121.851562 46.933594 124.539062 43.621094 124.539062 C 40.304688 124.539062 37.621094 121.851562 37.621094 118.539062 C 37.621094 115.222656 40.304688 112.539062 43.621094 112.539062 C 46.933594 112.539062 49.621094 115.222656 49.621094 118.539062 \"/>\n",
       "<path style=\"fill-rule:nonzero;fill:rgb(100%,0%,0%);fill-opacity:1;stroke-width:1;stroke-linecap:butt;stroke-linejoin:miter;stroke:rgb(0%,0%,0%);stroke-opacity:1;stroke-miterlimit:10;\" d=\"M 51.117188 98.183594 C 51.117188 101.496094 48.429688 104.183594 45.117188 104.183594 C 41.804688 104.183594 39.117188 101.496094 39.117188 98.183594 C 39.117188 94.867188 41.804688 92.183594 45.117188 92.183594 C 48.429688 92.183594 51.117188 94.867188 51.117188 98.183594 \"/>\n",
       "<path style=\"fill-rule:nonzero;fill:rgb(100%,0%,0%);fill-opacity:1;stroke-width:1;stroke-linecap:butt;stroke-linejoin:miter;stroke:rgb(0%,0%,0%);stroke-opacity:1;stroke-miterlimit:10;\" d=\"M 147.398438 111.351562 C 147.398438 114.664062 144.714844 117.351562 141.398438 117.351562 C 138.085938 117.351562 135.398438 114.664062 135.398438 111.351562 C 135.398438 108.035156 138.085938 105.351562 141.398438 105.351562 C 144.714844 105.351562 147.398438 108.035156 147.398438 111.351562 \"/>\n",
       "<path style=\"fill-rule:nonzero;fill:rgb(100%,0%,0%);fill-opacity:1;stroke-width:1;stroke-linecap:butt;stroke-linejoin:miter;stroke:rgb(0%,0%,0%);stroke-opacity:1;stroke-miterlimit:10;\" d=\"M 117.449219 151.375 C 117.449219 154.6875 114.761719 157.375 111.449219 157.375 C 108.132812 157.375 105.449219 154.6875 105.449219 151.375 C 105.449219 148.0625 108.132812 145.375 111.449219 145.375 C 114.761719 145.375 117.449219 148.0625 117.449219 151.375 \"/>\n",
       "<path style=\"fill-rule:nonzero;fill:rgb(100%,0%,0%);fill-opacity:1;stroke-width:1;stroke-linecap:butt;stroke-linejoin:miter;stroke:rgb(0%,0%,0%);stroke-opacity:1;stroke-miterlimit:10;\" d=\"M 120.101562 76.515625 C 120.101562 79.832031 117.417969 82.515625 114.101562 82.515625 C 110.789062 82.515625 108.101562 79.832031 108.101562 76.515625 C 108.101562 73.203125 110.789062 70.515625 114.101562 70.515625 C 117.417969 70.515625 120.101562 73.203125 120.101562 76.515625 \"/>\n",
       "<path style=\"fill-rule:nonzero;fill:rgb(100%,0%,0%);fill-opacity:1;stroke-width:1;stroke-linecap:butt;stroke-linejoin:miter;stroke:rgb(0%,0%,0%);stroke-opacity:1;stroke-miterlimit:10;\" d=\"M 151.925781 89.960938 C 151.925781 93.273438 149.238281 95.960938 145.925781 95.960938 C 142.613281 95.960938 139.925781 93.273438 139.925781 89.960938 C 139.925781 86.648438 142.613281 83.960938 145.925781 83.960938 C 149.238281 83.960938 151.925781 86.648438 151.925781 89.960938 \"/>\n",
       "<path style=\"fill-rule:nonzero;fill:rgb(100%,0%,0%);fill-opacity:1;stroke-width:1;stroke-linecap:butt;stroke-linejoin:miter;stroke:rgb(0%,0%,0%);stroke-opacity:1;stroke-miterlimit:10;\" d=\"M 175.476562 94.882812 C 175.476562 98.199219 172.789062 100.882812 169.476562 100.882812 C 166.160156 100.882812 163.476562 98.199219 163.476562 94.882812 C 163.476562 91.570312 166.160156 88.882812 169.476562 88.882812 C 172.789062 88.882812 175.476562 91.570312 175.476562 94.882812 \"/>\n",
       "<path style=\"fill-rule:nonzero;fill:rgb(100%,0%,0%);fill-opacity:1;stroke-width:1;stroke-linecap:butt;stroke-linejoin:miter;stroke:rgb(0%,0%,0%);stroke-opacity:1;stroke-miterlimit:10;\" d=\"M 116.839844 176.277344 C 116.839844 179.59375 114.152344 182.277344 110.839844 182.277344 C 107.523438 182.277344 104.839844 179.59375 104.839844 176.277344 C 104.839844 172.964844 107.523438 170.277344 110.839844 170.277344 C 114.152344 170.277344 116.839844 172.964844 116.839844 176.277344 \"/>\n",
       "<path style=\"fill-rule:nonzero;fill:rgb(100%,0%,0%);fill-opacity:1;stroke-width:1;stroke-linecap:butt;stroke-linejoin:miter;stroke:rgb(0%,0%,0%);stroke-opacity:1;stroke-miterlimit:10;\" d=\"M 194.554688 91.40625 C 194.554688 94.71875 191.871094 97.40625 188.554688 97.40625 C 185.242188 97.40625 182.554688 94.71875 182.554688 91.40625 C 182.554688 88.09375 185.242188 85.40625 188.554688 85.40625 C 191.871094 85.40625 194.554688 88.09375 194.554688 91.40625 \"/>\n",
       "<path style=\"fill-rule:nonzero;fill:rgb(100%,0%,0%);fill-opacity:1;stroke-width:1;stroke-linecap:butt;stroke-linejoin:miter;stroke:rgb(0%,0%,0%);stroke-opacity:1;stroke-miterlimit:10;\" d=\"M 91.96875 194.464844 C 91.96875 197.78125 89.28125 200.464844 85.96875 200.464844 C 82.65625 200.464844 79.96875 197.78125 79.96875 194.464844 C 79.96875 191.152344 82.65625 188.464844 85.96875 188.464844 C 89.28125 188.464844 91.96875 191.152344 91.96875 194.464844 \"/>\n",
       "<path style=\"fill-rule:nonzero;fill:rgb(100%,0%,0%);fill-opacity:1;stroke-width:1;stroke-linecap:butt;stroke-linejoin:miter;stroke:rgb(0%,0%,0%);stroke-opacity:1;stroke-miterlimit:10;\" d=\"M 143.496094 193.5625 C 143.496094 196.878906 140.808594 199.5625 137.496094 199.5625 C 134.183594 199.5625 131.496094 196.878906 131.496094 193.5625 C 131.496094 190.25 134.183594 187.5625 137.496094 187.5625 C 140.808594 187.5625 143.496094 190.25 143.496094 193.5625 \"/>\n",
       "<path style=\"fill-rule:nonzero;fill:rgb(100%,0%,0%);fill-opacity:1;stroke-width:1;stroke-linecap:butt;stroke-linejoin:miter;stroke:rgb(0%,0%,0%);stroke-opacity:1;stroke-miterlimit:10;\" d=\"M 142.785156 218.015625 C 142.785156 221.332031 140.101562 224.015625 136.785156 224.015625 C 133.472656 224.015625 130.785156 221.332031 130.785156 218.015625 C 130.785156 214.703125 133.472656 212.015625 136.785156 212.015625 C 140.101562 212.015625 142.785156 214.703125 142.785156 218.015625 \"/>\n",
       "<g style=\"fill:rgb(0%,0%,0%);fill-opacity:1;\">\n",
       "  <use xlink:href=\"#glyph0-1\" x=\"183.59375\" y=\"72.242188\"/>\n",
       "</g>\n",
       "<g style=\"fill:rgb(0%,0%,0%);fill-opacity:1;\">\n",
       "  <use xlink:href=\"#glyph0-2\" x=\"182.285156\" y=\"47.121094\"/>\n",
       "</g>\n",
       "<g style=\"fill:rgb(0%,0%,0%);fill-opacity:1;\">\n",
       "  <use xlink:href=\"#glyph0-1\" x=\"183.777344\" y=\"23.914062\"/>\n",
       "</g>\n",
       "<g style=\"fill:rgb(0%,0%,0%);fill-opacity:1;\">\n",
       "  <use xlink:href=\"#glyph0-1\" x=\"213.335938\" y=\"80.550781\"/>\n",
       "</g>\n",
       "<g style=\"fill:rgb(0%,0%,0%);fill-opacity:1;\">\n",
       "  <use xlink:href=\"#glyph0-2\" x=\"246.328125\" y=\"76.832031\"/>\n",
       "</g>\n",
       "<g style=\"fill:rgb(0%,0%,0%);fill-opacity:1;\">\n",
       "  <use xlink:href=\"#glyph0-1\" x=\"277.46875\" y=\"70.6875\"/>\n",
       "</g>\n",
       "<g style=\"fill:rgb(0%,0%,0%);fill-opacity:1;\">\n",
       "  <use xlink:href=\"#glyph0-1\" x=\"78.800781\" y=\"223.632812\"/>\n",
       "</g>\n",
       "<g style=\"fill:rgb(0%,0%,0%);fill-opacity:1;\">\n",
       "  <use xlink:href=\"#glyph0-2\" x=\"46.382812\" y=\"232.984375\"/>\n",
       "</g>\n",
       "<g style=\"fill:rgb(0%,0%,0%);fill-opacity:1;\">\n",
       "  <use xlink:href=\"#glyph0-1\" x=\"17.46875\" y=\"243.941406\"/>\n",
       "</g>\n",
       "<g style=\"fill:rgb(0%,0%,0%);fill-opacity:1;\">\n",
       "  <use xlink:href=\"#glyph0-1\" x=\"108.261719\" y=\"239.304688\"/>\n",
       "</g>\n",
       "<g style=\"fill:rgb(0%,0%,0%);fill-opacity:1;\">\n",
       "  <use xlink:href=\"#glyph0-2\" x=\"118.171875\" y=\"262.28125\"/>\n",
       "</g>\n",
       "<g style=\"fill:rgb(0%,0%,0%);fill-opacity:1;\">\n",
       "  <use xlink:href=\"#glyph0-1\" x=\"128.304688\" y=\"283.914062\"/>\n",
       "</g>\n",
       "<g style=\"fill:rgb(0%,0%,0%);fill-opacity:1;\">\n",
       "  <use xlink:href=\"#glyph0-1\" x=\"107.386719\" y=\"129.710938\"/>\n",
       "</g>\n",
       "<g style=\"fill:rgb(0%,0%,0%);fill-opacity:1;\">\n",
       "  <use xlink:href=\"#glyph0-3\" x=\"73.824219\" y=\"115.910156\"/>\n",
       "</g>\n",
       "<g style=\"fill:rgb(0%,0%,0%);fill-opacity:1;\">\n",
       "  <use xlink:href=\"#glyph0-1\" x=\"82.183594\" y=\"92.457031\"/>\n",
       "</g>\n",
       "<g style=\"fill:rgb(0%,0%,0%);fill-opacity:1;\">\n",
       "  <use xlink:href=\"#glyph0-1\" x=\"41.089844\" y=\"122.449219\"/>\n",
       "</g>\n",
       "<g style=\"fill:rgb(0%,0%,0%);fill-opacity:1;\">\n",
       "  <use xlink:href=\"#glyph0-1\" x=\"42.585938\" y=\"102.09375\"/>\n",
       "</g>\n",
       "<g style=\"fill:rgb(0%,0%,0%);fill-opacity:1;\">\n",
       "  <use xlink:href=\"#glyph0-1\" x=\"138.871094\" y=\"115.261719\"/>\n",
       "</g>\n",
       "<g style=\"fill:rgb(0%,0%,0%);fill-opacity:1;\">\n",
       "  <use xlink:href=\"#glyph0-1\" x=\"108.917969\" y=\"155.285156\"/>\n",
       "</g>\n",
       "<g style=\"fill:rgb(0%,0%,0%);fill-opacity:1;\">\n",
       "  <use xlink:href=\"#glyph0-1\" x=\"111.574219\" y=\"80.429688\"/>\n",
       "</g>\n",
       "<g style=\"fill:rgb(0%,0%,0%);fill-opacity:1;\">\n",
       "  <use xlink:href=\"#glyph0-1\" x=\"143.394531\" y=\"93.875\"/>\n",
       "</g>\n",
       "<g style=\"fill:rgb(0%,0%,0%);fill-opacity:1;\">\n",
       "  <use xlink:href=\"#glyph0-1\" x=\"166.945312\" y=\"98.796875\"/>\n",
       "</g>\n",
       "<g style=\"fill:rgb(0%,0%,0%);fill-opacity:1;\">\n",
       "  <use xlink:href=\"#glyph0-1\" x=\"108.308594\" y=\"180.191406\"/>\n",
       "</g>\n",
       "<g style=\"fill:rgb(0%,0%,0%);fill-opacity:1;\">\n",
       "  <use xlink:href=\"#glyph0-1\" x=\"186.027344\" y=\"95.320312\"/>\n",
       "</g>\n",
       "<g style=\"fill:rgb(0%,0%,0%);fill-opacity:1;\">\n",
       "  <use xlink:href=\"#glyph0-1\" x=\"83.441406\" y=\"198.378906\"/>\n",
       "</g>\n",
       "<g style=\"fill:rgb(0%,0%,0%);fill-opacity:1;\">\n",
       "  <use xlink:href=\"#glyph0-1\" x=\"134.96875\" y=\"197.476562\"/>\n",
       "</g>\n",
       "<g style=\"fill:rgb(0%,0%,0%);fill-opacity:1;\">\n",
       "  <use xlink:href=\"#glyph0-1\" x=\"134.257812\" y=\"221.929688\"/>\n",
       "</g>\n",
       "</g>\n",
       "</svg>\n"
      ],
      "text/plain": [
       "<igraph.drawing.cairo.plot.CairoPlot at 0x7f11e7dfe1d0>"
      ]
     },
     "execution_count": 4,
     "metadata": {
      "image/svg+xml": {
       "isolated": true
      }
     },
     "output_type": "execute_result"
    }
   ],
   "source": [
    "## subgraphs are easy to get\n",
    "sg_no = 100\n",
    "sg = G.subgraph(np.where(np.array(G.vs['graph']) == sg_no)[0].tolist())\n",
    "ig.plot(sg, bbox=(300,300), vertex_size=12, vertex_label_size=8)"
   ]
  },
  {
   "cell_type": "markdown",
   "id": "1a2befff",
   "metadata": {},
   "source": [
    "### Method 1 - Expander-based Vertex Features\n",
    "\n",
    "For every \"small\" graphs, compute some features derived from expansion properties of vertices.\n",
    "\n"
   ]
  },
  {
   "cell_type": "code",
   "execution_count": 5,
   "id": "9bf3fb24",
   "metadata": {},
   "outputs": [],
   "source": [
    "def get_sg_features(sg, depth=7):\n",
    "    F = []\n",
    "    n = sg.vcount()\n",
    "\n",
    "    Deg = sg.degree()\n",
    "    Lcc = sg.transitivity_local_undirected(mode='zero')\n",
    "    Bet = np.array(sg.betweenness())/n**2\n",
    "    Prk = sg.pagerank()\n",
    "    #Lab = sg.vs['label']\n",
    "    \n",
    "    F.append(Deg)\n",
    "    F.append(Lcc)\n",
    "    F.append(Bet)\n",
    "    F.append(Prk)\n",
    "    #F.append(Lab)\n",
    "    \n",
    "    for i in range(depth):\n",
    "        current = sg.neighborhood_size(order=i+1)\n",
    "        F.append([i/n for i in current])\n",
    "        if i>0:\n",
    "            F.append([i / j for i, j in zip(current, previous)])\n",
    "        previous = current\n",
    "        F.append([np.mean([Deg[i] for i in x]) for x in sg.neighborhood(order=i+1)])\n",
    "        F.append([np.mean([Lcc[i] for i in x]) for x in sg.neighborhood(order=i+1)])\n",
    "        F.append([np.mean([Bet[i] for i in x]) for x in sg.neighborhood(order=i+1)])\n",
    "        F.append([np.mean([Prk[i] for i in x]) for x in sg.neighborhood(order=i+1)])\n",
    "        #F.append([np.mean([Lab[i] for i in x]) for x in sg.neighborhood(order=i+1)])\n",
    "    F = np.array(F).transpose()\n",
    "    return F"
   ]
  },
  {
   "cell_type": "markdown",
   "id": "a29ba611",
   "metadata": {},
   "source": [
    "#### What we need:\n",
    "\n",
    "* node_features: array (number of graphs) or arrays of size (number of vertices x number of features)\n",
    "* graph_vertices: array (number of graphs) of lists of vertex names (unique, strings)\n"
   ]
  },
  {
   "cell_type": "code",
   "execution_count": 6,
   "id": "f1ab254a",
   "metadata": {},
   "outputs": [
    {
     "name": "stdout",
     "output_type": "stream",
     "text": [
      "CPU times: user 1min 26s, sys: 98.6 ms, total: 1min 26s\n",
      "Wall time: 1min 26s\n"
     ]
    }
   ],
   "source": [
    "%%time\n",
    "node_features = []\n",
    "graphs_vertices = []\n",
    "for i in list(set(G.vs['graph'])):\n",
    "    sg = G.subgraph(np.where(np.array(G.vs['graph']) == i)[0].tolist())\n",
    "    node_features.append(get_sg_features(sg, depth=10))\n",
    "    graphs_vertices.append(np.array(sg.vs['name']))\n",
    "node_features = np.array(node_features, dtype=object)\n",
    "graphs_vertices = np.array(graphs_vertices, dtype=object)"
   ]
  },
  {
   "cell_type": "code",
   "execution_count": 7,
   "id": "c93ae5a3",
   "metadata": {},
   "outputs": [
    {
     "data": {
      "text/plain": [
       "(21, 63)"
      ]
     },
     "execution_count": 7,
     "metadata": {},
     "output_type": "execute_result"
    }
   ],
   "source": [
    "node_features[0].shape"
   ]
  },
  {
   "cell_type": "markdown",
   "id": "9fee9714",
   "metadata": {},
   "source": [
    "## Details TBD\n"
   ]
  },
  {
   "cell_type": "code",
   "execution_count": 8,
   "id": "068e1f49",
   "metadata": {},
   "outputs": [
    {
     "data": {
      "text/plain": [
       "(122747, 63)"
      ]
     },
     "execution_count": 8,
     "metadata": {},
     "output_type": "execute_result"
    }
   ],
   "source": [
    "vertex_vectors_0 = np.vstack(node_features)\n",
    "vertex_vectors_0.shape"
   ]
  },
  {
   "cell_type": "code",
   "execution_count": 9,
   "id": "c7800db5",
   "metadata": {},
   "outputs": [],
   "source": [
    "## list all vertex names, build ref dict\n",
    "vertex_names = list(np.hstack(graphs_vertices))\n",
    "vertex_names_dictionary = dict()\n",
    "for i, v in enumerate(vertex_names):\n",
    "    vertex_names_dictionary[v] = i    \n",
    "n_vertices = len(vertex_names_dictionary)"
   ]
  },
  {
   "cell_type": "code",
   "execution_count": 10,
   "id": "9405a78f",
   "metadata": {},
   "outputs": [
    {
     "name": "stdout",
     "output_type": "stream",
     "text": [
      "CPU times: user 2.19 s, sys: 76 ms, total: 2.26 s\n",
      "Wall time: 2.26 s\n"
     ]
    }
   ],
   "source": [
    "%%time\n",
    "## build graphs x vertices incidence given above ref dict\n",
    "incidence_vectorizer = vectorizers.NgramVectorizer(\n",
    "    token_dictionary=vertex_names_dictionary\n",
    ").fit(graphs_vertices)\n",
    "\n",
    "incidence_matrix = incidence_vectorizer.transform(graphs_vertices)"
   ]
  },
  {
   "cell_type": "code",
   "execution_count": 11,
   "id": "ca97d18c",
   "metadata": {},
   "outputs": [
    {
     "data": {
      "text/plain": [
       "<4110x122747 sparse matrix of type '<class 'numpy.float32'>'\n",
       "\twith 122747 stored elements in Compressed Sparse Row format>"
      ]
     },
     "execution_count": 11,
     "metadata": {},
     "output_type": "execute_result"
    }
   ],
   "source": [
    "incidence_matrix"
   ]
  },
  {
   "cell_type": "code",
   "execution_count": 12,
   "id": "a22052d2",
   "metadata": {},
   "outputs": [
    {
     "data": {
      "text/plain": [
       "(122747, 63)"
      ]
     },
     "execution_count": 12,
     "metadata": {},
     "output_type": "execute_result"
    }
   ],
   "source": [
    "vertex_vectors_0.shape"
   ]
  },
  {
   "cell_type": "code",
   "execution_count": 13,
   "id": "539a7d0d",
   "metadata": {},
   "outputs": [
    {
     "name": "stdout",
     "output_type": "stream",
     "text": [
      "CPU times: user 2min 6s, sys: 2min 58s, total: 5min 5s\n",
      "Wall time: 1min 41s\n"
     ]
    },
    {
     "data": {
      "text/plain": [
       "(4110, 63)"
      ]
     },
     "execution_count": 13,
     "metadata": {},
     "output_type": "execute_result"
    }
   ],
   "source": [
    "%%time\n",
    "n_components = vertex_vectors_0.shape[0]\n",
    "graph_awe_matrix_0 = vectorizers.ApproximateWassersteinVectorizer(\n",
    "    normalization_power=0.66,\n",
    "    n_components=n_components,\n",
    "    random_state=42,\n",
    ").fit_transform(incidence_matrix, vectors=vertex_vectors_0)\n",
    "graph_awe_matrix_0.shape"
   ]
  },
  {
   "cell_type": "raw",
   "id": "fdc947b5",
   "metadata": {},
   "source": [
    "g_mapper = umap.UMAP(random_state=42).fit(graph_awe_matrix_0)\n",
    "p = umap.plot.interactive(\n",
    "    g_mapper, \n",
    "    labels=graph_labels,\n",
    "    point_size=3, \n",
    "    width=800, \n",
    "    height=600, \n",
    "    theme='fire')\n",
    "show(p)"
   ]
  },
  {
   "cell_type": "code",
   "execution_count": 14,
   "id": "5a3d7e8b",
   "metadata": {},
   "outputs": [
    {
     "name": "stdout",
     "output_type": "stream",
     "text": [
      "CPU times: user 2min 6s, sys: 3min 27s, total: 5min 33s\n",
      "Wall time: 1min 55s\n"
     ]
    },
    {
     "data": {
      "text/plain": [
       "(4110, 63)"
      ]
     },
     "execution_count": 14,
     "metadata": {},
     "output_type": "execute_result"
    }
   ],
   "source": [
    "%%time\n",
    "vertex_vectors_norm_0 = normalize(vertex_vectors_0, axis=1, norm='l1')\n",
    "n_components = vertex_vectors_norm_0.shape[0]\n",
    "graph_awe_matrix_norm_0 = vectorizers.ApproximateWassersteinVectorizer(\n",
    "    normalization_power=0.66,\n",
    "    n_components=n_components,\n",
    "    random_state=42,\n",
    ").fit_transform(incidence_matrix, vectors=vertex_vectors_norm_0)\n",
    "graph_awe_matrix_norm_0.shape"
   ]
  },
  {
   "cell_type": "raw",
   "id": "7d4b4eab",
   "metadata": {},
   "source": [
    "g_mapper = umap.UMAP(random_state=42).fit(graph_awe_matrix_norm_0)\n",
    "p = umap.plot.interactive(\n",
    "    g_mapper, \n",
    "    labels=graph_labels,\n",
    "    point_size=3, \n",
    "    width=800, \n",
    "    height=600, \n",
    "    theme='fire')\n",
    "show(p)"
   ]
  },
  {
   "cell_type": "markdown",
   "id": "a575836e",
   "metadata": {},
   "source": [
    "## Recursive part\n",
    "\n",
    "as per VP's"
   ]
  },
  {
   "cell_type": "code",
   "execution_count": 15,
   "id": "3434c78a",
   "metadata": {},
   "outputs": [],
   "source": [
    "node_incidence_matrix = G.get_adjacency_sparse()\n",
    "node_incidence_matrix.setdiag(1) ## add self to neighbourhoods\n",
    "#hyperedges_all = [ [str(int(G.vs[x]['name'])) for x in G.neighborhood(v)] for v in range(G.vcount())]\n"
   ]
  },
  {
   "cell_type": "code",
   "execution_count": null,
   "id": "c4ec00ad",
   "metadata": {},
   "outputs": [],
   "source": [
    "vertex_awe_vectors = dict()\n",
    "graph_awe_matrix = dict()\n",
    "graph_awe_matrix_svd = dict()\n",
    "\n",
    "number_iteration = 3\n",
    "\n",
    "vertex_awe_vectors[0] = vertex_vectors_0\n",
    "graph_awe_matrix[0] = graph_awe_matrix_0\n",
    "\n",
    "vertex_awe_vectors[0] = normalize(vertex_awe_vectors[0], axis=1, norm='l1')\n",
    "n_components = vertex_awe_vectors[0].shape[1]\n",
    "svd = TruncatedSVD(n_components=n_components)\n",
    "\n",
    "for i in range(1,number_iteration):\n",
    "    vertex_awe_vectors[i] = vectorizers.ApproximateWassersteinVectorizer(\n",
    "        normalization_power=0.66,\n",
    "        random_state=42,\n",
    "        # n_components=n_components\n",
    "    ).fit_transform(node_incidence_matrix, vectors=vertex_awe_vectors[i-1])\n",
    "\n",
    "\n",
    "    vertex_awe_vectors[i] = normalize(vertex_awe_vectors[i], axis=1, norm='l1')\n",
    "\n",
    "    graph_awe_matrix[i] = vectorizers.ApproximateWassersteinVectorizer(\n",
    "        random_state=42,\n",
    "        # n_components=n_components,\n",
    "        normalization_power=0.66,\n",
    "    ).fit_transform(incidence_matrix, \n",
    "                    vectors=np.hstack([vertex_awe_vectors[i] for j in range(i+1)])\n",
    "                   )\n",
    "    \n",
    "    graph_awe_matrix_svd[i] = svd.fit_transform(graph_awe_matrix[i])\n",
    "    \n",
    "    print(f'Interation {i}, shape of vector matrix {vertex_awe_vectors[i].shape}, shape of graph matrix {graph_awe_matrix[i].shape}')\n",
    "    \n",
    "\n",
    "vector_df = pd.DataFrame()\n",
    "vector_df['groups'] = np.hstack(np.array([i]*vertex_awe_vectors[i].shape[0]) for i in range(number_iteration))\n",
    "vector_df['lengths'] = np.hstack(np.linalg.norm(vertex_awe_vectors[i], axis=1, ord=1) for i in range(number_iteration))"
   ]
  },
  {
   "cell_type": "code",
   "execution_count": null,
   "id": "4039eb33-4190-4e44-82bd-ca9a030f550d",
   "metadata": {},
   "outputs": [],
   "source": [
    "import pickle\n",
    "with open('features_NCI1.pkl','wb') as fp:\n",
    "    pickle.dump( (graph_awe_matrix_0,graph_awe_matrix_norm_0,\n",
    "                  graph_awe_matrix[1],graph_awe_matrix[2],\n",
    "                  graph_awe_matrix_svd[1],graph_awe_matrix_svd[2]), fp)\n"
   ]
  },
  {
   "cell_type": "code",
   "execution_count": null,
   "id": "e445ab6d",
   "metadata": {},
   "outputs": [],
   "source": []
  }
 ],
 "metadata": {
  "kernelspec": {
   "display_name": "vector",
   "language": "python",
   "name": "vector"
  },
  "language_info": {
   "codemirror_mode": {
    "name": "ipython",
    "version": 3
   },
   "file_extension": ".py",
   "mimetype": "text/x-python",
   "name": "python",
   "nbconvert_exporter": "python",
   "pygments_lexer": "ipython3",
   "version": "3.10.11"
  }
 },
 "nbformat": 4,
 "nbformat_minor": 5
}
